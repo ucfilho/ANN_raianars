{
  "nbformat": 4,
  "nbformat_minor": 0,
  "metadata": {
    "colab": {
      "name": "ANN_004_gera_matriz_classifica_OUT_18_2019.ipynb",
      "provenance": [],
      "collapsed_sections": [],
      "include_colab_link": true
    },
    "kernelspec": {
      "name": "python3",
      "display_name": "Python 3"
    }
  },
  "cells": [
    {
      "cell_type": "markdown",
      "metadata": {
        "id": "view-in-github",
        "colab_type": "text"
      },
      "source": [
        "<a href=\"https://colab.research.google.com/github/ucfilho/ANN_raianars/blob/master/ANN_004_gera_matriz_classifica_OUT_18_2019.ipynb\" target=\"_parent\"><img src=\"https://colab.research.google.com/assets/colab-badge.svg\" alt=\"Open In Colab\"/></a>"
      ]
    },
    {
      "cell_type": "code",
      "metadata": {
        "id": "IJMhyBoEZHIU",
        "colab_type": "code",
        "outputId": "844a2bfa-7981-4dd0-bd5b-33b64a1d9686",
        "colab": {
          "base_uri": "https://localhost:8080/",
          "height": 204
        }
      },
      "source": [
        "import numpy as np\n",
        "import pandas as pd\n",
        "import matplotlib.pyplot as plt\n",
        "from sklearn.metrics import confusion_matrix\n",
        "\n",
        "# este comando clona o diretorio github ucfilho/ANN no colaboratory research\n",
        "!git clone https://github.com/RaianaSeixas/ANN #clonar do Github\n",
        "%cd ANN\n",
        "#!ls\n",
        "print(\"Hello world\"+\"\\n\"+\"I'm evolving!!!\"+\"\\n\")\n",
        "\n",
        "%matplotlib inline"
      ],
      "execution_count": 1,
      "outputs": [
        {
          "output_type": "stream",
          "text": [
            "Cloning into 'ANN'...\n",
            "remote: Enumerating objects: 6, done.\u001b[K\n",
            "remote: Counting objects: 100% (6/6), done.\u001b[K\n",
            "remote: Compressing objects: 100% (6/6), done.\u001b[K\n",
            "remote: Total 76 (delta 1), reused 0 (delta 0), pack-reused 70\u001b[K\n",
            "Unpacking objects: 100% (76/76), done.\n",
            "/content/ANN\n",
            "Hello world\n",
            "I'm evolving!!!\n",
            "\n"
          ],
          "name": "stdout"
        }
      ]
    },
    {
      "cell_type": "code",
      "metadata": {
        "id": "x09IGM7OYxpw",
        "colab_type": "code",
        "outputId": "8979a4c2-d642-4a8f-f0fb-6ac845a58eaa",
        "colab": {
          "base_uri": "https://localhost:8080/",
          "height": 185
        }
      },
      "source": [
        "!ls"
      ],
      "execution_count": 2,
      "outputs": [
        {
          "output_type": "stream",
          "text": [
            "000_ANN_Gera_Matriz_out_04_2019.ipynb\t\t    X_DAT_B_set_17_2019.csv\n",
            "000_ANN_parte_001_XY_dados_out_01_2019.ipynb\t    X_DAT_set_17_2019.csv\n",
            "000_ANN_parte_002_XY_Métricas_D10_OUT_4_2019.ipynb  XY_D10_30_out_7_2019.csv\n",
            "000_ANN_parte_009_Métricas_PCA_OUT_07_2019.ipynb    XY_D10_out_1_2019.csv\n",
            "000_Gerenciador_DE_var_F_CR_STAT_set_27_2019.ipynb  XY_D10_out_5_2019.csv\n",
            "imput_ANN_D10_30_out_07_19.zip\t\t\t    XY_schwefel_out_11_19.csv\n",
            "imput_ANN_D10_6F.zip\t\t\t\t    Y_DAT_B_set_17_2019.csv\n",
            "imput_ANN_D10_out_05_19.zip\t\t\t    Y_DAT_set_17_2019.csv\n",
            "imput_ANN_schwefel_out_11_19.zip\n"
          ],
          "name": "stdout"
        }
      ]
    },
    {
      "cell_type": "code",
      "metadata": {
        "id": "xPh9-Qc81nMS",
        "colab_type": "code",
        "colab": {}
      },
      "source": [
        "# Functions\n",
        "def sigmoid(x,deriv=False):\n",
        "    if(deriv==True):\n",
        "        return x*(1-x)\n",
        "    return 1/(1+np.exp(-x))\n",
        "\n",
        "def tasig(x,deriv=False):\n",
        "    if(deriv==True):\n",
        "        return 1-x*x\n",
        "    return 2/(1+np.exp(-2*x))-1\n",
        "\n",
        "# purelin function\n",
        "def purelin(x,deriv=False):\n",
        "    if(deriv==True):\n",
        "        return 1\n",
        "    #N=len(x)\n",
        "    #for i in range(N):\n",
        "      #if (x[i]>1):\n",
        "        #x[i]=1\n",
        "    return x"
      ],
      "execution_count": 0,
      "outputs": []
    },
    {
      "cell_type": "code",
      "metadata": {
        "id": "RepD-3pn1E-1",
        "colab_type": "code",
        "colab": {}
      },
      "source": [
        "# funcao normatiza dados\n",
        "def Normatiza(x):\n",
        "    strings=list(x)\n",
        "    for i in strings:\n",
        "        max_x=x[i].max()\n",
        "        min_x=x[i].min()\n",
        "        a=(max_x+min_x)/2\n",
        "        b=(max_x-min_x)/2\n",
        "        x[i]=(x[i]-a)/b\n",
        "    return x"
      ],
      "execution_count": 0,
      "outputs": []
    },
    {
      "cell_type": "code",
      "metadata": {
        "id": "aMUypVwa1RWF",
        "colab_type": "code",
        "colab": {}
      },
      "source": [
        "# funcao retorna os dados a forma original\n",
        "def Original(x,x_old):\n",
        "    strings=list(x)\n",
        "    for i in strings:\n",
        "        max_x=x_old[i].max()\n",
        "        min_x=x_old[i].min()\n",
        "        a=(max_x+min_x)/2\n",
        "        b=(max_x-min_x)/2\n",
        "        x[i]=x[i]*b+a\n",
        "    return x"
      ],
      "execution_count": 0,
      "outputs": []
    },
    {
      "cell_type": "code",
      "metadata": {
        "id": "ww1KvVqReAhK",
        "colab_type": "code",
        "colab": {}
      },
      "source": [
        "def ANN(Epoch,Neuron_input,Neuron_hidden,Neuron_output,Learning_rate,X_train,y):\n",
        "  syn0 = 2*np.random.random((Neuron_input,Neuron_hidden)) - 1\n",
        "  syn1 = 2*np.random.random((Neuron_hidden,Neuron_output)) - 1\n",
        "  for j in range(Epoch):\n",
        "    l0 = X_train\n",
        "    l1 = tasig(np.dot(l0,syn0))\n",
        "    l2 = purelin(np.dot(l1,syn1))\n",
        "    l2_error = y - l2\n",
        "    l2_delta = l2_error*purelin(l2,deriv=True)\n",
        "    l1_error = l2_delta.dot(syn1.T)\n",
        "    l1_delta = l1_error * tasig(l1,deriv=True)\n",
        "    syn1 += l1.T.dot(l2_delta)*Learning_rate\n",
        "    syn0 += l0.T.dot(l1_delta)*Learning_rate\n",
        "  return syn0,syn1\n",
        "\n"
      ],
      "execution_count": 0,
      "outputs": []
    },
    {
      "cell_type": "code",
      "metadata": {
        "id": "aA6TlqJI0hdM",
        "colab_type": "code",
        "colab": {}
      },
      "source": [
        "def ANN_ycal(syn0,syn1,X_train):\n",
        "  l0 = X_train\n",
        "  l1 = tasig(np.dot(l0,syn0))\n",
        "  l2 = purelin(np.dot(l1,syn1))\n",
        "  y_calc=np.reshape(l2,len(l2))\n",
        "  return y_calc"
      ],
      "execution_count": 0,
      "outputs": []
    },
    {
      "cell_type": "code",
      "metadata": {
        "id": "a5W9iRbPkKsg",
        "colab_type": "code",
        "colab": {}
      },
      "source": [
        "def Classifica(ycalc):\n",
        "  n=len(ycalc)\n",
        "  for i in range(n):\n",
        "    if(ycalc[i]<0):\n",
        "      ycalc[i]=-1\n",
        "    else:\n",
        "      ycalc[i]=1\n",
        "  return ycalc"
      ],
      "execution_count": 0,
      "outputs": []
    },
    {
      "cell_type": "code",
      "metadata": {
        "id": "NEL03IsAOY-m",
        "colab_type": "code",
        "colab": {}
      },
      "source": [
        "def PrecisaoGlobal(tn, fp, fn, tp):\n",
        "  PrecGlob=(tn+tp)/(tn+ fp+ fn+ tp)\n",
        "  return PrecGlob"
      ],
      "execution_count": 0,
      "outputs": []
    },
    {
      "cell_type": "code",
      "metadata": {
        "id": "EzyC9O_NwhPC",
        "colab_type": "code",
        "colab": {}
      },
      "source": [
        "# leitura dos dados\n",
        "DAT=pd.read_csv(\"XY_D10_30_out_7_2019.csv\")\n",
        "#print(DAT.head())\n",
        "#print(len(DAT))"
      ],
      "execution_count": 0,
      "outputs": []
    },
    {
      "cell_type": "code",
      "metadata": {
        "id": "68JOHC6Ozv6d",
        "colab_type": "code",
        "colab": {}
      },
      "source": [
        "# separa as colunas de interesse\n",
        "Index=[1,2,3,4,5,6,7,8,9,10,11,12,13,14,15,16,17]\n",
        "Dat_Select=[]\n",
        "Dat_Select=DAT.iloc[:,Index].copy()\n",
        "\n",
        "pd.set_option('display.max_columns', 30)\n",
        "pd.set_option('display.max_rows', 30)\n",
        "#print(Dat_Select)\n",
        "#print(Dat_Select.head())"
      ],
      "execution_count": 0,
      "outputs": []
    },
    {
      "cell_type": "code",
      "metadata": {
        "id": "_vpQ5HTM06TE",
        "colab_type": "code",
        "colab": {}
      },
      "source": [
        "DAT_OLD=[]\n",
        "DAT_OLD=Dat_Select.copy()\n",
        "DAT=Normatiza(Dat_Select)"
      ],
      "execution_count": 0,
      "outputs": []
    },
    {
      "cell_type": "code",
      "metadata": {
        "id": "bGkfp8xiinMU",
        "colab_type": "code",
        "colab": {}
      },
      "source": [
        "ColF=DAT_OLD['F']\n",
        "W=np.array(DAT_OLD['F'])\n",
        "Wo=np.array(DAT_OLD['Fo'])\n",
        "for i in range(len(W)):\n",
        "  W[i]=W[i]-Wo[i]\n",
        "  if(W[i]<0):\n",
        "    W[i]=-1\n",
        "  else:\n",
        "    W[i]=1\n",
        "DAT['F'] = W"
      ],
      "execution_count": 0,
      "outputs": []
    },
    {
      "cell_type": "code",
      "metadata": {
        "id": "A4LF09Cq0hJu",
        "colab_type": "code",
        "outputId": "78b16911-3c89-4af0-dfdf-19c9d43ce267",
        "colab": {
          "base_uri": "https://localhost:8080/",
          "height": 73
        }
      },
      "source": [
        "# obtem as variaveis independentes (treino e teste)\n",
        "# separa os dados em treino e teste\n",
        "train=DAT.sample(frac=0.8,random_state=None) \n",
        "test=DAT.drop(train.index)\n",
        "IND=[1,2,3,4,6,7,8,9,10,11,12,13,14]\n",
        "x_train=train.iloc[:,IND]\n",
        "x_test=test.iloc[:,IND]\n",
        "X_OLD=DAT_OLD.iloc[:,IND]\n",
        "X_NOME=DAT_OLD.columns[IND]\n",
        "print(X_NOME)\n"
      ],
      "execution_count": 14,
      "outputs": [
        {
          "output_type": "stream",
          "text": [
            "Index(['DI RELATIVO', 'FRAC Its', 'VELOC FOBJ', 'VELOC X', 'Fo', 'CRo', 'fmin',\n",
            "       'fmax', 'AD_fmin', 'AD_fmax', 'DELTA FOBJ', 'DELTA VX', 'r_fitness'],\n",
            "      dtype='object')\n"
          ],
          "name": "stdout"
        }
      ]
    },
    {
      "cell_type": "code",
      "metadata": {
        "id": "YW3TW3wQZdLc",
        "colab_type": "code",
        "colab": {}
      },
      "source": [
        "MELHOR_PRECISAO=0\n",
        "MAT0=[]\n",
        "MAT1=[]\n",
        "CONFUSAO=[]"
      ],
      "execution_count": 0,
      "outputs": []
    },
    {
      "cell_type": "code",
      "metadata": {
        "id": "ZSuUAFrL3E1C",
        "colab_type": "code",
        "colab": {}
      },
      "source": [
        "# obtem as variaveis dependentes (treino e teste)\n",
        "Index=[15] #F\n",
        "#Index=[16] #CR\n",
        "y_train=train.iloc[:,Index]\n",
        "y_test=test.iloc[:,Index]\n",
        "Y_OLD=DAT_OLD.iloc[:,Index]\n",
        "#print(y_train.head())"
      ],
      "execution_count": 0,
      "outputs": []
    },
    {
      "cell_type": "code",
      "metadata": {
        "id": "H0GiIKBXXDgu",
        "colab_type": "code",
        "colab": {}
      },
      "source": [
        "y_train=np.array(y_train)\n",
        "Nomes=x_train.columns\n",
        "x_test=np.array(x_test)\n",
        "x_train=np.array(x_train)"
      ],
      "execution_count": 0,
      "outputs": []
    },
    {
      "cell_type": "code",
      "metadata": {
        "id": "C-12imaj0ZqU",
        "colab_type": "code",
        "colab": {}
      },
      "source": [
        "# input dataset\n",
        "Neuron_input=len(X_NOME)\n",
        "Neuron_hidden=9\n",
        "Neuron_output=1\n",
        "Learning_rate=0.001\n",
        "omega=0.9\n",
        "Epoch=20000\n",
        "syn0,syn1=ANN(Epoch,Neuron_input,Neuron_hidden,Neuron_output,Learning_rate,x_train,y_train)\n",
        "y_obs_train=y_train\n",
        "y_obs_test=y_test\n",
        "y_calc_train=ANN_ycal(syn0,syn1,x_train)\n",
        "y_calc_test=ANN_ycal(syn0,syn1,x_test)"
      ],
      "execution_count": 0,
      "outputs": []
    },
    {
      "cell_type": "code",
      "metadata": {
        "colab_type": "code",
        "outputId": "1cd7139c-3b24-4bc6-f570-8b4558648bd9",
        "id": "7YrQjethbp2T",
        "colab": {
          "base_uri": "https://localhost:8080/",
          "height": 279
        }
      },
      "source": [
        "print(\"Epocas=\",Epoch,\"Learning rate=\",Learning_rate,\"Dados teste matriz confusao:\")\n",
        "print(X_NOME)\n",
        "print(\"====================================\")\n",
        "y_calc_train = Classifica(y_calc_train)\n",
        "y_calc_test = Classifica(y_calc_test)\n",
        "\n",
        "\n",
        "\n",
        "tn, fp, fn, tp = confusion_matrix(y_calc_train,y_obs_train).ravel()\n",
        "PrecTreino=PrecisaoGlobal(tn, fp, fn, tp)\n",
        "print(\"Treino precisao global=\",PrecTreino)\n",
        "print(\"Treino tn: %d  fp: %d fn: %d tp: %d\" % (tn, fp, fn, tp))\n",
        "print(confusion_matrix(y_calc_train,y_obs_train))\n",
        "\n",
        "\n",
        "print(\"====================================\")\n",
        "tn, fp, fn, tp = confusion_matrix(y_calc_test,y_obs_test).ravel()\n",
        "PrecTeste=PrecisaoGlobal(tn, fp, fn, tp)\n",
        "print(\"Teste: precisao global=\",PrecTeste)\n",
        "print(\"Teste tn: %d  fp: %d fn: %d tp: %d\" % (tn, fp, fn, tp))\n",
        "print(confusion_matrix(y_calc_test,y_obs_test))\n",
        "\n",
        "\n",
        "\n",
        "if MELHOR_PRECISAO< PrecTeste:\n",
        "  MELHOR_PRECISAO=PrecTeste\n",
        "  MAT0=np.copy(syn0)\n",
        "  MAT1=np.copy(syn1)\n",
        "  CONF_teste=np.copy(confusion_matrix(y_calc_test,y_obs_test))\n",
        "  CONF_treino=np.copy(confusion_matrix(y_calc_train,y_obs_train))\n"
      ],
      "execution_count": 19,
      "outputs": [
        {
          "output_type": "stream",
          "text": [
            "Epocas= 20000 Learning rate= 0.001 Dados teste matriz confusao:\n",
            "Index(['DI RELATIVO', 'FRAC Its', 'VELOC FOBJ', 'VELOC X', 'Fo', 'CRo', 'fmin',\n",
            "       'fmax', 'AD_fmin', 'AD_fmax', 'DELTA FOBJ', 'DELTA VX', 'r_fitness'],\n",
            "      dtype='object')\n",
            "====================================\n",
            "Treino precisao global= 1.0\n",
            "Treino tn: 58  fp: 0 fn: 0 tp: 43\n",
            "[[58  0]\n",
            " [ 0 43]]\n",
            "====================================\n",
            "Teste: precisao global= 0.68\n",
            "Teste tn: 7  fp: 7 fn: 1 tp: 10\n",
            "[[ 7  7]\n",
            " [ 1 10]]\n"
          ],
          "name": "stdout"
        }
      ]
    },
    {
      "cell_type": "markdown",
      "metadata": {
        "id": "seMVAZJARJWo",
        "colab_type": "text"
      },
      "source": [
        "**So para lembrar q o .ravel() existe!!**"
      ]
    },
    {
      "cell_type": "code",
      "metadata": {
        "id": "tMTDhtULQRHY",
        "colab_type": "code",
        "outputId": "4b03e4f2-33c4-484b-8c8c-c38c219b0f79",
        "colab": {
          "base_uri": "https://localhost:8080/",
          "height": 92
        }
      },
      "source": [
        "print(confusion_matrix(y_calc_test,y_obs_test))\n",
        "print(confusion_matrix(y_calc_test,y_obs_test).ravel())\n",
        "a,b,c,d,e,f,g,h=[1,2,3,4,5,6,7,99]\n",
        "print(h)"
      ],
      "execution_count": 20,
      "outputs": [
        {
          "output_type": "stream",
          "text": [
            "[[ 7  7]\n",
            " [ 1 10]]\n",
            "[ 7  7  1 10]\n",
            "99\n"
          ],
          "name": "stdout"
        }
      ]
    },
    {
      "cell_type": "code",
      "metadata": {
        "id": "4Ld0k8q9BVr0",
        "colab_type": "code",
        "colab": {}
      },
      "source": [
        "# input dataset\n",
        "Neuron_input=len(X_NOME)\n",
        "Neuron_hidden=9\n",
        "Neuron_output=1\n",
        "Learning_rate=0.0001\n",
        "omega=0.9\n",
        "Epoch=100000\n",
        "syn0,syn1=ANN(Epoch,Neuron_input,Neuron_hidden,Neuron_output,Learning_rate,x_train,y_train)\n",
        "y_obs_train=y_train\n",
        "y_obs_test=y_test\n",
        "y_calc_train=ANN_ycal(syn0,syn1,x_train)\n",
        "y_obs_test=y_test\n",
        "y_calc_test=ANN_ycal(syn0,syn1,x_test)\n",
        "\n"
      ],
      "execution_count": 0,
      "outputs": []
    },
    {
      "cell_type": "code",
      "metadata": {
        "colab_type": "code",
        "outputId": "898f02c3-026a-4d2c-a483-175901158586",
        "id": "Xb8lzp_oSHjg",
        "colab": {
          "base_uri": "https://localhost:8080/",
          "height": 279
        }
      },
      "source": [
        "print(\"Epocas=\",Epoch,\"Learning rate=\",Learning_rate,\"Dados teste matriz confusao:\")\n",
        "print(X_NOME)\n",
        "print(\"====================================\")\n",
        "y_calc_train = Classifica(y_calc_train)\n",
        "y_calc_test = Classifica(y_calc_test)\n",
        "\n",
        "\n",
        "\n",
        "tn, fp, fn, tp = confusion_matrix(y_calc_train,y_obs_train).ravel()\n",
        "PrecTreino=PrecisaoGlobal(tn, fp, fn, tp)\n",
        "print(\"Treino precisao global=\",PrecTreino)\n",
        "print(\"Treino tn: %d  fp: %d fn: %d tp: %d\" % (tn, fp, fn, tp))\n",
        "print(confusion_matrix(y_calc_train,y_obs_train))\n",
        "\n",
        "\n",
        "print(\"====================================\")\n",
        "tn, fp, fn, tp = confusion_matrix(y_calc_test,y_obs_test).ravel()\n",
        "PrecTeste=PrecisaoGlobal(tn, fp, fn, tp)\n",
        "print(\"Teste: precisao global=\",PrecTeste)\n",
        "print(\"Teste tn: %d  fp: %d fn: %d tp: %d\" % (tn, fp, fn, tp))\n",
        "print(confusion_matrix(y_calc_test,y_obs_test))\n",
        "\n",
        "\n",
        "\n",
        "if MELHOR_PRECISAO< PrecTeste:\n",
        "  MELHOR_PRECISAO=PrecTeste\n",
        "  MAT0=np.copy(syn0)\n",
        "  MAT1=np.copy(syn1)\n",
        "  CONF_teste=np.copy(confusion_matrix(y_calc_test,y_obs_test))\n",
        "  CONF_treino=np.copy(confusion_matrix(y_calc_train,y_obs_train))"
      ],
      "execution_count": 22,
      "outputs": [
        {
          "output_type": "stream",
          "text": [
            "Epocas= 100000 Learning rate= 0.0001 Dados teste matriz confusao:\n",
            "Index(['DI RELATIVO', 'FRAC Its', 'VELOC FOBJ', 'VELOC X', 'Fo', 'CRo', 'fmin',\n",
            "       'fmax', 'AD_fmin', 'AD_fmax', 'DELTA FOBJ', 'DELTA VX', 'r_fitness'],\n",
            "      dtype='object')\n",
            "====================================\n",
            "Treino precisao global= 1.0\n",
            "Treino tn: 58  fp: 0 fn: 0 tp: 43\n",
            "[[58  0]\n",
            " [ 0 43]]\n",
            "====================================\n",
            "Teste: precisao global= 0.76\n",
            "Teste tn: 8  fp: 6 fn: 0 tp: 11\n",
            "[[ 8  6]\n",
            " [ 0 11]]\n"
          ],
          "name": "stdout"
        }
      ]
    },
    {
      "cell_type": "code",
      "metadata": {
        "id": "X-i4-9_ASjJo",
        "colab_type": "code",
        "colab": {}
      },
      "source": [
        "# print(X_NOME)"
      ],
      "execution_count": 0,
      "outputs": []
    },
    {
      "cell_type": "code",
      "metadata": {
        "id": "CT-AMyJ_Sc_k",
        "colab_type": "code",
        "outputId": "1a0c3852-772e-459b-d679-f284fff4b98e",
        "colab": {
          "base_uri": "https://localhost:8080/",
          "height": 36
        }
      },
      "source": [
        "# ========= Novas mudancas ==================================================\n",
        "IND=[1,2,6,7]\n",
        "x_train=train.iloc[:,IND]\n",
        "x_test=test.iloc[:,IND]\n",
        "X_OLD=DAT_OLD.iloc[:,IND]\n",
        "X_NOME=DAT_OLD.columns[IND]\n",
        "print(X_NOME)\n",
        "y_train=np.array(y_train)\n",
        "x_test=np.array(x_test)\n",
        "x_train=np.array(x_train)"
      ],
      "execution_count": 24,
      "outputs": [
        {
          "output_type": "stream",
          "text": [
            "Index(['DI RELATIVO', 'FRAC Its', 'Fo', 'CRo'], dtype='object')\n"
          ],
          "name": "stdout"
        }
      ]
    },
    {
      "cell_type": "code",
      "metadata": {
        "id": "p0mn_4AbwVHr",
        "colab_type": "code",
        "outputId": "b66067d0-0bcb-491c-d31a-4e7873643e33",
        "colab": {
          "base_uri": "https://localhost:8080/",
          "height": 1000
        }
      },
      "source": [
        "x_train"
      ],
      "execution_count": 25,
      "outputs": [
        {
          "output_type": "execute_result",
          "data": {
            "text/plain": [
              "array([[-9.43263667e-01,  1.00000000e+00,  9.12737992e-01,\n",
              "        -5.83764907e-01],\n",
              "       [-9.43263667e-01,  1.00000000e+00, -8.78552849e-01,\n",
              "         8.79564052e-01],\n",
              "       [-3.08092060e-01, -9.00004166e-01, -7.93579282e-01,\n",
              "         1.36123239e-01],\n",
              "       [-7.86232829e-01,  5.99933336e-01, -1.00000000e+00,\n",
              "        -1.17122113e-01],\n",
              "       [ 1.41943079e-01, -3.00029165e-01,  3.96648493e-01,\n",
              "        -9.59436663e-01],\n",
              "       [-4.29310671e-01,  7.49927086e-01,  3.17393748e-01,\n",
              "        -9.02410155e-01],\n",
              "       [-9.08458215e-01,  4.99937503e-01, -8.77128228e-02,\n",
              "        -6.22819913e-01],\n",
              "       [ 3.57231182e-01, -3.00029165e-01, -6.88236030e-01,\n",
              "        -6.52067646e-01],\n",
              "       [-4.38477433e-01, -3.00029165e-01, -8.19734128e-02,\n",
              "        -6.71996197e-01],\n",
              "       [-9.74237882e-01, -4.16649306e-05, -4.02858291e-01,\n",
              "        -7.70993688e-02],\n",
              "       [-9.39218425e-01,  7.49927086e-01, -7.24252110e-01,\n",
              "        -5.05317683e-01],\n",
              "       [ 8.77772226e-01,  1.00000000e+00,  3.04727387e-01,\n",
              "        -7.83744518e-01],\n",
              "       [ 6.14429622e-01,  9.99916670e-01,  1.68996810e-01,\n",
              "         9.88043563e-01],\n",
              "       [-9.41810377e-01,  2.49947919e-01,  4.84636256e-01,\n",
              "        -6.59288595e-01],\n",
              "       [ 3.62388958e-01,  1.00000000e+00,  8.90153038e-01,\n",
              "        -5.15394641e-01],\n",
              "       [-9.95269994e-01,  4.99937503e-01, -3.63578138e-01,\n",
              "        -3.60548700e-02],\n",
              "       [-2.08905758e-01,  9.99916670e-01,  5.27313793e-01,\n",
              "         3.36464681e-01],\n",
              "       [-7.79801717e-01, -7.50010416e-01, -6.98046982e-01,\n",
              "        -1.67144291e-01],\n",
              "       [-6.51243215e-02, -7.50010416e-01,  8.69652746e-01,\n",
              "        -1.26735017e-01],\n",
              "       [-7.23959464e-01, -2.50031249e-01, -3.62909643e-01,\n",
              "         9.66314937e-01],\n",
              "       [ 5.51147259e-01,  2.49947919e-01,  2.13545144e-01,\n",
              "         9.45874038e-01],\n",
              "       [-3.47150731e-01,  2.49947919e-01,  9.22302939e-01,\n",
              "        -3.07208987e-01],\n",
              "       [-9.89998082e-01,  2.49947919e-01, -1.02915855e-01,\n",
              "        -4.48400400e-01],\n",
              "       [-3.94914335e-01,  4.99937503e-01,  4.16354203e-01,\n",
              "        -7.02837778e-01],\n",
              "       [ 2.24761119e-01, -6.00016666e-01,  5.61677809e-01,\n",
              "        -5.50562983e-01],\n",
              "       [ 8.32959052e-01,  2.99945836e-01,  8.55489327e-01,\n",
              "         6.18102380e-02],\n",
              "       [ 3.62820396e-01,  8.99920837e-01,  1.28713674e-01,\n",
              "         4.48222790e-01],\n",
              "       [-7.96204254e-01, -4.16649306e-05, -4.28990771e-01,\n",
              "        -2.22427443e-01],\n",
              "       [ 3.82914532e-02, -1.00000000e+00,  5.69124718e-02,\n",
              "        -3.88995803e-01],\n",
              "       [ 8.76380700e-01, -7.50010416e-01,  3.33895774e-01,\n",
              "        -9.67036805e-01],\n",
              "       [ 3.51639674e-01,  2.99945836e-01,  9.66800303e-01,\n",
              "         1.00000000e+00],\n",
              "       [-4.82524452e-01,  8.99920837e-01, -8.51222729e-01,\n",
              "        -9.35392964e-01],\n",
              "       [ 1.45647603e-03,  1.00000000e+00,  3.89443372e-01,\n",
              "        -8.78347571e-01],\n",
              "       [-2.97069005e-01, -4.16649306e-05,  5.33634203e-01,\n",
              "        -2.87519371e-02],\n",
              "       [ 8.05393955e-01, -3.00029165e-01,  7.20217875e-01,\n",
              "        -7.10885266e-01],\n",
              "       [-5.08973436e-01,  1.00000000e+00, -9.32609328e-01,\n",
              "        -2.19337226e-01],\n",
              "       [ 5.65701659e-01, -4.16649306e-05,  8.05949074e-01,\n",
              "         7.14633805e-01],\n",
              "       [ 3.59527993e-01, -4.16649306e-05, -4.21957454e-01,\n",
              "        -4.32132522e-01],\n",
              "       [ 8.27916677e-01,  1.00000000e+00,  7.82593352e-04,\n",
              "        -1.82776393e-02],\n",
              "       [-8.79175888e-01, -5.00020832e-01, -3.44117239e-01,\n",
              "        -6.00997576e-01],\n",
              "       [ 5.07557665e-02, -9.00004166e-01, -4.71195812e-01,\n",
              "        -3.93330968e-01],\n",
              "       [-3.53936461e-01, -1.00000000e+00, -3.69166428e-01,\n",
              "        -9.55655567e-01],\n",
              "       [-2.22871033e-01, -6.00016666e-01, -1.28573118e-01,\n",
              "        -6.63227337e-01],\n",
              "       [ 5.24960888e-02, -1.00000000e+00, -3.44880850e-01,\n",
              "        -7.24725921e-01],\n",
              "       [ 8.26788668e-01, -6.00016666e-01,  2.46475836e-01,\n",
              "         3.25548376e-01],\n",
              "       [-1.92566219e-01, -5.00020832e-01,  3.55641058e-02,\n",
              "        -9.86692800e-01],\n",
              "       [-1.97702326e-01,  7.49927086e-01, -1.13393970e-01,\n",
              "         2.91984332e-01],\n",
              "       [ 8.77894054e-01,  5.99933336e-01,  4.98841805e-01,\n",
              "        -5.08787795e-01],\n",
              "       [ 3.62388958e-01,  1.00000000e+00,  1.57196981e-01,\n",
              "         8.92267562e-01],\n",
              "       [ 9.62842928e-01, -4.16649306e-05,  4.57219161e-01,\n",
              "        -8.73873359e-02],\n",
              "       [ 9.18722156e-01, -2.50031249e-01,  2.34544869e-01,\n",
              "        -2.90236955e-01],\n",
              "       [-5.11173113e-02, -9.00004166e-01, -2.79643911e-01,\n",
              "        -4.32389911e-01],\n",
              "       [ 8.27916677e-01,  1.00000000e+00,  2.14041717e-01,\n",
              "         3.33379901e-01],\n",
              "       [ 7.29431395e-01, -7.50010416e-01,  2.93036398e-01,\n",
              "        -2.01973609e-01],\n",
              "       [ 8.37133897e-01,  8.99920837e-01,  6.02430626e-01,\n",
              "         7.25286607e-01],\n",
              "       [ 8.71360556e-01,  5.99933336e-01, -7.62039900e-04,\n",
              "         1.19920967e-01],\n",
              "       [ 8.96115220e-01, -5.00020832e-01,  5.88944510e-01,\n",
              "        -5.84676797e-01],\n",
              "       [-2.23387070e-01, -2.50031249e-01,  5.61749965e-01,\n",
              "        -9.01395620e-01],\n",
              "       [ 5.13744908e-01, -9.00004166e-01,  5.12121518e-01,\n",
              "         3.48507299e-01],\n",
              "       [ 6.59330408e-01, -2.50031249e-01,  7.92357375e-01,\n",
              "         1.21568325e-01],\n",
              "       [ 8.80092907e-01, -4.16649306e-05,  7.49892215e-01,\n",
              "         3.37852797e-01],\n",
              "       [-8.30595972e-01, -4.16649306e-05, -1.92634021e-01,\n",
              "        -9.76276603e-01],\n",
              "       [-9.43200046e-01,  8.99920837e-01, -8.58394999e-01,\n",
              "         8.72561393e-01],\n",
              "       [-8.62816287e-01,  2.49947919e-01, -3.97181148e-02,\n",
              "        -1.10769904e-01],\n",
              "       [-1.58069160e-01, -2.50031249e-01, -8.47247593e-01,\n",
              "        -6.64086398e-01],\n",
              "       [ 9.14048096e-01,  9.99916670e-01,  7.93892570e-02,\n",
              "        -4.48611518e-01],\n",
              "       [-1.63611532e-01,  2.49947919e-01,  7.20581269e-01,\n",
              "        -5.69544575e-01],\n",
              "       [-8.11396141e-01, -2.50031249e-01, -4.62602967e-01,\n",
              "        -5.41602836e-01],\n",
              "       [ 8.46442446e-01,  2.99945836e-01,  6.33715250e-01,\n",
              "        -1.18246835e-01],\n",
              "       [ 9.94382333e-01,  2.49947919e-01,  3.43032644e-01,\n",
              "        -3.81979558e-01],\n",
              "       [ 8.62982896e-01, -3.00029165e-01,  4.83433523e-01,\n",
              "         7.11104588e-01],\n",
              "       [ 9.87420567e-01,  7.49927086e-01,  9.83269463e-01,\n",
              "        -3.13369281e-01],\n",
              "       [-9.97578424e-01,  7.49927086e-01, -2.85795512e-01,\n",
              "        -4.37866818e-01],\n",
              "       [-9.59152606e-01,  9.99916670e-01, -9.55798755e-01,\n",
              "        -6.68759331e-01],\n",
              "       [ 1.45647603e-03,  1.00000000e+00,  7.66565750e-01,\n",
              "        -9.57690832e-01],\n",
              "       [-7.65010945e-01, -4.16649306e-05, -5.29020904e-01,\n",
              "        -2.76240573e-02],\n",
              "       [-4.21264053e-01,  5.99933336e-01, -8.82897197e-01,\n",
              "        -9.42164662e-01],\n",
              "       [ 6.46997977e-01,  7.49927086e-01,  4.90621397e-01,\n",
              "         8.68484921e-01],\n",
              "       [-8.77373141e-01,  1.00000000e+00, -1.39609763e-02,\n",
              "        -3.49614497e-01],\n",
              "       [ 6.96900640e-01, -9.00004166e-01,  3.89870671e-01,\n",
              "        -7.00504633e-01],\n",
              "       [ 8.19471672e-01, -1.00000000e+00,  6.29404361e-01,\n",
              "         4.56981361e-01],\n",
              "       [-5.77492850e-01, -3.00029165e-01,  5.13700239e-01,\n",
              "        -6.04124103e-01],\n",
              "       [-8.77373141e-01,  1.00000000e+00, -7.09617201e-01,\n",
              "        -2.24025054e-01],\n",
              "       [ 3.45720613e-01,  5.99933336e-01,  7.99594110e-01,\n",
              "        -8.63502894e-01],\n",
              "       [-4.65177959e-02, -7.50010416e-01, -7.65221140e-01,\n",
              "        -4.13186711e-02],\n",
              "       [ 8.77772226e-01,  1.00000000e+00,  3.13772760e-01,\n",
              "        -3.01980378e-01],\n",
              "       [-9.96220827e-01,  7.49927086e-01, -4.83611919e-01,\n",
              "         6.19713464e-01],\n",
              "       [ 4.25247059e-01, -6.00016666e-01, -3.99579138e-01,\n",
              "         4.01050429e-03],\n",
              "       [-9.54178131e-01, -2.50031249e-01, -4.82429710e-01,\n",
              "        -5.95847702e-01],\n",
              "       [ 2.99785785e-01, -9.00004166e-01,  1.65264197e-02,\n",
              "        -7.98657091e-01],\n",
              "       [-1.89200660e-01, -3.00029165e-01, -3.11517813e-01,\n",
              "        -9.60039373e-01],\n",
              "       [-3.42329159e-01,  2.99945836e-01, -3.77303010e-02,\n",
              "        -9.39767026e-01],\n",
              "       [ 1.61223340e-02,  8.99920837e-01,  4.91554468e-01,\n",
              "        -6.60836100e-01],\n",
              "       [-6.04605261e-01, -1.00000000e+00, -3.94258809e-01,\n",
              "        -8.26697071e-01],\n",
              "       [ 7.71116245e-01, -6.00016666e-01,  1.88847219e-01,\n",
              "        -1.00487831e-01],\n",
              "       [-1.68486029e-01, -4.16649306e-05,  5.77601227e-01,\n",
              "         8.31833179e-01],\n",
              "       [-1.98023131e-01,  4.99937503e-01,  7.06258786e-02,\n",
              "         6.13291093e-01],\n",
              "       [ 8.80042946e-01,  8.99920837e-01,  9.40896367e-01,\n",
              "        -7.70258265e-01],\n",
              "       [ 7.93152013e-01, -9.00004166e-01,  4.61533462e-01,\n",
              "         8.26157965e-01],\n",
              "       [-9.97928396e-01,  9.99916670e-01, -5.35392380e-01,\n",
              "         5.56730735e-01],\n",
              "       [-5.08973436e-01,  1.00000000e+00, -4.28784465e-01,\n",
              "        -6.02817430e-01]])"
            ]
          },
          "metadata": {
            "tags": []
          },
          "execution_count": 25
        }
      ]
    },
    {
      "cell_type": "code",
      "metadata": {
        "id": "QNcu08l11Hiy",
        "colab_type": "code",
        "colab": {}
      },
      "source": [
        "# input dataset\n",
        "Neuron_input=len(X_NOME)\n",
        "Neuron_hidden=9\n",
        "Neuron_output=1\n",
        "Learning_rate=0.0001\n",
        "omega=0.9\n",
        "Epoch=300000\n",
        "syn0,syn1=ANN(Epoch,Neuron_input,Neuron_hidden,Neuron_output,Learning_rate,x_train,y_train)\n",
        "y_obs_train=y_train\n",
        "y_obs_test=y_test\n",
        "y_calc_train=ANN_ycal(syn0,syn1,x_train)\n",
        "y_obs_test=y_test\n",
        "y_calc_test=ANN_ycal(syn0,syn1,x_test)\n",
        "\n"
      ],
      "execution_count": 0,
      "outputs": []
    },
    {
      "cell_type": "code",
      "metadata": {
        "id": "gqicKzzwIFMW",
        "colab_type": "code",
        "outputId": "f1b9f18b-ff67-4941-d7d0-2bab62fa5389",
        "colab": {
          "base_uri": "https://localhost:8080/",
          "height": 241
        }
      },
      "source": [
        "print(\"Epocas=\",Epoch,\"Learning rate=\",Learning_rate,\"Dados teste matriz confusao:\")\n",
        "print(X_NOME)\n",
        "print(\"====================================\")\n",
        "y_calc_train = Classifica(y_calc_train)\n",
        "y_calc_test = Classifica(y_calc_test)\n",
        "\n",
        "\n",
        "\n",
        "tn, fp, fn, tp = confusion_matrix(y_calc_train,y_obs_train).ravel()\n",
        "PrecTreino=PrecisaoGlobal(tn, fp, fn, tp)\n",
        "print(\"Treino precisao global=\",PrecTreino)\n",
        "print(\"Treino tn: %d  fp: %d fn: %d tp: %d\" % (tn, fp, fn, tp))\n",
        "print(confusion_matrix(y_calc_train,y_obs_train))\n",
        "\n",
        "\n",
        "print(\"====================================\")\n",
        "tn, fp, fn, tp = confusion_matrix(y_calc_test,y_obs_test).ravel()\n",
        "PrecTeste=PrecisaoGlobal(tn, fp, fn, tp)\n",
        "print(\"Teste: precisao global=\",PrecTeste)\n",
        "print(\"Teste tn: %d  fp: %d fn: %d tp: %d\" % (tn, fp, fn, tp))\n",
        "print(confusion_matrix(y_calc_test,y_obs_test))\n",
        "\n",
        "\n",
        "\n",
        "if MELHOR_PRECISAO< PrecTeste:\n",
        "  MELHOR_PRECISAO=PrecTeste\n",
        "  MAT0=np.copy(syn0)\n",
        "  MAT1=np.copy(syn1)\n",
        "  CONF_teste=np.copy(confusion_matrix(y_calc_test,y_obs_test))\n",
        "  CONF_treino=np.copy(confusion_matrix(y_calc_train,y_obs_train))\n",
        "\n"
      ],
      "execution_count": 27,
      "outputs": [
        {
          "output_type": "stream",
          "text": [
            "Epocas= 300000 Learning rate= 0.0001 Dados teste matriz confusao:\n",
            "Index(['DI RELATIVO', 'FRAC Its', 'Fo', 'CRo'], dtype='object')\n",
            "====================================\n",
            "Treino precisao global= 0.9108910891089109\n",
            "Treino tn: 51  fp: 2 fn: 7 tp: 41\n",
            "[[51  2]\n",
            " [ 7 41]]\n",
            "====================================\n",
            "Teste: precisao global= 0.64\n",
            "Teste tn: 6  fp: 7 fn: 2 tp: 10\n",
            "[[ 6  7]\n",
            " [ 2 10]]\n"
          ],
          "name": "stdout"
        }
      ]
    },
    {
      "cell_type": "code",
      "metadata": {
        "id": "hc7oCwk3NFND",
        "colab_type": "code",
        "outputId": "f42a1e86-a24b-4a9a-e6e7-5e0e44c5318b",
        "colab": {
          "base_uri": "https://localhost:8080/",
          "height": 801
        }
      },
      "source": [
        "print(\"Melhor precisao=\",MELHOR_PRECISAO)\n",
        "print(MAT0)\n",
        "print(MAT1)\n",
        "nl0=MAT0.shape[0];nc0=MAT0.shape[1]\n",
        "nl1=MAT1.shape[0];nc1=MAT1.shape[1]\n",
        "print(\"colunas %d e linhas %d MAT0\" % (nc0,nl0))\n",
        "print(\"colunas %d e linhas %d MAT1\" % (nc1,nl1))\n",
        "print(CONF_teste)\n",
        "print(CONF_treino)"
      ],
      "execution_count": 28,
      "outputs": [
        {
          "output_type": "stream",
          "text": [
            "Melhor precisao= 0.76\n",
            "[[ 0.98248057 -0.03066945  0.09738595  0.39286539  0.80333667 -1.77166566\n",
            "  -1.83728932 -0.74829362 -0.11859996]\n",
            " [-0.48783853  0.87608532 -0.78921473 -0.60619098 -1.31903574 -0.74646992\n",
            "   2.747822    0.87376071 -0.35547972]\n",
            " [ 1.50180593  0.16632648 -1.60513763 -1.47604956  0.14039004 -1.68171164\n",
            "  -0.43015861  0.30697764  3.88732203]\n",
            " [-0.71477097 -0.38527887 -0.63976298 -0.36106028 -0.72672363 -0.62372047\n",
            "   1.01701949 -1.19862967 -1.72444324]\n",
            " [ 0.47636017  0.73559577 -0.88694046  0.87428399 -0.03359192 -0.90387984\n",
            "  -2.70309321  1.0592587   1.79449268]\n",
            " [ 0.26103078 -0.77078736 -1.09700005  0.85028701  0.45121855 -0.4952592\n",
            "  -0.51644847  1.59860553  0.76193834]\n",
            " [ 0.37160424  0.26270281 -0.33229412 -0.38011197 -0.21202535 -1.03595383\n",
            "   0.66968145  0.30535212 -1.02564991]\n",
            " [-1.03306089  0.72014572 -0.39501507 -0.45114721 -0.24419947 -0.36527481\n",
            "  -0.22335263 -0.14907577  0.04176141]\n",
            " [ 0.50638285  1.30898537  0.03741387  1.73236199 -0.38030668 -0.14127536\n",
            "  -0.02522119 -0.28501813  0.21902429]\n",
            " [ 0.53859425  1.30408278 -0.55711965 -1.15731996  0.97575519  0.73739444\n",
            "   0.24949864 -1.31603096  1.47834065]\n",
            " [ 0.432883    0.88484484 -0.31697346 -0.75863749 -0.63476763 -1.49249927\n",
            "  -0.16239549  0.97079706  1.52662276]\n",
            " [-0.18372547  1.67215162 -0.33474977 -1.18633523 -2.19400869 -0.22497047\n",
            "   2.12441106 -0.02438018  1.59115661]\n",
            " [ 0.24337062  0.07820062  0.82087545 -1.2816976  -0.37135347  0.06859766\n",
            "  -1.77424241  1.92845703 -0.85626643]]\n",
            "[[ 3.77106076]\n",
            " [ 1.3883846 ]\n",
            " [-1.36259898]\n",
            " [-2.58159903]\n",
            " [ 2.2159989 ]\n",
            " [ 1.68598113]\n",
            " [ 1.93376879]\n",
            " [ 1.1357531 ]\n",
            " [-2.76516027]]\n",
            "colunas 9 e linhas 13 MAT0\n",
            "colunas 1 e linhas 9 MAT1\n",
            "[[ 8  6]\n",
            " [ 0 11]]\n",
            "[[58  0]\n",
            " [ 0 43]]\n"
          ],
          "name": "stdout"
        }
      ]
    },
    {
      "cell_type": "code",
      "metadata": {
        "id": "u_JANQ_rkZjw",
        "colab_type": "code",
        "outputId": "475e387a-c258-48d0-e6af-f112bb84d197",
        "colab": {
          "base_uri": "https://localhost:8080/",
          "height": 148
        }
      },
      "source": [
        "Nomes=['OTIMO','PARTIC_best','Xresp']\n",
        "print(\"Melhor precisao=\",MELHOR_PRECISAO)\n",
        "#print(MAT0)\n",
        "#print(MAT1)\n",
        "nl0=MAT0.shape[0];nc0=MAT0.shape[1]\n",
        "nl1=MAT1.shape[0];nc1=MAT1.shape[1]\n",
        "print(\"colunas %d e linhas %d MAT0\" % (nc0,nl0))\n",
        "print(\"colunas %d e linhas %d MAT1\" % (nc1,nl1))\n",
        "print(CONF_teste)\n",
        "print(CONF_treino)\n",
        "#BUSCA=pd.Series([OTIMO,PARTIC_best,Xresp],index=Nomes )"
      ],
      "execution_count": 29,
      "outputs": [
        {
          "output_type": "stream",
          "text": [
            "Melhor precisao= 0.76\n",
            "colunas 9 e linhas 13 MAT0\n",
            "colunas 1 e linhas 9 MAT1\n",
            "[[ 8  6]\n",
            " [ 0 11]]\n",
            "[[58  0]\n",
            " [ 0 43]]\n"
          ],
          "name": "stdout"
        }
      ]
    },
    {
      "cell_type": "code",
      "metadata": {
        "id": "c2n_NdzlDrE9",
        "colab_type": "code",
        "outputId": "187a135c-a4c6-41f1-92c0-2f3cc0b43dff",
        "colab": {
          "base_uri": "https://localhost:8080/",
          "height": 167
        }
      },
      "source": [
        "dim=np.array([[nl0,nc0],[nl1,nc1]])\n",
        "Dummies=['hello pandas I am envolving']\n",
        "Armazenar=['Dummie','MAT0','MAT1','dim','Conf_treino','Conf_teste','precisao']\n",
        "BUSCA=pd.Series([Dummies,MAT0,MAT1,dim,CONF_treino,CONF_teste,MELHOR_PRECISAO],index=Armazenar )\n",
        "BUSCA\n",
        "BUSCA = pd.DataFrame(BUSCA) \n",
        "print(BUSCA)\n"
      ],
      "execution_count": 30,
      "outputs": [
        {
          "output_type": "stream",
          "text": [
            "                                                             0\n",
            "Dummie                           [hello pandas I am envolving]\n",
            "MAT0         [[0.9824805721673776, -0.030669451996601215, 0...\n",
            "MAT1         [[3.7710607595723142], [1.3883846008012921], [...\n",
            "dim                                          [[13, 9], [9, 1]]\n",
            "Conf_treino                                 [[58, 0], [0, 43]]\n",
            "Conf_teste                                   [[8, 6], [0, 11]]\n",
            "precisao                                                  0.76\n"
          ],
          "name": "stdout"
        }
      ]
    },
    {
      "cell_type": "code",
      "metadata": {
        "id": "3LhM2XIgCtTg",
        "colab_type": "code",
        "colab": {
          "base_uri": "https://localhost:8080/",
          "height": 92
        },
        "outputId": "1b3b913c-e407-4dee-bdd5-9ab7767b8290"
      },
      "source": [
        "print(BUSCA)"
      ],
      "execution_count": 33,
      "outputs": [
        {
          "output_type": "stream",
          "text": [
            "Conf_treino    [[58, 0], [0, 43]]\n",
            "Conf_teste      [[8, 6], [0, 11]]\n",
            "precisao                     0.76\n",
            "dtype: object\n"
          ],
          "name": "stdout"
        }
      ]
    },
    {
      "cell_type": "code",
      "metadata": {
        "id": "e6g8idaG2mzD",
        "colab_type": "code",
        "outputId": "198c16bf-4861-4cc5-dfdd-8a14c992481a",
        "colab": {
          "base_uri": "https://localhost:8080/",
          "height": 1000
        }
      },
      "source": [
        "cn=nc0+nc1;print(cn)\n",
        "lmax=max([nl0,nl1]);print(lmax)\n",
        "print(syn0.shape);print(syn1.shape)\n",
        "syn0=pd.DataFrame(syn0)\n",
        "syn1=pd.DataFrame(syn1)\n",
        "M=np.zeros((lmax,1))\n",
        "M[0,0]=nl0;M[1,0]=nc0;M[2,0]=nl1;M[3,0]=nc1;\n",
        "M=pd.DataFrame(M)\n",
        "for i in range(nc0):\n",
        "  M[i+1]=syn0[i]\n",
        "print(M)\n",
        "for i in range(nc1):\n",
        "  M[i+nc0+1]=syn1[i]\n",
        "print(M)\n",
        "#M[range(1,nc0+1)]=syn0\n",
        "Armazenar=['CONF_treino','CONF_teste','MELHOR_PRECISAO']\n",
        "Complemento=np.zeros(lmax-3)\n",
        "BUSCA=list(['CONF_treino',CONF_treino,'CONF_teste',CONF_teste,'MELHOR_PRECISAO',MELHOR_PRECISAO] )\n",
        "M[nc0+nc1+2]=pd.Series(BUSCA)\n",
        "print(M)"
      ],
      "execution_count": 38,
      "outputs": [
        {
          "output_type": "stream",
          "text": [
            "10\n",
            "13\n",
            "(4, 9)\n",
            "(9, 1)\n",
            "       0         1         2         3         4         5         6  \\\n",
            "0   13.0  0.112906 -0.712444 -4.772594 -1.129842 -2.159858  0.239086   \n",
            "1    9.0  0.226775 -4.082946 -2.159133 -4.576445 -0.757495  0.119021   \n",
            "2    9.0 -1.015955 -2.726522 -2.903935 -1.608120 -3.085365  2.587146   \n",
            "3    1.0  0.824789  3.673251  2.403771  5.032467  0.565747  0.234986   \n",
            "4    0.0       NaN       NaN       NaN       NaN       NaN       NaN   \n",
            "5    0.0       NaN       NaN       NaN       NaN       NaN       NaN   \n",
            "6    0.0       NaN       NaN       NaN       NaN       NaN       NaN   \n",
            "7    0.0       NaN       NaN       NaN       NaN       NaN       NaN   \n",
            "8    0.0       NaN       NaN       NaN       NaN       NaN       NaN   \n",
            "9    0.0       NaN       NaN       NaN       NaN       NaN       NaN   \n",
            "10   0.0       NaN       NaN       NaN       NaN       NaN       NaN   \n",
            "11   0.0       NaN       NaN       NaN       NaN       NaN       NaN   \n",
            "12   0.0       NaN       NaN       NaN       NaN       NaN       NaN   \n",
            "\n",
            "           7         8         9  \n",
            "0   5.024518  2.497074  1.361428  \n",
            "1   4.609125  2.268818  2.317183  \n",
            "2  -0.893906 -1.336334 -0.602682  \n",
            "3  -0.573491 -0.845822 -4.542695  \n",
            "4        NaN       NaN       NaN  \n",
            "5        NaN       NaN       NaN  \n",
            "6        NaN       NaN       NaN  \n",
            "7        NaN       NaN       NaN  \n",
            "8        NaN       NaN       NaN  \n",
            "9        NaN       NaN       NaN  \n",
            "10       NaN       NaN       NaN  \n",
            "11       NaN       NaN       NaN  \n",
            "12       NaN       NaN       NaN  \n",
            "      0         1         2         3         4         5         6   \\\n",
            "0   13.0  0.112906 -0.712444 -4.772594 -1.129842 -2.159858  0.239086   \n",
            "1    9.0  0.226775 -4.082946 -2.159133 -4.576445 -0.757495  0.119021   \n",
            "2    9.0 -1.015955 -2.726522 -2.903935 -1.608120 -3.085365  2.587146   \n",
            "3    1.0  0.824789  3.673251  2.403771  5.032467  0.565747  0.234986   \n",
            "4    0.0       NaN       NaN       NaN       NaN       NaN       NaN   \n",
            "5    0.0       NaN       NaN       NaN       NaN       NaN       NaN   \n",
            "6    0.0       NaN       NaN       NaN       NaN       NaN       NaN   \n",
            "7    0.0       NaN       NaN       NaN       NaN       NaN       NaN   \n",
            "8    0.0       NaN       NaN       NaN       NaN       NaN       NaN   \n",
            "9    0.0       NaN       NaN       NaN       NaN       NaN       NaN   \n",
            "10   0.0       NaN       NaN       NaN       NaN       NaN       NaN   \n",
            "11   0.0       NaN       NaN       NaN       NaN       NaN       NaN   \n",
            "12   0.0       NaN       NaN       NaN       NaN       NaN       NaN   \n",
            "\n",
            "          7         8         9         10  \n",
            "0   5.024518  2.497074  1.361428 -1.371984  \n",
            "1   4.609125  2.268818  2.317183  2.097777  \n",
            "2  -0.893906 -1.336334 -0.602682  2.376559  \n",
            "3  -0.573491 -0.845822 -4.542695 -3.479519  \n",
            "4        NaN       NaN       NaN -5.545865  \n",
            "5        NaN       NaN       NaN -5.206912  \n",
            "6        NaN       NaN       NaN  2.132750  \n",
            "7        NaN       NaN       NaN -1.776292  \n",
            "8        NaN       NaN       NaN -1.839568  \n",
            "9        NaN       NaN       NaN       NaN  \n",
            "10       NaN       NaN       NaN       NaN  \n",
            "11       NaN       NaN       NaN       NaN  \n",
            "12       NaN       NaN       NaN       NaN  \n",
            "      0         1         2         3         4         5         6   \\\n",
            "0   13.0  0.112906 -0.712444 -4.772594 -1.129842 -2.159858  0.239086   \n",
            "1    9.0  0.226775 -4.082946 -2.159133 -4.576445 -0.757495  0.119021   \n",
            "2    9.0 -1.015955 -2.726522 -2.903935 -1.608120 -3.085365  2.587146   \n",
            "3    1.0  0.824789  3.673251  2.403771  5.032467  0.565747  0.234986   \n",
            "4    0.0       NaN       NaN       NaN       NaN       NaN       NaN   \n",
            "5    0.0       NaN       NaN       NaN       NaN       NaN       NaN   \n",
            "6    0.0       NaN       NaN       NaN       NaN       NaN       NaN   \n",
            "7    0.0       NaN       NaN       NaN       NaN       NaN       NaN   \n",
            "8    0.0       NaN       NaN       NaN       NaN       NaN       NaN   \n",
            "9    0.0       NaN       NaN       NaN       NaN       NaN       NaN   \n",
            "10   0.0       NaN       NaN       NaN       NaN       NaN       NaN   \n",
            "11   0.0       NaN       NaN       NaN       NaN       NaN       NaN   \n",
            "12   0.0       NaN       NaN       NaN       NaN       NaN       NaN   \n",
            "\n",
            "          7         8         9         10                  12  \n",
            "0   5.024518  2.497074  1.361428 -1.371984         CONF_treino  \n",
            "1   4.609125  2.268818  2.317183  2.097777  [[58, 0], [0, 43]]  \n",
            "2  -0.893906 -1.336334 -0.602682  2.376559          CONF_teste  \n",
            "3  -0.573491 -0.845822 -4.542695 -3.479519   [[8, 6], [0, 11]]  \n",
            "4        NaN       NaN       NaN -5.545865     MELHOR_PRECISAO  \n",
            "5        NaN       NaN       NaN -5.206912                0.76  \n",
            "6        NaN       NaN       NaN  2.132750                 NaN  \n",
            "7        NaN       NaN       NaN -1.776292                 NaN  \n",
            "8        NaN       NaN       NaN -1.839568                 NaN  \n",
            "9        NaN       NaN       NaN       NaN                 NaN  \n",
            "10       NaN       NaN       NaN       NaN                 NaN  \n",
            "11       NaN       NaN       NaN       NaN                 NaN  \n",
            "12       NaN       NaN       NaN       NaN                 NaN  \n"
          ],
          "name": "stdout"
        }
      ]
    },
    {
      "cell_type": "code",
      "metadata": {
        "id": "ZX55qGJQ9Mpx",
        "colab_type": "code",
        "colab": {}
      },
      "source": [
        "np.zeros((lmax,1))"
      ],
      "execution_count": 0,
      "outputs": []
    },
    {
      "cell_type": "code",
      "metadata": {
        "id": "QWcu5W7jYjxm",
        "colab_type": "code",
        "colab": {
          "base_uri": "https://localhost:8080/",
          "height": 73
        },
        "outputId": "cf48adc3-f8d9-4628-ee71-e45cd8702047"
      },
      "source": [
        "BUSCA=list(['CONF_treino',CONF_treino,'CONF_teste',CONF_teste,'MELHOR_PRECISAO',MELHOR_PRECISAO] )\n",
        "print(BUSCA)"
      ],
      "execution_count": 37,
      "outputs": [
        {
          "output_type": "stream",
          "text": [
            "['CONF_treino', array([[58,  0],\n",
            "       [ 0, 43]]), 'CONF_teste', array([[ 8,  6],\n",
            "       [ 0, 11]]), 'MELHOR_PRECISAO', 0.76]\n"
          ],
          "name": "stdout"
        }
      ]
    },
    {
      "cell_type": "code",
      "metadata": {
        "id": "sQjGw87HZi8h",
        "colab_type": "code",
        "colab": {}
      },
      "source": [
        ""
      ],
      "execution_count": 0,
      "outputs": []
    },
    {
      "cell_type": "code",
      "metadata": {
        "id": "RIMyBrbJMlq4",
        "colab_type": "code",
        "colab": {}
      },
      "source": [
        ""
      ],
      "execution_count": 0,
      "outputs": []
    },
    {
      "cell_type": "code",
      "metadata": {
        "id": "uWcsDJt5Uf_W",
        "colab_type": "code",
        "colab": {}
      },
      "source": [
        "from google.colab import drive\n",
        "drive.mount('drive')"
      ],
      "execution_count": 0,
      "outputs": []
    },
    {
      "cell_type": "code",
      "metadata": {
        "id": "dKdsXXOLenBM",
        "colab_type": "code",
        "colab": {}
      },
      "source": [
        ""
      ],
      "execution_count": 0,
      "outputs": []
    },
    {
      "cell_type": "code",
      "metadata": {
        "id": "FItdmJ_AWB-Y",
        "colab_type": "code",
        "colab": {}
      },
      "source": [
        "from datetime import datetime\n",
        "nowfname=datetime.now().strftime(\"%Y-%m-%d_%Hh%Mmin\")"
      ],
      "execution_count": 0,
      "outputs": []
    },
    {
      "cell_type": "code",
      "metadata": {
        "id": "ADtH-CFgUs0v",
        "colab_type": "code",
        "colab": {}
      },
      "source": [
        "BUSCA.to_csv(('ANN_'+ nowfname +'.csv'))\n",
        "print(('ANN_'+ nowfname +'.csv'))\n",
        "ARQ='ANN_'+ nowfname +'.csv'"
      ],
      "execution_count": 0,
      "outputs": []
    },
    {
      "cell_type": "code",
      "metadata": {
        "id": "gsGV0jjxWd1-",
        "colab_type": "code",
        "colab": {}
      },
      "source": [
        "#!cp 2019-10-05_03h42min_DE_Michalewicz_10.csv drive/My\\ Drive/imput_ANN/\n",
        "!cp  ANN_2019-10-18_20h20min.csv drive/My\\ Drive/"
      ],
      "execution_count": 0,
      "outputs": []
    },
    {
      "cell_type": "code",
      "metadata": {
        "id": "u_UBKiRTetZA",
        "colab_type": "code",
        "colab": {}
      },
      "source": [
        "!git clone https://github.com/ucfilho/ANN_read_matrix #clonar do Github\n",
        "%cd ANN_read_matrix"
      ],
      "execution_count": 0,
      "outputs": []
    },
    {
      "cell_type": "code",
      "metadata": {
        "id": "b1C5QS6EegFn",
        "colab_type": "code",
        "colab": {}
      },
      "source": [
        "ANN=pd.read_csv('ANN_2019-10-18_19h35min.csv')"
      ],
      "execution_count": 0,
      "outputs": []
    },
    {
      "cell_type": "code",
      "metadata": {
        "id": "NJoI3llje8u5",
        "colab_type": "code",
        "colab": {}
      },
      "source": [
        "print(type(ANN))"
      ],
      "execution_count": 0,
      "outputs": []
    },
    {
      "cell_type": "code",
      "metadata": {
        "id": "NGAY4Z5JfdPB",
        "colab_type": "code",
        "colab": {}
      },
      "source": [
        "print(ANN)"
      ],
      "execution_count": 0,
      "outputs": []
    },
    {
      "cell_type": "code",
      "metadata": {
        "id": "nabBmTx_fiAa",
        "colab_type": "code",
        "colab": {}
      },
      "source": [
        "A=np.array(ANN.iloc[0][1])\n",
        "B=np.array(ANN.iloc[1][1])\n",
        "C=np.array(ANN.iloc[2][1])\n",
        "print(A)\n",
        "print(B)\n",
        "print(C)"
      ],
      "execution_count": 0,
      "outputs": []
    }
  ]
}