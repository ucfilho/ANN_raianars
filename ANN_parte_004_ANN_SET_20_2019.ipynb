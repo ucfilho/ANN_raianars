{
  "nbformat": 4,
  "nbformat_minor": 0,
  "metadata": {
    "colab": {
      "name": "ANN_parte_004_ANN_SET_20_2019.ipynb",
      "provenance": [],
      "collapsed_sections": [],
      "include_colab_link": true
    },
    "kernelspec": {
      "name": "python3",
      "display_name": "Python 3"
    }
  },
  "cells": [
    {
      "cell_type": "markdown",
      "metadata": {
        "id": "view-in-github",
        "colab_type": "text"
      },
      "source": [
        "<a href=\"https://colab.research.google.com/github/ucfilho/ANN_raianars/blob/master/ANN_parte_004_ANN_SET_20_2019.ipynb\" target=\"_parent\"><img src=\"https://colab.research.google.com/assets/colab-badge.svg\" alt=\"Open In Colab\"/></a>"
      ]
    },
    {
      "cell_type": "code",
      "metadata": {
        "id": "IJMhyBoEZHIU",
        "colab_type": "code",
        "outputId": "6c850565-7c7b-4c02-c4d5-5dd450cdf713",
        "colab": {
          "base_uri": "https://localhost:8080/",
          "height": 140
        }
      },
      "source": [
        "import numpy as np\n",
        "import pandas as pd\n",
        "import matplotlib.pyplot as plt\n",
        "from sklearn.neural_network import MLPRegressor\n",
        "from sklearn.metrics import mean_squared_error\n",
        "from sklearn.metrics import r2_score\n",
        "\n",
        "# este comando clona o diretorio github ucfilho/ANN no colaboratory research\n",
        "!git clone https://github.com/RaianaSeixas/ANN #clonar do Github\n",
        "%cd ANN\n",
        "!ls\n",
        "print(\"Hello world\"+\"\\n\"+\"I'm evolving!!!\"+\"\\n\")\n",
        "\n",
        "%matplotlib inline"
      ],
      "execution_count": 1,
      "outputs": [
        {
          "output_type": "stream",
          "text": [
            "fatal: destination path 'ANN' already exists and is not an empty directory.\n",
            "/content/ANN\n",
            "imput_ANN.zip\t\t X_DAT_set_17_2019.csv\t  Y_DAT_set_17_2019.csv\n",
            "X_DAT_B_set_17_2019.csv  Y_DAT_B_set_17_2019.csv\n",
            "Hello world\n",
            "I'm evolving!!!\n",
            "\n"
          ],
          "name": "stdout"
        }
      ]
    },
    {
      "cell_type": "code",
      "metadata": {
        "id": "PjwmvtglLAzW",
        "colab_type": "code",
        "colab": {}
      },
      "source": [
        "# funcao normatiza dados\n",
        "def Normatiza(x):\n",
        "    strings=list(x)\n",
        "    for i in strings:\n",
        "        max_x=x[i].max()\n",
        "        min_x=x[i].min()\n",
        "        a=(max_x+min_x)/2\n",
        "        b=(max_x-min_x)/2\n",
        "        x[i]=(x[i]-a)/b\n",
        "    return x"
      ],
      "execution_count": 0,
      "outputs": []
    },
    {
      "cell_type": "code",
      "metadata": {
        "id": "G03aMmdqLBtZ",
        "colab_type": "code",
        "colab": {}
      },
      "source": [
        "# funcao retorna os dados a forma original\n",
        "def Original(x,x_old):\n",
        "    strings=list(x)\n",
        "    for i in strings:\n",
        "        max_x=x_old[i].max()\n",
        "        min_x=x_old[i].min()\n",
        "        a=(max_x+min_x)/2\n",
        "        b=(max_x-min_x)/2\n",
        "        x[i]=x[i]*b+a\n",
        "    return x"
      ],
      "execution_count": 0,
      "outputs": []
    },
    {
      "cell_type": "code",
      "metadata": {
        "id": "68JOHC6Ozv6d",
        "colab_type": "code",
        "colab": {}
      },
      "source": [
        "# leitura dos dados\n",
        "DAT=pd.read_csv(\"X_DAT_B_set_17_2019.csv\")\n",
        "DAT_Y=pd.read_csv(\"Y_DAT_B_set_17_2019.csv\")"
      ],
      "execution_count": 0,
      "outputs": []
    },
    {
      "cell_type": "code",
      "metadata": {
        "id": "_vpQ5HTM06TE",
        "colab_type": "code",
        "colab": {}
      },
      "source": [
        "DAT_OLD=[]\n",
        "DAT_OLD=DAT.copy()\n",
        "DAT=Normatiza(DAT)\n",
        "\n",
        "DAT_OLD_Y=[]\n",
        "DAT_OLD_Y=DAT.copy()\n",
        "DAT_Y=Normatiza(DAT_Y)\n",
        "#print(DAT_Y)"
      ],
      "execution_count": 0,
      "outputs": []
    },
    {
      "cell_type": "code",
      "metadata": {
        "id": "A4LF09Cq0hJu",
        "colab_type": "code",
        "colab": {}
      },
      "source": [
        "# obtem as variaveis independentes (treino e teste)\n",
        "# separa os dados em treino e teste\n",
        "train=DAT.sample(frac=0.9,random_state=78) # poderia ser frac=0.5? sim ou nao?\n",
        "test=DAT.drop(train.index)\n",
        "x_train=train.iloc[:,[1,2,3,4,5,6]]\n",
        "x_test=test.iloc[:,[1,2,3,4,5,6]]\n",
        "X_OLD=DAT_OLD.iloc[:,[1,2,3,4,5,6]]\n",
        "#print(x_train)"
      ],
      "execution_count": 0,
      "outputs": []
    },
    {
      "cell_type": "code",
      "metadata": {
        "id": "ZSuUAFrL3E1C",
        "colab_type": "code",
        "colab": {}
      },
      "source": [
        "# obtem as variaveis dependentes (treino e teste)\n",
        "train=DAT_Y.sample(frac=0.9,random_state=78) # poderia ser frac=0.5? sim ou nao?\n",
        "test=DAT_Y.drop(train.index)\n",
        "Index=[3]\n",
        "y_train=train.iloc[:,Index]\n",
        "y_test=test.iloc[:,Index]\n",
        "Y_OLD=DAT_OLD.iloc[:,Index]\n",
        "#print(y_train)"
      ],
      "execution_count": 0,
      "outputs": []
    },
    {
      "cell_type": "code",
      "metadata": {
        "id": "WB50XJKNI22C",
        "colab_type": "code",
        "outputId": "8ee35ac1-1914-4c38-beea-89f7c8cd09ac",
        "colab": {
          "base_uri": "https://localhost:8080/",
          "height": 72
        }
      },
      "source": [
        "# define a rede neural \n",
        "clf = MLPRegressor(solver='lbfgs',activation='tanh',alpha=1e-5,\n",
        "                   hidden_layer_sizes=(5),random_state=1)\n",
        "# treina a rede neural\n",
        "clf.fit(x_train, y_train)\n",
        "\n",
        "# usa a rede neural treina em calculos para treino e teste\n",
        "y_calc_train=clf.predict(x_train)\n",
        "y_calc_test=clf.predict(x_test)"
      ],
      "execution_count": 8,
      "outputs": [
        {
          "output_type": "stream",
          "text": [
            "/usr/local/lib/python3.6/dist-packages/sklearn/neural_network/multilayer_perceptron.py:1321: DataConversionWarning: A column-vector y was passed when a 1d array was expected. Please change the shape of y to (n_samples, ), for example using ravel().\n",
            "  y = column_or_1d(y, warn=True)\n"
          ],
          "name": "stderr"
        }
      ]
    },
    {
      "cell_type": "code",
      "metadata": {
        "id": "xHxDN6iLLvA-",
        "colab_type": "code",
        "colab": {}
      },
      "source": [
        "#print(y_calc_test)\n"
      ],
      "execution_count": 0,
      "outputs": []
    },
    {
      "cell_type": "code",
      "metadata": {
        "id": "F3vbjaYoMQYu",
        "colab_type": "code",
        "outputId": "2acd5b38-609e-47a9-a814-1ed58bb0be04",
        "colab": {
          "base_uri": "https://localhost:8080/",
          "height": 286
        }
      },
      "source": [
        "plt.scatter(y_train,y_calc_train)"
      ],
      "execution_count": 9,
      "outputs": [
        {
          "output_type": "execute_result",
          "data": {
            "text/plain": [
              "<matplotlib.collections.PathCollection at 0x7ff98e134160>"
            ]
          },
          "metadata": {
            "tags": []
          },
          "execution_count": 9
        },
        {
          "output_type": "display_data",
          "data": {
            "image/png": "[encoded data removed]",
            "text/plain": [
              "<Figure size 432x288 with 1 Axes>"
            ]
          },
          "metadata": {
            "tags": []
          }
        }
      ]
    },
    {
      "cell_type": "code",
      "metadata": {
        "id": "x2rstqVtL_vy",
        "colab_type": "code",
        "outputId": "14530e67-174f-4d08-b0b2-832ca4fad22a",
        "colab": {
          "base_uri": "https://localhost:8080/",
          "height": 286
        }
      },
      "source": [
        "plt.scatter(y_test,y_calc_test)"
      ],
      "execution_count": 10,
      "outputs": [
        {
          "output_type": "execute_result",
          "data": {
            "text/plain": [
              "<matplotlib.collections.PathCollection at 0x7ff98b850c88>"
            ]
          },
          "metadata": {
            "tags": []
          },
          "execution_count": 10
        },
        {
          "output_type": "display_data",
          "data": {
            "image/png": "[encoded data removed]",
            "text/plain": [
              "<Figure size 432x288 with 1 Axes>"
            ]
          },
          "metadata": {
            "tags": []
          }
        }
      ]
    },
    {
      "cell_type": "code",
      "metadata": {
        "id": "3DeT4tMhPZDa",
        "colab_type": "code",
        "outputId": "c7d9c278-04dc-4f68-919c-5219affbc29b",
        "colab": {
          "base_uri": "https://localhost:8080/",
          "height": 52
        }
      },
      "source": [
        "#print(max(y_calc_test))\n",
        "#print(y_calc_test.index(max(y_calc_test)))\n",
        "#item=max(y_calc_test)\n",
        "#item_index = np.where(y_calc_test==item)\n",
        "#print(item_index)\n"
      ],
      "execution_count": 11,
      "outputs": [
        {
          "output_type": "stream",
          "text": [
            "-0.18357579996840068\n",
            "(array([4]),)\n"
          ],
          "name": "stdout"
        }
      ]
    },
    {
      "cell_type": "code",
      "metadata": {
        "id": "zgevH11rSk2z",
        "colab_type": "code",
        "colab": {}
      },
      "source": [
        "#print(y_calc_test[17])\n",
        "#print(x_test.iloc[17,:])\n",
        "#print(y_test[17])"
      ],
      "execution_count": 0,
      "outputs": []
    },
    {
      "cell_type": "code",
      "metadata": {
        "id": "pgnkEwamTl3R",
        "colab_type": "code",
        "colab": {
          "base_uri": "https://localhost:8080/",
          "height": 263
        },
        "outputId": "bf1ca9ea-683b-42d9-9855-5767e582e63d"
      },
      "source": [
        "print(x_test)"
      ],
      "execution_count": 13,
      "outputs": [
        {
          "output_type": "stream",
          "text": [
            "     DI RELATIVO  FRAC Its  VELOC FOBJ  VELOC X  DELTA FOBJ  DELTA VX\n",
            "3      -0.948084 -0.243884         0.0      1.0         0.5       0.0\n",
            "12     -0.999895 -0.339206         1.0     -1.0         0.0      -1.0\n",
            "20     -0.263131 -0.476377         1.0     -1.0         0.5      -1.0\n",
            "29     -0.999962 -0.554429         1.0      0.0         0.0       0.0\n",
            "40     -0.912613 -0.185760         0.0     -1.0        -0.5      -0.5\n",
            "43     -1.000000  0.621325         1.0      0.0         0.0       0.0\n",
            "54      0.160038 -0.801636        -1.0     -1.0         0.0       0.0\n",
            "68      0.441227  0.023339        -1.0      1.0         0.0       1.0\n",
            "78     -0.093291  0.331073        -1.0     -1.0        -0.5       0.0\n",
            "105    -0.051790  0.531853         0.0      1.0         0.0       1.0\n",
            "115     0.073098  0.891151         0.0     -1.0         0.0      -1.0\n",
            "116     0.089921  1.000000         0.0     -1.0         0.0       0.0\n",
            "120     0.567726 -0.152356         0.0      1.0         0.0       1.0\n"
          ],
          "name": "stdout"
        }
      ]
    },
    {
      "cell_type": "code",
      "metadata": {
        "id": "5X0BYxxIdwGp",
        "colab_type": "code",
        "outputId": "11aea92e-b97b-451b-f690-f3bce3767581",
        "colab": {
          "base_uri": "https://localhost:8080/",
          "height": 283
        }
      },
      "source": [
        "plt.scatter(y_train,y_calc_train)\n",
        "plt.scatter(y_test,y_calc_test,color='r')\n",
        "plt.xlabel(\"True Resistance\")\n",
        "plt.ylabel(\"Estimated Resistence\")\n",
        "plt.xlim((-1,1))\n",
        "plt.ylim((-1,1))\n",
        "plt.show()"
      ],
      "execution_count": 17,
      "outputs": [
        {
          "output_type": "display_data",
          "data": {
            "image/png": "[encoded data removed]",
            "text/plain": [
              "<Figure size 432x288 with 1 Axes>"
            ]
          },
          "metadata": {
            "tags": []
          }
        }
      ]
    },
    {
      "cell_type": "code",
      "metadata": {
        "id": "DAkVQpS0NSPH",
        "colab_type": "code",
        "outputId": "7bc496ce-4f50-430c-d4d0-15df2db62345",
        "colab": {
          "base_uri": "https://localhost:8080/",
          "height": 52
        }
      },
      "source": [
        "mse=mean_squared_error(y_train,y_calc_train)\n",
        "print(\"MSE train=\",mse)\n",
        "R2=r2_score(y_train,y_calc_train)\n",
        "print(\"R^2 train=\",R2)"
      ],
      "execution_count": 15,
      "outputs": [
        {
          "output_type": "stream",
          "text": [
            "MSE train= 0.07694915228615617\n",
            "R^2 train= 0.44659053546667093\n"
          ],
          "name": "stdout"
        }
      ]
    },
    {
      "cell_type": "code",
      "metadata": {
        "id": "HK294XlqO71l",
        "colab_type": "code",
        "outputId": "800f9565-36a0-4015-d7fa-1579dd71764b",
        "colab": {
          "base_uri": "https://localhost:8080/",
          "height": 52
        }
      },
      "source": [
        "mse=mean_squared_error(y_test,y_calc_test)\n",
        "print(\"MSE teste=\",mse)\n",
        "R2=r2_score(y_test,y_calc_test)\n",
        "print(\"R^2 teste=\",R2)"
      ],
      "execution_count": 16,
      "outputs": [
        {
          "output_type": "stream",
          "text": [
            "MSE teste= 0.1051421124281663\n",
            "R^2 teste= -1.1858118984542085\n"
          ],
          "name": "stdout"
        }
      ]
    }
  ]
}