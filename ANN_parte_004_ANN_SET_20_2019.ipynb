{
  "nbformat": 4,
  "nbformat_minor": 0,
  "metadata": {
    "colab": {
      "name": "ANN_parte_004_ANN_SET_20_2019.ipynb",
      "provenance": [],
      "collapsed_sections": [],
      "include_colab_link": true
    },
    "kernelspec": {
      "name": "python3",
      "display_name": "Python 3"
    }
  },
  "cells": [
    {
      "cell_type": "markdown",
      "metadata": {
        "id": "view-in-github",
        "colab_type": "text"
      },
      "source": [
        "<a href=\"https://colab.research.google.com/github/ucfilho/ANN_raianars/blob/master/ANN_parte_004_ANN_SET_20_2019.ipynb\" target=\"_parent\"><img src=\"https://colab.research.google.com/assets/colab-badge.svg\" alt=\"Open In Colab\"/></a>"
      ]
    },
    {
      "cell_type": "code",
      "metadata": {
        "id": "IJMhyBoEZHIU",
        "colab_type": "code",
        "outputId": "dff4edae-c13d-4601-bb1d-2c29a69b0363",
        "colab": {
          "base_uri": "https://localhost:8080/",
          "height": 140
        }
      },
      "source": [
        "import numpy as np\n",
        "import pandas as pd\n",
        "import matplotlib.pyplot as plt\n",
        "from sklearn.neural_network import MLPRegressor\n",
        "from sklearn.metrics import mean_squared_error\n",
        "from sklearn.metrics import r2_score\n",
        "import statistics as st\n",
        "\n",
        "# este comando clona o diretorio github ucfilho/ANN no colaboratory research\n",
        "!git clone https://github.com/RaianaSeixas/ANN #clonar do Github\n",
        "%cd ANN\n",
        "!ls\n",
        "print(\"Hello world\"+\"\\n\"+\"I'm evolving!!!\"+\"\\n\")\n",
        "\n",
        "%matplotlib inline"
      ],
      "execution_count": 0,
      "outputs": [
        {
          "output_type": "stream",
          "text": [
            "fatal: destination path 'ANN' already exists and is not an empty directory.\n",
            "/content/ANN\n",
            "imput_ANN.zip\t\t X_DAT_set_17_2019.csv\t  Y_DAT_set_17_2019.csv\n",
            "X_DAT_B_set_17_2019.csv  Y_DAT_B_set_17_2019.csv\n",
            "Hello world\n",
            "I'm evolving!!!\n",
            "\n"
          ],
          "name": "stdout"
        }
      ]
    },
    {
      "cell_type": "code",
      "metadata": {
        "id": "qHm6yYSolUl2",
        "colab_type": "code",
        "colab": {}
      },
      "source": [
        "# funcao normatiza dados\n",
        "def Normatiza_old(x):\n",
        "    strings=list(x)\n",
        "    for i in strings:\n",
        "        max_x=x[i].max()\n",
        "        min_x=x[i].min()\n",
        "        a=(max_x+min_x)/2\n",
        "        b=(max_x-min_x)/2\n",
        "        x[i]=(x[i]-a)/b\n",
        "    return x"
      ],
      "execution_count": 0,
      "outputs": []
    },
    {
      "cell_type": "code",
      "metadata": {
        "id": "RZeh90zpoFOV",
        "colab_type": "code",
        "colab": {}
      },
      "source": [
        "\n",
        "# funcao retorna os dados a forma original\n",
        "def Original_old(x,x_old):\n",
        "    strings=list(x)\n",
        "    for i in strings:\n",
        "        max_x=x_old[i].max()\n",
        "        min_x=x_old[i].min()\n",
        "        a=(max_x+min_x)/2\n",
        "        b=(max_x-min_x)/2\n",
        "        x[i]=x[i]*b+a\n",
        "    return x"
      ],
      "execution_count": 0,
      "outputs": []
    },
    {
      "cell_type": "code",
      "metadata": {
        "id": "PjwmvtglLAzW",
        "colab_type": "code",
        "colab": {}
      },
      "source": [
        "# funcao normatiza dados\n",
        "def Normatiza(x):\n",
        "    strings=list(x)\n",
        "    for i in strings:\n",
        "        sd_x=st.stdev(x[i])\n",
        "        mean_x=st.mean(x[i])\n",
        "        x[i]=(x[i]-mean_x)/sd_x\n",
        "    return x"
      ],
      "execution_count": 0,
      "outputs": []
    },
    {
      "cell_type": "code",
      "metadata": {
        "id": "G03aMmdqLBtZ",
        "colab_type": "code",
        "colab": {}
      },
      "source": [
        "# funcao retorna os dados a forma original\n",
        "def Original(x,x_old):\n",
        "    strings=list(x)\n",
        "    for i in strings:\n",
        "        sd_x=st.stdev(x_old[i])\n",
        "        mean_x=st.mean(x_old[i])\n",
        "        x[i]=x[i]*sd_x+mean_x\n",
        "    return x"
      ],
      "execution_count": 0,
      "outputs": []
    },
    {
      "cell_type": "code",
      "metadata": {
        "id": "68JOHC6Ozv6d",
        "colab_type": "code",
        "colab": {}
      },
      "source": [
        "# leitura dos dados\n",
        "DAT=pd.read_csv(\"X_DAT_B_set_17_2019.csv\")\n",
        "DAT_Y=pd.read_csv(\"Y_DAT_B_set_17_2019.csv\")"
      ],
      "execution_count": 0,
      "outputs": []
    },
    {
      "cell_type": "code",
      "metadata": {
        "id": "03h2UewffH9z",
        "colab_type": "code",
        "outputId": "b9ff66ec-47d3-46a4-d432-3e3aa7c744f4",
        "colab": {
          "base_uri": "https://localhost:8080/",
          "height": 34
        }
      },
      "source": [
        "strings=list(DAT_Y)\n",
        "print(strings)"
      ],
      "execution_count": 0,
      "outputs": [
        {
          "output_type": "stream",
          "text": [
            "['Unnamed: 0', 'NP', 'F', 'CR']\n"
          ],
          "name": "stdout"
        }
      ]
    },
    {
      "cell_type": "code",
      "metadata": {
        "id": "_vpQ5HTM06TE",
        "colab_type": "code",
        "outputId": "c338577f-968e-4dc7-d46e-917d877e5512",
        "colab": {
          "base_uri": "https://localhost:8080/",
          "height": 1000
        }
      },
      "source": [
        "DAT_OLD=[]\n",
        "DAT_OLD=DAT.copy()\n",
        "DAT=Normatiza(DAT)\n",
        "\n",
        "DAT_OLD_Y=[]\n",
        "DAT_OLD_Y=DAT_Y.copy()\n",
        "DAT_Y=Normatiza(DAT_Y)\n",
        "#print(DAT_Y['CR'])"
      ],
      "execution_count": 0,
      "outputs": [
        {
          "output_type": "stream",
          "text": [
            "0     -0.349210\n",
            "1     -0.508535\n",
            "2      0.148592\n",
            "3     -0.537278\n",
            "4      0.488985\n",
            "5     -0.801744\n",
            "6     -0.333114\n",
            "7      3.072158\n",
            "8     -0.575416\n",
            "9      0.149180\n",
            "10    -0.877515\n",
            "11    -0.290899\n",
            "12     1.242916\n",
            "13    -0.789390\n",
            "14     0.613784\n",
            "15    -0.498748\n",
            "16    -0.616004\n",
            "17     2.093398\n",
            "18    -0.349210\n",
            "19    -0.508535\n",
            "20     0.148592\n",
            "21    -0.537278\n",
            "22     0.488985\n",
            "23    -0.801744\n",
            "24    -0.333114\n",
            "25     3.072158\n",
            "26    -0.575416\n",
            "27     0.852377\n",
            "28    -0.918086\n",
            "29    -0.072706\n",
            "         ...   \n",
            "105   -0.724825\n",
            "106   -0.430156\n",
            "107    0.146358\n",
            "108   -0.528910\n",
            "109    1.343434\n",
            "110   -0.428950\n",
            "111   -0.444698\n",
            "112   -0.898176\n",
            "113    3.344671\n",
            "114   -0.697734\n",
            "115   -0.831149\n",
            "116   -0.081985\n",
            "117   -0.924251\n",
            "118   -0.366493\n",
            "119    0.123936\n",
            "120    0.661408\n",
            "121   -0.747111\n",
            "122    0.205297\n",
            "123   -0.930768\n",
            "124   -0.192121\n",
            "125   -0.085322\n",
            "126   -0.562990\n",
            "127   -0.080047\n",
            "128   -0.024075\n",
            "129   -0.578375\n",
            "130    0.350528\n",
            "131   -0.773445\n",
            "132   -0.295377\n",
            "133   -0.232071\n",
            "134    0.317316\n",
            "Name: CR, Length: 135, dtype: float64\n"
          ],
          "name": "stdout"
        }
      ]
    },
    {
      "cell_type": "code",
      "metadata": {
        "id": "T4LjgKXWffpf",
        "colab_type": "code",
        "colab": {}
      },
      "source": [
        "#for i in range(len(DAT_Y['CR'])):\n",
        "#  print(DAT_Y['NP'][i])"
      ],
      "execution_count": 0,
      "outputs": []
    },
    {
      "cell_type": "code",
      "metadata": {
        "id": "imns-oDDij3h",
        "colab_type": "code",
        "colab": {}
      },
      "source": [
        "#print(DAT_OLD_Y)\n",
        "#for i in range(len(DAT_Y['CR'])):\n",
        "#  print(DAT_Y['NP'][i])"
      ],
      "execution_count": 0,
      "outputs": []
    },
    {
      "cell_type": "code",
      "metadata": {
        "id": "A4LF09Cq0hJu",
        "colab_type": "code",
        "colab": {}
      },
      "source": [
        "# obtem as variaveis independentes (treino e teste)\n",
        "# separa os dados em treino e teste\n",
        "train=DAT.sample(frac=0.9,random_state=78) # poderia ser frac=0.5? sim ou nao?\n",
        "test=DAT.drop(train.index)\n",
        "x_train=train.iloc[:,[1,2,3,4,5,6]]\n",
        "x_test=test.iloc[:,[1,2,3,4,5,6]]\n",
        "X_OLD=DAT_OLD.iloc[:,[1,2,3,4,5,6]]\n",
        "#print(x_train)"
      ],
      "execution_count": 0,
      "outputs": []
    },
    {
      "cell_type": "code",
      "metadata": {
        "id": "ZSuUAFrL3E1C",
        "colab_type": "code",
        "colab": {}
      },
      "source": [
        "# obtem as variaveis dependentes (treino e teste)\n",
        "train=DAT_Y.sample(frac=0.9,random_state=878) # poderia ser frac=0.5? sim ou nao?\n",
        "test=DAT_Y.drop(train.index)\n",
        "Index=[3]\n",
        "y_train=train.iloc[:,Index]\n",
        "y_test=test.iloc[:,Index]\n",
        "Y_OLD=DAT_OLD.iloc[:,Index]\n",
        "#print(y_train)"
      ],
      "execution_count": 0,
      "outputs": []
    },
    {
      "cell_type": "code",
      "metadata": {
        "id": "juO0GhjjjgHu",
        "colab_type": "code",
        "outputId": "27ec6c75-281a-4573-8d69-32218e835a4c",
        "colab": {
          "base_uri": "https://localhost:8080/",
          "height": 34
        }
      },
      "source": [
        "Num=len(y_train)\n",
        "print(Num)\n"
      ],
      "execution_count": 0,
      "outputs": [
        {
          "output_type": "stream",
          "text": [
            "122\n"
          ],
          "name": "stdout"
        }
      ]
    },
    {
      "cell_type": "code",
      "metadata": {
        "id": "pDYAiMenkWta",
        "colab_type": "code",
        "colab": {}
      },
      "source": [
        "#for i in range(len(y_train)):\n",
        "#  print(y_train.iloc[i,0])"
      ],
      "execution_count": 0,
      "outputs": []
    },
    {
      "cell_type": "code",
      "metadata": {
        "id": "VstJi4hpkkq-",
        "colab_type": "code",
        "colab": {}
      },
      "source": [
        "#print(y_train)"
      ],
      "execution_count": 0,
      "outputs": []
    },
    {
      "cell_type": "code",
      "metadata": {
        "id": "LUn-XlUpkAU7",
        "colab_type": "code",
        "colab": {}
      },
      "source": [
        "#print(y_train)"
      ],
      "execution_count": 0,
      "outputs": []
    },
    {
      "cell_type": "code",
      "metadata": {
        "id": "I9f6rc8zd6fZ",
        "colab_type": "code",
        "colab": {}
      },
      "source": [
        "#print(DAT_Y)"
      ],
      "execution_count": 0,
      "outputs": []
    },
    {
      "cell_type": "code",
      "metadata": {
        "id": "WB50XJKNI22C",
        "colab_type": "code",
        "outputId": "5bffa8db-037f-4a6e-e0fe-485d33975f7f",
        "colab": {
          "base_uri": "https://localhost:8080/",
          "height": 72
        }
      },
      "source": [
        "# define a rede neural \n",
        "#clf = MLPRegressor(solver='lbfgs',activation='tanh',max_iter=500000,alpha=1e-5,\n",
        "clf = MLPRegressor(solver='lbfgs',activation='logistic',max_iter=500000,alpha=1e-5,\n",
        "                   hidden_layer_sizes=(8),#out_activation='purelin',\n",
        "                   random_state=None)\n",
        "# ??? self.out_activation_ = 'identity'\n",
        "# treina a rede neural\n",
        "clf.fit(x_train, y_train)\n",
        "\n",
        "# usa a rede neural treina em calculos para treino e teste\n",
        "y_calc_train=clf.predict(x_train)\n",
        "y_calc_test=clf.predict(x_test)"
      ],
      "execution_count": 0,
      "outputs": [
        {
          "output_type": "stream",
          "text": [
            "/usr/local/lib/python3.6/dist-packages/sklearn/neural_network/multilayer_perceptron.py:1321: DataConversionWarning: A column-vector y was passed when a 1d array was expected. Please change the shape of y to (n_samples, ), for example using ravel().\n",
            "  y = column_or_1d(y, warn=True)\n"
          ],
          "name": "stderr"
        }
      ]
    },
    {
      "cell_type": "code",
      "metadata": {
        "id": "OsVaUHcRWthz",
        "colab_type": "code",
        "colab": {}
      },
      "source": [
        "#print(clf)"
      ],
      "execution_count": 0,
      "outputs": []
    },
    {
      "cell_type": "code",
      "metadata": {
        "id": "xHxDN6iLLvA-",
        "colab_type": "code",
        "colab": {}
      },
      "source": [
        "#print(y_calc_test)\n"
      ],
      "execution_count": 0,
      "outputs": []
    },
    {
      "cell_type": "code",
      "metadata": {
        "id": "F3vbjaYoMQYu",
        "colab_type": "code",
        "outputId": "c9c1775e-ed34-40e4-f53c-bb0bf2d446cc",
        "colab": {
          "base_uri": "https://localhost:8080/",
          "height": 286
        }
      },
      "source": [
        "plt.scatter(y_train,y_calc_train)"
      ],
      "execution_count": 0,
      "outputs": [
        {
          "output_type": "execute_result",
          "data": {
            "text/plain": [
              "<matplotlib.collections.PathCollection at 0x7f07b15c4dd8>"
            ]
          },
          "metadata": {
            "tags": []
          },
          "execution_count": 19
        },
        {
          "output_type": "display_data",
          "data": {
            "image/png": "[encoded data removed]",
            "text/plain": [
              "<Figure size 432x288 with 1 Axes>"
            ]
          },
          "metadata": {
            "tags": []
          }
        }
      ]
    },
    {
      "cell_type": "code",
      "metadata": {
        "id": "x2rstqVtL_vy",
        "colab_type": "code",
        "outputId": "b3391502-1cf5-4d41-c522-901bdcaace58",
        "colab": {
          "base_uri": "https://localhost:8080/",
          "height": 286
        }
      },
      "source": [
        "plt.scatter(y_test,y_calc_test)"
      ],
      "execution_count": 0,
      "outputs": [
        {
          "output_type": "execute_result",
          "data": {
            "text/plain": [
              "<matplotlib.collections.PathCollection at 0x7f07aed57860>"
            ]
          },
          "metadata": {
            "tags": []
          },
          "execution_count": 20
        },
        {
          "output_type": "display_data",
          "data": {
            "image/png": "[encoded data removed]",
            "text/plain": [
              "<Figure size 432x288 with 1 Axes>"
            ]
          },
          "metadata": {
            "tags": []
          }
        }
      ]
    },
    {
      "cell_type": "code",
      "metadata": {
        "id": "3DeT4tMhPZDa",
        "colab_type": "code",
        "colab": {}
      },
      "source": [
        "#print(max(y_calc_test))\n",
        "#print(y_calc_test.index(max(y_calc_test)))\n",
        "#item=max(y_calc_test)\n",
        "#item_index = np.where(y_calc_test==item)\n",
        "#print(item_index)\n"
      ],
      "execution_count": 0,
      "outputs": []
    },
    {
      "cell_type": "code",
      "metadata": {
        "id": "zgevH11rSk2z",
        "colab_type": "code",
        "colab": {}
      },
      "source": [
        "#print(y_calc_test[17])\n",
        "#print(x_test.iloc[17,:])\n",
        "#print(y_test[17])"
      ],
      "execution_count": 0,
      "outputs": []
    },
    {
      "cell_type": "code",
      "metadata": {
        "id": "pgnkEwamTl3R",
        "colab_type": "code",
        "outputId": "68ebb5be-758a-4c2e-c5f6-525042ebc34e",
        "colab": {
          "base_uri": "https://localhost:8080/",
          "height": 263
        }
      },
      "source": [
        "print(x_test)"
      ],
      "execution_count": 0,
      "outputs": [
        {
          "output_type": "stream",
          "text": [
            "     DI RELATIVO  FRAC Its  VELOC FOBJ   VELOC X  DELTA FOBJ  DELTA VX\n",
            "3      -1.307837 -0.374641   -0.036178  1.001366    1.042963 -0.128829\n",
            "12     -1.393240 -0.542292    1.184827 -1.196754   -0.130370 -1.709913\n",
            "20     -0.178788 -0.783546    1.184827 -1.196754    1.042963 -1.709913\n",
            "29     -1.393350 -0.920822    1.184827 -0.097694   -0.130370 -0.128829\n",
            "40     -1.249369 -0.272415   -0.036178 -1.196754   -1.303704 -0.919371\n",
            "43     -1.393413  1.147071    1.184827 -0.097694   -0.130370 -0.128829\n",
            "54      0.518748 -1.355605   -1.257182 -1.196754   -0.130370 -0.128829\n",
            "68      0.982248  0.095345   -1.257182  1.001366   -0.130370  1.452255\n",
            "78      0.101170  0.636582   -1.257182 -1.196754   -1.303704 -0.128829\n",
            "105     0.169578  0.989709   -0.036178  1.001366   -0.130370  1.452255\n",
            "115     0.375438  1.621635   -0.036178 -1.196754   -0.130370 -1.709913\n",
            "116     0.403169  1.813076   -0.036178 -1.196754   -0.130370 -0.128829\n",
            "120     1.190764 -0.213664   -0.036178  1.001366   -0.130370  1.452255\n"
          ],
          "name": "stdout"
        }
      ]
    },
    {
      "cell_type": "code",
      "metadata": {
        "id": "5X0BYxxIdwGp",
        "colab_type": "code",
        "outputId": "c37a4b78-fbac-491f-ec58-9073a15d81bf",
        "colab": {
          "base_uri": "https://localhost:8080/",
          "height": 283
        }
      },
      "source": [
        "plt.scatter(y_train,y_calc_train)\n",
        "plt.scatter(y_test,y_calc_test,color='r')\n",
        "plt.xlabel(\"True Resistance\")\n",
        "plt.ylabel(\"Estimated Resistence\")\n",
        "plt.xlim((-1,1))\n",
        "plt.ylim((-1,1))\n",
        "plt.show()"
      ],
      "execution_count": 0,
      "outputs": [
        {
          "output_type": "display_data",
          "data": {
            "image/png": "[encoded data removed]",
            "text/plain": [
              "<Figure size 432x288 with 1 Axes>"
            ]
          },
          "metadata": {
            "tags": []
          }
        }
      ]
    },
    {
      "cell_type": "code",
      "metadata": {
        "id": "DAkVQpS0NSPH",
        "colab_type": "code",
        "outputId": "48e97ae0-155b-477c-e6fe-ea098dedb452",
        "colab": {
          "base_uri": "https://localhost:8080/",
          "height": 52
        }
      },
      "source": [
        "mse=mean_squared_error(y_train,y_calc_train)\n",
        "print(\"MSE train=\",mse)\n",
        "R2=r2_score(y_train,y_calc_train)\n",
        "print(\"R^2 train=\",R2)"
      ],
      "execution_count": 0,
      "outputs": [
        {
          "output_type": "stream",
          "text": [
            "MSE train= 0.35506440598776057\n",
            "R^2 train= 0.6602867463611584\n"
          ],
          "name": "stdout"
        }
      ]
    },
    {
      "cell_type": "code",
      "metadata": {
        "id": "HK294XlqO71l",
        "colab_type": "code",
        "outputId": "ed4f6100-2a9e-43f8-e3b7-19b6d3748b1f",
        "colab": {
          "base_uri": "https://localhost:8080/",
          "height": 52
        }
      },
      "source": [
        "mse=mean_squared_error(y_test,y_calc_test)\n",
        "print(\"MSE teste=\",mse)\n",
        "R2=r2_score(y_test,y_calc_test)\n",
        "print(\"R^2 teste=\",R2)"
      ],
      "execution_count": 0,
      "outputs": [
        {
          "output_type": "stream",
          "text": [
            "MSE teste= 2.0324234970506634\n",
            "R^2 teste= -3.539673717153965\n"
          ],
          "name": "stdout"
        }
      ]
    }
  ]
}