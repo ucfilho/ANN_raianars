{
  "nbformat": 4,
  "nbformat_minor": 0,
  "metadata": {
    "colab": {
      "name": "ANN_003_gera_matriz_classifica_OUT_18_2019.ipynb",
      "provenance": [],
      "collapsed_sections": [],
      "include_colab_link": true
    },
    "kernelspec": {
      "name": "python3",
      "display_name": "Python 3"
    }
  },
  "cells": [
    {
      "cell_type": "markdown",
      "metadata": {
        "id": "view-in-github",
        "colab_type": "text"
      },
      "source": [
        "<a href=\"https://colab.research.google.com/github/ucfilho/ANN_raianars/blob/master/ANN_003_gera_matriz_classifica_OUT_18_2019.ipynb\" target=\"_parent\"><img src=\"https://colab.research.google.com/assets/colab-badge.svg\" alt=\"Open In Colab\"/></a>"
      ]
    },
    {
      "cell_type": "code",
      "metadata": {
        "id": "IJMhyBoEZHIU",
        "colab_type": "code",
        "outputId": "f269a4fd-8d3f-4884-da4a-ff52f071a122",
        "colab": {
          "base_uri": "https://localhost:8080/",
          "height": 204
        }
      },
      "source": [
        "import numpy as np\n",
        "import pandas as pd\n",
        "import matplotlib.pyplot as plt\n",
        "from sklearn.metrics import confusion_matrix\n",
        "\n",
        "# este comando clona o diretorio github ucfilho/ANN no colaboratory research\n",
        "!git clone https://github.com/ucfilho/ANN_read_matrix #clonar do Github\n",
        "%cd ANN_read_matrix\n",
        "#!ls\n",
        "print(\"Hello world\"+\"\\n\"+\"I'm evolving!!!\"+\"\\n\")\n",
        "\n",
        "%matplotlib inline"
      ],
      "execution_count": 1,
      "outputs": [
        {
          "output_type": "stream",
          "text": [
            "Cloning into 'ANN_read_matrix'...\n",
            "remote: Enumerating objects: 9, done.\u001b[K\n",
            "remote: Counting objects: 100% (9/9), done.\u001b[K\n",
            "remote: Compressing objects: 100% (7/7), done.\u001b[K\n",
            "remote: Total 9 (delta 1), reused 0 (delta 0), pack-reused 0\n",
            "Unpacking objects: 100% (9/9), done.\n",
            "/content/ANN_read_matrix\n",
            "Hello world\n",
            "I'm evolving!!!\n",
            "\n"
          ],
          "name": "stdout"
        }
      ]
    },
    {
      "cell_type": "code",
      "metadata": {
        "id": "x09IGM7OYxpw",
        "colab_type": "code",
        "outputId": "0ce4346a-a58a-4671-e592-e2fb7dfe2376",
        "colab": {
          "base_uri": "https://localhost:8080/",
          "height": 36
        }
      },
      "source": [
        "!ls"
      ],
      "execution_count": 2,
      "outputs": [
        {
          "output_type": "stream",
          "text": [
            "ANN_2019-10-18_19h35min.csv  ANN_nova.csv  README.md\n"
          ],
          "name": "stdout"
        }
      ]
    },
    {
      "cell_type": "code",
      "metadata": {
        "id": "xPh9-Qc81nMS",
        "colab_type": "code",
        "colab": {}
      },
      "source": [
        "# Functions\n",
        "def sigmoid(x,deriv=False):\n",
        "    if(deriv==True):\n",
        "        return x*(1-x)\n",
        "    return 1/(1+np.exp(-x))\n",
        "\n",
        "def tasig(x,deriv=False):\n",
        "    if(deriv==True):\n",
        "        return 1-x*x\n",
        "    return 2/(1+np.exp(-2*x))-1\n",
        "\n",
        "# purelin function\n",
        "def purelin(x,deriv=False):\n",
        "    if(deriv==True):\n",
        "        return 1\n",
        "    #N=len(x)\n",
        "    #for i in range(N):\n",
        "      #if (x[i]>1):\n",
        "        #x[i]=1\n",
        "    return x"
      ],
      "execution_count": 0,
      "outputs": []
    },
    {
      "cell_type": "code",
      "metadata": {
        "id": "RepD-3pn1E-1",
        "colab_type": "code",
        "colab": {}
      },
      "source": [
        "# funcao normatiza dados\n",
        "def Normatiza(x):\n",
        "    strings=list(x)\n",
        "    for i in strings:\n",
        "        max_x=x[i].max()\n",
        "        min_x=x[i].min()\n",
        "        a=(max_x+min_x)/2\n",
        "        b=(max_x-min_x)/2\n",
        "        x[i]=(x[i]-a)/b\n",
        "    return x"
      ],
      "execution_count": 0,
      "outputs": []
    },
    {
      "cell_type": "code",
      "metadata": {
        "id": "aMUypVwa1RWF",
        "colab_type": "code",
        "colab": {}
      },
      "source": [
        "# funcao retorna os dados a forma original\n",
        "def Original(x,x_old):\n",
        "    strings=list(x)\n",
        "    for i in strings:\n",
        "        max_x=x_old[i].max()\n",
        "        min_x=x_old[i].min()\n",
        "        a=(max_x+min_x)/2\n",
        "        b=(max_x-min_x)/2\n",
        "        x[i]=x[i]*b+a\n",
        "    return x"
      ],
      "execution_count": 0,
      "outputs": []
    },
    {
      "cell_type": "code",
      "metadata": {
        "id": "aA6TlqJI0hdM",
        "colab_type": "code",
        "colab": {}
      },
      "source": [
        "def ANN_ycal(syn0,syn1,X_train):\n",
        "  l0 = X_train\n",
        "  l1 = tasig(np.dot(l0,syn0))\n",
        "  l2 = purelin(np.dot(l1,syn1))\n",
        "  y_calc=np.reshape(l2,len(l2))\n",
        "  return y_calc"
      ],
      "execution_count": 0,
      "outputs": []
    },
    {
      "cell_type": "code",
      "metadata": {
        "id": "a5W9iRbPkKsg",
        "colab_type": "code",
        "colab": {}
      },
      "source": [
        "def Classifica(ycalc):\n",
        "  n=len(ycalc)\n",
        "  for i in range(n):\n",
        "    if(ycalc[i]<0):\n",
        "      ycalc[i]=-1\n",
        "    else:\n",
        "      ycalc[i]=1\n",
        "  return ycalc"
      ],
      "execution_count": 0,
      "outputs": []
    },
    {
      "cell_type": "code",
      "metadata": {
        "id": "NEL03IsAOY-m",
        "colab_type": "code",
        "colab": {}
      },
      "source": [
        "def PrecisaoGlobal(tn, fp, fn, tp):\n",
        "  PrecGlob=(tn+tp)/(tn+ fp+ fn+ tp)\n",
        "  return PrecGlob"
      ],
      "execution_count": 0,
      "outputs": []
    },
    {
      "cell_type": "code",
      "metadata": {
        "id": "EzyC9O_NwhPC",
        "colab_type": "code",
        "colab": {
          "base_uri": "https://localhost:8080/",
          "height": 167
        },
        "outputId": "083174bb-01f2-4ed1-8d99-06c6b2f8d992"
      },
      "source": [
        "ANN=pd.read_csv('ANN_nova.csv')\n",
        "print(ANN)"
      ],
      "execution_count": 9,
      "outputs": [
        {
          "output_type": "stream",
          "text": [
            "    Unnamed: 0                                                  0\n",
            "0       Dummie                    ['hello pandas I am envolving']\n",
            "1         MAT0  [[ 1.44451624  0.29581803  1.87902294  1.29473...\n",
            "2         MAT1  [[ 3.98215379]\\n [-2.95853328]\\n [-2.19033257]...\n",
            "3          dim                                    [[4 9]\\n [9 1]]\n",
            "4  Conf_treino                                [[48  4]\\n [ 6 43]]\n",
            "5   Conf_teste                                    [[7 4]\\n [5 9]]\n",
            "6     precisao                                               0.64\n"
          ],
          "name": "stdout"
        }
      ]
    },
    {
      "cell_type": "code",
      "metadata": {
        "id": "nabBmTx_fiAa",
        "colab_type": "code",
        "outputId": "c34e1092-ffc4-48bd-dae7-aec0a0fe852c",
        "colab": {
          "base_uri": "https://localhost:8080/",
          "height": 503
        }
      },
      "source": [
        "#syn0=np.asarray(ANN.iloc[1][1])\n",
        "syn1=np.asarray(ANN.iloc[2][1])\n",
        "#len(syn0)\n",
        "#b=syn1+syn1\n",
        "#A=np.zeros()\n",
        "syn0=list(ANN.iloc[1][1])\n",
        "syn0=np.array(syn0)\n",
        "print(syn0)"
      ],
      "execution_count": 44,
      "outputs": [
        {
          "output_type": "stream",
          "text": [
            "['[' '[' ' ' '1' '.' '4' '4' '4' '5' '1' '6' '2' '4' ' ' ' ' '0' '.' '2'\n",
            " '9' '5' '8' '1' '8' '0' '3' ' ' ' ' '1' '.' '8' '7' '9' '0' '2' '2' '9'\n",
            " '4' ' ' ' ' '1' '.' '2' '9' '4' '7' '3' '7' '8' '8' ' ' '-' '3' '.' '3'\n",
            " '0' '8' '1' '5' '8' '3' '5' ' ' ' ' '2' '.' '3' '0' '2' '8' '5' '7' '0'\n",
            " '6' '\\n' ' ' ' ' '-' '0' '.' '1' '3' '5' '6' '8' '9' '5' '5' ' ' '-' '2'\n",
            " '.' '3' '2' '7' '3' '3' '9' '7' '9' ' ' ' ' '3' '.' '0' '1' '1' '4' '5'\n",
            " '8' '4' '2' ']' '\\n' ' ' '[' '-' '1' '.' '0' '4' '7' '0' '3' '3' '3' ' '\n",
            " ' ' '-' '0' '.' '0' '6' '1' '5' '1' '4' '3' '4' ' ' '-' '1' '.' '1' '7'\n",
            " '2' '3' '1' '1' '9' ' ' ' ' ' ' '0' '.' '1' '5' '4' '8' '0' '0' '0' '8'\n",
            " ' ' '-' '1' '.' '9' '7' '2' '9' '6' '5' '2' ' ' ' ' ' ' '1' '.' '7' '2'\n",
            " '9' '0' '3' '1' '3' '5' '\\n' ' ' ' ' ' ' '3' '.' '0' '1' '4' '6' '7' '0'\n",
            " '7' '9' ' ' '-' '0' '.' '8' '1' '7' '5' '8' '2' '8' '1' ' ' '-' '2' '.'\n",
            " '2' '7' '4' '3' '4' '4' '6' '4' ']' '\\n' ' ' '[' ' ' '1' '.' '1' '1' '6'\n",
            " '3' '6' '1' '4' '3' ' ' ' ' '2' '.' '5' '4' '1' '2' '2' '0' '8' ' ' ' '\n",
            " ' ' '1' '.' '9' '0' '0' '0' '5' '9' '0' '5' ' ' '-' '0' '.' '6' '8' '1'\n",
            " '2' '3' '5' '2' '6' ' ' '-' '2' '.' '4' '1' '9' '3' '6' '4' '1' '4' ' '\n",
            " '-' '0' '.' '2' '4' '4' '2' '8' '6' '3' '3' '\\n' ' ' ' ' '-' '2' '.' '1'\n",
            " '2' '0' '7' '7' '4' '5' '8' ' ' '-' '3' '.' '4' '4' '0' '8' '3' '9' '3'\n",
            " '6' ' ' ' ' '1' '.' '9' '5' '0' '7' '4' '4' '8' '9' ']' '\\n' ' ' '[' ' '\n",
            " '1' '.' '6' '6' '5' '5' '1' '5' '4' '8' ' ' ' ' '0' '.' '5' '1' '7' '9'\n",
            " '4' '1' '4' ' ' ' ' ' ' '0' '.' '3' '2' '7' '1' '0' '4' '5' '6' ' ' '-'\n",
            " '4' '.' '4' '0' '3' '4' '5' '1' '6' '8' ' ' ' ' '0' '.' '9' '8' '8' '3'\n",
            " '8' '9' '0' '3' ' ' '-' '0' '.' '8' '5' '0' '0' '8' '5' '5' '1' '\\n' ' '\n",
            " ' ' ' ' '1' '.' '8' '8' '5' '5' '5' '8' '3' '4' ' ' ' ' '0' '.' '1' '0'\n",
            " '9' '4' '7' '0' '7' '5' ' ' ' ' '4' '.' '7' '8' '7' '6' '1' '7' '7' '4'\n",
            " ']' ']']\n"
          ],
          "name": "stdout"
        }
      ]
    },
    {
      "cell_type": "code",
      "metadata": {
        "id": "NYrZjriCvrJd",
        "colab_type": "code",
        "colab": {}
      },
      "source": [
        "def ANN_ycal(syn0,syn1,X_train):\n",
        "  l0 = X_train\n",
        "  l1 = tasig(np.dot(l0,syn0))\n",
        "  l2 = purelin(np.dot(l1,syn1))\n",
        "  y_calc=np.reshape(l2,len(l2))\n",
        "  return y_calc"
      ],
      "execution_count": 0,
      "outputs": []
    }
  ]
}