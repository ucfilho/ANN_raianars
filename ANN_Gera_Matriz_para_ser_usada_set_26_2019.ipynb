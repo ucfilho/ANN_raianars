{
  "nbformat": 4,
  "nbformat_minor": 0,
  "metadata": {
    "colab": {
      "name": "ANN_Gera_Matriz_para_ser_usada_set_26_2019.ipynb",
      "provenance": [],
      "collapsed_sections": [],
      "include_colab_link": true
    },
    "kernelspec": {
      "name": "python3",
      "display_name": "Python 3"
    }
  },
  "cells": [
    {
      "cell_type": "markdown",
      "metadata": {
        "id": "view-in-github",
        "colab_type": "text"
      },
      "source": [
        "<a href=\"https://colab.research.google.com/github/ucfilho/ANN_raianars/blob/master/ANN_Gera_Matriz_para_ser_usada_set_26_2019.ipynb\" target=\"_parent\"><img src=\"https://colab.research.google.com/assets/colab-badge.svg\" alt=\"Open In Colab\"/></a>"
      ]
    },
    {
      "cell_type": "code",
      "metadata": {
        "id": "VNDZTKWUBOge",
        "colab_type": "code",
        "outputId": "a7e28808-fc0e-4cd4-be4b-6042c291f22a",
        "colab": {
          "base_uri": "https://localhost:8080/",
          "height": 145
        }
      },
      "source": [
        "############################### Importar códigos\n",
        "\n",
        "!git clone https://github.com/ucfilho/optim_raianars/ #clonar do Github"
      ],
      "execution_count": 9,
      "outputs": [
        {
          "output_type": "stream",
          "text": [
            "Cloning into 'optim_raianars'...\n",
            "remote: Enumerating objects: 22, done.\u001b[K\n",
            "remote: Counting objects:   4% (1/22)\u001b[K\rremote: Counting objects:   9% (2/22)\u001b[K\rremote: Counting objects:  13% (3/22)\u001b[K\rremote: Counting objects:  18% (4/22)\u001b[K\rremote: Counting objects:  22% (5/22)\u001b[K\rremote: Counting objects:  27% (6/22)\u001b[K\rremote: Counting objects:  31% (7/22)\u001b[K\rremote: Counting objects:  36% (8/22)\u001b[K\rremote: Counting objects:  40% (9/22)\u001b[K\rremote: Counting objects:  45% (10/22)\u001b[K\rremote: Counting objects:  50% (11/22)\u001b[K\rremote: Counting objects:  54% (12/22)\u001b[K\rremote: Counting objects:  59% (13/22)\u001b[K\rremote: Counting objects:  63% (14/22)\u001b[K\rremote: Counting objects:  68% (15/22)\u001b[K\rremote: Counting objects:  72% (16/22)\u001b[K\rremote: Counting objects:  77% (17/22)\u001b[K\rremote: Counting objects:  81% (18/22)\u001b[K\rremote: Counting objects:  86% (19/22)\u001b[K\rremote: Counting objects:  90% (20/22)\u001b[K\rremote: Counting objects:  95% (21/22)\u001b[K\rremote: Counting objects: 100% (22/22)\u001b[K\rremote: Counting objects: 100% (22/22), done.\u001b[K\n",
            "remote: Compressing objects:   4% (1/22)\u001b[K\rremote: Compressing objects:   9% (2/22)\u001b[K\rremote: Compressing objects:  13% (3/22)\u001b[K\rremote: Compressing objects:  18% (4/22)\u001b[K\rremote: Compressing objects:  22% (5/22)\u001b[K\rremote: Compressing objects:  27% (6/22)\u001b[K\rremote: Compressing objects:  31% (7/22)\u001b[K\rremote: Compressing objects:  36% (8/22)\u001b[K\rremote: Compressing objects:  40% (9/22)\u001b[K\rremote: Compressing objects:  45% (10/22)\u001b[K\rremote: Compressing objects:  50% (11/22)\u001b[K\rremote: Compressing objects:  54% (12/22)\u001b[K\rremote: Compressing objects:  59% (13/22)\u001b[K\rremote: Compressing objects:  63% (14/22)\u001b[K\rremote: Compressing objects:  68% (15/22)\u001b[K\rremote: Compressing objects:  72% (16/22)\u001b[K\rremote: Compressing objects:  77% (17/22)\u001b[K\rremote: Compressing objects:  81% (18/22)\u001b[K\rremote: Compressing objects:  86% (19/22)\u001b[K\rremote: Compressing objects:  90% (20/22)\u001b[K\rremote: Compressing objects:  95% (21/22)\u001b[K\rremote: Compressing objects: 100% (22/22)\u001b[K\rremote: Compressing objects: 100% (22/22), done.\u001b[K\n",
            "Receiving objects:   0% (1/443)   \rReceiving objects:   1% (5/443)   \rReceiving objects:   2% (9/443)   \rReceiving objects:   3% (14/443)   \rReceiving objects:   4% (18/443)   \rReceiving objects:   5% (23/443)   \rReceiving objects:   6% (27/443)   \rReceiving objects:   7% (32/443)   \rReceiving objects:   8% (36/443)   \rReceiving objects:   9% (40/443)   \rReceiving objects:  10% (45/443)   \rReceiving objects:  11% (49/443)   \rReceiving objects:  12% (54/443)   \rReceiving objects:  13% (58/443)   \rReceiving objects:  14% (63/443)   \rReceiving objects:  15% (67/443)   \rReceiving objects:  16% (71/443)   \rReceiving objects:  17% (76/443)   \rReceiving objects:  18% (80/443)   \rReceiving objects:  19% (85/443)   \rReceiving objects:  20% (89/443)   \rReceiving objects:  21% (94/443)   \rReceiving objects:  22% (98/443)   \rReceiving objects:  23% (102/443)   \rReceiving objects:  24% (107/443)   \rReceiving objects:  25% (111/443)   \rReceiving objects:  26% (116/443)   \rReceiving objects:  27% (120/443)   \rReceiving objects:  28% (125/443)   \rReceiving objects:  29% (129/443)   \rReceiving objects:  30% (133/443)   \rReceiving objects:  31% (138/443)   \rReceiving objects:  32% (142/443)   \rReceiving objects:  33% (147/443)   \rReceiving objects:  34% (151/443)   \rReceiving objects:  35% (156/443)   \rReceiving objects:  36% (160/443)   \rReceiving objects:  37% (164/443)   \rReceiving objects:  38% (169/443)   \rReceiving objects:  39% (173/443)   \rReceiving objects:  40% (178/443)   \rReceiving objects:  41% (182/443)   \rReceiving objects:  42% (187/443)   \rReceiving objects:  43% (191/443)   \rReceiving objects:  44% (195/443)   \rReceiving objects:  45% (200/443)   \rReceiving objects:  46% (204/443)   \rReceiving objects:  47% (209/443)   \rReceiving objects:  48% (213/443)   \rReceiving objects:  49% (218/443)   \rReceiving objects:  50% (222/443)   \rReceiving objects:  51% (226/443)   \rReceiving objects:  52% (231/443)   \rReceiving objects:  53% (235/443)   \rReceiving objects:  54% (240/443)   \rReceiving objects:  55% (244/443)   \rReceiving objects:  56% (249/443)   \rReceiving objects:  57% (253/443)   \rReceiving objects:  58% (257/443)   \rReceiving objects:  59% (262/443)   \rReceiving objects:  60% (266/443)   \rReceiving objects:  61% (271/443)   \rReceiving objects:  62% (275/443)   \rReceiving objects:  63% (280/443)   \rReceiving objects:  64% (284/443)   \rReceiving objects:  65% (288/443)   \rReceiving objects:  66% (293/443)   \rReceiving objects:  67% (297/443)   \rReceiving objects:  68% (302/443)   \rReceiving objects:  69% (306/443)   \rReceiving objects:  70% (311/443)   \rReceiving objects:  71% (315/443)   \rReceiving objects:  72% (319/443)   \rReceiving objects:  73% (324/443)   \rReceiving objects:  74% (328/443)   \rReceiving objects:  75% (333/443)   \rReceiving objects:  76% (337/443)   \rReceiving objects:  77% (342/443)   \rReceiving objects:  78% (346/443)   \rReceiving objects:  79% (350/443)   \rReceiving objects:  80% (355/443)   \rReceiving objects:  81% (359/443)   \rReceiving objects:  82% (364/443)   \rReceiving objects:  83% (368/443)   \rReceiving objects:  84% (373/443)   \rReceiving objects:  85% (377/443)   \rReceiving objects:  86% (381/443)   \rReceiving objects:  87% (386/443)   \rReceiving objects:  88% (390/443)   \rReceiving objects:  89% (395/443)   \rReceiving objects:  90% (399/443)   \rReceiving objects:  91% (404/443)   \rReceiving objects:  92% (408/443)   \rReceiving objects:  93% (412/443)   \rReceiving objects:  94% (417/443)   \rReceiving objects:  95% (421/443)   \rReceiving objects:  96% (426/443)   \rReceiving objects:  97% (430/443)   \rremote: Total 443 (delta 10), reused 0 (delta 0), pack-reused 421\u001b[K\n",
            "Receiving objects:  98% (435/443)   \rReceiving objects:  99% (439/443)   \rReceiving objects: 100% (443/443)   \rReceiving objects: 100% (443/443), 486.78 KiB | 11.32 MiB/s, done.\n",
            "Resolving deltas:   0% (0/242)   \rResolving deltas:   1% (3/242)   \rResolving deltas:  27% (67/242)   \rResolving deltas:  45% (110/242)   \rResolving deltas:  49% (120/242)   \rResolving deltas:  50% (122/242)   \rResolving deltas:  52% (126/242)   \rResolving deltas:  53% (129/242)   \rResolving deltas:  54% (131/242)   \rResolving deltas:  56% (137/242)   \rResolving deltas:  57% (139/242)   \rResolving deltas:  58% (142/242)   \rResolving deltas:  59% (145/242)   \rResolving deltas:  62% (152/242)   \rResolving deltas:  64% (156/242)   \rResolving deltas:  71% (174/242)   \rResolving deltas:  78% (191/242)   \rResolving deltas:  81% (198/242)   \rResolving deltas:  87% (211/242)   \rResolving deltas:  88% (214/242)   \rResolving deltas:  91% (222/242)   \rResolving deltas:  92% (223/242)   \rResolving deltas:  94% (229/242)   \rResolving deltas:  96% (233/242)   \rResolving deltas: 100% (242/242)   \rResolving deltas: 100% (242/242), done.\n"
          ],
          "name": "stdout"
        }
      ]
    },
    {
      "cell_type": "code",
      "metadata": {
        "id": "btZL0H3XBPx-",
        "colab_type": "code",
        "outputId": "5e0b83da-d578-4ef5-d236-dcc5b9fa22cf",
        "colab": {
          "base_uri": "https://localhost:8080/",
          "height": 35
        }
      },
      "source": [
        "%cd optim_raianars\n",
        "#!ls"
      ],
      "execution_count": 10,
      "outputs": [
        {
          "output_type": "stream",
          "text": [
            "/content/optim_raianars/optim_raianars\n"
          ],
          "name": "stdout"
        }
      ]
    },
    {
      "cell_type": "code",
      "metadata": {
        "id": "Cpua4Oip40ix",
        "colab_type": "code",
        "colab": {}
      },
      "source": [
        "############################### Importar bibliotecas e iniciar a contagem do tempo\n",
        "import pandas as pd\n",
        "import time\n",
        "import matplotlib.pyplot as plt\n",
        "import numpy as np\n",
        "from random import randint\n",
        "from scipy import optimize\n",
        "############################### Importar códigos\n",
        "'''\n",
        "!git clone https://github.com/RaianaSeixas/GERENCIADOR.git #clonar do Github\n",
        "\n",
        "# %cd\n",
        "# %cd /content/GERENCIADOR\n",
        "!ls\n",
        "'''\n",
        "############################### DADOS DE ENTRADA \n",
        "RUNS=1 #NÚMERO DE RODADAS\n",
        "mut=0.5\n",
        "crossp=0.5\n",
        "############################### Função\n",
        "import Function\n",
        "\n",
        "'''\n",
        "Fun=Function.Rosenbrock\n",
        "dim=30\n",
        "MAX=np.repeat(10,dim)\n",
        "MIN=np.repeat(-10,dim)\n",
        "#MAX=[30,30] # MAXIMO DE CADA PARAMETRO\n",
        "#MIN=[-30,-30] # MINIMO DE CADA PARAMETRO\n",
        "  #Global optimum: f(xi)= 0\n",
        "'''\n",
        "'''\n",
        "dim=2\n",
        "Fun=Function.Sphere\n",
        "MAX=np.repeat(5.12,dim)\n",
        "MIN=np.repeat(-5.12,dim)\n",
        "  # f(x)=0 x=(0,0) [-5.12,5.12]\n",
        "'''\n",
        "'''\n",
        "dim=2\n",
        "Fun=Function.Shubert\n",
        "MAX=[10,10] # MAXIMO DE CADA PARAMETRO\n",
        "MIN=[-10,-10] # MINIMO DE CADA PARAMETRO\n",
        "  # Global Minimum: -186.7309 ; xi ∈ [-10,10]\n",
        "'''\n",
        "#'''\n",
        "dim=2\n",
        "Fun=Function.Schwefel\n",
        "MAX=np.repeat(500,dim)\n",
        "MIN=np.repeat(-500,dim)\n",
        "  #Global optimum: f(xi)= 0 for xi = 420.968746 for i=1,...,n  ;  xi in [-500,500]  \n",
        "#'''\n",
        "'''\n",
        "dim=30\n",
        "Fun=Function.Rastrigin\n",
        "MAX=np.repeat(5.12,dim)\n",
        "MIN=np.repeat(-5.12,dim)\n",
        "  # f(x)=0 x=(0,0) [-5.12,5.12]\n",
        "'''\n",
        "\n",
        "PAR=len(MAX) #NUM DE PARAMETROS A SER OTIMIZADOS\n",
        "\n",
        "##################################### IMPORTAR MÓDULOS\n",
        "\n",
        "import de_indices_ago_30_2019\n",
        "\n",
        "\n",
        "\n",
        "dimensions=len(MAX)\n",
        "\n",
        "start_time = time.time() #INICIALIZA CONTAGEM DO TEMPO\n",
        "its=10 # quantas vezes vai usar o NPAR antes de alterar de novo\n",
        "ITE=10 # PONTOS quantas vezes vai alteral NPAR\n",
        "\n",
        "TOTAL=10*dim*its*ITE\n",
        "SOMA=0\n",
        "\n",
        "PARTIC=np.zeros(ITE)\n"
      ],
      "execution_count": 0,
      "outputs": []
    },
    {
      "cell_type": "code",
      "metadata": {
        "id": "KQVX1hnp_W0M",
        "colab_type": "code",
        "outputId": "6b234d5a-b11d-48cb-8319-380949b643a4",
        "colab": {
          "base_uri": "https://localhost:8080/",
          "height": 456
        }
      },
      "source": [
        "DATA=[22 ,16 ,6 ,10 ,19 ,9 ,22 ,16 ,13 ,17 ,0.852350984569011 ,0.7887474163135606 ,0.8101193731115368 ,0.8619013662681033 ,0.5887443445765942 ,0.9650641807673199 ,0.7570772275766064 ,0.9849161153530999 ,0.8789820920966226 ,0.4601980329053122 ,0.5068485611467821 ,0.30350027590701667 ,0.9592571435936368 ,0.8802138632170129 ,0.2828434875076004 ,0.6538564492652195 ,0.2864580827895654 ,0.3511517447914563 ,0.5311041173685932 ,0.12545827506105856 ,]\n",
        "\n",
        "PARTIC=DATA[0:10]\n",
        "Fi=DATA[10:20]\n",
        "CRi=DATA[20:30]\n",
        "\n",
        "P=np.array(PARTIC)\n",
        "NMAX=P.max() # maximo tamanho da populacao\n",
        "\n",
        "'''DAT=pd.read_csv('RAIANA_TESTE_TRANSFERE_SET_04_2019.csv')\n",
        "Fi=np.array(DAT['F'])\n",
        "CRi=np.array(DAT['CR'])'''\n",
        "\n",
        "QUANT=15 # quantos indices esta fazendo\n",
        "MAT_IND=np.zeros((len(PARTIC),QUANT))\n",
        "MAT_INDi=np.zeros((len(PARTIC),QUANT))\n",
        "SOLUCOES=np.zeros((len(PARTIC),dimensions))\n",
        "SOLUCOESi=np.zeros((len(PARTIC),dimensions))\n",
        "\n",
        "REF=0.1 # REFERENCIA DE DIFERENCAS ENTRE OS ELEMENTOS\n",
        "\n",
        "'''for k in range(ITE):\n",
        "    NPAR=np.copy(int(PARTIC[k]))\n",
        "    \n",
        "    X,BEST,FOBEST,XY,BEST_XY,SOMA,INDICE= de_indices_ago_30_2019.de(MAX,MIN, mut, crossp, NPAR, its,Fun,X,SOMA,TOTAL,QUANT) \n",
        "    MAT_INDi[k,:]=INDICE\n",
        "    SOLUCOESi[k,:]=BEST\n",
        "    MAT_INDi[k,2]=SOMA/TOTAL\n",
        "    MAT_INDi[k,1]=INDICE[0]/DI_ini\n",
        "    MAT_INDi[k,3]=FOBEST'''\n",
        "\n",
        "FOBESTm=1e99\n",
        "  \n",
        "for j in range (RUNS):\n",
        "  \n",
        "    SOMA=0\n",
        "    \n",
        "    pop = np.random.rand(NMAX, dimensions)\n",
        "    diff=np.zeros(PAR)\n",
        "    for ii in range(PAR):\n",
        "      diff[ii] = MAX[ii]-MIN[ii]\n",
        "    X = MIN + pop * diff\n",
        "    \n",
        "    soma=0\n",
        "    for j in range(PAR):\n",
        "      for i in range(PARTIC[0]):\n",
        "        Xj=np.mean(X[:,j])\n",
        "        soma=soma+(X[i,j]-Xj)**2\n",
        "      DI_ini=(soma/PARTIC[0])**0.5\n",
        "      \n",
        "    for k in range(ITE):\n",
        "        NPAR=np.copy(int(PARTIC[k]))\n",
        "        mut=np.copy(Fi[k])\n",
        "        crossp=np.copy(CRi[k])\n",
        "        \n",
        "        X,BEST,FOBEST,XY,BEST_XY,SOMA,INDICE= de_indices_ago_30_2019.de(MAX,MIN, mut, crossp, NPAR, its,Fun,X,SOMA,TOTAL,QUANT)\n",
        "        Lin=len(XY[:,0])\n",
        "        Col=len(XY[0,:])\n",
        " \n",
        "                \n",
        "        MAT_IND[k,:]=INDICE\n",
        "        SOLUCOES[k,:]=BEST\n",
        "        MAT_IND[k,2]=SOMA/TOTAL\n",
        "        MAT_IND[k,1]=INDICE[0]/DI_ini\n",
        "        MAT_IND[k,3]=FOBEST\n",
        "        MAT_IND[k,3]=FOBEST\n",
        "        MAT_IND[k,8]=XY[0,(Col-1)]\n",
        "        MAT_IND[k,9]=XY[(Lin-1),(Col-1)]\n",
        "\n",
        "        #print(\"============\",XY[(Lin-1),(Col-1)],\"====================\")\n",
        "    \n",
        "    if FOBEST<FOBESTm:\n",
        "      FOBESTm=np.copy(FOBEST)\n",
        "      BESTm=np.copy(BEST)\n",
        "      \n",
        "      MAT_IND[k,:]=INDICE\n",
        "      SOLUCOES[k,:]=BEST\n",
        "      MAT_IND[k,2]=SOMA/TOTAL\n",
        "      MAT_IND[k,1]=INDICE[0]/DI_ini\n",
        "      MAT_IND[k,3]=FOBEST\n",
        "\n",
        "        \n",
        "\n",
        "    #print(\"Soma=\",SOMA)\n",
        "    #print(\"GlobalParam e Solucao:\", BEST,\"Funcao=\",FOBEST)\n",
        "AUX=[]    \n",
        "AUX= np.copy(MAT_IND)   \n",
        "for i in range(1,len(PARTIC)):\n",
        "  V1=AUX[i-1,3]\n",
        "  V2=AUX[i,3]\n",
        "  A=2*V2\n",
        "  #print(V1,V2,A)\n",
        "  if(V1 > A):\n",
        "    MAT_IND[i,3]=2 # o valor de fobj torna pelo menos duas vezes melhor\n",
        "  elif (V2==V1):\n",
        "    MAT_IND[i,3]=0 # o valor de fobj nao altera\n",
        "  else:\n",
        "    MAT_IND[i,3]=1 # o valor de fobj melhora mas menos que duas vezes\n",
        "  MAT_IND[k,8]=XY[0,(Col-1)]\n",
        "  MAT_IND[k,9]=XY[(Lin-1),(Col-1)]\n",
        "\n",
        "  dimensions\n",
        "  DELTA=[]\n",
        "  DELTA=np.amax(abs(SOLUCOES[i-1,:]-SOLUCOES[i,:]))\n",
        "  #print(SOLUCOES[i-1,:])\n",
        "  #print(SOLUCOES[i,:])\n",
        "  #print(DELTA)\n",
        "  if( DELTA >REF):\n",
        "    MAT_IND[i,4]=2 # diferenca entre as posicoes do xbest maior que ref\n",
        "  elif ( DELTA == 0):\n",
        "    MAT_IND[i,4]=0 # sem diferenca entre as posicoes do xbest entre duas buscas\n",
        "  else:\n",
        "    MAT_IND[i,4]=1 # diferenca entre as posicoes do xbest menor que ref\n",
        "\n",
        "#print(MAT_IND)\n",
        "\n",
        "for i in range(len(PARTIC)):\n",
        "    MAT_IND[i,5]=int(PARTIC[i]) \n",
        "    MAT_IND[i,6]=Fi[i]\n",
        "    MAT_IND[i,7]=CRi[i] \n",
        "\n",
        "MAT_IND[0,3]=0 \n",
        "  \n",
        "NOMES=['DIVERSIDADE (DI)',  'DI RELATIVO','FRAC Its','VELOC FOBJ','VELOC X',\n",
        "       'NP','F','CR','fmin','fmax','AD_fmin','AD_fmax']\n",
        "INPUT=len(NOMES) # QUANTOS VALORES DE ENTRADA PARA REDE     \n",
        "IND=range(INPUT)\n",
        "print(\"GlobalParam e Solucao:\", BEST,\"Funcao=\",FOBESTm)\n",
        "\n",
        "for k in range(len(PARTIC)):\n",
        "  MAT_IND[k,10]=MAT_IND[k,8]/MAT_IND[0,8]\n",
        "  MAT_IND[k,11]=MAT_IND[k,9]/MAT_IND[0,9]\n",
        "\n",
        "df = pd.DataFrame(MAT_IND[:,IND], columns=NOMES)\n",
        "pd.set_option('display.max_rows', INPUT)\n",
        "#pd.set_option('display.max_colwidth', -1)\n",
        "#print(MAT_IND[:,IND])\n",
        "\n",
        "\n",
        "pd.set_option('display.max_columns', 30)\n",
        "pd.set_option('display.max_rows', 30)\n",
        "print(df)\n",
        "#print(SOLUCOES)"
      ],
      "execution_count": 12,
      "outputs": [
        {
          "output_type": "stream",
          "text": [
            "GlobalParam e Solucao: [420.96874846 420.96874632] Funcao= 7.958078640513122e-13\n",
            "   DIVERSIDADE (DI)   DI RELATIVO  FRAC Its  VELOC FOBJ  VELOC X    NP  \\\n",
            "0        553.375128  1.318549e+00     0.110         0.0      0.0  22.0   \n",
            "1        392.268389  9.346738e-01     0.190         2.0      2.0  16.0   \n",
            "2          0.199321  4.749314e-04     0.220         1.0      2.0   6.0   \n",
            "3          0.247139  5.888686e-04     0.270         2.0      2.0  10.0   \n",
            "4        256.782818  6.118469e-01     0.365         1.0      1.0  19.0   \n",
            "5          0.023252  5.540448e-05     0.410         2.0      1.0   9.0   \n",
            "6          0.008211  1.956448e-05     0.520         1.0      1.0  22.0   \n",
            "7          0.001260  3.001233e-06     0.600         2.0      1.0  16.0   \n",
            "8          0.000244  5.814910e-07     0.665         2.0      1.0  13.0   \n",
            "9          0.000017  4.041817e-08     0.750         2.0      1.0  17.0   \n",
            "\n",
            "          F        CR          fmin          fmax       AD_fmin       AD_fmax  \n",
            "0  0.852351  0.506849  8.115086e+00  5.450371e+02  1.000000e+00  1.000000e+00  \n",
            "1  0.788747  0.303500  3.073273e-01  2.567524e+02  3.787110e-02  4.710733e-01  \n",
            "2  0.810119  0.959257  1.574082e-01  3.073273e-01  1.939699e-02  5.638649e-04  \n",
            "3  0.861901  0.880214  1.370188e-04  2.208127e-02  1.688446e-05  4.051333e-05  \n",
            "4  0.588744  0.282843  9.778933e-05  2.383937e+02  1.205031e-05  4.373900e-01  \n",
            "5  0.965064  0.653856  1.019166e-07  2.560690e-04  1.255891e-08  4.698194e-07  \n",
            "6  0.757077  0.286458  6.540745e-08  3.783972e-05  8.059982e-09  6.942596e-08  \n",
            "7  0.984916  0.351152  4.172534e-09  1.804173e-06  5.141701e-10  3.310184e-09  \n",
            "8  0.878982  0.531104  3.444711e-10  3.700745e-08  4.244824e-11  6.789897e-11  \n",
            "9  0.460198  0.125458  7.958079e-13  1.878107e-10  9.806524e-14  3.445833e-13  \n"
          ],
          "name": "stdout"
        }
      ]
    },
    {
      "cell_type": "code",
      "metadata": {
        "id": "jc9u89d9X0rL",
        "colab_type": "code",
        "colab": {}
      },
      "source": [
        "NOMES_new=['DIVERSIDADE (DI)',  'DI RELATIVO','FRAC Its',\n",
        "           'VELOC FOBJ','VELOC X','NP','Fo','CRo','fmin','fmax',\n",
        "           'AD_fmin','AD_fmax','F','CR']"
      ],
      "execution_count": 0,
      "outputs": []
    },
    {
      "cell_type": "code",
      "metadata": {
        "id": "wkVidcPCOJ7T",
        "colab_type": "code",
        "colab": {}
      },
      "source": [
        "rows=len(PARTIC)-1\n",
        "cols=len(NOMES_new)\n",
        "MAT_IND_NEW=np.zeros((rows,cols))\n",
        "for k in range(rows):\n",
        "  MAT_IND_NEW[k,range(len(NOMES))]=MAT_IND[k+1,range(len(NOMES))]\n",
        "  MAT_IND_NEW[k,6]=MAT_IND[k,6]\n",
        "  MAT_IND_NEW[k,7]=MAT_IND[k,7]\n",
        "  MAT_IND_NEW[k,12]=MAT_IND[k+1,6]\n",
        "  MAT_IND_NEW[k,13]=MAT_IND[k+1,7]"
      ],
      "execution_count": 0,
      "outputs": []
    },
    {
      "cell_type": "code",
      "metadata": {
        "id": "D9FJctSSVFaK",
        "colab_type": "code",
        "colab": {
          "base_uri": "https://localhost:8080/",
          "height": 90
        },
        "outputId": "f32426dd-3ab1-4ca4-95dc-8fde00509d6e"
      },
      "source": [
        "print(len(MAT_IND_NEW[:,0]))\n",
        "print(len(MAT_IND_NEW[0,:]))\n",
        "print(len(NOMES_new))\n",
        "print(cols)"
      ],
      "execution_count": 15,
      "outputs": [
        {
          "output_type": "stream",
          "text": [
            "9\n",
            "14\n",
            "14\n",
            "14\n"
          ],
          "name": "stdout"
        }
      ]
    },
    {
      "cell_type": "code",
      "metadata": {
        "id": "hr6KRnUjKnI2",
        "colab_type": "code",
        "colab": {
          "base_uri": "https://localhost:8080/",
          "height": 620
        },
        "outputId": "2ce8ce40-7886-4ceb-eb8f-879709d87358"
      },
      "source": [
        "\n",
        "IND=len(NOMES_new)\n",
        "print(IND)\n",
        "df_new = pd.DataFrame(MAT_IND_NEW, columns=NOMES_new)\n",
        "pd.set_option('display.max_rows', IND)\n",
        "pd.set_option('display.max_columns', 30)\n",
        "pd.set_option('display.max_rows', 30)\n",
        "print(df_new)"
      ],
      "execution_count": 16,
      "outputs": [
        {
          "output_type": "stream",
          "text": [
            "14\n",
            "   DIVERSIDADE (DI)   DI RELATIVO  FRAC Its  VELOC FOBJ  VELOC X    NP  \\\n",
            "0        392.268389  9.346738e-01     0.190         2.0      2.0  16.0   \n",
            "1          0.199321  4.749314e-04     0.220         1.0      2.0   6.0   \n",
            "2          0.247139  5.888686e-04     0.270         2.0      2.0  10.0   \n",
            "3        256.782818  6.118469e-01     0.365         1.0      1.0  19.0   \n",
            "4          0.023252  5.540448e-05     0.410         2.0      1.0   9.0   \n",
            "5          0.008211  1.956448e-05     0.520         1.0      1.0  22.0   \n",
            "6          0.001260  3.001233e-06     0.600         2.0      1.0  16.0   \n",
            "7          0.000244  5.814910e-07     0.665         2.0      1.0  13.0   \n",
            "8          0.000017  4.041817e-08     0.750         2.0      1.0  17.0   \n",
            "\n",
            "         Fo       CRo          fmin          fmax       AD_fmin       AD_fmax  \\\n",
            "0  0.852351  0.506849  3.073273e-01  2.567524e+02  3.787110e-02  4.710733e-01   \n",
            "1  0.788747  0.303500  1.574082e-01  3.073273e-01  1.939699e-02  5.638649e-04   \n",
            "2  0.810119  0.959257  1.370188e-04  2.208127e-02  1.688446e-05  4.051333e-05   \n",
            "3  0.861901  0.880214  9.778933e-05  2.383937e+02  1.205031e-05  4.373900e-01   \n",
            "4  0.588744  0.282843  1.019166e-07  2.560690e-04  1.255891e-08  4.698194e-07   \n",
            "5  0.965064  0.653856  6.540745e-08  3.783972e-05  8.059982e-09  6.942596e-08   \n",
            "6  0.757077  0.286458  4.172534e-09  1.804173e-06  5.141701e-10  3.310184e-09   \n",
            "7  0.984916  0.351152  3.444711e-10  3.700745e-08  4.244824e-11  6.789897e-11   \n",
            "8  0.878982  0.531104  7.958079e-13  1.878107e-10  9.806524e-14  3.445833e-13   \n",
            "\n",
            "          F        CR  \n",
            "0  0.788747  0.303500  \n",
            "1  0.810119  0.959257  \n",
            "2  0.861901  0.880214  \n",
            "3  0.588744  0.282843  \n",
            "4  0.965064  0.653856  \n",
            "5  0.757077  0.286458  \n",
            "6  0.984916  0.351152  \n",
            "7  0.878982  0.531104  \n",
            "8  0.460198  0.125458  \n"
          ],
          "name": "stdout"
        }
      ]
    },
    {
      "cell_type": "code",
      "metadata": {
        "id": "eNXLWowNWlLE",
        "colab_type": "code",
        "colab": {
          "base_uri": "https://localhost:8080/",
          "height": 90
        },
        "outputId": "f62c9e20-ddc3-483c-c10f-956f4ee2000c"
      },
      "source": [
        "print(len(MAT_IND_NEW[:,0]))\n",
        "print(len(MAT_IND_NEW[0,:]))\n",
        "print(len(NOMES_new))\n",
        "print(cols)"
      ],
      "execution_count": 17,
      "outputs": [
        {
          "output_type": "stream",
          "text": [
            "9\n",
            "14\n",
            "14\n",
            "14\n"
          ],
          "name": "stdout"
        }
      ]
    },
    {
      "cell_type": "code",
      "metadata": {
        "id": "bI_8YXugR5w-",
        "colab_type": "code",
        "colab": {
          "base_uri": "https://localhost:8080/",
          "height": 1000
        },
        "outputId": "22c43383-3f10-41ef-fd98-b8db216a6ba8"
      },
      "source": [
        "print(df_new)\n",
        "print(df)"
      ],
      "execution_count": 18,
      "outputs": [
        {
          "output_type": "stream",
          "text": [
            "   DIVERSIDADE (DI)   DI RELATIVO  FRAC Its  VELOC FOBJ  VELOC X    NP  \\\n",
            "0        392.268389  9.346738e-01     0.190         2.0      2.0  16.0   \n",
            "1          0.199321  4.749314e-04     0.220         1.0      2.0   6.0   \n",
            "2          0.247139  5.888686e-04     0.270         2.0      2.0  10.0   \n",
            "3        256.782818  6.118469e-01     0.365         1.0      1.0  19.0   \n",
            "4          0.023252  5.540448e-05     0.410         2.0      1.0   9.0   \n",
            "5          0.008211  1.956448e-05     0.520         1.0      1.0  22.0   \n",
            "6          0.001260  3.001233e-06     0.600         2.0      1.0  16.0   \n",
            "7          0.000244  5.814910e-07     0.665         2.0      1.0  13.0   \n",
            "8          0.000017  4.041817e-08     0.750         2.0      1.0  17.0   \n",
            "\n",
            "         Fo       CRo          fmin          fmax       AD_fmin       AD_fmax  \\\n",
            "0  0.852351  0.506849  3.073273e-01  2.567524e+02  3.787110e-02  4.710733e-01   \n",
            "1  0.788747  0.303500  1.574082e-01  3.073273e-01  1.939699e-02  5.638649e-04   \n",
            "2  0.810119  0.959257  1.370188e-04  2.208127e-02  1.688446e-05  4.051333e-05   \n",
            "3  0.861901  0.880214  9.778933e-05  2.383937e+02  1.205031e-05  4.373900e-01   \n",
            "4  0.588744  0.282843  1.019166e-07  2.560690e-04  1.255891e-08  4.698194e-07   \n",
            "5  0.965064  0.653856  6.540745e-08  3.783972e-05  8.059982e-09  6.942596e-08   \n",
            "6  0.757077  0.286458  4.172534e-09  1.804173e-06  5.141701e-10  3.310184e-09   \n",
            "7  0.984916  0.351152  3.444711e-10  3.700745e-08  4.244824e-11  6.789897e-11   \n",
            "8  0.878982  0.531104  7.958079e-13  1.878107e-10  9.806524e-14  3.445833e-13   \n",
            "\n",
            "          F        CR  \n",
            "0  0.788747  0.303500  \n",
            "1  0.810119  0.959257  \n",
            "2  0.861901  0.880214  \n",
            "3  0.588744  0.282843  \n",
            "4  0.965064  0.653856  \n",
            "5  0.757077  0.286458  \n",
            "6  0.984916  0.351152  \n",
            "7  0.878982  0.531104  \n",
            "8  0.460198  0.125458  \n",
            "   DIVERSIDADE (DI)   DI RELATIVO  FRAC Its  VELOC FOBJ  VELOC X    NP  \\\n",
            "0        553.375128  1.318549e+00     0.110         0.0      0.0  22.0   \n",
            "1        392.268389  9.346738e-01     0.190         2.0      2.0  16.0   \n",
            "2          0.199321  4.749314e-04     0.220         1.0      2.0   6.0   \n",
            "3          0.247139  5.888686e-04     0.270         2.0      2.0  10.0   \n",
            "4        256.782818  6.118469e-01     0.365         1.0      1.0  19.0   \n",
            "5          0.023252  5.540448e-05     0.410         2.0      1.0   9.0   \n",
            "6          0.008211  1.956448e-05     0.520         1.0      1.0  22.0   \n",
            "7          0.001260  3.001233e-06     0.600         2.0      1.0  16.0   \n",
            "8          0.000244  5.814910e-07     0.665         2.0      1.0  13.0   \n",
            "9          0.000017  4.041817e-08     0.750         2.0      1.0  17.0   \n",
            "\n",
            "          F        CR          fmin          fmax       AD_fmin       AD_fmax  \n",
            "0  0.852351  0.506849  8.115086e+00  5.450371e+02  1.000000e+00  1.000000e+00  \n",
            "1  0.788747  0.303500  3.073273e-01  2.567524e+02  3.787110e-02  4.710733e-01  \n",
            "2  0.810119  0.959257  1.574082e-01  3.073273e-01  1.939699e-02  5.638649e-04  \n",
            "3  0.861901  0.880214  1.370188e-04  2.208127e-02  1.688446e-05  4.051333e-05  \n",
            "4  0.588744  0.282843  9.778933e-05  2.383937e+02  1.205031e-05  4.373900e-01  \n",
            "5  0.965064  0.653856  1.019166e-07  2.560690e-04  1.255891e-08  4.698194e-07  \n",
            "6  0.757077  0.286458  6.540745e-08  3.783972e-05  8.059982e-09  6.942596e-08  \n",
            "7  0.984916  0.351152  4.172534e-09  1.804173e-06  5.141701e-10  3.310184e-09  \n",
            "8  0.878982  0.531104  3.444711e-10  3.700745e-08  4.244824e-11  6.789897e-11  \n",
            "9  0.460198  0.125458  7.958079e-13  1.878107e-10  9.806524e-14  3.445833e-13  \n"
          ],
          "name": "stdout"
        }
      ]
    },
    {
      "cell_type": "code",
      "metadata": {
        "id": "VQ1DxcUIFPfD",
        "colab_type": "code",
        "outputId": "4758129a-9dda-4d90-e34c-543545f534c6",
        "colab": {
          "base_uri": "https://localhost:8080/",
          "height": 54
        }
      },
      "source": [
        "print('FOBEST=',FOBEST)\n",
        "print('FOBESTm=',FOBESTm)"
      ],
      "execution_count": 19,
      "outputs": [
        {
          "output_type": "stream",
          "text": [
            "FOBEST= 7.958078640513122e-13\n",
            "FOBESTm= 7.958078640513122e-13\n"
          ],
          "name": "stdout"
        }
      ]
    },
    {
      "cell_type": "code",
      "metadata": {
        "id": "F8Vb3GJTEIh3",
        "colab_type": "code",
        "colab": {}
      },
      "source": [
        ""
      ],
      "execution_count": 0,
      "outputs": []
    },
    {
      "cell_type": "code",
      "metadata": {
        "id": "RHOKjpqjqGC2",
        "colab_type": "code",
        "outputId": "cd14dc73-4c24-4ecb-d28d-8ac111cfcb04",
        "colab": {
          "base_uri": "https://localhost:8080/",
          "height": 255
        }
      },
      "source": [
        "print(df.iloc[0])"
      ],
      "execution_count": 20,
      "outputs": [
        {
          "output_type": "stream",
          "text": [
            "DIVERSIDADE (DI)    553.375128\n",
            "DI RELATIVO           1.318549\n",
            "FRAC Its              0.110000\n",
            "VELOC FOBJ            0.000000\n",
            "VELOC X               0.000000\n",
            "NP                   22.000000\n",
            "F                     0.852351\n",
            "CR                    0.506849\n",
            "fmin                  8.115086\n",
            "fmax                545.037050\n",
            "AD_fmin               1.000000\n",
            "AD_fmax               1.000000\n",
            "Name: 0, dtype: float64\n"
          ],
          "name": "stdout"
        }
      ]
    },
    {
      "cell_type": "code",
      "metadata": {
        "id": "jpoOt04bCNOe",
        "colab_type": "code",
        "colab": {
          "base_uri": "https://localhost:8080/",
          "height": 291
        },
        "outputId": "6a9c1643-4c16-4380-81b6-6b5a251df224"
      },
      "source": [
        "print(df_new.iloc[0])"
      ],
      "execution_count": 29,
      "outputs": [
        {
          "output_type": "stream",
          "text": [
            "DIVERSIDADE (DI)    392.268389\n",
            "DI RELATIVO           0.934674\n",
            "FRAC Its              0.190000\n",
            "VELOC FOBJ            2.000000\n",
            "VELOC X               2.000000\n",
            "NP                   16.000000\n",
            "Fo                    0.852351\n",
            "CRo                   0.506849\n",
            "fmin                  0.307327\n",
            "fmax                256.752377\n",
            "AD_fmin               0.037871\n",
            "AD_fmax               0.471073\n",
            "F                     0.788747\n",
            "CR                    0.303500\n",
            "Name: 0, dtype: float64\n"
          ],
          "name": "stdout"
        }
      ]
    },
    {
      "cell_type": "code",
      "metadata": {
        "id": "ETXqp7Lv1TK5",
        "colab_type": "code",
        "outputId": "bf70b5f0-e17b-4db4-d092-b9ee7d9caf83",
        "colab": {
          "base_uri": "https://localhost:8080/",
          "height": 55
        }
      },
      "source": [
        "'''#print(DAT)\n",
        "Fi_teste=DAT['F']\n",
        "CRi_teste=np.array(DAT['CR'])\n",
        "print(CRi)\n",
        "print(CRi_teste)'''"
      ],
      "execution_count": 21,
      "outputs": [
        {
          "output_type": "execute_result",
          "data": {
            "text/plain": [
              "\"#print(DAT)\\nFi_teste=DAT['F']\\nCRi_teste=np.array(DAT['CR'])\\nprint(CRi)\\nprint(CRi_teste)\""
            ]
          },
          "metadata": {
            "tags": []
          },
          "execution_count": 21
        }
      ]
    },
    {
      "cell_type": "code",
      "metadata": {
        "id": "nZ_ILp71l1lS",
        "colab_type": "code",
        "outputId": "0574c5f4-e815-44b1-fa99-419ffc59d6dc",
        "colab": {
          "base_uri": "https://localhost:8080/",
          "height": 54
        }
      },
      "source": [
        "print(SOMA)\n",
        "print(TOTAL)"
      ],
      "execution_count": 22,
      "outputs": [
        {
          "output_type": "stream",
          "text": [
            "1500\n",
            "2000\n"
          ],
          "name": "stdout"
        }
      ]
    },
    {
      "cell_type": "code",
      "metadata": {
        "id": "kXFU8468KfSy",
        "colab_type": "code",
        "outputId": "865cf6b9-d75e-4d88-ba35-5a385a3578f4",
        "colab": {
          "base_uri": "https://localhost:8080/",
          "height": 35
        }
      },
      "source": [
        "s=P*its\n",
        "somaa=s.sum()\n",
        "print('SOMA PARTIC=',somaa)"
      ],
      "execution_count": 23,
      "outputs": [
        {
          "output_type": "stream",
          "text": [
            "SOMA PARTIC= 1500\n"
          ],
          "name": "stdout"
        }
      ]
    },
    {
      "cell_type": "code",
      "metadata": {
        "id": "TfQTNR4pl7qr",
        "colab_type": "code",
        "outputId": "25fd0be8-9536-4eca-b218-dacf15d02b83",
        "colab": {
          "base_uri": "https://localhost:8080/",
          "height": 35
        }
      },
      "source": [
        "print(TOTAL)"
      ],
      "execution_count": 24,
      "outputs": [
        {
          "output_type": "stream",
          "text": [
            "2000\n"
          ],
          "name": "stdout"
        }
      ]
    },
    {
      "cell_type": "code",
      "metadata": {
        "id": "xsedhvw6w-FX",
        "colab_type": "code",
        "outputId": "db4d907c-7694-4caf-afcf-e4be576c6da7",
        "colab": {
          "base_uri": "https://localhost:8080/",
          "height": 35
        }
      },
      "source": [
        "'''from google.colab import drive\n",
        "drive.mount('drive')'''"
      ],
      "execution_count": 25,
      "outputs": [
        {
          "output_type": "execute_result",
          "data": {
            "text/plain": [
              "\"from google.colab import drive\\ndrive.mount('drive')\""
            ]
          },
          "metadata": {
            "tags": []
          },
          "execution_count": 25
        }
      ]
    },
    {
      "cell_type": "code",
      "metadata": {
        "id": "gruAmcZKL20c",
        "colab_type": "code",
        "outputId": "28b58a64-8b18-464b-bd6e-b4e2bdabcad9",
        "colab": {
          "base_uri": "https://localhost:8080/",
          "height": 35
        }
      },
      "source": [
        "'''from datetime import datetime\n",
        "nowfname=datetime.now().strftime(\"%Y-%m-%d_%Hh%Mmin\")'''"
      ],
      "execution_count": 26,
      "outputs": [
        {
          "output_type": "execute_result",
          "data": {
            "text/plain": [
              "'from datetime import datetime\\nnowfname=datetime.now().strftime(\"%Y-%m-%d_%Hh%Mmin\")'"
            ]
          },
          "metadata": {
            "tags": []
          },
          "execution_count": 26
        }
      ]
    },
    {
      "cell_type": "code",
      "metadata": {
        "id": "ZauofQo2tEr_",
        "colab_type": "code",
        "outputId": "7012d3e0-3043-495f-e999-aecc021f5195",
        "colab": {
          "base_uri": "https://localhost:8080/",
          "height": 35
        }
      },
      "source": [
        "'''function=Fun.__name__\n",
        "nome=nowfname+'_DE_'+function+'_'+str(dim)+'.csv'\n",
        "print(nome)'''"
      ],
      "execution_count": 27,
      "outputs": [
        {
          "output_type": "execute_result",
          "data": {
            "text/plain": [
              "\"function=Fun.__name__\\nnome=nowfname+'_DE_'+function+'_'+str(dim)+'.csv'\\nprint(nome)\""
            ]
          },
          "metadata": {
            "tags": []
          },
          "execution_count": 27
        }
      ]
    },
    {
      "cell_type": "code",
      "metadata": {
        "id": "Q-O9Ld0Xw_hg",
        "colab_type": "code",
        "outputId": "fa31043c-7103-4030-cf07-e77a356d9b0d",
        "colab": {
          "base_uri": "https://localhost:8080/",
          "height": 55
        }
      },
      "source": [
        "'''\n",
        "\n",
        "#wb.save(nowfname+'_'+'PSO'+'_'+function+'.xlsx')\n",
        "\n",
        "#nome=nowfname+'_DE_'+function+'_'+str(dim)+'.csv'\n",
        "df.to_csv(nome)\n",
        "\n",
        "\n",
        "#!cp 2019-09-06_17h36min_DE_Schwefel_2.csv drive/My\\ Drive/imput_ANN/\n",
        "!cp 2019-09-06_17h36min_DE_Schwefel_2.csv drive/My\\ Drive/\n",
        "'''"
      ],
      "execution_count": 28,
      "outputs": [
        {
          "output_type": "execute_result",
          "data": {
            "text/plain": [
              "\"\\n\\n#wb.save(nowfname+'_'+'PSO'+'_'+function+'.xlsx')\\n\\n#nome=nowfname+'_DE_'+function+'_'+str(dim)+'.csv'\\ndf.to_csv(nome)\\n\\n\\n#!cp 2019-09-06_17h36min_DE_Schwefel_2.csv drive/My\\\\ Drive/imput_ANN/\\n!cp 2019-09-06_17h36min_DE_Schwefel_2.csv drive/My\\\\ Drive/\\n\""
            ]
          },
          "metadata": {
            "tags": []
          },
          "execution_count": 28
        }
      ]
    }
  ]
}