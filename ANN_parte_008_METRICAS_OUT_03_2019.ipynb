{
  "nbformat": 4,
  "nbformat_minor": 0,
  "metadata": {
    "colab": {
      "name": "ANN_parte_008_METRICAS_OUT_03_2019.ipynb",
      "provenance": [],
      "collapsed_sections": [],
      "include_colab_link": true
    },
    "kernelspec": {
      "name": "python3",
      "display_name": "Python 3"
    }
  },
  "cells": [
    {
      "cell_type": "markdown",
      "metadata": {
        "id": "view-in-github",
        "colab_type": "text"
      },
      "source": [
        "<a href=\"https://colab.research.google.com/github/ucfilho/ANN_raianars/blob/master/ANN_parte_008_METRICAS_OUT_03_2019.ipynb\" target=\"_parent\"><img src=\"https://colab.research.google.com/assets/colab-badge.svg\" alt=\"Open In Colab\"/></a>"
      ]
    },
    {
      "cell_type": "code",
      "metadata": {
        "id": "IJMhyBoEZHIU",
        "colab_type": "code",
        "outputId": "39a89d14-a6e0-403f-d791-6801ebf706e3",
        "colab": {
          "base_uri": "https://localhost:8080/",
          "height": 108
        }
      },
      "source": [
        "import numpy as np\n",
        "import pandas as pd\n",
        "import matplotlib.pyplot as plt\n",
        "\n",
        "\n",
        "# este comando clona o diretorio github ucfilho/ANN no colaboratory research\n",
        "!git clone https://github.com/RaianaSeixas/ANN #clonar do Github\n",
        "%cd ANN\n",
        "#!ls\n",
        "print(\"Hello world\"+\"\\n\"+\"I'm evolving!!!\"+\"\\n\")\n",
        "\n",
        "%matplotlib inline"
      ],
      "execution_count": 0,
      "outputs": [
        {
          "output_type": "stream",
          "text": [
            "fatal: destination path 'ANN' already exists and is not an empty directory.\n",
            "/content/ANN\n",
            "Hello world\n",
            "I'm evolving!!!\n",
            "\n"
          ],
          "name": "stdout"
        }
      ]
    },
    {
      "cell_type": "code",
      "metadata": {
        "id": "N4_YsjYjZE5r",
        "colab_type": "code",
        "colab": {}
      },
      "source": [
        "# https://towardsdatascience.com/pca-using-python-scikit-learn-e653f8989e60\n",
        "# https://github.com/mGalarnyk/Python_Tutorials/blob/master/Sklearn/PCA/PCA_to_Speed-up_Machine_Learning_Algorithms.ipynb"
      ],
      "execution_count": 0,
      "outputs": []
    },
    {
      "cell_type": "code",
      "metadata": {
        "id": "x09IGM7OYxpw",
        "colab_type": "code",
        "outputId": "c554c343-fc0e-4c79-f525-90fe709b04ba",
        "colab": {
          "base_uri": "https://localhost:8080/",
          "height": 108
        }
      },
      "source": [
        "!ls"
      ],
      "execution_count": 0,
      "outputs": [
        {
          "output_type": "stream",
          "text": [
            "000_ANN_Gera_Matriz_para_ser_usada_set_26_2019.ipynb  X_DAT_B_set_17_2019.csv\n",
            "000_ANN_parte_001_XY_dados_out_01_2019.ipynb\t      X_DAT_set_17_2019.csv\n",
            "000_ANN_parte_002_B_D10_OUT_1_2019.ipynb\t      XY_D10_out_1_2019.csv\n",
            "000_Gerenciador_DE_var_F_CR_STAT_set_27_2019.ipynb    Y_DAT_B_set_17_2019.csv\n",
            "imput_ANN_D10_6F.zip\t\t\t\t      Y_DAT_set_17_2019.csv\n"
          ],
          "name": "stdout"
        }
      ]
    },
    {
      "cell_type": "code",
      "metadata": {
        "id": "xPh9-Qc81nMS",
        "colab_type": "code",
        "colab": {}
      },
      "source": [
        "# sigmoid function\n",
        "def sigmoid(x,deriv=False):\n",
        "    if(deriv==True):\n",
        "        return x*(1-x)\n",
        "    return 1/(1+np.exp(-x))\n",
        "\n",
        "def tasig(x,deriv=False):\n",
        "    if(deriv==True):\n",
        "        return 1-x*x\n",
        "    return 2/(1+np.exp(-2*x))-1\n",
        "\n",
        "# purelin function\n",
        "def purelin(x,deriv=False):\n",
        "    if(deriv==True):\n",
        "        return 1\n",
        "    return x"
      ],
      "execution_count": 0,
      "outputs": []
    },
    {
      "cell_type": "code",
      "metadata": {
        "id": "RepD-3pn1E-1",
        "colab_type": "code",
        "colab": {}
      },
      "source": [
        "# funcao normatiza dados\n",
        "def Normatiza(x):\n",
        "    strings=list(x)\n",
        "    for i in strings:\n",
        "        max_x=x[i].max()\n",
        "        min_x=x[i].min()\n",
        "        a=(max_x+min_x)/2\n",
        "        b=(max_x-min_x)/2\n",
        "        x[i]=(x[i]-a)/b\n",
        "    return x"
      ],
      "execution_count": 0,
      "outputs": []
    },
    {
      "cell_type": "code",
      "metadata": {
        "id": "aMUypVwa1RWF",
        "colab_type": "code",
        "colab": {}
      },
      "source": [
        "# funcao retorna os dados a forma original\n",
        "def Original(x,x_old):\n",
        "    strings=list(x)\n",
        "    for i in strings:\n",
        "        max_x=x_old[i].max()\n",
        "        min_x=x_old[i].min()\n",
        "        a=(max_x+min_x)/2\n",
        "        b=(max_x-min_x)/2\n",
        "        x[i]=x[i]*b+a\n",
        "    return x"
      ],
      "execution_count": 0,
      "outputs": []
    },
    {
      "cell_type": "code",
      "metadata": {
        "id": "68JOHC6Ozv6d",
        "colab_type": "code",
        "outputId": "ef1b167c-e8b5-4cd0-9c88-5d4e92b80749",
        "colab": {
          "base_uri": "https://localhost:8080/",
          "height": 381
        }
      },
      "source": [
        "# leitura dos dados\n",
        "DAT=pd.read_csv(\"XY_D10_out_1_2019.csv\")\n",
        "# separa as colunas de interesse\n",
        "Index=[1,2,3,4,5,6,7,8,9,10,11,12,13,14]\n",
        "Dat_Select=[]\n",
        "Dat_Select=DAT.iloc[:,Index].copy()\n",
        "\n",
        "pd.set_option('display.max_columns', 30)\n",
        "pd.set_option('display.max_rows', 30)\n",
        "#print(Dat_Select)\n",
        "print(Dat_Select.head())"
      ],
      "execution_count": 0,
      "outputs": [
        {
          "output_type": "stream",
          "text": [
            "   DIVERSIDADE (DI)  DI RELATIVO  FRAC Its  VELOC FOBJ  VELOC X     NP  \\\n",
            "0         21.655535     1.221355       0.2         0.0      0.0  100.0   \n",
            "1         21.514089     1.213378       0.3         0.0      0.0  100.0   \n",
            "2         21.295827     1.201068       0.4         2.0      2.0  100.0   \n",
            "3         21.188552     1.195018       0.5         0.0      0.0  100.0   \n",
            "4         21.769821     1.227801       0.6         1.0      2.0  100.0   \n",
            "\n",
            "         Fo       CRo      fmin         fmax   AD_fmin   AD_fmax         F  \\\n",
            "0  0.972856  0.760538  0.057549  1805.235510  1.000000  0.374682  0.277668   \n",
            "1  0.277668  0.260366  0.057549   317.197512  1.000000  0.065835  0.173981   \n",
            "2  0.173981  0.453169  0.022278    49.847938  0.387115  0.010346  0.677145   \n",
            "3  0.677145  0.947536  0.022278    33.373213  0.387115  0.006927  0.059762   \n",
            "4  0.059762  0.155327  0.014697     9.059640  0.255377  0.001880  0.949367   \n",
            "\n",
            "         CR  \n",
            "0  0.260366  \n",
            "1  0.453169  \n",
            "2  0.947536  \n",
            "3  0.155327  \n",
            "4  0.933255  \n"
          ],
          "name": "stdout"
        }
      ]
    },
    {
      "cell_type": "code",
      "metadata": {
        "id": "_vpQ5HTM06TE",
        "colab_type": "code",
        "colab": {}
      },
      "source": [
        "DAT_OLD=[]\n",
        "DAT_OLD=Dat_Select.copy()\n",
        "DAT=Normatiza(Dat_Select)"
      ],
      "execution_count": 0,
      "outputs": []
    },
    {
      "cell_type": "code",
      "metadata": {
        "id": "A4LF09Cq0hJu",
        "colab_type": "code",
        "outputId": "3fc7e4cc-23dd-40d8-94d6-c1ec1d27f188",
        "colab": {
          "base_uri": "https://localhost:8080/",
          "height": 254
        }
      },
      "source": [
        "# obtem as variaveis independentes (treino e teste)\n",
        "# separa os dados em treino e teste\n",
        "train=DAT.sample(frac=0.8,random_state=None) \n",
        "test=DAT.drop(train.index)\n",
        "x_train=train.iloc[:,[1,2,3,4,6,7,10,11]]\n",
        "x_test=test.iloc[:,[1,2,3,4,6,7,10,11]]\n",
        "X_OLD=DAT_OLD.iloc[:,[1,2,3,4,6,7,10,11]]\n",
        "print(x_train.head())"
      ],
      "execution_count": 0,
      "outputs": [
        {
          "output_type": "stream",
          "text": [
            "    DI RELATIVO  FRAC Its  VELOC FOBJ  VELOC X        Fo       CRo   AD_fmin  \\\n",
            "10    -0.798438     -0.75         0.0      1.0 -0.702677 -0.108413 -0.942918   \n",
            "48    -0.622250     -0.25         0.0      1.0 -0.363282  1.000000 -0.109627   \n",
            "45     0.762419     -1.00         0.0      1.0  0.641639  0.501921  0.993431   \n",
            "41    -0.881472      0.25         1.0      0.0 -0.035984 -0.053285 -1.000000   \n",
            "15    -0.995978      0.50         1.0      0.0 -0.363959  0.019779 -0.999971   \n",
            "\n",
            "     AD_fmax  \n",
            "10 -0.768845  \n",
            "48  0.901072  \n",
            "45  1.000000  \n",
            "41 -0.999989  \n",
            "15 -0.999932  \n"
          ],
          "name": "stdout"
        }
      ]
    },
    {
      "cell_type": "code",
      "metadata": {
        "id": "ZSuUAFrL3E1C",
        "colab_type": "code",
        "outputId": "887a1ef2-0472-44d2-da39-c20cf742dc8e",
        "colab": {
          "base_uri": "https://localhost:8080/",
          "height": 126
        }
      },
      "source": [
        "# obtem as variaveis dependentes (treino e teste)\n",
        "#Index=[2,3,4,5]\n",
        "Index=[12] #F\n",
        "#Index=[13] #CR\n",
        "y_train=train.iloc[:,Index]\n",
        "y_test=test.iloc[:,Index]\n",
        "Y_OLD=DAT_OLD.iloc[:,Index]\n",
        "print(y_train.head())"
      ],
      "execution_count": 0,
      "outputs": [
        {
          "output_type": "stream",
          "text": [
            "           F\n",
            "10 -0.344251\n",
            "48 -0.430203\n",
            "45  0.300998\n",
            "41 -0.084589\n",
            "15 -0.285188\n"
          ],
          "name": "stdout"
        }
      ]
    },
    {
      "cell_type": "code",
      "metadata": {
        "id": "hqYR1qujdIFX",
        "colab_type": "code",
        "colab": {}
      },
      "source": [
        "X_NOME=[  'DI RELATIVO','FRAC Its',\n",
        "           'VELOC FOBJ','VELOC X','Fo','CRo',\n",
        "           'AD_fmin','AD_fmax']\n",
        "Y_NOME=['F']   \n",
        "#Y_NOME=['CR']   "
      ],
      "execution_count": 0,
      "outputs": []
    },
    {
      "cell_type": "code",
      "metadata": {
        "id": "bUuQEko_dpF2",
        "colab_type": "code",
        "colab": {}
      },
      "source": [
        "# input dataset\n",
        "#Neuron_input=3\n",
        "Neuron_input=len(X_NOME)\n",
        "Neuron_hidden=5\n",
        "Neuron_output=1\n",
        "Learning_rate=0.01\n",
        "omega=0.9\n",
        "Epoch=100000"
      ],
      "execution_count": 0,
      "outputs": []
    },
    {
      "cell_type": "code",
      "metadata": {
        "id": "5X0BYxxIdwGp",
        "colab_type": "code",
        "colab": {}
      },
      "source": [
        "Y_train=y_train\n",
        "X_train=x_train\n",
        "x_test=x_test.loc[x_test['FRAC Its']==x_test['FRAC Its'],X_NOME].values\n",
        "X_train=X_train.loc[X_train['FRAC Its']==X_train['FRAC Its'],X_NOME].values\n",
        "y=Y_train.loc[Y_train['F']==Y_train['F'],['F']].values"
      ],
      "execution_count": 0,
      "outputs": []
    },
    {
      "cell_type": "code",
      "metadata": {
        "id": "ww1KvVqReAhK",
        "colab_type": "code",
        "colab": {}
      },
      "source": [
        "def ANN(Epoch,Neuron_input,Neuron_hidden,Neuron_output,Learning_rate,X_train,y):\n",
        "  syn0 = 2*np.random.random((Neuron_input,Neuron_hidden)) - 1\n",
        "  syn1 = 2*np.random.random((Neuron_hidden,Neuron_output)) - 1\n",
        "  for j in range(Epoch):\n",
        "    l0 = X_train\n",
        "    l1 = sigmoid(np.dot(l0,syn0))\n",
        "    l2 = purelin(np.dot(l1,syn1))\n",
        "    l2_error = y - l2\n",
        "    l2_delta = l2_error*purelin(l2,deriv=True)\n",
        "    l1_error = l2_delta.dot(syn1.T)\n",
        "    l1_delta = l1_error * sigmoid(l1,deriv=True)\n",
        "    syn1 += l1.T.dot(l2_delta)*Learning_rate\n",
        "    syn0 += l0.T.dot(l1_delta)*Learning_rate\n",
        "  return syn0,syn1\n",
        "\n"
      ],
      "execution_count": 0,
      "outputs": []
    },
    {
      "cell_type": "code",
      "metadata": {
        "id": "aA6TlqJI0hdM",
        "colab_type": "code",
        "colab": {}
      },
      "source": [
        "def ANN_ycal(syn0,syn1,X_train):\n",
        "  l0 = X_train\n",
        "  l1 = sigmoid(np.dot(l0,syn0))\n",
        "  l2 = purelin(np.dot(l1,syn1))\n",
        "  y_calc=np.reshape(l2,len(l2))\n",
        "  return y_calc"
      ],
      "execution_count": 0,
      "outputs": []
    },
    {
      "cell_type": "code",
      "metadata": {
        "id": "ufXS4SrB9SoA",
        "colab_type": "code",
        "colab": {}
      },
      "source": [
        "def QUALIDADE(yobs,ycal):\n",
        "  #yobs=yobs.to_numpy()\n",
        "  yobs=np.array(yobs)\n",
        "  #ycal=ycal.to_numpy()\n",
        "  ycal=np.array(ycal)\n",
        "  N=len(yobs)\n",
        "  Soma=0\n",
        "  for i in range(N):\n",
        "    Soma=Soma+(yobs[i]-ycal[i])**2\n",
        "  Soma=(Soma/N)**0.5\n",
        "  return Soma\n"
      ],
      "execution_count": 0,
      "outputs": []
    },
    {
      "cell_type": "code",
      "metadata": {
        "id": "C-12imaj0ZqU",
        "colab_type": "code",
        "colab": {}
      },
      "source": [
        " syn0,syn1=ANN(Epoch,Neuron_input,Neuron_hidden,Neuron_output,Learning_rate,X_train,y)"
      ],
      "execution_count": 0,
      "outputs": []
    },
    {
      "cell_type": "code",
      "metadata": {
        "id": "vErzzOkMAjq6",
        "colab_type": "code",
        "outputId": "4ac55311-021d-498a-8433-88bd58580c8c",
        "colab": {
          "base_uri": "https://localhost:8080/",
          "height": 54
        }
      },
      "source": [
        "#'''\n",
        "#DAT=pd.read_csv(Arquivo,sep='\\t')\n",
        "y_obs=y_train\n",
        "y_calc=ANN_ycal(syn0,syn1,X_train)\n",
        "Erro_treino=QUALIDADE(y_obs,y_calc)\n",
        "print(\"Erro treino=\",Erro_treino)\n",
        "y_obs=y_test\n",
        "y_calc=ANN_ycal(syn0,syn1,x_test)\n",
        "Erro_teste=QUALIDADE(y_obs,y_calc)\n",
        "print(\"Erro teste=\",Erro_teste)"
      ],
      "execution_count": 0,
      "outputs": [
        {
          "output_type": "stream",
          "text": [
            "Erro treino= [0.06349687]\n",
            "Erro teste= [0.78133715]\n"
          ],
          "name": "stdout"
        }
      ]
    },
    {
      "cell_type": "code",
      "metadata": {
        "id": "4Ld0k8q9BVr0",
        "colab_type": "code",
        "outputId": "7315ef10-dcf0-41f0-a13c-91dab6adec42",
        "colab": {
          "base_uri": "https://localhost:8080/",
          "height": 363
        }
      },
      "source": [
        "Num=20\n",
        "Melhor=1e99\n",
        "NH=1e99\n",
        "for i in range(2,Num):\n",
        "  Neuron_hidden=i\n",
        "  syn0,syn1=ANN(Epoch,Neuron_input,Neuron_hidden,Neuron_output,Learning_rate,X_train,y)\n",
        "  y_obs=y_train\n",
        "  y_calc=ANN_ycal(syn0,syn1,X_train)\n",
        "  Erro_treino=QUALIDADE(y_obs,y_calc)\n",
        "  y_obs=y_test\n",
        "  y_calc=ANN_ycal(syn0,syn1,x_test)\n",
        "  Erro_teste=QUALIDADE(y_obs,y_calc)\n",
        "  if(Erro_teste<Melhor):\n",
        "    NH=i\n",
        "    M0=np.copy(syn0)\n",
        "    M1=np.copy(syn1)\n",
        "    Melhor=Erro_teste\n",
        "\n",
        "  print(\"Neronios=\",i,\"Erro teste=\",Erro_teste, \"Erro treino=\",Erro_treino)\n",
        "  \n",
        "print(\"Melhor Neuronios oculto=\",NH)\n",
        "syn0=M0\n",
        "syn1=M1\n",
        "Neuron_hidden=NH"
      ],
      "execution_count": 0,
      "outputs": [
        {
          "output_type": "stream",
          "text": [
            "Neronios= 2 Erro teste= [0.66341682] Erro treino= [0.28075623]\n",
            "Neronios= 3 Erro teste= [0.53626786] Erro treino= [0.19200183]\n",
            "Neronios= 4 Erro teste= [0.56745249] Erro treino= [0.0735199]\n",
            "Neronios= 5 Erro teste= [0.52910383] Erro treino= [0.01403036]\n",
            "Neronios= 6 Erro teste= [0.97846565] Erro treino= [0.00522575]\n",
            "Neronios= 7 Erro teste= [0.89904206] Erro treino= [0.0013361]\n",
            "Neronios= 8 Erro teste= [0.72190836] Erro treino= [0.00326382]\n",
            "Neronios= 9 Erro teste= [0.4794316] Erro treino= [0.00356225]\n",
            "Neronios= 10 Erro teste= [0.7091539] Erro treino= [0.00035907]\n",
            "Neronios= 11 Erro teste= [0.64634208] Erro treino= [2.87447009e-05]\n",
            "Neronios= 12 Erro teste= [0.82061595] Erro treino= [0.00016652]\n",
            "Neronios= 13 Erro teste= [0.7947053] Erro treino= [1.71553412e-05]\n",
            "Neronios= 14 Erro teste= [0.65338889] Erro treino= [3.94874968e-05]\n",
            "Neronios= 15 Erro teste= [0.67077268] Erro treino= [5.19388284e-05]\n",
            "Neronios= 16 Erro teste= [0.71459099] Erro treino= [0.00018852]\n",
            "Neronios= 17 Erro teste= [0.7397121] Erro treino= [0.00018432]\n",
            "Neronios= 18 Erro teste= [0.65989336] Erro treino= [0.00026366]\n",
            "Neronios= 19 Erro teste= [0.62079479] Erro treino= [0.00055358]\n",
            "Melhor Neuronios oculto= 9\n"
          ],
          "name": "stdout"
        }
      ]
    },
    {
      "cell_type": "code",
      "metadata": {
        "id": "08NCAStHNAVT",
        "colab_type": "code",
        "outputId": "0d3a238f-e94e-402d-ab9e-71446709d81f",
        "colab": {
          "base_uri": "https://localhost:8080/",
          "height": 393
        }
      },
      "source": [
        "\n",
        "y_calc=ANN_ycal(syn0,syn1,x_test)\n",
        "y_calc=pd.DataFrame({'y_calc':y_calc})\n",
        "Y_OLD=pd.DataFrame(Y_OLD)\n",
        "Y_OLD.columns = [\"y_calc\"]\n",
        "y_calc=Original(y_calc,Y_OLD)\n",
        "\n",
        "y_obs.columns = [\"y_calc\"]\n",
        "y_obs=Original(y_obs,Y_OLD)\n",
        "y_obs_train=np.copy(y_obs)\n",
        "y_calc_train=np.copy(y_calc)\n",
        "\n",
        "plt.scatter(y_obs,y_calc)\n",
        "plt.xlabel(\"True variable\")\n",
        "plt.ylabel(\"Estimated variable\")\n",
        "plt.show()\n"
      ],
      "execution_count": 0,
      "outputs": [
        {
          "output_type": "stream",
          "text": [
            "/usr/local/lib/python3.6/dist-packages/ipykernel_launcher.py:8: SettingWithCopyWarning: \n",
            "A value is trying to be set on a copy of a slice from a DataFrame.\n",
            "Try using .loc[row_indexer,col_indexer] = value instead\n",
            "\n",
            "See the caveats in the documentation: http://pandas.pydata.org/pandas-docs/stable/indexing.html#indexing-view-versus-copy\n",
            "  \n"
          ],
          "name": "stderr"
        },
        {
          "output_type": "display_data",
          "data": {
            "image/png": "[encoded data removed]",
            "text/plain": [
              "<Figure size 432x288 with 1 Axes>"
            ]
          },
          "metadata": {
            "tags": []
          }
        }
      ]
    },
    {
      "cell_type": "markdown",
      "metadata": {
        "id": "sY_k-aYJvXVR",
        "colab_type": "text"
      },
      "source": [
        ""
      ]
    },
    {
      "cell_type": "code",
      "metadata": {
        "id": "XtiFF_neaqhd",
        "colab_type": "code",
        "colab": {}
      },
      "source": [
        "y_calc_test=ANN_ycal(syn0,syn1,x_test)\n",
        "y_calc_test=pd.DataFrame({'y_calc':y_calc_test})\n",
        "y_calc_test=Original(y_calc_test,Y_OLD)"
      ],
      "execution_count": 0,
      "outputs": []
    },
    {
      "cell_type": "code",
      "metadata": {
        "id": "_ZglbRD3l4Lm",
        "colab_type": "code",
        "outputId": "7081d861-104c-4a7f-f530-db65a6cd9c67",
        "colab": {
          "base_uri": "https://localhost:8080/",
          "height": 126
        }
      },
      "source": [
        "y_obs_test=y_test\n",
        "y_obs_test.columns = [\"y_calc\"]\n",
        "y_obs_test=Original(y_obs_test,Y_OLD)"
      ],
      "execution_count": 0,
      "outputs": [
        {
          "output_type": "stream",
          "text": [
            "/usr/local/lib/python3.6/dist-packages/ipykernel_launcher.py:8: SettingWithCopyWarning: \n",
            "A value is trying to be set on a copy of a slice from a DataFrame.\n",
            "Try using .loc[row_indexer,col_indexer] = value instead\n",
            "\n",
            "See the caveats in the documentation: http://pandas.pydata.org/pandas-docs/stable/indexing.html#indexing-view-versus-copy\n",
            "  \n"
          ],
          "name": "stderr"
        }
      ]
    },
    {
      "cell_type": "code",
      "metadata": {
        "id": "8MlsBAXMkV3c",
        "colab_type": "code",
        "outputId": "98d80151-b54e-49d3-9ede-4bcd74b38337",
        "colab": {
          "base_uri": "https://localhost:8080/",
          "height": 284
        }
      },
      "source": [
        "plt.scatter(y_obs_test,y_calc_test,color='r')\n",
        "plt.xlabel(\"True variable\")\n",
        "plt.ylabel(\"Estimated variable\")\n",
        "plt.show()"
      ],
      "execution_count": 0,
      "outputs": [
        {
          "output_type": "display_data",
          "data": {
            "image/png": "[encoded data removed]",
            "text/plain": [
              "<Figure size 432x288 with 1 Axes>"
            ]
          },
          "metadata": {
            "tags": []
          }
        }
      ]
    },
    {
      "cell_type": "code",
      "metadata": {
        "id": "oFMnt6iZFPHx",
        "colab_type": "code",
        "outputId": "86bfd67d-a3d4-431a-d42b-39f9134e1131",
        "colab": {
          "base_uri": "https://localhost:8080/",
          "height": 284
        }
      },
      "source": [
        "plt.scatter(y_obs_train,y_calc_train)\n",
        "plt.scatter(y_obs_test,y_calc_test,color='r')\n",
        "plt.xlabel(\"True variable\")\n",
        "plt.ylabel(\"Estimated variable\")\n",
        "\n",
        "plt.xlim((-0.5,2))\n",
        "plt.ylim((-0.5,2))\n",
        "plt.show()"
      ],
      "execution_count": 0,
      "outputs": [
        {
          "output_type": "display_data",
          "data": {
            "image/png": "[encoded data removed]",
            "text/plain": [
              "<Figure size 432x288 with 1 Axes>"
            ]
          },
          "metadata": {
            "tags": []
          }
        }
      ]
    },
    {
      "cell_type": "code",
      "metadata": {
        "colab_type": "code",
        "outputId": "e3e3b3a2-ec4f-4295-f1a7-ebbfe6c152c3",
        "id": "-uHKJewYNMFO",
        "colab": {
          "base_uri": "https://localhost:8080/",
          "height": 35
        }
      },
      "source": [
        "#obtendo a melhor de N rodadas\n",
        "Num=20\n",
        "N=3\n",
        "Melhor=1e99\n",
        "NH=1e99\n",
        "for k in range(N):\n",
        "  for i in range(6,Num):\n",
        "    Neuron_hidden=i\n",
        "    syn0,syn1=ANN(Epoch,Neuron_input,Neuron_hidden,Neuron_output,Learning_rate,X_train,y)\n",
        "    y_obs=y_train\n",
        "    y_calc=ANN_ycal(syn0,syn1,X_train)\n",
        "    Erro_treino=QUALIDADE(y_obs,y_calc)\n",
        "    y_obs=y_test\n",
        "    y_calc=ANN_ycal(syn0,syn1,x_test)\n",
        "    Erro_teste=QUALIDADE(y_obs,y_calc)\n",
        "    if(Erro_teste<Melhor):\n",
        "      NH=np.copy(i)\n",
        "      M0=np.copy(syn0)\n",
        "      M1=np.copy(syn1)\n",
        "      Melhor=np.copy(Erro_teste)\n",
        "\n",
        "  \n",
        "print(\"Melhor Neuronios oculto=\",NH)\n",
        "syn0=M0\n",
        "syn1=M1\n",
        "Neuron_hidden=NH"
      ],
      "execution_count": 0,
      "outputs": [
        {
          "output_type": "stream",
          "text": [
            "Melhor Neuronios oculto= 6\n"
          ],
          "name": "stdout"
        }
      ]
    },
    {
      "cell_type": "code",
      "metadata": {
        "id": "uCotftOae45F",
        "colab_type": "code",
        "colab": {}
      },
      "source": [
        ""
      ],
      "execution_count": 0,
      "outputs": []
    },
    {
      "cell_type": "code",
      "metadata": {
        "colab_type": "code",
        "id": "FZPs-h-Ie5Vn",
        "colab": {}
      },
      "source": [
        "y_calc_test=ANN_ycal(syn0,syn1,x_test)\n",
        "y_calc_test=pd.DataFrame({'y_calc':y_calc_test})\n",
        "y_calc_test=Original(y_calc_test,Y_OLD)"
      ],
      "execution_count": 0,
      "outputs": []
    },
    {
      "cell_type": "code",
      "metadata": {
        "colab_type": "code",
        "outputId": "c1493517-149a-46c4-c863-53282a881aac",
        "id": "U0qz_Hkze-tr",
        "colab": {
          "base_uri": "https://localhost:8080/",
          "height": 126
        }
      },
      "source": [
        "y_obs_test=y_test\n",
        "y_obs_test.columns = [\"y_calc\"]\n",
        "y_obs_test=Original(y_obs_test,Y_OLD)"
      ],
      "execution_count": 0,
      "outputs": [
        {
          "output_type": "stream",
          "text": [
            "/usr/local/lib/python3.6/dist-packages/ipykernel_launcher.py:8: SettingWithCopyWarning: \n",
            "A value is trying to be set on a copy of a slice from a DataFrame.\n",
            "Try using .loc[row_indexer,col_indexer] = value instead\n",
            "\n",
            "See the caveats in the documentation: http://pandas.pydata.org/pandas-docs/stable/indexing.html#indexing-view-versus-copy\n",
            "  \n"
          ],
          "name": "stderr"
        }
      ]
    },
    {
      "cell_type": "code",
      "metadata": {
        "id": "RXANwEXAfFIs",
        "colab_type": "code",
        "outputId": "3c41a14c-5e1a-4e31-c3dd-3acdbc75a90d",
        "colab": {
          "base_uri": "https://localhost:8080/",
          "height": 284
        }
      },
      "source": [
        "plt.scatter(y_obs_train,y_calc_train)\n",
        "plt.scatter(y_obs_test,y_calc_test,color='r')\n",
        "plt.xlabel(\"True variable\")\n",
        "plt.ylabel(\"Estimated variable\")\n",
        "\n",
        "plt.xlim((-0.5,2))\n",
        "plt.ylim((-0.5,2))\n",
        "plt.show()"
      ],
      "execution_count": 0,
      "outputs": [
        {
          "output_type": "display_data",
          "data": {
            "image/png": "[encoded data removed]",
            "text/plain": [
              "<Figure size 432x288 with 1 Axes>"
            ]
          },
          "metadata": {
            "tags": []
          }
        }
      ]
    }
  ]
}