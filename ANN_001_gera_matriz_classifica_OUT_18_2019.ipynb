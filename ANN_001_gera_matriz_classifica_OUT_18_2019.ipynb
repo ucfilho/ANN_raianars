{
  "nbformat": 4,
  "nbformat_minor": 0,
  "metadata": {
    "colab": {
      "name": "ANN_001_gera_matriz_classifica_OUT_18_2019.ipynb",
      "provenance": [],
      "collapsed_sections": [],
      "include_colab_link": true
    },
    "kernelspec": {
      "name": "python3",
      "display_name": "Python 3"
    }
  },
  "cells": [
    {
      "cell_type": "markdown",
      "metadata": {
        "id": "view-in-github",
        "colab_type": "text"
      },
      "source": [
        "<a href=\"https://colab.research.google.com/github/ucfilho/ANN_raianars/blob/master/ANN_001_gera_matriz_classifica_OUT_18_2019.ipynb\" target=\"_parent\"><img src=\"https://colab.research.google.com/assets/colab-badge.svg\" alt=\"Open In Colab\"/></a>"
      ]
    },
    {
      "cell_type": "code",
      "metadata": {
        "id": "IJMhyBoEZHIU",
        "colab_type": "code",
        "outputId": "1f1d469c-d33f-4e7c-838f-ffeb8eca2a57",
        "colab": {
          "base_uri": "https://localhost:8080/",
          "height": 204
        }
      },
      "source": [
        "import numpy as np\n",
        "import pandas as pd\n",
        "import matplotlib.pyplot as plt\n",
        "from sklearn.metrics import confusion_matrix\n",
        "\n",
        "# este comando clona o diretorio github ucfilho/ANN no colaboratory research\n",
        "!git clone https://github.com/RaianaSeixas/ANN #clonar do Github\n",
        "%cd ANN\n",
        "#!ls\n",
        "print(\"Hello world\"+\"\\n\"+\"I'm evolving!!!\"+\"\\n\")\n",
        "\n",
        "%matplotlib inline"
      ],
      "execution_count": 0,
      "outputs": [
        {
          "output_type": "stream",
          "text": [
            "Cloning into 'ANN'...\n",
            "remote: Enumerating objects: 6, done.\u001b[K\n",
            "remote: Counting objects: 100% (6/6), done.\u001b[K\n",
            "remote: Compressing objects: 100% (6/6), done.\u001b[K\n",
            "remote: Total 76 (delta 1), reused 0 (delta 0), pack-reused 70\u001b[K\n",
            "Unpacking objects: 100% (76/76), done.\n",
            "/content/ANN/ANN/ANN\n",
            "Hello world\n",
            "I'm evolving!!!\n",
            "\n"
          ],
          "name": "stdout"
        }
      ]
    },
    {
      "cell_type": "code",
      "metadata": {
        "id": "x09IGM7OYxpw",
        "colab_type": "code",
        "outputId": "4639a587-e435-4812-ae22-51b2f34cfc71",
        "colab": {
          "base_uri": "https://localhost:8080/",
          "height": 185
        }
      },
      "source": [
        "!ls"
      ],
      "execution_count": 0,
      "outputs": [
        {
          "output_type": "stream",
          "text": [
            "000_ANN_Gera_Matriz_out_04_2019.ipynb\t\t    X_DAT_B_set_17_2019.csv\n",
            "000_ANN_parte_001_XY_dados_out_01_2019.ipynb\t    X_DAT_set_17_2019.csv\n",
            "000_ANN_parte_002_XY_Métricas_D10_OUT_4_2019.ipynb  XY_D10_30_out_7_2019.csv\n",
            "000_ANN_parte_009_Métricas_PCA_OUT_07_2019.ipynb    XY_D10_out_1_2019.csv\n",
            "000_Gerenciador_DE_var_F_CR_STAT_set_27_2019.ipynb  XY_D10_out_5_2019.csv\n",
            "imput_ANN_D10_30_out_07_19.zip\t\t\t    XY_schwefel_out_11_19.csv\n",
            "imput_ANN_D10_6F.zip\t\t\t\t    Y_DAT_B_set_17_2019.csv\n",
            "imput_ANN_D10_out_05_19.zip\t\t\t    Y_DAT_set_17_2019.csv\n",
            "imput_ANN_schwefel_out_11_19.zip\n"
          ],
          "name": "stdout"
        }
      ]
    },
    {
      "cell_type": "code",
      "metadata": {
        "id": "xPh9-Qc81nMS",
        "colab_type": "code",
        "colab": {}
      },
      "source": [
        "# Functions\n",
        "def sigmoid(x,deriv=False):\n",
        "    if(deriv==True):\n",
        "        return x*(1-x)\n",
        "    return 1/(1+np.exp(-x))\n",
        "\n",
        "def tasig(x,deriv=False):\n",
        "    if(deriv==True):\n",
        "        return 1-x*x\n",
        "    return 2/(1+np.exp(-2*x))-1\n",
        "\n",
        "# purelin function\n",
        "def purelin(x,deriv=False):\n",
        "    if(deriv==True):\n",
        "        return 1\n",
        "    #N=len(x)\n",
        "    #for i in range(N):\n",
        "      #if (x[i]>1):\n",
        "        #x[i]=1\n",
        "    return x"
      ],
      "execution_count": 0,
      "outputs": []
    },
    {
      "cell_type": "code",
      "metadata": {
        "id": "RepD-3pn1E-1",
        "colab_type": "code",
        "colab": {}
      },
      "source": [
        "# funcao normatiza dados\n",
        "def Normatiza(x):\n",
        "    strings=list(x)\n",
        "    for i in strings:\n",
        "        max_x=x[i].max()\n",
        "        min_x=x[i].min()\n",
        "        a=(max_x+min_x)/2\n",
        "        b=(max_x-min_x)/2\n",
        "        x[i]=(x[i]-a)/b\n",
        "    return x"
      ],
      "execution_count": 0,
      "outputs": []
    },
    {
      "cell_type": "code",
      "metadata": {
        "id": "aMUypVwa1RWF",
        "colab_type": "code",
        "colab": {}
      },
      "source": [
        "# funcao retorna os dados a forma original\n",
        "def Original(x,x_old):\n",
        "    strings=list(x)\n",
        "    for i in strings:\n",
        "        max_x=x_old[i].max()\n",
        "        min_x=x_old[i].min()\n",
        "        a=(max_x+min_x)/2\n",
        "        b=(max_x-min_x)/2\n",
        "        x[i]=x[i]*b+a\n",
        "    return x"
      ],
      "execution_count": 0,
      "outputs": []
    },
    {
      "cell_type": "code",
      "metadata": {
        "id": "ww1KvVqReAhK",
        "colab_type": "code",
        "colab": {}
      },
      "source": [
        "def ANN(Epoch,Neuron_input,Neuron_hidden,Neuron_output,Learning_rate,X_train,y):\n",
        "  syn0 = 2*np.random.random((Neuron_input,Neuron_hidden)) - 1\n",
        "  syn1 = 2*np.random.random((Neuron_hidden,Neuron_output)) - 1\n",
        "  for j in range(Epoch):\n",
        "    l0 = X_train\n",
        "    l1 = tasig(np.dot(l0,syn0))\n",
        "    l2 = purelin(np.dot(l1,syn1))\n",
        "    l2_error = y - l2\n",
        "    l2_delta = l2_error*purelin(l2,deriv=True)\n",
        "    l1_error = l2_delta.dot(syn1.T)\n",
        "    l1_delta = l1_error * tasig(l1,deriv=True)\n",
        "    syn1 += l1.T.dot(l2_delta)*Learning_rate\n",
        "    syn0 += l0.T.dot(l1_delta)*Learning_rate\n",
        "  return syn0,syn1\n",
        "\n"
      ],
      "execution_count": 0,
      "outputs": []
    },
    {
      "cell_type": "code",
      "metadata": {
        "id": "aA6TlqJI0hdM",
        "colab_type": "code",
        "colab": {}
      },
      "source": [
        "def ANN_ycal(syn0,syn1,X_train):\n",
        "  l0 = X_train\n",
        "  l1 = tasig(np.dot(l0,syn0))\n",
        "  l2 = purelin(np.dot(l1,syn1))\n",
        "  y_calc=np.reshape(l2,len(l2))\n",
        "  return y_calc"
      ],
      "execution_count": 0,
      "outputs": []
    },
    {
      "cell_type": "code",
      "metadata": {
        "id": "a5W9iRbPkKsg",
        "colab_type": "code",
        "colab": {}
      },
      "source": [
        "def Classifica(ycalc):\n",
        "  n=len(ycalc)\n",
        "  for i in range(n):\n",
        "    if(ycalc[i]<0):\n",
        "      ycalc[i]=-1\n",
        "    else:\n",
        "      ycalc[i]=1\n",
        "  return ycalc"
      ],
      "execution_count": 0,
      "outputs": []
    },
    {
      "cell_type": "code",
      "metadata": {
        "id": "NEL03IsAOY-m",
        "colab_type": "code",
        "colab": {}
      },
      "source": [
        "def PrecisaoGlobal(tn, fp, fn, tp):\n",
        "  PrecGlob=(tn+tp)/(tn+ fp+ fn+ tp)\n",
        "  return PrecGlob"
      ],
      "execution_count": 0,
      "outputs": []
    },
    {
      "cell_type": "code",
      "metadata": {
        "id": "EzyC9O_NwhPC",
        "colab_type": "code",
        "colab": {}
      },
      "source": [
        "# leitura dos dados\n",
        "DAT=pd.read_csv(\"XY_D10_30_out_7_2019.csv\")\n",
        "#print(DAT.head())"
      ],
      "execution_count": 0,
      "outputs": []
    },
    {
      "cell_type": "code",
      "metadata": {
        "id": "68JOHC6Ozv6d",
        "colab_type": "code",
        "colab": {}
      },
      "source": [
        "# separa as colunas de interesse\n",
        "Index=[1,2,3,4,5,6,7,8,9,10,11,12,13,14,15,16,17]\n",
        "Dat_Select=[]\n",
        "Dat_Select=DAT.iloc[:,Index].copy()\n",
        "\n",
        "pd.set_option('display.max_columns', 30)\n",
        "pd.set_option('display.max_rows', 30)\n",
        "#print(Dat_Select)\n",
        "#print(Dat_Select.head())"
      ],
      "execution_count": 0,
      "outputs": []
    },
    {
      "cell_type": "code",
      "metadata": {
        "id": "_vpQ5HTM06TE",
        "colab_type": "code",
        "colab": {}
      },
      "source": [
        "DAT_OLD=[]\n",
        "DAT_OLD=Dat_Select.copy()\n",
        "DAT=Normatiza(Dat_Select)"
      ],
      "execution_count": 0,
      "outputs": []
    },
    {
      "cell_type": "code",
      "metadata": {
        "id": "bGkfp8xiinMU",
        "colab_type": "code",
        "colab": {}
      },
      "source": [
        "ColF=DAT_OLD['F']\n",
        "W=np.array(DAT_OLD['F'])\n",
        "Wo=np.array(DAT_OLD['Fo'])\n",
        "for i in range(len(W)):\n",
        "  W[i]=W[i]-Wo[i]\n",
        "  if(W[i]<0):\n",
        "    W[i]=-1\n",
        "  else:\n",
        "    W[i]=1\n",
        "DAT['F'] = W"
      ],
      "execution_count": 0,
      "outputs": []
    },
    {
      "cell_type": "code",
      "metadata": {
        "id": "A4LF09Cq0hJu",
        "colab_type": "code",
        "outputId": "d8596454-d1e3-4062-c916-e098773ff156",
        "colab": {
          "base_uri": "https://localhost:8080/",
          "height": 73
        }
      },
      "source": [
        "# obtem as variaveis independentes (treino e teste)\n",
        "# separa os dados em treino e teste\n",
        "train=DAT.sample(frac=0.8,random_state=None) \n",
        "test=DAT.drop(train.index)\n",
        "IND=[1,2,3,4,6,7,8,9,10,11,12,13,14]\n",
        "x_train=train.iloc[:,IND]\n",
        "x_test=test.iloc[:,IND]\n",
        "X_OLD=DAT_OLD.iloc[:,IND]\n",
        "X_NOME=DAT_OLD.columns[IND]\n",
        "print(X_NOME)\n"
      ],
      "execution_count": 0,
      "outputs": [
        {
          "output_type": "stream",
          "text": [
            "Index(['DI RELATIVO', 'FRAC Its', 'VELOC FOBJ', 'VELOC X', 'Fo', 'CRo', 'fmin',\n",
            "       'fmax', 'AD_fmin', 'AD_fmax', 'DELTA FOBJ', 'DELTA VX', 'r_fitness'],\n",
            "      dtype='object')\n"
          ],
          "name": "stdout"
        }
      ]
    },
    {
      "cell_type": "code",
      "metadata": {
        "id": "YW3TW3wQZdLc",
        "colab_type": "code",
        "colab": {}
      },
      "source": [
        "MELHOR_PRECISAO=0\n",
        "MAT0=[]\n",
        "MAT1=[]\n",
        "CONFUSAO=[]"
      ],
      "execution_count": 0,
      "outputs": []
    },
    {
      "cell_type": "code",
      "metadata": {
        "id": "ZSuUAFrL3E1C",
        "colab_type": "code",
        "colab": {}
      },
      "source": [
        "# obtem as variaveis dependentes (treino e teste)\n",
        "Index=[15] #F\n",
        "#Index=[16] #CR\n",
        "y_train=train.iloc[:,Index]\n",
        "y_test=test.iloc[:,Index]\n",
        "Y_OLD=DAT_OLD.iloc[:,Index]\n",
        "#print(y_train.head())"
      ],
      "execution_count": 0,
      "outputs": []
    },
    {
      "cell_type": "code",
      "metadata": {
        "id": "H0GiIKBXXDgu",
        "colab_type": "code",
        "colab": {}
      },
      "source": [
        "y_train=np.array(y_train)\n",
        "Nomes=x_train.columns\n",
        "x_test=np.array(x_test)\n",
        "x_train=np.array(x_train)"
      ],
      "execution_count": 0,
      "outputs": []
    },
    {
      "cell_type": "code",
      "metadata": {
        "id": "C-12imaj0ZqU",
        "colab_type": "code",
        "colab": {}
      },
      "source": [
        "# input dataset\n",
        "Neuron_input=len(X_NOME)\n",
        "Neuron_hidden=9\n",
        "Neuron_output=1\n",
        "Learning_rate=0.001\n",
        "omega=0.9\n",
        "Epoch=20000\n",
        "syn0,syn1=ANN(Epoch,Neuron_input,Neuron_hidden,Neuron_output,Learning_rate,x_train,y_train)\n",
        "y_obs_train=y_train\n",
        "y_obs_test=y_test\n",
        "y_calc_train=ANN_ycal(syn0,syn1,x_train)\n",
        "y_calc_test=ANN_ycal(syn0,syn1,x_test)"
      ],
      "execution_count": 0,
      "outputs": []
    },
    {
      "cell_type": "code",
      "metadata": {
        "colab_type": "code",
        "outputId": "8d7e7d3e-fce3-42dd-801f-bd9999bed54c",
        "id": "7YrQjethbp2T",
        "colab": {
          "base_uri": "https://localhost:8080/",
          "height": 279
        }
      },
      "source": [
        "print(\"Epocas=\",Epoch,\"Learning rate=\",Learning_rate,\"Dados teste matriz confusao:\")\n",
        "print(X_NOME)\n",
        "print(\"====================================\")\n",
        "y_calc_train = Classifica(y_calc_train)\n",
        "y_calc_test = Classifica(y_calc_test)\n",
        "\n",
        "\n",
        "\n",
        "tn, fp, fn, tp = confusion_matrix(y_calc_train,y_obs_train).ravel()\n",
        "PrecTreino=PrecisaoGlobal(tn, fp, fn, tp)\n",
        "print(\"Treino precisao global=\",PrecTreino)\n",
        "print(\"Treino tn: %d  fp: %d fn: %d tp: %d\" % (tn, fp, fn, tp))\n",
        "print(confusion_matrix(y_calc_train,y_obs_train))\n",
        "\n",
        "\n",
        "print(\"====================================\")\n",
        "tn, fp, fn, tp = confusion_matrix(y_calc_test,y_obs_test).ravel()\n",
        "PrecTeste=PrecisaoGlobal(tn, fp, fn, tp)\n",
        "print(\"Teste: precisao global=\",PrecTeste)\n",
        "print(\"Teste tn: %d  fp: %d fn: %d tp: %d\" % (tn, fp, fn, tp))\n",
        "print(confusion_matrix(y_calc_test,y_obs_test))\n",
        "\n",
        "\n",
        "\n",
        "if MELHOR_PRECISAO< PrecTeste:\n",
        "  MELHOR_PRECISAO=PrecTeste\n",
        "  MAT0=np.copy(syn0)\n",
        "  MAT1=np.copy(syn1)\n",
        "  CONF_teste=np.copy(confusion_matrix(y_calc_test,y_obs_test))\n",
        "  CONF_treino=np.copy(confusion_matrix(y_calc_train,y_obs_train))\n"
      ],
      "execution_count": 0,
      "outputs": [
        {
          "output_type": "stream",
          "text": [
            "Epocas= 20000 Learning rate= 0.001 Dados teste matriz confusao:\n",
            "Index(['DI RELATIVO', 'FRAC Its', 'VELOC FOBJ', 'VELOC X', 'Fo', 'CRo', 'fmin',\n",
            "       'fmax', 'AD_fmin', 'AD_fmax', 'DELTA FOBJ', 'DELTA VX', 'r_fitness'],\n",
            "      dtype='object')\n",
            "====================================\n",
            "Treino precisao global= 0.9900990099009901\n",
            "Treino tn: 51  fp: 0 fn: 1 tp: 49\n",
            "[[51  0]\n",
            " [ 1 49]]\n",
            "====================================\n",
            "Teste: precisao global= 0.6\n",
            "Teste tn: 9  fp: 5 fn: 5 tp: 6\n",
            "[[9 5]\n",
            " [5 6]]\n"
          ],
          "name": "stdout"
        }
      ]
    },
    {
      "cell_type": "code",
      "metadata": {
        "id": "YGi7iOvbaDaH",
        "colab_type": "code",
        "colab": {}
      },
      "source": [
        ""
      ],
      "execution_count": 0,
      "outputs": []
    },
    {
      "cell_type": "code",
      "metadata": {
        "id": "krbBMFr3Zzg0",
        "colab_type": "code",
        "colab": {}
      },
      "source": [
        ""
      ],
      "execution_count": 0,
      "outputs": []
    },
    {
      "cell_type": "markdown",
      "metadata": {
        "id": "seMVAZJARJWo",
        "colab_type": "text"
      },
      "source": [
        "**So para lembrar q o .ravel() existe!!**"
      ]
    },
    {
      "cell_type": "code",
      "metadata": {
        "id": "tMTDhtULQRHY",
        "colab_type": "code",
        "outputId": "9a66a3de-09b2-4134-dd79-9d2956f4be56",
        "colab": {
          "base_uri": "https://localhost:8080/",
          "height": 92
        }
      },
      "source": [
        "print(confusion_matrix(y_calc_test,y_obs_test))\n",
        "print(confusion_matrix(y_calc_test,y_obs_test).ravel())\n",
        "a,b,c,d,e,f,g,h=[1,2,3,4,5,6,7,99]\n",
        "print(h)"
      ],
      "execution_count": 0,
      "outputs": [
        {
          "output_type": "stream",
          "text": [
            "[[9 5]\n",
            " [5 6]]\n",
            "[9 5 5 6]\n",
            "99\n"
          ],
          "name": "stdout"
        }
      ]
    },
    {
      "cell_type": "code",
      "metadata": {
        "id": "4Ld0k8q9BVr0",
        "colab_type": "code",
        "colab": {}
      },
      "source": [
        "# input dataset\n",
        "Neuron_input=len(X_NOME)\n",
        "Neuron_hidden=9\n",
        "Neuron_output=1\n",
        "Learning_rate=0.0001\n",
        "omega=0.9\n",
        "Epoch=100000\n",
        "syn0,syn1=ANN(Epoch,Neuron_input,Neuron_hidden,Neuron_output,Learning_rate,x_train,y_train)\n",
        "y_obs_train=y_train\n",
        "y_obs_test=y_test\n",
        "y_calc_train=ANN_ycal(syn0,syn1,x_train)\n",
        "y_obs_test=y_test\n",
        "y_calc_test=ANN_ycal(syn0,syn1,x_test)\n",
        "\n"
      ],
      "execution_count": 0,
      "outputs": []
    },
    {
      "cell_type": "code",
      "metadata": {
        "colab_type": "code",
        "outputId": "7250dbd6-0b9d-437c-b7e0-e0a4281abf9b",
        "id": "Xb8lzp_oSHjg",
        "colab": {
          "base_uri": "https://localhost:8080/",
          "height": 279
        }
      },
      "source": [
        "print(\"Epocas=\",Epoch,\"Learning rate=\",Learning_rate,\"Dados teste matriz confusao:\")\n",
        "print(X_NOME)\n",
        "print(\"====================================\")\n",
        "y_calc_train = Classifica(y_calc_train)\n",
        "y_calc_test = Classifica(y_calc_test)\n",
        "\n",
        "\n",
        "\n",
        "tn, fp, fn, tp = confusion_matrix(y_calc_train,y_obs_train).ravel()\n",
        "PrecTreino=PrecisaoGlobal(tn, fp, fn, tp)\n",
        "print(\"Treino precisao global=\",PrecTreino)\n",
        "print(\"Treino tn: %d  fp: %d fn: %d tp: %d\" % (tn, fp, fn, tp))\n",
        "print(confusion_matrix(y_calc_train,y_obs_train))\n",
        "\n",
        "\n",
        "print(\"====================================\")\n",
        "tn, fp, fn, tp = confusion_matrix(y_calc_test,y_obs_test).ravel()\n",
        "PrecTeste=PrecisaoGlobal(tn, fp, fn, tp)\n",
        "print(\"Teste: precisao global=\",PrecTeste)\n",
        "print(\"Teste tn: %d  fp: %d fn: %d tp: %d\" % (tn, fp, fn, tp))\n",
        "print(confusion_matrix(y_calc_test,y_obs_test))\n",
        "\n",
        "\n",
        "\n",
        "if MELHOR_PRECISAO< PrecTeste:\n",
        "  MELHOR_PRECISAO=PrecTeste\n",
        "  MAT0=np.copy(syn0)\n",
        "  MAT1=np.copy(syn1)\n",
        "  CONF_teste=np.copy(confusion_matrix(y_calc_test,y_obs_test))\n",
        "  CONF_treino=np.copy(confusion_matrix(y_calc_train,y_obs_train))"
      ],
      "execution_count": 0,
      "outputs": [
        {
          "output_type": "stream",
          "text": [
            "Epocas= 100000 Learning rate= 0.0001 Dados teste matriz confusao:\n",
            "Index(['DI RELATIVO', 'FRAC Its', 'VELOC FOBJ', 'VELOC X', 'Fo', 'CRo', 'fmin',\n",
            "       'fmax', 'AD_fmin', 'AD_fmax', 'DELTA FOBJ', 'DELTA VX', 'r_fitness'],\n",
            "      dtype='object')\n",
            "====================================\n",
            "Treino precisao global= 1.0\n",
            "Treino tn: 52  fp: 0 fn: 0 tp: 49\n",
            "[[52  0]\n",
            " [ 0 49]]\n",
            "====================================\n",
            "Teste: precisao global= 0.64\n",
            "Teste tn: 10  fp: 5 fn: 4 tp: 6\n",
            "[[10  5]\n",
            " [ 4  6]]\n"
          ],
          "name": "stdout"
        }
      ]
    },
    {
      "cell_type": "code",
      "metadata": {
        "id": "X-i4-9_ASjJo",
        "colab_type": "code",
        "colab": {}
      },
      "source": [
        "# print(X_NOME)"
      ],
      "execution_count": 0,
      "outputs": []
    },
    {
      "cell_type": "code",
      "metadata": {
        "id": "CT-AMyJ_Sc_k",
        "colab_type": "code",
        "outputId": "530625ca-79f4-498f-de8e-7f6064e91e3c",
        "colab": {
          "base_uri": "https://localhost:8080/",
          "height": 36
        }
      },
      "source": [
        "# ========= Novas mudancas ==================================================\n",
        "IND=[1,2,6,7]\n",
        "x_train=train.iloc[:,IND]\n",
        "x_test=test.iloc[:,IND]\n",
        "X_OLD=DAT_OLD.iloc[:,IND]\n",
        "X_NOME=DAT_OLD.columns[IND]\n",
        "print(X_NOME)\n",
        "y_train=np.array(y_train)\n",
        "x_test=np.array(x_test)\n",
        "x_train=np.array(x_train)"
      ],
      "execution_count": 0,
      "outputs": [
        {
          "output_type": "stream",
          "text": [
            "Index(['DI RELATIVO', 'FRAC Its', 'Fo', 'CRo'], dtype='object')\n"
          ],
          "name": "stdout"
        }
      ]
    },
    {
      "cell_type": "code",
      "metadata": {
        "id": "QNcu08l11Hiy",
        "colab_type": "code",
        "colab": {}
      },
      "source": [
        "# input dataset\n",
        "Neuron_input=len(X_NOME)\n",
        "Neuron_hidden=9\n",
        "Neuron_output=1\n",
        "Learning_rate=0.0001\n",
        "omega=0.9\n",
        "Epoch=300000\n",
        "syn0,syn1=ANN(Epoch,Neuron_input,Neuron_hidden,Neuron_output,Learning_rate,x_train,y_train)\n",
        "y_obs_train=y_train\n",
        "y_obs_test=y_test\n",
        "y_calc_train=ANN_ycal(syn0,syn1,x_train)\n",
        "y_obs_test=y_test\n",
        "y_calc_test=ANN_ycal(syn0,syn1,x_test)\n",
        "\n"
      ],
      "execution_count": 0,
      "outputs": []
    },
    {
      "cell_type": "code",
      "metadata": {
        "id": "gqicKzzwIFMW",
        "colab_type": "code",
        "outputId": "14a242e5-ff9a-4775-e14b-356384019dd3",
        "colab": {
          "base_uri": "https://localhost:8080/",
          "height": 241
        }
      },
      "source": [
        "print(\"Epocas=\",Epoch,\"Learning rate=\",Learning_rate,\"Dados teste matriz confusao:\")\n",
        "print(X_NOME)\n",
        "print(\"====================================\")\n",
        "y_calc_train = Classifica(y_calc_train)\n",
        "y_calc_test = Classifica(y_calc_test)\n",
        "\n",
        "\n",
        "\n",
        "tn, fp, fn, tp = confusion_matrix(y_calc_train,y_obs_train).ravel()\n",
        "PrecTreino=PrecisaoGlobal(tn, fp, fn, tp)\n",
        "print(\"Treino precisao global=\",PrecTreino)\n",
        "print(\"Treino tn: %d  fp: %d fn: %d tp: %d\" % (tn, fp, fn, tp))\n",
        "print(confusion_matrix(y_calc_train,y_obs_train))\n",
        "\n",
        "\n",
        "print(\"====================================\")\n",
        "tn, fp, fn, tp = confusion_matrix(y_calc_test,y_obs_test).ravel()\n",
        "PrecTeste=PrecisaoGlobal(tn, fp, fn, tp)\n",
        "print(\"Teste: precisao global=\",PrecTeste)\n",
        "print(\"Teste tn: %d  fp: %d fn: %d tp: %d\" % (tn, fp, fn, tp))\n",
        "print(confusion_matrix(y_calc_test,y_obs_test))\n",
        "\n",
        "\n",
        "\n",
        "if MELHOR_PRECISAO< PrecTeste:\n",
        "  MELHOR_PRECISAO=PrecTeste\n",
        "  MAT0=np.copy(syn0)\n",
        "  MAT1=np.copy(syn1)\n",
        "  CONF_teste=np.copy(confusion_matrix(y_calc_test,y_obs_test))\n",
        "  CONF_treino=np.copy(confusion_matrix(y_calc_train,y_obs_train))\n",
        "\n"
      ],
      "execution_count": 0,
      "outputs": [
        {
          "output_type": "stream",
          "text": [
            "Epocas= 300000 Learning rate= 0.0001 Dados teste matriz confusao:\n",
            "Index(['DI RELATIVO', 'FRAC Its', 'Fo', 'CRo'], dtype='object')\n",
            "====================================\n",
            "Treino precisao global= 0.8712871287128713\n",
            "Treino tn: 47  fp: 8 fn: 5 tp: 41\n",
            "[[47  8]\n",
            " [ 5 41]]\n",
            "====================================\n",
            "Teste: precisao global= 0.72\n",
            "Teste tn: 10  fp: 3 fn: 4 tp: 8\n",
            "[[10  3]\n",
            " [ 4  8]]\n"
          ],
          "name": "stdout"
        }
      ]
    },
    {
      "cell_type": "code",
      "metadata": {
        "id": "hc7oCwk3NFND",
        "colab_type": "code",
        "outputId": "7de848c8-bfee-492b-c258-0704e84f91a2",
        "colab": {
          "base_uri": "https://localhost:8080/",
          "height": 465
        }
      },
      "source": [
        "print(\"Melhor precisao=\",MELHOR_PRECISAO)\n",
        "print(MAT0)\n",
        "print(MAT1)\n",
        "nl0=MAT0.shape[0];nc0=MAT0.shape[1]\n",
        "nl1=MAT1.shape[0];nc1=MAT1.shape[1]\n",
        "print(\"colunas %d e linhas %d MAT0\" % (nc0,nl0))\n",
        "print(\"colunas %d e linhas %d MAT1\" % (nc1,nl1))\n",
        "print(CONF_teste)\n",
        "print(CONF_treino)"
      ],
      "execution_count": 0,
      "outputs": [
        {
          "output_type": "stream",
          "text": [
            "Melhor precisao= 0.72\n",
            "[[-2.2451523   1.44647017 -1.42525924 -1.04950789  0.90698793  0.17869166\n",
            "   1.67866068  0.48119467 -1.67045608]\n",
            " [-1.73434273 -0.01352672 -3.33598937 -0.58648365  0.3633048   0.84434149\n",
            "   4.26364034  0.02383794 -2.75085005]\n",
            " [-3.67269544  4.45029704  0.01140948 -4.18075988  1.4732019  -4.49958934\n",
            "   0.60969933 -0.57032133  0.17368931]\n",
            " [-1.92583246 -0.93725304  1.29062356 -1.96620227 -0.00890646  1.79303483\n",
            "  -2.75163919  0.95214866 -0.2276709 ]]\n",
            "[[-2.85685105]\n",
            " [ 2.51821611]\n",
            " [ 3.54052363]\n",
            " [ 2.8105423 ]\n",
            " [-2.77062347]\n",
            " [ 1.00639321]\n",
            " [ 2.24710669]\n",
            " [ 0.01173604]\n",
            " [-1.47390986]]\n",
            "colunas 9 e linhas 4 MAT0\n",
            "colunas 1 e linhas 9 MAT1\n",
            "[[10  3]\n",
            " [ 4  8]]\n",
            "[[47  8]\n",
            " [ 5 41]]\n"
          ],
          "name": "stdout"
        }
      ]
    },
    {
      "cell_type": "code",
      "metadata": {
        "id": "u_JANQ_rkZjw",
        "colab_type": "code",
        "outputId": "8f40fbef-486b-4440-f848-c8fddbdaea18",
        "colab": {
          "base_uri": "https://localhost:8080/",
          "height": 658
        }
      },
      "source": [
        "Nomes=['OTIMO','PARTIC_best','Xresp']\n",
        "print(\"Melhor precisao=\",MELHOR_PRECISAO)\n",
        "print(MAT0)\n",
        "print(MAT1)\n",
        "nl0=MAT0.shape[0];nc0=MAT0.shape[1]\n",
        "nl1=MAT1.shape[0];nc1=MAT1.shape[1]\n",
        "print(\"colunas %d e linhas %d MAT0\" % (nc0,nl0))\n",
        "print(\"colunas %d e linhas %d MAT1\" % (nc1,nl1))\n",
        "print(CONF_teste)\n",
        "print(CONF_treino)\n",
        "BUSCA=pd.Series([OTIMO,PARTIC_best,Xresp],index=Nomes )"
      ],
      "execution_count": 0,
      "outputs": [
        {
          "output_type": "stream",
          "text": [
            "Melhor precisao= 0.72\n",
            "[[-2.2451523   1.44647017 -1.42525924 -1.04950789  0.90698793  0.17869166\n",
            "   1.67866068  0.48119467 -1.67045608]\n",
            " [-1.73434273 -0.01352672 -3.33598937 -0.58648365  0.3633048   0.84434149\n",
            "   4.26364034  0.02383794 -2.75085005]\n",
            " [-3.67269544  4.45029704  0.01140948 -4.18075988  1.4732019  -4.49958934\n",
            "   0.60969933 -0.57032133  0.17368931]\n",
            " [-1.92583246 -0.93725304  1.29062356 -1.96620227 -0.00890646  1.79303483\n",
            "  -2.75163919  0.95214866 -0.2276709 ]]\n",
            "[[-2.85685105]\n",
            " [ 2.51821611]\n",
            " [ 3.54052363]\n",
            " [ 2.8105423 ]\n",
            " [-2.77062347]\n",
            " [ 1.00639321]\n",
            " [ 2.24710669]\n",
            " [ 0.01173604]\n",
            " [-1.47390986]]\n",
            "colunas 9 e linhas 4 MAT0\n",
            "colunas 1 e linhas 9 MAT1\n",
            "[[10  3]\n",
            " [ 4  8]]\n",
            "[[47  8]\n",
            " [ 5 41]]\n"
          ],
          "name": "stdout"
        },
        {
          "output_type": "error",
          "ename": "NameError",
          "evalue": "ignored",
          "traceback": [
            "\u001b[0;31m---------------------------------------------------------------------------\u001b[0m",
            "\u001b[0;31mNameError\u001b[0m                                 Traceback (most recent call last)",
            "\u001b[0;32m<ipython-input-91-bc956c156a8e>\u001b[0m in \u001b[0;36m<module>\u001b[0;34m()\u001b[0m\n\u001b[1;32m      9\u001b[0m \u001b[0mprint\u001b[0m\u001b[0;34m(\u001b[0m\u001b[0mCONF_teste\u001b[0m\u001b[0;34m)\u001b[0m\u001b[0;34m\u001b[0m\u001b[0;34m\u001b[0m\u001b[0m\n\u001b[1;32m     10\u001b[0m \u001b[0mprint\u001b[0m\u001b[0;34m(\u001b[0m\u001b[0mCONF_treino\u001b[0m\u001b[0;34m)\u001b[0m\u001b[0;34m\u001b[0m\u001b[0;34m\u001b[0m\u001b[0m\n\u001b[0;32m---> 11\u001b[0;31m \u001b[0mBUSCA\u001b[0m\u001b[0;34m=\u001b[0m\u001b[0mpd\u001b[0m\u001b[0;34m.\u001b[0m\u001b[0mSeries\u001b[0m\u001b[0;34m(\u001b[0m\u001b[0;34m[\u001b[0m\u001b[0mOTIMO\u001b[0m\u001b[0;34m,\u001b[0m\u001b[0mPARTIC_best\u001b[0m\u001b[0;34m,\u001b[0m\u001b[0mXresp\u001b[0m\u001b[0;34m]\u001b[0m\u001b[0;34m,\u001b[0m\u001b[0mindex\u001b[0m\u001b[0;34m=\u001b[0m\u001b[0mNomes\u001b[0m \u001b[0;34m)\u001b[0m\u001b[0;34m\u001b[0m\u001b[0;34m\u001b[0m\u001b[0m\n\u001b[0m",
            "\u001b[0;31mNameError\u001b[0m: name 'OTIMO' is not defined"
          ]
        }
      ]
    },
    {
      "cell_type": "code",
      "metadata": {
        "id": "SBeF10Z_iapv",
        "colab_type": "code",
        "colab": {}
      },
      "source": [
        "TESTE=np.array([[1,2,3],[4,5,6]])\n",
        "print(TESTE)\n",
        "print(TESTE.shape)"
      ],
      "execution_count": 0,
      "outputs": []
    }
  ]
}