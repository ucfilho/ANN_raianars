{
  "nbformat": 4,
  "nbformat_minor": 0,
  "metadata": {
    "colab": {
      "name": "ANN_parte_015_Métricas_classifica_OUT_07_2019.ipynb",
      "provenance": [],
      "collapsed_sections": [],
      "include_colab_link": true
    },
    "kernelspec": {
      "name": "python3",
      "display_name": "Python 3"
    }
  },
  "cells": [
    {
      "cell_type": "markdown",
      "metadata": {
        "id": "view-in-github",
        "colab_type": "text"
      },
      "source": [
        "<a href=\"https://colab.research.google.com/github/ucfilho/ANN_raianars/blob/master/ANN_parte_015_M%C3%A9tricas_classifica_OUT_07_2019.ipynb\" target=\"_parent\"><img src=\"https://colab.research.google.com/assets/colab-badge.svg\" alt=\"Open In Colab\"/></a>"
      ]
    },
    {
      "cell_type": "code",
      "metadata": {
        "id": "IJMhyBoEZHIU",
        "colab_type": "code",
        "outputId": "86b8594d-8247-4b66-f205-ea6de0472c46",
        "colab": {
          "base_uri": "https://localhost:8080/",
          "height": 167
        }
      },
      "source": [
        "import numpy as np\n",
        "import pandas as pd\n",
        "import matplotlib.pyplot as plt\n",
        "from sklearn.metrics import confusion_matrix\n",
        "\n",
        "# este comando clona o diretorio github ucfilho/ANN no colaboratory research\n",
        "!git clone https://github.com/RaianaSeixas/ANN #clonar do Github\n",
        "%cd ANN\n",
        "#!ls\n",
        "print(\"Hello world\"+\"\\n\"+\"I'm evolving!!!\"+\"\\n\")\n",
        "\n",
        "%matplotlib inline"
      ],
      "execution_count": 24,
      "outputs": [
        {
          "output_type": "stream",
          "text": [
            "Cloning into 'ANN'...\n",
            "remote: Enumerating objects: 70, done.\u001b[K\n",
            "Unpacking objects:   1% (1/70)   \rUnpacking objects:   2% (2/70)   \rUnpacking objects:   4% (3/70)   \rUnpacking objects:   5% (4/70)   \rUnpacking objects:   7% (5/70)   \rUnpacking objects:   8% (6/70)   \rUnpacking objects:  10% (7/70)   \rUnpacking objects:  11% (8/70)   \rUnpacking objects:  12% (9/70)   \rUnpacking objects:  14% (10/70)   \rUnpacking objects:  15% (11/70)   \rUnpacking objects:  17% (12/70)   \rUnpacking objects:  18% (13/70)   \rUnpacking objects:  20% (14/70)   \rUnpacking objects:  21% (15/70)   \rUnpacking objects:  22% (16/70)   \rUnpacking objects:  24% (17/70)   \rUnpacking objects:  25% (18/70)   \rUnpacking objects:  27% (19/70)   \rUnpacking objects:  28% (20/70)   \rUnpacking objects:  30% (21/70)   \rUnpacking objects:  31% (22/70)   \rUnpacking objects:  32% (23/70)   \rUnpacking objects:  34% (24/70)   \rUnpacking objects:  35% (25/70)   \rUnpacking objects:  37% (26/70)   \rUnpacking objects:  38% (27/70)   \rUnpacking objects:  40% (28/70)   \rUnpacking objects:  41% (29/70)   \rUnpacking objects:  42% (30/70)   \rUnpacking objects:  44% (31/70)   \rUnpacking objects:  45% (32/70)   \rUnpacking objects:  47% (33/70)   \rUnpacking objects:  48% (34/70)   \rUnpacking objects:  50% (35/70)   \rUnpacking objects:  51% (36/70)   \rUnpacking objects:  52% (37/70)   \rUnpacking objects:  54% (38/70)   \rUnpacking objects:  55% (39/70)   \rUnpacking objects:  57% (40/70)   \rUnpacking objects:  58% (41/70)   \rremote: Total 70 (delta 0), reused 0 (delta 0), pack-reused 70\u001b[K\n",
            "Unpacking objects:  60% (42/70)   \rUnpacking objects:  61% (43/70)   \rUnpacking objects:  62% (44/70)   \rUnpacking objects:  64% (45/70)   \rUnpacking objects:  65% (46/70)   \rUnpacking objects:  67% (47/70)   \rUnpacking objects:  68% (48/70)   \rUnpacking objects:  70% (49/70)   \rUnpacking objects:  71% (50/70)   \rUnpacking objects:  72% (51/70)   \rUnpacking objects:  74% (52/70)   \rUnpacking objects:  75% (53/70)   \rUnpacking objects:  77% (54/70)   \rUnpacking objects:  78% (55/70)   \rUnpacking objects:  80% (56/70)   \rUnpacking objects:  81% (57/70)   \rUnpacking objects:  82% (58/70)   \rUnpacking objects:  84% (59/70)   \rUnpacking objects:  85% (60/70)   \rUnpacking objects:  87% (61/70)   \rUnpacking objects:  88% (62/70)   \rUnpacking objects:  90% (63/70)   \rUnpacking objects:  91% (64/70)   \rUnpacking objects:  92% (65/70)   \rUnpacking objects:  94% (66/70)   \rUnpacking objects:  95% (67/70)   \rUnpacking objects:  97% (68/70)   \rUnpacking objects:  98% (69/70)   \rUnpacking objects: 100% (70/70)   \rUnpacking objects: 100% (70/70), done.\n",
            "/content/ANN/ANN\n",
            "Hello world\n",
            "I'm evolving!!!\n",
            "\n"
          ],
          "name": "stdout"
        }
      ]
    },
    {
      "cell_type": "code",
      "metadata": {
        "id": "x09IGM7OYxpw",
        "colab_type": "code",
        "outputId": "f9369c6e-3bfb-4244-fbc4-a0fc075f0575",
        "colab": {
          "base_uri": "https://localhost:8080/",
          "height": 167
        }
      },
      "source": [
        "!ls"
      ],
      "execution_count": 25,
      "outputs": [
        {
          "output_type": "stream",
          "text": [
            "000_ANN_Gera_Matriz_out_04_2019.ipynb\t\t    X_DAT_B_set_17_2019.csv\n",
            "000_ANN_parte_001_XY_dados_out_01_2019.ipynb\t    X_DAT_set_17_2019.csv\n",
            "000_ANN_parte_002_XY_Métricas_D10_OUT_4_2019.ipynb  XY_D10_30_out_7_2019.csv\n",
            "000_ANN_parte_009_Métricas_PCA_OUT_07_2019.ipynb    XY_D10_out_1_2019.csv\n",
            "000_Gerenciador_DE_var_F_CR_STAT_set_27_2019.ipynb  XY_D10_out_5_2019.csv\n",
            "imput_ANN_D10_30_out_07_19.zip\t\t\t    Y_DAT_B_set_17_2019.csv\n",
            "imput_ANN_D10_6F.zip\t\t\t\t    Y_DAT_set_17_2019.csv\n",
            "imput_ANN_D10_out_05_19.zip\n"
          ],
          "name": "stdout"
        }
      ]
    },
    {
      "cell_type": "code",
      "metadata": {
        "id": "xPh9-Qc81nMS",
        "colab_type": "code",
        "colab": {}
      },
      "source": [
        "# Functions\n",
        "def sigmoid(x,deriv=False):\n",
        "    if(deriv==True):\n",
        "        return x*(1-x)\n",
        "    return 1/(1+np.exp(-x))\n",
        "\n",
        "def tasig(x,deriv=False):\n",
        "    if(deriv==True):\n",
        "        return 1-x*x\n",
        "    return 2/(1+np.exp(-2*x))-1\n",
        "\n",
        "# purelin function\n",
        "def purelin(x,deriv=False):\n",
        "    if(deriv==True):\n",
        "        return 1\n",
        "    #N=len(x)\n",
        "    #for i in range(N):\n",
        "      #if (x[i]>1):\n",
        "        #x[i]=1\n",
        "    return x"
      ],
      "execution_count": 0,
      "outputs": []
    },
    {
      "cell_type": "code",
      "metadata": {
        "id": "RepD-3pn1E-1",
        "colab_type": "code",
        "colab": {}
      },
      "source": [
        "# funcao normatiza dados\n",
        "def Normatiza(x):\n",
        "    strings=list(x)\n",
        "    for i in strings:\n",
        "        max_x=x[i].max()\n",
        "        min_x=x[i].min()\n",
        "        a=(max_x+min_x)/2\n",
        "        b=(max_x-min_x)/2\n",
        "        x[i]=(x[i]-a)/b\n",
        "    return x"
      ],
      "execution_count": 0,
      "outputs": []
    },
    {
      "cell_type": "code",
      "metadata": {
        "id": "aMUypVwa1RWF",
        "colab_type": "code",
        "colab": {}
      },
      "source": [
        "# funcao retorna os dados a forma original\n",
        "def Original(x,x_old):\n",
        "    strings=list(x)\n",
        "    for i in strings:\n",
        "        max_x=x_old[i].max()\n",
        "        min_x=x_old[i].min()\n",
        "        a=(max_x+min_x)/2\n",
        "        b=(max_x-min_x)/2\n",
        "        x[i]=x[i]*b+a\n",
        "    return x"
      ],
      "execution_count": 0,
      "outputs": []
    },
    {
      "cell_type": "code",
      "metadata": {
        "id": "ww1KvVqReAhK",
        "colab_type": "code",
        "colab": {}
      },
      "source": [
        "def ANN(Epoch,Neuron_input,Neuron_hidden,Neuron_output,Learning_rate,X_train,y):\n",
        "  syn0 = 2*np.random.random((Neuron_input,Neuron_hidden)) - 1\n",
        "  syn1 = 2*np.random.random((Neuron_hidden,Neuron_output)) - 1\n",
        "  for j in range(Epoch):\n",
        "    l0 = X_train\n",
        "    l1 = tasig(np.dot(l0,syn0))\n",
        "    l2 = purelin(np.dot(l1,syn1))\n",
        "    l2_error = y - l2\n",
        "    l2_delta = l2_error*purelin(l2,deriv=True)\n",
        "    l1_error = l2_delta.dot(syn1.T)\n",
        "    l1_delta = l1_error * tasig(l1,deriv=True)\n",
        "    syn1 += l1.T.dot(l2_delta)*Learning_rate\n",
        "    syn0 += l0.T.dot(l1_delta)*Learning_rate\n",
        "  return syn0,syn1\n",
        "\n"
      ],
      "execution_count": 0,
      "outputs": []
    },
    {
      "cell_type": "code",
      "metadata": {
        "id": "aA6TlqJI0hdM",
        "colab_type": "code",
        "colab": {}
      },
      "source": [
        "def ANN_ycal(syn0,syn1,X_train):\n",
        "  l0 = X_train\n",
        "  l1 = tasig(np.dot(l0,syn0))\n",
        "  l2 = purelin(np.dot(l1,syn1))\n",
        "  y_calc=np.reshape(l2,len(l2))\n",
        "  return y_calc"
      ],
      "execution_count": 0,
      "outputs": []
    },
    {
      "cell_type": "code",
      "metadata": {
        "id": "a5W9iRbPkKsg",
        "colab_type": "code",
        "colab": {}
      },
      "source": [
        "def Classifica(ycalc):\n",
        "  n=len(ycalc)\n",
        "  for i in range(n):\n",
        "    if(ycalc[i]<0):\n",
        "      ycalc[i]=-1\n",
        "    else:\n",
        "      ycalc[i]=1\n",
        "  return ycalc"
      ],
      "execution_count": 0,
      "outputs": []
    },
    {
      "cell_type": "code",
      "metadata": {
        "id": "EzyC9O_NwhPC",
        "colab_type": "code",
        "colab": {}
      },
      "source": [
        "# leitura dos dados\n",
        "DAT=pd.read_csv(\"XY_D10_30_out_7_2019.csv\")\n",
        "#print(DAT.head())"
      ],
      "execution_count": 0,
      "outputs": []
    },
    {
      "cell_type": "code",
      "metadata": {
        "id": "68JOHC6Ozv6d",
        "colab_type": "code",
        "colab": {}
      },
      "source": [
        "# separa as colunas de interesse\n",
        "Index=[1,2,3,4,5,6,7,8,9,10,11,12,13,14,15,16,17]\n",
        "Dat_Select=[]\n",
        "Dat_Select=DAT.iloc[:,Index].copy()\n",
        "\n",
        "pd.set_option('display.max_columns', 30)\n",
        "pd.set_option('display.max_rows', 30)\n",
        "#print(Dat_Select)\n",
        "#print(Dat_Select.head())"
      ],
      "execution_count": 0,
      "outputs": []
    },
    {
      "cell_type": "code",
      "metadata": {
        "id": "_vpQ5HTM06TE",
        "colab_type": "code",
        "colab": {}
      },
      "source": [
        "DAT_OLD=[]\n",
        "DAT_OLD=Dat_Select.copy()\n",
        "DAT=Normatiza(Dat_Select)"
      ],
      "execution_count": 0,
      "outputs": []
    },
    {
      "cell_type": "code",
      "metadata": {
        "id": "bGkfp8xiinMU",
        "colab_type": "code",
        "colab": {}
      },
      "source": [
        "ColF=DAT_OLD['F']\n",
        "W=np.array(DAT_OLD['F'])\n",
        "Wo=np.array(DAT_OLD['Fo'])\n",
        "for i in range(len(W)):\n",
        "  W[i]=W[i]-Wo[i]\n",
        "  if(W[i]<0):\n",
        "    W[i]=-1\n",
        "  else:\n",
        "    W[i]=1\n",
        "DAT['F'] = W"
      ],
      "execution_count": 0,
      "outputs": []
    },
    {
      "cell_type": "code",
      "metadata": {
        "id": "A4LF09Cq0hJu",
        "colab_type": "code",
        "outputId": "a35570dd-5a28-4a05-9094-91f8b0febc09",
        "colab": {
          "base_uri": "https://localhost:8080/",
          "height": 73
        }
      },
      "source": [
        "# obtem as variaveis independentes (treino e teste)\n",
        "# separa os dados em treino e teste\n",
        "train=DAT.sample(frac=0.8,random_state=None) \n",
        "test=DAT.drop(train.index)\n",
        "IND=[1,2,3,4,6,7,8,9,10,11,12,13,14]\n",
        "x_train=train.iloc[:,IND]\n",
        "x_test=test.iloc[:,IND]\n",
        "X_OLD=DAT_OLD.iloc[:,IND]\n",
        "X_NOME=DAT_OLD.columns[IND]\n",
        "print(X_NOME)\n"
      ],
      "execution_count": 36,
      "outputs": [
        {
          "output_type": "stream",
          "text": [
            "Index(['DI RELATIVO', 'FRAC Its', 'VELOC FOBJ', 'VELOC X', 'Fo', 'CRo', 'fmin',\n",
            "       'fmax', 'AD_fmin', 'AD_fmax', 'DELTA FOBJ', 'DELTA VX', 'r_fitness'],\n",
            "      dtype='object')\n"
          ],
          "name": "stdout"
        }
      ]
    },
    {
      "cell_type": "code",
      "metadata": {
        "id": "ZSuUAFrL3E1C",
        "colab_type": "code",
        "colab": {}
      },
      "source": [
        "# obtem as variaveis dependentes (treino e teste)\n",
        "Index=[15] #F\n",
        "#Index=[16] #CR\n",
        "y_train=train.iloc[:,Index]\n",
        "y_test=test.iloc[:,Index]\n",
        "Y_OLD=DAT_OLD.iloc[:,Index]\n",
        "#print(y_train.head())"
      ],
      "execution_count": 0,
      "outputs": []
    },
    {
      "cell_type": "code",
      "metadata": {
        "id": "H0GiIKBXXDgu",
        "colab_type": "code",
        "colab": {}
      },
      "source": [
        "y_train=np.array(y_train)\n",
        "Nomes=x_train.columns\n",
        "x_test=np.array(x_test)\n",
        "x_train=np.array(x_train)"
      ],
      "execution_count": 0,
      "outputs": []
    },
    {
      "cell_type": "code",
      "metadata": {
        "id": "C-12imaj0ZqU",
        "colab_type": "code",
        "colab": {}
      },
      "source": [
        "# input dataset\n",
        "Neuron_input=len(X_NOME)\n",
        "Neuron_hidden=9\n",
        "Neuron_output=1\n",
        "Learning_rate=0.001\n",
        "omega=0.9\n",
        "Epoch=20000\n",
        "syn0,syn1=ANN(Epoch,Neuron_input,Neuron_hidden,Neuron_output,Learning_rate,x_train,y_train)\n",
        "y_obs_train=y_train\n",
        "y_obs_test=y_test\n",
        "y_calc_train=ANN_ycal(syn0,syn1,x_train)\n",
        "y_calc_test=ANN_ycal(syn0,syn1,x_test)"
      ],
      "execution_count": 0,
      "outputs": []
    },
    {
      "cell_type": "code",
      "metadata": {
        "colab_type": "code",
        "outputId": "087bf5c8-f6f4-4f2f-d6aa-1f99b89e36ba",
        "id": "7YrQjethbp2T",
        "colab": {
          "base_uri": "https://localhost:8080/",
          "height": 241
        }
      },
      "source": [
        "print(\"Epocas=\",Epoch,\"Learning rate=\",Learning_rate,\"Dados teste matriz confusao:\")\n",
        "print(X_NOME)\n",
        "print(\"====================================\")\n",
        "y_calc_train = Classifica(y_calc_train)\n",
        "y_calc_test = Classifica(y_calc_test)\n",
        "\n",
        "tn, fp, fn, tp = confusion_matrix(y_calc_test,y_obs_test).ravel()\n",
        "print(\"Teste tn: %d  fp: %d fn: %d tp: %d\" % (tn, fp, fn, tp))\n",
        "tn, fp, fn, tp = confusion_matrix(y_calc_train,y_obs_train).ravel()\n",
        "print(\"====================================\")\n",
        "print(confusion_matrix(y_calc_test,y_obs_test))\n",
        "print(\"Treino tn: %d  fp: %d fn: %d tp: %d\" % (tn, fp, fn, tp))\n",
        "print(confusion_matrix(y_calc_train,y_obs_train))\n"
      ],
      "execution_count": 40,
      "outputs": [
        {
          "output_type": "stream",
          "text": [
            "Epocas= 20000 Learning rate= 0.001 Dados teste matriz confusao:\n",
            "Index(['DI RELATIVO', 'FRAC Its', 'VELOC FOBJ', 'VELOC X', 'Fo', 'CRo', 'fmin',\n",
            "       'fmax', 'AD_fmin', 'AD_fmax', 'DELTA FOBJ', 'DELTA VX', 'r_fitness'],\n",
            "      dtype='object')\n",
            "====================================\n",
            "Teste tn: 10  fp: 7 fn: 1 tp: 7\n",
            "====================================\n",
            "[[10  7]\n",
            " [ 1  7]]\n",
            "Treino tn: 55  fp: 0 fn: 0 tp: 46\n",
            "[[55  0]\n",
            " [ 0 46]]\n"
          ],
          "name": "stdout"
        }
      ]
    },
    {
      "cell_type": "code",
      "metadata": {
        "id": "4Ld0k8q9BVr0",
        "colab_type": "code",
        "colab": {}
      },
      "source": [
        "# input dataset\n",
        "Neuron_input=len(X_NOME)\n",
        "Neuron_hidden=9\n",
        "Neuron_output=1\n",
        "Learning_rate=0.0001\n",
        "omega=0.9\n",
        "Epoch=100000\n",
        "syn0,syn1=ANN(Epoch,Neuron_input,Neuron_hidden,Neuron_output,Learning_rate,x_train,y_train)\n",
        "y_obs_train=y_train\n",
        "y_obs_test=y_test\n",
        "y_calc_train=ANN_ycal(syn0,syn1,x_train)\n",
        "y_obs_test=y_test\n",
        "y_calc_test=ANN_ycal(syn0,syn1,x_test)\n",
        "\n"
      ],
      "execution_count": 0,
      "outputs": []
    },
    {
      "cell_type": "code",
      "metadata": {
        "colab_type": "code",
        "outputId": "367668f5-91c1-497a-e945-63413d95c569",
        "id": "Xb8lzp_oSHjg",
        "colab": {
          "base_uri": "https://localhost:8080/",
          "height": 241
        }
      },
      "source": [
        "print(\"Epocas=\",Epoch,\"Learning rate=\",Learning_rate,\"Dados teste matriz confusao:\")\n",
        "print(X_NOME)\n",
        "print(\"====================================\")\n",
        "y_calc_train=Classifica(y_calc_train)\n",
        "y_calc_test=Classifica(y_calc_test)\n",
        "\n",
        "tn, fp, fn, tp = confusion_matrix(y_calc_test,y_obs_test).ravel()\n",
        "print(\"Teste tn: %d  fp: %d fn: %d tp: %d\" % (tn, fp, fn, tp))\n",
        "tn, fp, fn, tp = confusion_matrix(y_calc_train,y_obs_train).ravel()\n",
        "print(\"====================================\")\n",
        "print(confusion_matrix(y_calc_test,y_obs_test))\n",
        "print(\"Treino tn: %d  fp: %d fn: %d tp: %d\" % (tn, fp, fn, tp))\n",
        "print(confusion_matrix(y_calc_train,y_obs_train))"
      ],
      "execution_count": 42,
      "outputs": [
        {
          "output_type": "stream",
          "text": [
            "Epocas= 100000 Learning rate= 0.0001 Dados teste matriz confusao:\n",
            "Index(['DI RELATIVO', 'FRAC Its', 'VELOC FOBJ', 'VELOC X', 'Fo', 'CRo', 'fmin',\n",
            "       'fmax', 'AD_fmin', 'AD_fmax', 'DELTA FOBJ', 'DELTA VX', 'r_fitness'],\n",
            "      dtype='object')\n",
            "====================================\n",
            "Teste tn: 10  fp: 7 fn: 1 tp: 7\n",
            "====================================\n",
            "[[10  7]\n",
            " [ 1  7]]\n",
            "Treino tn: 54  fp: 0 fn: 1 tp: 46\n",
            "[[54  0]\n",
            " [ 1 46]]\n"
          ],
          "name": "stdout"
        }
      ]
    },
    {
      "cell_type": "code",
      "metadata": {
        "id": "X-i4-9_ASjJo",
        "colab_type": "code",
        "outputId": "4af09b50-d19c-425c-a62c-c3abda052547",
        "colab": {
          "base_uri": "https://localhost:8080/",
          "height": 73
        }
      },
      "source": [
        "print(X_NOME)"
      ],
      "execution_count": 43,
      "outputs": [
        {
          "output_type": "stream",
          "text": [
            "Index(['DI RELATIVO', 'FRAC Its', 'VELOC FOBJ', 'VELOC X', 'Fo', 'CRo', 'fmin',\n",
            "       'fmax', 'AD_fmin', 'AD_fmax', 'DELTA FOBJ', 'DELTA VX', 'r_fitness'],\n",
            "      dtype='object')\n"
          ],
          "name": "stdout"
        }
      ]
    },
    {
      "cell_type": "code",
      "metadata": {
        "id": "CT-AMyJ_Sc_k",
        "colab_type": "code",
        "outputId": "840dde08-b9cb-49c4-bdcc-c3989614dc20",
        "colab": {
          "base_uri": "https://localhost:8080/",
          "height": 36
        }
      },
      "source": [
        "# ========= Novas mudancas ==================================================\n",
        "IND=[1,2,6,7]\n",
        "x_train=train.iloc[:,IND]\n",
        "x_test=test.iloc[:,IND]\n",
        "X_OLD=DAT_OLD.iloc[:,IND]\n",
        "X_NOME=DAT_OLD.columns[IND]\n",
        "print(X_NOME)\n",
        "y_train=np.array(y_train)\n",
        "x_test=np.array(x_test)\n",
        "x_train=np.array(x_train)"
      ],
      "execution_count": 44,
      "outputs": [
        {
          "output_type": "stream",
          "text": [
            "Index(['DI RELATIVO', 'FRAC Its', 'Fo', 'CRo'], dtype='object')\n"
          ],
          "name": "stdout"
        }
      ]
    },
    {
      "cell_type": "code",
      "metadata": {
        "id": "QNcu08l11Hiy",
        "colab_type": "code",
        "colab": {}
      },
      "source": [
        "# input dataset\n",
        "Neuron_input=len(X_NOME)\n",
        "Neuron_hidden=9\n",
        "Neuron_output=1\n",
        "Learning_rate=0.0001\n",
        "omega=0.9\n",
        "Epoch=300000\n",
        "syn0,syn1=ANN(Epoch,Neuron_input,Neuron_hidden,Neuron_output,Learning_rate,x_train,y_train)\n",
        "y_obs_train=y_train\n",
        "y_obs_test=y_test\n",
        "y_calc_train=ANN_ycal(syn0,syn1,x_train)\n",
        "y_obs_test=y_test\n",
        "y_calc_test=ANN_ycal(syn0,syn1,x_test)\n",
        "\n"
      ],
      "execution_count": 0,
      "outputs": []
    },
    {
      "cell_type": "code",
      "metadata": {
        "id": "gqicKzzwIFMW",
        "colab_type": "code",
        "outputId": "6d11c3ca-c29b-45fd-c074-88d0a73a2607",
        "colab": {
          "base_uri": "https://localhost:8080/",
          "height": 204
        }
      },
      "source": [
        "print(\"Epocas=\",Epoch,\"Learning rate=\",Learning_rate,\"Dados teste matriz confusao:\")\n",
        "print(X_NOME)\n",
        "print(\"====================================\")\n",
        "y_calc_train=Classifica(y_calc_train)\n",
        "y_calc_test=Classifica(y_calc_test)\n",
        "\n",
        "tn, fp, fn, tp = confusion_matrix(y_calc_test,y_obs_test).ravel()\n",
        "print(\"Teste tn: %d  fp: %d fn: %d tp: %d\" % (tn, fp, fn, tp))\n",
        "tn, fp, fn, tp = confusion_matrix(y_calc_train,y_obs_train).ravel()\n",
        "print(\"====================================\")\n",
        "print(confusion_matrix(y_calc_test,y_obs_test))\n",
        "print(\"Treino tn: %d  fp: %d fn: %d tp: %d\" % (tn, fp, fn, tp))\n",
        "print(confusion_matrix(y_calc_train,y_obs_train))\n",
        "\n"
      ],
      "execution_count": 46,
      "outputs": [
        {
          "output_type": "stream",
          "text": [
            "Epocas= 300000 Learning rate= 0.0001 Dados teste matriz confusao:\n",
            "Index(['DI RELATIVO', 'FRAC Its', 'Fo', 'CRo'], dtype='object')\n",
            "====================================\n",
            "Teste tn: 5  fp: 6 fn: 6 tp: 8\n",
            "====================================\n",
            "[[5 6]\n",
            " [6 8]]\n",
            "Treino tn: 54  fp: 7 fn: 1 tp: 39\n",
            "[[54  7]\n",
            " [ 1 39]]\n"
          ],
          "name": "stdout"
        }
      ]
    }
  ]
}