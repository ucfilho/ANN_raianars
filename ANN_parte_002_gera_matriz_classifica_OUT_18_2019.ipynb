{
  "nbformat": 4,
  "nbformat_minor": 0,
  "metadata": {
    "colab": {
      "name": "ANN_parte_002_gera_matriz_classifica_OUT_18_2019.ipynb",
      "provenance": [],
      "collapsed_sections": [],
      "include_colab_link": true
    },
    "kernelspec": {
      "name": "python3",
      "display_name": "Python 3"
    }
  },
  "cells": [
    {
      "cell_type": "markdown",
      "metadata": {
        "id": "view-in-github",
        "colab_type": "text"
      },
      "source": [
        "<a href=\"https://colab.research.google.com/github/ucfilho/ANN_raianars/blob/master/ANN_parte_002_gera_matriz_classifica_OUT_18_2019.ipynb\" target=\"_parent\"><img src=\"https://colab.research.google.com/assets/colab-badge.svg\" alt=\"Open In Colab\"/></a>"
      ]
    },
    {
      "cell_type": "code",
      "metadata": {
        "id": "IJMhyBoEZHIU",
        "colab_type": "code",
        "outputId": "34cb6f39-21c2-4112-d4dd-f15fd00f512e",
        "colab": {
          "base_uri": "https://localhost:8080/",
          "height": 111
        }
      },
      "source": [
        "import numpy as np\n",
        "import pandas as pd\n",
        "import matplotlib.pyplot as plt\n",
        "from sklearn.metrics import confusion_matrix\n",
        "\n",
        "# este comando clona o diretorio github ucfilho/ANN no colaboratory research\n",
        "!git clone https://github.com/RaianaSeixas/ANN #clonar do Github\n",
        "%cd ANN\n",
        "#!ls\n",
        "print(\"Hello world\"+\"\\n\"+\"I'm evolving!!!\"+\"\\n\")\n",
        "\n",
        "%matplotlib inline"
      ],
      "execution_count": 1,
      "outputs": [
        {
          "output_type": "stream",
          "text": [
            "fatal: destination path 'ANN' already exists and is not an empty directory.\n",
            "/content/ANN\n",
            "Hello world\n",
            "I'm evolving!!!\n",
            "\n"
          ],
          "name": "stdout"
        }
      ]
    },
    {
      "cell_type": "code",
      "metadata": {
        "id": "x09IGM7OYxpw",
        "colab_type": "code",
        "outputId": "5a60c0b6-79fb-471e-9fa8-b3d2acf43189",
        "colab": {
          "base_uri": "https://localhost:8080/",
          "height": 465
        }
      },
      "source": [
        "!ls"
      ],
      "execution_count": 2,
      "outputs": [
        {
          "output_type": "stream",
          "text": [
            "000_ANN_Gera_Matriz_out_04_2019.ipynb\n",
            "000_ANN_parte_001_XY_dados_out_01_2019.ipynb\n",
            "000_ANN_parte_002_XY_Métricas_D10_OUT_4_2019.ipynb\n",
            "000_ANN_parte_009_Métricas_PCA_OUT_07_2019.ipynb\n",
            "000_Gerenciador_DE_var_F_CR_STAT_set_27_2019.ipynb\n",
            "ANN\n",
            "ANN__2019-10-18_19h34min.csv\n",
            "ANN_2019-10-18_19h34min.csv\n",
            "ANN2019-10-18_19h34min.csv\n",
            "ANN_2019-10-18_19h35min.csv\n",
            "ANN_read_matrix\n",
            "drive\n",
            "imput_ANN_D10_30_out_07_19.zip\n",
            "imput_ANN_D10_6F.zip\n",
            "imput_ANN_D10_out_05_19.zip\n",
            "imput_ANN_schwefel_out_11_19.zip\n",
            "X_DAT_B_set_17_2019.csv\n",
            "X_DAT_set_17_2019.csv\n",
            "XY_D10_30_out_7_2019.csv\n",
            "XY_D10_out_1_2019.csv\n",
            "XY_D10_out_5_2019.csv\n",
            "XY_schwefel_out_11_19.csv\n",
            "Y_DAT_B_set_17_2019.csv\n",
            "Y_DAT_set_17_2019.csv\n"
          ],
          "name": "stdout"
        }
      ]
    },
    {
      "cell_type": "code",
      "metadata": {
        "id": "xPh9-Qc81nMS",
        "colab_type": "code",
        "colab": {}
      },
      "source": [
        "# Functions\n",
        "def sigmoid(x,deriv=False):\n",
        "    if(deriv==True):\n",
        "        return x*(1-x)\n",
        "    return 1/(1+np.exp(-x))\n",
        "\n",
        "def tasig(x,deriv=False):\n",
        "    if(deriv==True):\n",
        "        return 1-x*x\n",
        "    return 2/(1+np.exp(-2*x))-1\n",
        "\n",
        "# purelin function\n",
        "def purelin(x,deriv=False):\n",
        "    if(deriv==True):\n",
        "        return 1\n",
        "    #N=len(x)\n",
        "    #for i in range(N):\n",
        "      #if (x[i]>1):\n",
        "        #x[i]=1\n",
        "    return x"
      ],
      "execution_count": 0,
      "outputs": []
    },
    {
      "cell_type": "code",
      "metadata": {
        "id": "RepD-3pn1E-1",
        "colab_type": "code",
        "colab": {}
      },
      "source": [
        "# funcao normatiza dados\n",
        "def Normatiza(x):\n",
        "    strings=list(x)\n",
        "    for i in strings:\n",
        "        max_x=x[i].max()\n",
        "        min_x=x[i].min()\n",
        "        a=(max_x+min_x)/2\n",
        "        b=(max_x-min_x)/2\n",
        "        x[i]=(x[i]-a)/b\n",
        "    return x"
      ],
      "execution_count": 0,
      "outputs": []
    },
    {
      "cell_type": "code",
      "metadata": {
        "id": "aMUypVwa1RWF",
        "colab_type": "code",
        "colab": {}
      },
      "source": [
        "# funcao retorna os dados a forma original\n",
        "def Original(x,x_old):\n",
        "    strings=list(x)\n",
        "    for i in strings:\n",
        "        max_x=x_old[i].max()\n",
        "        min_x=x_old[i].min()\n",
        "        a=(max_x+min_x)/2\n",
        "        b=(max_x-min_x)/2\n",
        "        x[i]=x[i]*b+a\n",
        "    return x"
      ],
      "execution_count": 0,
      "outputs": []
    },
    {
      "cell_type": "code",
      "metadata": {
        "id": "ww1KvVqReAhK",
        "colab_type": "code",
        "colab": {}
      },
      "source": [
        "def ANN(Epoch,Neuron_input,Neuron_hidden,Neuron_output,Learning_rate,X_train,y):\n",
        "  syn0 = 2*np.random.random((Neuron_input,Neuron_hidden)) - 1\n",
        "  syn1 = 2*np.random.random((Neuron_hidden,Neuron_output)) - 1\n",
        "  for j in range(Epoch):\n",
        "    l0 = X_train\n",
        "    l1 = tasig(np.dot(l0,syn0))\n",
        "    l2 = purelin(np.dot(l1,syn1))\n",
        "    l2_error = y - l2\n",
        "    l2_delta = l2_error*purelin(l2,deriv=True)\n",
        "    l1_error = l2_delta.dot(syn1.T)\n",
        "    l1_delta = l1_error * tasig(l1,deriv=True)\n",
        "    syn1 += l1.T.dot(l2_delta)*Learning_rate\n",
        "    syn0 += l0.T.dot(l1_delta)*Learning_rate\n",
        "  return syn0,syn1\n",
        "\n"
      ],
      "execution_count": 0,
      "outputs": []
    },
    {
      "cell_type": "code",
      "metadata": {
        "id": "aA6TlqJI0hdM",
        "colab_type": "code",
        "colab": {}
      },
      "source": [
        "def ANN_ycal(syn0,syn1,X_train):\n",
        "  l0 = X_train\n",
        "  l1 = tasig(np.dot(l0,syn0))\n",
        "  l2 = purelin(np.dot(l1,syn1))\n",
        "  y_calc=np.reshape(l2,len(l2))\n",
        "  return y_calc"
      ],
      "execution_count": 0,
      "outputs": []
    },
    {
      "cell_type": "code",
      "metadata": {
        "id": "a5W9iRbPkKsg",
        "colab_type": "code",
        "colab": {}
      },
      "source": [
        "def Classifica(ycalc):\n",
        "  n=len(ycalc)\n",
        "  for i in range(n):\n",
        "    if(ycalc[i]<0):\n",
        "      ycalc[i]=-1\n",
        "    else:\n",
        "      ycalc[i]=1\n",
        "  return ycalc"
      ],
      "execution_count": 0,
      "outputs": []
    },
    {
      "cell_type": "code",
      "metadata": {
        "id": "NEL03IsAOY-m",
        "colab_type": "code",
        "colab": {}
      },
      "source": [
        "def PrecisaoGlobal(tn, fp, fn, tp):\n",
        "  PrecGlob=(tn+tp)/(tn+ fp+ fn+ tp)\n",
        "  return PrecGlob"
      ],
      "execution_count": 0,
      "outputs": []
    },
    {
      "cell_type": "code",
      "metadata": {
        "id": "EzyC9O_NwhPC",
        "colab_type": "code",
        "colab": {}
      },
      "source": [
        "# leitura dos dados\n",
        "DAT=pd.read_csv(\"XY_D10_30_out_7_2019.csv\")\n",
        "#print(DAT.head())\n",
        "#print(len(DAT))"
      ],
      "execution_count": 0,
      "outputs": []
    },
    {
      "cell_type": "code",
      "metadata": {
        "id": "68JOHC6Ozv6d",
        "colab_type": "code",
        "colab": {}
      },
      "source": [
        "# separa as colunas de interesse\n",
        "Index=[1,2,3,4,5,6,7,8,9,10,11,12,13,14,15,16,17]\n",
        "Dat_Select=[]\n",
        "Dat_Select=DAT.iloc[:,Index].copy()\n",
        "\n",
        "pd.set_option('display.max_columns', 30)\n",
        "pd.set_option('display.max_rows', 30)\n",
        "#print(Dat_Select)\n",
        "#print(Dat_Select.head())"
      ],
      "execution_count": 0,
      "outputs": []
    },
    {
      "cell_type": "code",
      "metadata": {
        "id": "_vpQ5HTM06TE",
        "colab_type": "code",
        "colab": {}
      },
      "source": [
        "DAT_OLD=[]\n",
        "DAT_OLD=Dat_Select.copy()\n",
        "DAT=Normatiza(Dat_Select)"
      ],
      "execution_count": 0,
      "outputs": []
    },
    {
      "cell_type": "code",
      "metadata": {
        "id": "bGkfp8xiinMU",
        "colab_type": "code",
        "colab": {}
      },
      "source": [
        "ColF=DAT_OLD['F']\n",
        "W=np.array(DAT_OLD['F'])\n",
        "Wo=np.array(DAT_OLD['Fo'])\n",
        "for i in range(len(W)):\n",
        "  W[i]=W[i]-Wo[i]\n",
        "  if(W[i]<0):\n",
        "    W[i]=-1\n",
        "  else:\n",
        "    W[i]=1\n",
        "DAT['F'] = W"
      ],
      "execution_count": 0,
      "outputs": []
    },
    {
      "cell_type": "code",
      "metadata": {
        "id": "A4LF09Cq0hJu",
        "colab_type": "code",
        "outputId": "aba92f52-fd98-437c-ab52-98924ad0e28e",
        "colab": {
          "base_uri": "https://localhost:8080/",
          "height": 73
        }
      },
      "source": [
        "# obtem as variaveis independentes (treino e teste)\n",
        "# separa os dados em treino e teste\n",
        "train=DAT.sample(frac=0.8,random_state=None) \n",
        "test=DAT.drop(train.index)\n",
        "IND=[1,2,3,4,6,7,8,9,10,11,12,13,14]\n",
        "x_train=train.iloc[:,IND]\n",
        "x_test=test.iloc[:,IND]\n",
        "X_OLD=DAT_OLD.iloc[:,IND]\n",
        "X_NOME=DAT_OLD.columns[IND]\n",
        "print(X_NOME)\n"
      ],
      "execution_count": 14,
      "outputs": [
        {
          "output_type": "stream",
          "text": [
            "Index(['DI RELATIVO', 'FRAC Its', 'VELOC FOBJ', 'VELOC X', 'Fo', 'CRo', 'fmin',\n",
            "       'fmax', 'AD_fmin', 'AD_fmax', 'DELTA FOBJ', 'DELTA VX', 'r_fitness'],\n",
            "      dtype='object')\n"
          ],
          "name": "stdout"
        }
      ]
    },
    {
      "cell_type": "code",
      "metadata": {
        "id": "YW3TW3wQZdLc",
        "colab_type": "code",
        "colab": {}
      },
      "source": [
        "MELHOR_PRECISAO=0\n",
        "MAT0=[]\n",
        "MAT1=[]\n",
        "CONFUSAO=[]"
      ],
      "execution_count": 0,
      "outputs": []
    },
    {
      "cell_type": "code",
      "metadata": {
        "id": "ZSuUAFrL3E1C",
        "colab_type": "code",
        "colab": {}
      },
      "source": [
        "# obtem as variaveis dependentes (treino e teste)\n",
        "Index=[15] #F\n",
        "#Index=[16] #CR\n",
        "y_train=train.iloc[:,Index]\n",
        "y_test=test.iloc[:,Index]\n",
        "Y_OLD=DAT_OLD.iloc[:,Index]\n",
        "#print(y_train.head())"
      ],
      "execution_count": 0,
      "outputs": []
    },
    {
      "cell_type": "code",
      "metadata": {
        "id": "H0GiIKBXXDgu",
        "colab_type": "code",
        "colab": {}
      },
      "source": [
        "y_train=np.array(y_train)\n",
        "Nomes=x_train.columns\n",
        "x_test=np.array(x_test)\n",
        "x_train=np.array(x_train)"
      ],
      "execution_count": 0,
      "outputs": []
    },
    {
      "cell_type": "code",
      "metadata": {
        "id": "C-12imaj0ZqU",
        "colab_type": "code",
        "colab": {}
      },
      "source": [
        "# input dataset\n",
        "Neuron_input=len(X_NOME)\n",
        "Neuron_hidden=9\n",
        "Neuron_output=1\n",
        "Learning_rate=0.001\n",
        "omega=0.9\n",
        "Epoch=20000\n",
        "syn0,syn1=ANN(Epoch,Neuron_input,Neuron_hidden,Neuron_output,Learning_rate,x_train,y_train)\n",
        "y_obs_train=y_train\n",
        "y_obs_test=y_test\n",
        "y_calc_train=ANN_ycal(syn0,syn1,x_train)\n",
        "y_calc_test=ANN_ycal(syn0,syn1,x_test)"
      ],
      "execution_count": 0,
      "outputs": []
    },
    {
      "cell_type": "code",
      "metadata": {
        "colab_type": "code",
        "outputId": "a758728a-5442-40b1-d30b-b4cbb23dae1f",
        "id": "7YrQjethbp2T",
        "colab": {
          "base_uri": "https://localhost:8080/",
          "height": 279
        }
      },
      "source": [
        "print(\"Epocas=\",Epoch,\"Learning rate=\",Learning_rate,\"Dados teste matriz confusao:\")\n",
        "print(X_NOME)\n",
        "print(\"====================================\")\n",
        "y_calc_train = Classifica(y_calc_train)\n",
        "y_calc_test = Classifica(y_calc_test)\n",
        "\n",
        "\n",
        "\n",
        "tn, fp, fn, tp = confusion_matrix(y_calc_train,y_obs_train).ravel()\n",
        "PrecTreino=PrecisaoGlobal(tn, fp, fn, tp)\n",
        "print(\"Treino precisao global=\",PrecTreino)\n",
        "print(\"Treino tn: %d  fp: %d fn: %d tp: %d\" % (tn, fp, fn, tp))\n",
        "print(confusion_matrix(y_calc_train,y_obs_train))\n",
        "\n",
        "\n",
        "print(\"====================================\")\n",
        "tn, fp, fn, tp = confusion_matrix(y_calc_test,y_obs_test).ravel()\n",
        "PrecTeste=PrecisaoGlobal(tn, fp, fn, tp)\n",
        "print(\"Teste: precisao global=\",PrecTeste)\n",
        "print(\"Teste tn: %d  fp: %d fn: %d tp: %d\" % (tn, fp, fn, tp))\n",
        "print(confusion_matrix(y_calc_test,y_obs_test))\n",
        "\n",
        "\n",
        "\n",
        "if MELHOR_PRECISAO< PrecTeste:\n",
        "  MELHOR_PRECISAO=PrecTeste\n",
        "  MAT0=np.copy(syn0)\n",
        "  MAT1=np.copy(syn1)\n",
        "  CONF_teste=np.copy(confusion_matrix(y_calc_test,y_obs_test))\n",
        "  CONF_treino=np.copy(confusion_matrix(y_calc_train,y_obs_train))\n"
      ],
      "execution_count": 19,
      "outputs": [
        {
          "output_type": "stream",
          "text": [
            "Epocas= 20000 Learning rate= 0.001 Dados teste matriz confusao:\n",
            "Index(['DI RELATIVO', 'FRAC Its', 'VELOC FOBJ', 'VELOC X', 'Fo', 'CRo', 'fmin',\n",
            "       'fmax', 'AD_fmin', 'AD_fmax', 'DELTA FOBJ', 'DELTA VX', 'r_fitness'],\n",
            "      dtype='object')\n",
            "====================================\n",
            "Treino precisao global= 0.9900990099009901\n",
            "Treino tn: 56  fp: 1 fn: 0 tp: 44\n",
            "[[56  1]\n",
            " [ 0 44]]\n",
            "====================================\n",
            "Teste: precisao global= 0.6\n",
            "Teste tn: 7  fp: 7 fn: 3 tp: 8\n",
            "[[7 7]\n",
            " [3 8]]\n"
          ],
          "name": "stdout"
        }
      ]
    },
    {
      "cell_type": "markdown",
      "metadata": {
        "id": "seMVAZJARJWo",
        "colab_type": "text"
      },
      "source": [
        "**So para lembrar q o .ravel() existe!!**"
      ]
    },
    {
      "cell_type": "code",
      "metadata": {
        "id": "tMTDhtULQRHY",
        "colab_type": "code",
        "outputId": "0d6e7626-f7ad-40bc-9ec8-0866448affdd",
        "colab": {
          "base_uri": "https://localhost:8080/",
          "height": 92
        }
      },
      "source": [
        "print(confusion_matrix(y_calc_test,y_obs_test))\n",
        "print(confusion_matrix(y_calc_test,y_obs_test).ravel())\n",
        "a,b,c,d,e,f,g,h=[1,2,3,4,5,6,7,99]\n",
        "print(h)"
      ],
      "execution_count": 20,
      "outputs": [
        {
          "output_type": "stream",
          "text": [
            "[[7 7]\n",
            " [3 8]]\n",
            "[7 7 3 8]\n",
            "99\n"
          ],
          "name": "stdout"
        }
      ]
    },
    {
      "cell_type": "code",
      "metadata": {
        "id": "4Ld0k8q9BVr0",
        "colab_type": "code",
        "colab": {}
      },
      "source": [
        "# input dataset\n",
        "Neuron_input=len(X_NOME)\n",
        "Neuron_hidden=9\n",
        "Neuron_output=1\n",
        "Learning_rate=0.0001\n",
        "omega=0.9\n",
        "Epoch=100000\n",
        "syn0,syn1=ANN(Epoch,Neuron_input,Neuron_hidden,Neuron_output,Learning_rate,x_train,y_train)\n",
        "y_obs_train=y_train\n",
        "y_obs_test=y_test\n",
        "y_calc_train=ANN_ycal(syn0,syn1,x_train)\n",
        "y_obs_test=y_test\n",
        "y_calc_test=ANN_ycal(syn0,syn1,x_test)\n",
        "\n"
      ],
      "execution_count": 0,
      "outputs": []
    },
    {
      "cell_type": "code",
      "metadata": {
        "colab_type": "code",
        "outputId": "871d063f-3093-43dd-aaa3-342dd8312239",
        "id": "Xb8lzp_oSHjg",
        "colab": {
          "base_uri": "https://localhost:8080/",
          "height": 279
        }
      },
      "source": [
        "print(\"Epocas=\",Epoch,\"Learning rate=\",Learning_rate,\"Dados teste matriz confusao:\")\n",
        "print(X_NOME)\n",
        "print(\"====================================\")\n",
        "y_calc_train = Classifica(y_calc_train)\n",
        "y_calc_test = Classifica(y_calc_test)\n",
        "\n",
        "\n",
        "\n",
        "tn, fp, fn, tp = confusion_matrix(y_calc_train,y_obs_train).ravel()\n",
        "PrecTreino=PrecisaoGlobal(tn, fp, fn, tp)\n",
        "print(\"Treino precisao global=\",PrecTreino)\n",
        "print(\"Treino tn: %d  fp: %d fn: %d tp: %d\" % (tn, fp, fn, tp))\n",
        "print(confusion_matrix(y_calc_train,y_obs_train))\n",
        "\n",
        "\n",
        "print(\"====================================\")\n",
        "tn, fp, fn, tp = confusion_matrix(y_calc_test,y_obs_test).ravel()\n",
        "PrecTeste=PrecisaoGlobal(tn, fp, fn, tp)\n",
        "print(\"Teste: precisao global=\",PrecTeste)\n",
        "print(\"Teste tn: %d  fp: %d fn: %d tp: %d\" % (tn, fp, fn, tp))\n",
        "print(confusion_matrix(y_calc_test,y_obs_test))\n",
        "\n",
        "\n",
        "\n",
        "if MELHOR_PRECISAO< PrecTeste:\n",
        "  MELHOR_PRECISAO=PrecTeste\n",
        "  MAT0=np.copy(syn0)\n",
        "  MAT1=np.copy(syn1)\n",
        "  CONF_teste=np.copy(confusion_matrix(y_calc_test,y_obs_test))\n",
        "  CONF_treino=np.copy(confusion_matrix(y_calc_train,y_obs_train))"
      ],
      "execution_count": 22,
      "outputs": [
        {
          "output_type": "stream",
          "text": [
            "Epocas= 100000 Learning rate= 0.0001 Dados teste matriz confusao:\n",
            "Index(['DI RELATIVO', 'FRAC Its', 'VELOC FOBJ', 'VELOC X', 'Fo', 'CRo', 'fmin',\n",
            "       'fmax', 'AD_fmin', 'AD_fmax', 'DELTA FOBJ', 'DELTA VX', 'r_fitness'],\n",
            "      dtype='object')\n",
            "====================================\n",
            "Treino precisao global= 1.0\n",
            "Treino tn: 56  fp: 0 fn: 0 tp: 45\n",
            "[[56  0]\n",
            " [ 0 45]]\n",
            "====================================\n",
            "Teste: precisao global= 0.48\n",
            "Teste tn: 5  fp: 8 fn: 5 tp: 7\n",
            "[[5 8]\n",
            " [5 7]]\n"
          ],
          "name": "stdout"
        }
      ]
    },
    {
      "cell_type": "code",
      "metadata": {
        "id": "X-i4-9_ASjJo",
        "colab_type": "code",
        "colab": {}
      },
      "source": [
        "# print(X_NOME)"
      ],
      "execution_count": 0,
      "outputs": []
    },
    {
      "cell_type": "code",
      "metadata": {
        "id": "CT-AMyJ_Sc_k",
        "colab_type": "code",
        "outputId": "f0a4da5f-9581-4a1c-c34f-b638a612df5e",
        "colab": {
          "base_uri": "https://localhost:8080/",
          "height": 36
        }
      },
      "source": [
        "# ========= Novas mudancas ==================================================\n",
        "IND=[1,2,6,7]\n",
        "x_train=train.iloc[:,IND]\n",
        "x_test=test.iloc[:,IND]\n",
        "X_OLD=DAT_OLD.iloc[:,IND]\n",
        "X_NOME=DAT_OLD.columns[IND]\n",
        "print(X_NOME)\n",
        "y_train=np.array(y_train)\n",
        "x_test=np.array(x_test)\n",
        "x_train=np.array(x_train)"
      ],
      "execution_count": 24,
      "outputs": [
        {
          "output_type": "stream",
          "text": [
            "Index(['DI RELATIVO', 'FRAC Its', 'Fo', 'CRo'], dtype='object')\n"
          ],
          "name": "stdout"
        }
      ]
    },
    {
      "cell_type": "code",
      "metadata": {
        "id": "QNcu08l11Hiy",
        "colab_type": "code",
        "colab": {}
      },
      "source": [
        "# input dataset\n",
        "Neuron_input=len(X_NOME)\n",
        "Neuron_hidden=9\n",
        "Neuron_output=1\n",
        "Learning_rate=0.0001\n",
        "omega=0.9\n",
        "Epoch=300000\n",
        "syn0,syn1=ANN(Epoch,Neuron_input,Neuron_hidden,Neuron_output,Learning_rate,x_train,y_train)\n",
        "y_obs_train=y_train\n",
        "y_obs_test=y_test\n",
        "y_calc_train=ANN_ycal(syn0,syn1,x_train)\n",
        "y_obs_test=y_test\n",
        "y_calc_test=ANN_ycal(syn0,syn1,x_test)\n",
        "\n"
      ],
      "execution_count": 0,
      "outputs": []
    },
    {
      "cell_type": "code",
      "metadata": {
        "id": "gqicKzzwIFMW",
        "colab_type": "code",
        "outputId": "5057b7b4-f565-4f12-fa59-36fc5abd892b",
        "colab": {
          "base_uri": "https://localhost:8080/",
          "height": 241
        }
      },
      "source": [
        "print(\"Epocas=\",Epoch,\"Learning rate=\",Learning_rate,\"Dados teste matriz confusao:\")\n",
        "print(X_NOME)\n",
        "print(\"====================================\")\n",
        "y_calc_train = Classifica(y_calc_train)\n",
        "y_calc_test = Classifica(y_calc_test)\n",
        "\n",
        "\n",
        "\n",
        "tn, fp, fn, tp = confusion_matrix(y_calc_train,y_obs_train).ravel()\n",
        "PrecTreino=PrecisaoGlobal(tn, fp, fn, tp)\n",
        "print(\"Treino precisao global=\",PrecTreino)\n",
        "print(\"Treino tn: %d  fp: %d fn: %d tp: %d\" % (tn, fp, fn, tp))\n",
        "print(confusion_matrix(y_calc_train,y_obs_train))\n",
        "\n",
        "\n",
        "print(\"====================================\")\n",
        "tn, fp, fn, tp = confusion_matrix(y_calc_test,y_obs_test).ravel()\n",
        "PrecTeste=PrecisaoGlobal(tn, fp, fn, tp)\n",
        "print(\"Teste: precisao global=\",PrecTeste)\n",
        "print(\"Teste tn: %d  fp: %d fn: %d tp: %d\" % (tn, fp, fn, tp))\n",
        "print(confusion_matrix(y_calc_test,y_obs_test))\n",
        "\n",
        "\n",
        "\n",
        "if MELHOR_PRECISAO< PrecTeste:\n",
        "  MELHOR_PRECISAO=PrecTeste\n",
        "  MAT0=np.copy(syn0)\n",
        "  MAT1=np.copy(syn1)\n",
        "  CONF_teste=np.copy(confusion_matrix(y_calc_test,y_obs_test))\n",
        "  CONF_treino=np.copy(confusion_matrix(y_calc_train,y_obs_train))\n",
        "\n"
      ],
      "execution_count": 26,
      "outputs": [
        {
          "output_type": "stream",
          "text": [
            "Epocas= 300000 Learning rate= 0.0001 Dados teste matriz confusao:\n",
            "Index(['DI RELATIVO', 'FRAC Its', 'Fo', 'CRo'], dtype='object')\n",
            "====================================\n",
            "Treino precisao global= 0.9504950495049505\n",
            "Treino tn: 52  fp: 1 fn: 4 tp: 44\n",
            "[[52  1]\n",
            " [ 4 44]]\n",
            "====================================\n",
            "Teste: precisao global= 0.64\n",
            "Teste tn: 6  fp: 5 fn: 4 tp: 10\n",
            "[[ 6  5]\n",
            " [ 4 10]]\n"
          ],
          "name": "stdout"
        }
      ]
    },
    {
      "cell_type": "code",
      "metadata": {
        "id": "hc7oCwk3NFND",
        "colab_type": "code",
        "outputId": "06ffd303-e0af-424f-f302-3d743a1ff5d3",
        "colab": {
          "base_uri": "https://localhost:8080/",
          "height": 465
        }
      },
      "source": [
        "print(\"Melhor precisao=\",MELHOR_PRECISAO)\n",
        "print(MAT0)\n",
        "print(MAT1)\n",
        "nl0=MAT0.shape[0];nc0=MAT0.shape[1]\n",
        "nl1=MAT1.shape[0];nc1=MAT1.shape[1]\n",
        "print(\"colunas %d e linhas %d MAT0\" % (nc0,nl0))\n",
        "print(\"colunas %d e linhas %d MAT1\" % (nc1,nl1))\n",
        "print(CONF_teste)\n",
        "print(CONF_treino)"
      ],
      "execution_count": 27,
      "outputs": [
        {
          "output_type": "stream",
          "text": [
            "Melhor precisao= 0.64\n",
            "[[ 1.62628641 -3.38729939  0.88844333 -2.82382476 -2.08813839  1.78248921\n",
            "   1.07886145  0.97158851 -0.65142667]\n",
            " [ 1.43932519 -3.51954698 -0.13915334  2.0424967  -0.52942021 -0.79999248\n",
            "  -1.25305698 -0.50692839  0.13036965]\n",
            " [-1.06054899  2.44184096 -3.66742568 -0.10680904 -3.38050656 -7.00591235\n",
            "   0.16485462  1.20681471  0.98874816]\n",
            " [-0.45709058  1.50291822  0.3131551  -5.5622364   0.32914341  0.18298895\n",
            "  -0.14240124 -0.19474124  3.1463624 ]]\n",
            "[[ 2.73739523]\n",
            " [ 1.53729752]\n",
            " [-2.18551569]\n",
            " [ 0.86817614]\n",
            " [-2.27374849]\n",
            " [ 1.95500084]\n",
            " [ 2.51002369]\n",
            " [-4.80775   ]\n",
            " [ 0.88301994]]\n",
            "colunas 9 e linhas 4 MAT0\n",
            "colunas 1 e linhas 9 MAT1\n",
            "[[ 6  5]\n",
            " [ 4 10]]\n",
            "[[52  1]\n",
            " [ 4 44]]\n"
          ],
          "name": "stdout"
        }
      ]
    },
    {
      "cell_type": "code",
      "metadata": {
        "id": "u_JANQ_rkZjw",
        "colab_type": "code",
        "outputId": "199fb4ba-aec8-4d56-d28c-a6929da21d41",
        "colab": {
          "base_uri": "https://localhost:8080/",
          "height": 148
        }
      },
      "source": [
        "Nomes=['OTIMO','PARTIC_best','Xresp']\n",
        "print(\"Melhor precisao=\",MELHOR_PRECISAO)\n",
        "#print(MAT0)\n",
        "#print(MAT1)\n",
        "nl0=MAT0.shape[0];nc0=MAT0.shape[1]\n",
        "nl1=MAT1.shape[0];nc1=MAT1.shape[1]\n",
        "print(\"colunas %d e linhas %d MAT0\" % (nc0,nl0))\n",
        "print(\"colunas %d e linhas %d MAT1\" % (nc1,nl1))\n",
        "print(CONF_teste)\n",
        "print(CONF_treino)\n",
        "#BUSCA=pd.Series([OTIMO,PARTIC_best,Xresp],index=Nomes )"
      ],
      "execution_count": 28,
      "outputs": [
        {
          "output_type": "stream",
          "text": [
            "Melhor precisao= 0.64\n",
            "colunas 9 e linhas 4 MAT0\n",
            "colunas 1 e linhas 9 MAT1\n",
            "[[ 6  5]\n",
            " [ 4 10]]\n",
            "[[52  1]\n",
            " [ 4 44]]\n"
          ],
          "name": "stdout"
        }
      ]
    },
    {
      "cell_type": "code",
      "metadata": {
        "id": "c2n_NdzlDrE9",
        "colab_type": "code",
        "colab": {
          "base_uri": "https://localhost:8080/",
          "height": 167
        },
        "outputId": "12a505be-0b35-4956-8417-442f3cbead1f"
      },
      "source": [
        "dim=np.array([[nl0,nc0],[nl1,nc1]])\n",
        "Dummies=['hello pandas I am envolving']\n",
        "Armazenar=['Dummie','MAT0','MAT1','dim','Conf_treino','Conf_teste','precisao']\n",
        "BUSCA=pd.Series([Dummies,MAT0,MAT1,dim,CONF_treino,CONF_teste,MELHOR_PRECISAO],index=Armazenar )\n",
        "BUSCA = pd.DataFrame(BUSCA) \n",
        "print(BUSCA)\n"
      ],
      "execution_count": 29,
      "outputs": [
        {
          "output_type": "stream",
          "text": [
            "                                                             0\n",
            "Dummie                           [hello pandas I am envolving]\n",
            "MAT0         [[1.626286409745978, -3.387299391470142, 0.888...\n",
            "MAT1         [[2.7373952278090052], [1.5372975193980174], [...\n",
            "dim                                           [[4, 9], [9, 1]]\n",
            "Conf_treino                                 [[52, 1], [4, 44]]\n",
            "Conf_teste                                   [[6, 5], [4, 10]]\n",
            "precisao                                                  0.64\n"
          ],
          "name": "stdout"
        }
      ]
    },
    {
      "cell_type": "code",
      "metadata": {
        "id": "QWcu5W7jYjxm",
        "colab_type": "code",
        "colab": {}
      },
      "source": [
        ""
      ],
      "execution_count": 0,
      "outputs": []
    },
    {
      "cell_type": "code",
      "metadata": {
        "id": "sQjGw87HZi8h",
        "colab_type": "code",
        "colab": {}
      },
      "source": [
        ""
      ],
      "execution_count": 0,
      "outputs": []
    },
    {
      "cell_type": "code",
      "metadata": {
        "id": "RIMyBrbJMlq4",
        "colab_type": "code",
        "colab": {}
      },
      "source": [
        ""
      ],
      "execution_count": 0,
      "outputs": []
    },
    {
      "cell_type": "code",
      "metadata": {
        "id": "uWcsDJt5Uf_W",
        "colab_type": "code",
        "colab": {
          "base_uri": "https://localhost:8080/",
          "height": 36
        },
        "outputId": "937f53ed-747c-41a0-c6cc-69f3ca5a4781"
      },
      "source": [
        "from google.colab import drive\n",
        "drive.mount('drive')"
      ],
      "execution_count": 30,
      "outputs": [
        {
          "output_type": "stream",
          "text": [
            "Drive already mounted at drive; to attempt to forcibly remount, call drive.mount(\"drive\", force_remount=True).\n"
          ],
          "name": "stdout"
        }
      ]
    },
    {
      "cell_type": "code",
      "metadata": {
        "id": "dKdsXXOLenBM",
        "colab_type": "code",
        "colab": {}
      },
      "source": [
        ""
      ],
      "execution_count": 0,
      "outputs": []
    },
    {
      "cell_type": "code",
      "metadata": {
        "id": "FItdmJ_AWB-Y",
        "colab_type": "code",
        "colab": {}
      },
      "source": [
        "from datetime import datetime\n",
        "nowfname=datetime.now().strftime(\"%Y-%m-%d_%Hh%Mmin\")"
      ],
      "execution_count": 0,
      "outputs": []
    },
    {
      "cell_type": "code",
      "metadata": {
        "id": "ADtH-CFgUs0v",
        "colab_type": "code",
        "colab": {
          "base_uri": "https://localhost:8080/",
          "height": 36
        },
        "outputId": "29e779c8-0e3a-4f60-c5a6-a8e703fb2b41"
      },
      "source": [
        "BUSCA.to_csv(('ANN_'+ nowfname +'.csv'))\n",
        "print(('ANN_'+ nowfname +'.csv'))\n",
        "ARQ='ANN_'+ nowfname +'.csv'"
      ],
      "execution_count": 32,
      "outputs": [
        {
          "output_type": "stream",
          "text": [
            "ANN_2019-10-18_20h20min.csv\n"
          ],
          "name": "stdout"
        }
      ]
    },
    {
      "cell_type": "code",
      "metadata": {
        "id": "gsGV0jjxWd1-",
        "colab_type": "code",
        "colab": {
          "base_uri": "https://localhost:8080/",
          "height": 36
        },
        "outputId": "f353f67f-af7f-429a-a2aa-0a2b1fadfe7a"
      },
      "source": [
        "#!cp 2019-10-05_03h42min_DE_Michalewicz_10.csv drive/My\\ Drive/imput_ANN/\n",
        "!cp  ANN_2019-10-18_20h20min.csv drive/My\\ Drive/"
      ],
      "execution_count": 39,
      "outputs": [
        {
          "output_type": "stream",
          "text": [
            "cp: cannot stat 'ANN_2019-10-18_20h20min.csv': No such file or directory\n"
          ],
          "name": "stdout"
        }
      ]
    },
    {
      "cell_type": "code",
      "metadata": {
        "id": "u_UBKiRTetZA",
        "colab_type": "code",
        "colab": {
          "base_uri": "https://localhost:8080/",
          "height": 55
        },
        "outputId": "12348413-576b-4a89-9c7d-98e84e8078c4"
      },
      "source": [
        "!git clone https://github.com/ucfilho/ANN_read_matrix #clonar do Github\n",
        "%cd ANN_read_matrix"
      ],
      "execution_count": 34,
      "outputs": [
        {
          "output_type": "stream",
          "text": [
            "fatal: destination path 'ANN_read_matrix' already exists and is not an empty directory.\n",
            "/content/ANN/ANN_read_matrix\n"
          ],
          "name": "stdout"
        }
      ]
    },
    {
      "cell_type": "code",
      "metadata": {
        "id": "b1C5QS6EegFn",
        "colab_type": "code",
        "colab": {}
      },
      "source": [
        "ANN=pd.read_csv('ANN_2019-10-18_19h35min.csv')"
      ],
      "execution_count": 0,
      "outputs": []
    },
    {
      "cell_type": "code",
      "metadata": {
        "id": "NJoI3llje8u5",
        "colab_type": "code",
        "colab": {
          "base_uri": "https://localhost:8080/",
          "height": 36
        },
        "outputId": "aac7c874-26bb-471f-b3f2-061417ea82c4"
      },
      "source": [
        "print(type(ANN))"
      ],
      "execution_count": 36,
      "outputs": [
        {
          "output_type": "stream",
          "text": [
            "<class 'pandas.core.frame.DataFrame'>\n"
          ],
          "name": "stdout"
        }
      ]
    },
    {
      "cell_type": "code",
      "metadata": {
        "id": "NGAY4Z5JfdPB",
        "colab_type": "code",
        "colab": {
          "base_uri": "https://localhost:8080/",
          "height": 280
        },
        "outputId": "7364ff58-cd6d-46d8-ce41-385e6c3d174d"
      },
      "source": [
        "print(ANN)"
      ],
      "execution_count": 37,
      "outputs": [
        {
          "output_type": "stream",
          "text": [
            "          MAT0  \\\n",
            "0         MAT1   \n",
            "1          dim   \n",
            "2  Conf_treino   \n",
            "3   Conf_teste   \n",
            "4     precisao   \n",
            "\n",
            "  [[-0.74029023  1.5334461   1.06309715  3.24617844 -1.85171561  0.99413037\\n  -1.42682206 -3.58046796 -2.89970909]\\n [-8.06210354  0.49355243 -0.52641372 -0.85449969  2.44333055 -0.25223886\\n   1.86785186 -1.74063979 -2.43694128]\\n [ 1.22802109 -5.65634949 -2.0697304   0.67415639 -2.5248747   3.87458595\\n  -3.15916184 -3.55246295  0.75940016]\\n [-1.0082497  -0.77309616 -4.25116871  3.84303333 -0.68333364 -0.73761302\\n   0.36389525  2.37952324  0.43109882]]  \n",
            "0  [[ 0.85185649]\\n [ 1.25215988]\\n [-0.65306564]...                                                                                                                                                                                                                                                                                                                                                                                                                           \n",
            "1                                    [[4 9]\\n [9 1]]                                                                                                                                                                                                                                                                                                                                                                                                                           \n",
            "2                                [[50  2]\\n [ 4 45]]                                                                                                                                                                                                                                                                                                                                                                                                                           \n",
            "3                                    [[8 6]\\n [4 7]]                                                                                                                                                                                                                                                                                                                                                                                                                           \n",
            "4                                                0.6                                                                                                                                                                                                                                                                                                                                                                                                                           \n"
          ],
          "name": "stdout"
        }
      ]
    },
    {
      "cell_type": "code",
      "metadata": {
        "id": "nabBmTx_fiAa",
        "colab_type": "code",
        "colab": {
          "base_uri": "https://localhost:8080/",
          "height": 260
        },
        "outputId": "70426626-11ea-423b-8fd8-7f42ff44c6ea"
      },
      "source": [
        "A=np.array(ANN.iloc[0][1])\n",
        "B=np.array(ANN.iloc[1][1])\n",
        "C=np.array(ANN.iloc[2][1])\n",
        "print(A)\n",
        "print(B)\n",
        "print(C)"
      ],
      "execution_count": 38,
      "outputs": [
        {
          "output_type": "stream",
          "text": [
            "[[ 0.85185649]\n",
            " [ 1.25215988]\n",
            " [-0.65306564]\n",
            " [-0.92490046]\n",
            " [-1.84796588]\n",
            " [ 3.96705636]\n",
            " [ 3.36983036]\n",
            " [ 1.99028552]\n",
            " [-1.14250223]]\n",
            "[[4 9]\n",
            " [9 1]]\n",
            "[[50  2]\n",
            " [ 4 45]]\n"
          ],
          "name": "stdout"
        }
      ]
    }
  ]
}