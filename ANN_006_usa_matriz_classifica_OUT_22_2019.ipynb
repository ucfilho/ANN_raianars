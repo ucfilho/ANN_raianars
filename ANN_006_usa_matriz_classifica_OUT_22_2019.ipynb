{
  "nbformat": 4,
  "nbformat_minor": 0,
  "metadata": {
    "colab": {
      "name": "ANN_006_usa_matriz_classifica_OUT_22_2019.ipynb",
      "provenance": [],
      "collapsed_sections": [],
      "include_colab_link": true
    },
    "kernelspec": {
      "name": "python3",
      "display_name": "Python 3"
    }
  },
  "cells": [
    {
      "cell_type": "markdown",
      "metadata": {
        "id": "view-in-github",
        "colab_type": "text"
      },
      "source": [
        "<a href=\"https://colab.research.google.com/github/ucfilho/ANN_raianars/blob/master/ANN_006_usa_matriz_classifica_OUT_22_2019.ipynb\" target=\"_parent\"><img src=\"https://colab.research.google.com/assets/colab-badge.svg\" alt=\"Open In Colab\"/></a>"
      ]
    },
    {
      "cell_type": "code",
      "metadata": {
        "id": "IJMhyBoEZHIU",
        "colab_type": "code",
        "outputId": "09ba3288-c7da-481e-b464-fe050cd1d055",
        "colab": {
          "base_uri": "https://localhost:8080/",
          "height": 73
        }
      },
      "source": [
        "import numpy as np\n",
        "import pandas as pd\n",
        "import matplotlib.pyplot as plt\n",
        "from sklearn.metrics import confusion_matrix\n",
        "\n",
        "print(\"Hello world\"+\"\\n\"+\"I'm evolving!!!\"+\"\\n\")\n",
        "\n",
        "%matplotlib inline"
      ],
      "execution_count": 1,
      "outputs": [
        {
          "output_type": "stream",
          "text": [
            "Hello world\n",
            "I'm evolving!!!\n",
            "\n"
          ],
          "name": "stdout"
        }
      ]
    },
    {
      "cell_type": "code",
      "metadata": {
        "id": "xPh9-Qc81nMS",
        "colab_type": "code",
        "colab": {}
      },
      "source": [
        "# Functions\n",
        "def sigmoid(x,deriv=False):\n",
        "    if(deriv==True):\n",
        "        return x*(1-x)\n",
        "    return 1/(1+np.exp(-x))\n",
        "\n",
        "def tasig(x,deriv=False):\n",
        "    if(deriv==True):\n",
        "        return 1-x*x\n",
        "    return 2/(1+np.exp(-2*x))-1\n",
        "\n",
        "# purelin function\n",
        "def purelin(x,deriv=False):\n",
        "    if(deriv==True):\n",
        "        return 1\n",
        "    #N=len(x)\n",
        "    #for i in range(N):\n",
        "      #if (x[i]>1):\n",
        "        #x[i]=1\n",
        "    return x"
      ],
      "execution_count": 0,
      "outputs": []
    },
    {
      "cell_type": "code",
      "metadata": {
        "id": "RepD-3pn1E-1",
        "colab_type": "code",
        "colab": {}
      },
      "source": [
        "# funcao normatiza dados\n",
        "def Normatiza(x):\n",
        "    strings=list(x)\n",
        "    for i in strings:\n",
        "        max_x=x[i].max()\n",
        "        min_x=x[i].min()\n",
        "        a=(max_x+min_x)/2\n",
        "        b=(max_x-min_x)/2\n",
        "        x[i]=(x[i]-a)/b\n",
        "    return x"
      ],
      "execution_count": 0,
      "outputs": []
    },
    {
      "cell_type": "code",
      "metadata": {
        "id": "aMUypVwa1RWF",
        "colab_type": "code",
        "colab": {}
      },
      "source": [
        "# funcao retorna os dados a forma original\n",
        "def Original(x,x_old):\n",
        "    strings=list(x)\n",
        "    for i in strings:\n",
        "        max_x=x_old[i].max()\n",
        "        min_x=x_old[i].min()\n",
        "        a=(max_x+min_x)/2\n",
        "        b=(max_x-min_x)/2\n",
        "        x[i]=x[i]*b+a\n",
        "    return x"
      ],
      "execution_count": 0,
      "outputs": []
    },
    {
      "cell_type": "code",
      "metadata": {
        "id": "aA6TlqJI0hdM",
        "colab_type": "code",
        "colab": {}
      },
      "source": [
        "def ANN_ycal(syn0,syn1,X_train):\n",
        "  l0 = X_train\n",
        "  l1 = tasig(np.dot(l0,syn0))\n",
        "  l2 = purelin(np.dot(l1,syn1))\n",
        "  y_calc=np.reshape(l2,len(l2))\n",
        "  return y_calc"
      ],
      "execution_count": 0,
      "outputs": []
    },
    {
      "cell_type": "code",
      "metadata": {
        "id": "a5W9iRbPkKsg",
        "colab_type": "code",
        "colab": {}
      },
      "source": [
        "def Classifica(ycalc):\n",
        "  n=len(ycalc)\n",
        "  for i in range(n):\n",
        "    if(ycalc[i]<0):\n",
        "      ycalc[i]=-1\n",
        "    else:\n",
        "      ycalc[i]=1\n",
        "  return ycalc"
      ],
      "execution_count": 0,
      "outputs": []
    },
    {
      "cell_type": "code",
      "metadata": {
        "id": "QNcu08l11Hiy",
        "colab_type": "code",
        "outputId": "634c9496-fff8-42ce-9f7f-3a8f35a04529",
        "colab": {
          "base_uri": "https://localhost:8080/",
          "height": 56
        }
      },
      "source": [
        "# input dataset\n",
        "'''syn0,syn1=ANN(Epoch,Neuron_input,Neuron_hidden,Neuron_output,Learning_rate,x_train,y_train)\n",
        "y_obs_train=y_train\n",
        "y_obs_test=y_test\n",
        "y_calc_train=ANN_ycal(syn0,syn1,x_train)\n",
        "y_obs_test=y_test\n",
        "y_calc_test=ANN_ycal(syn0,syn1,x_test)\n",
        "'''\n"
      ],
      "execution_count": 7,
      "outputs": [
        {
          "output_type": "execute_result",
          "data": {
            "text/plain": [
              "'syn0,syn1=ANN(Epoch,Neuron_input,Neuron_hidden,Neuron_output,Learning_rate,x_train,y_train)\\ny_obs_train=y_train\\ny_obs_test=y_test\\ny_calc_train=ANN_ycal(syn0,syn1,x_train)\\ny_obs_test=y_test\\ny_calc_test=ANN_ycal(syn0,syn1,x_test)\\n'"
            ]
          },
          "metadata": {
            "tags": []
          },
          "execution_count": 7
        }
      ]
    },
    {
      "cell_type": "code",
      "metadata": {
        "id": "sQjGw87HZi8h",
        "colab_type": "code",
        "outputId": "5b8acc9c-1a59-4213-da6b-6be6640bdd01",
        "colab": {
          "base_uri": "https://localhost:8080/",
          "height": 187
        }
      },
      "source": [
        "!git clone https://github.com/ucfilho/ANN_read_matrix #clonar do Github\n",
        "%cd ANN_read_matrix\n",
        "\n",
        "'''\n",
        "# este comando clona o diretorio github ucfilho/ANN no colaboratory research\n",
        "!git clone https://github.com/RaianaSeixas/ANN #clonar do Github\n",
        "%cd ANN\n",
        "!ls\n",
        "'''"
      ],
      "execution_count": 8,
      "outputs": [
        {
          "output_type": "stream",
          "text": [
            "Cloning into 'ANN_read_matrix'...\n",
            "remote: Enumerating objects: 12, done.\u001b[K\n",
            "remote: Counting objects: 100% (12/12), done.\u001b[K\n",
            "remote: Compressing objects: 100% (10/10), done.\u001b[K\n",
            "remote: Total 12 (delta 2), reused 0 (delta 0), pack-reused 0\u001b[K\n",
            "Unpacking objects: 100% (12/12), done.\n",
            "/content/ANN_read_matrix\n"
          ],
          "name": "stdout"
        },
        {
          "output_type": "execute_result",
          "data": {
            "text/plain": [
              "'\\n# este comando clona o diretorio github ucfilho/ANN no colaboratory research\\n!git clone https://github.com/RaianaSeixas/ANN #clonar do Github\\n%cd ANN\\n!ls\\n'"
            ]
          },
          "metadata": {
            "tags": []
          },
          "execution_count": 8
        }
      ]
    },
    {
      "cell_type": "code",
      "metadata": {
        "id": "b1C5QS6EegFn",
        "colab_type": "code",
        "outputId": "8692d4c2-6c89-4ef9-c69f-a91a443d1075",
        "colab": {
          "base_uri": "https://localhost:8080/",
          "height": 559
        }
      },
      "source": [
        "'''\n",
        "ANN=pd.read_csv('ANN_2019-10-21_14h30min.csv')\n",
        "pd.set_option('display.max_columns', 30)\n",
        "print(ANN)\n",
        "'''\n",
        "ANN=pd.read_csv('ANN_ajusta.csv')\n",
        "pd.set_option('display.max_columns', 30)\n",
        "print(ANN)\n"
      ],
      "execution_count": 9,
      "outputs": [
        {
          "output_type": "stream",
          "text": [
            "    Unnamed: 0     0         1         2         3         4         5  \\\n",
            "0            0  13.0  2.024190 -4.470336 -0.059996 -2.992022 -1.349438   \n",
            "1            1   9.0 -0.760717 -0.755638 -0.596234 -1.252320 -5.168406   \n",
            "2            2   9.0 -0.680262 -4.468180 -0.018278 -2.069097  1.750245   \n",
            "3            3   1.0  2.552918  1.099770 -1.013145  1.196124 -1.870553   \n",
            "4            4   0.0       NaN       NaN       NaN       NaN       NaN   \n",
            "5            5   0.0       NaN       NaN       NaN       NaN       NaN   \n",
            "6            6   0.0       NaN       NaN       NaN       NaN       NaN   \n",
            "7            7   0.0       NaN       NaN       NaN       NaN       NaN   \n",
            "8            8   0.0       NaN       NaN       NaN       NaN       NaN   \n",
            "9            9   0.0       NaN       NaN       NaN       NaN       NaN   \n",
            "10          10   0.0       NaN       NaN       NaN       NaN       NaN   \n",
            "11          11   0.0       NaN       NaN       NaN       NaN       NaN   \n",
            "12          12   0.0       NaN       NaN       NaN       NaN       NaN   \n",
            "\n",
            "           6         7         8         9        10                   12  \n",
            "0  -1.136637  0.245136 -1.023895 -4.437483  4.124962          CONF_treino  \n",
            "1   0.723654 -1.796292 -2.172876  1.921668 -2.936772  [[52  0]\\n [ 0 49]]  \n",
            "2  -1.412032 -0.355400  0.499452  1.245300  4.234996           CONF_teste  \n",
            "3   0.150138 -5.281558 -0.880685 -6.052457  2.094317      [[7 4]\\n [7 7]]  \n",
            "4        NaN       NaN       NaN       NaN  1.626729      MELHOR_PRECISAO  \n",
            "5        NaN       NaN       NaN       NaN  2.335121                 0.56  \n",
            "6        NaN       NaN       NaN       NaN -1.285201                  NaN  \n",
            "7        NaN       NaN       NaN       NaN -3.124653                  NaN  \n",
            "8        NaN       NaN       NaN       NaN  3.120596                  NaN  \n",
            "9        NaN       NaN       NaN       NaN       NaN                  NaN  \n",
            "10       NaN       NaN       NaN       NaN       NaN                  NaN  \n",
            "11       NaN       NaN       NaN       NaN       NaN                  NaN  \n",
            "12       NaN       NaN       NaN       NaN       NaN                  NaN  \n"
          ],
          "name": "stdout"
        }
      ]
    },
    {
      "cell_type": "code",
      "metadata": {
        "id": "bANXxsgcQGIp",
        "colab_type": "code",
        "outputId": "47e2b3e7-14ca-4a34-b0b1-c3c0f8a618d0",
        "colab": {
          "base_uri": "https://localhost:8080/",
          "height": 73
        }
      },
      "source": [
        "#row_syn0=int(ANN[0,0]); print(row_syn0)\n",
        "ncol=ANN.columns\n",
        "print(ncol)"
      ],
      "execution_count": 10,
      "outputs": [
        {
          "output_type": "stream",
          "text": [
            "Index(['Unnamed: 0', '0', '1', '2', '3', '4', '5', '6', '7', '8', '9', '10',\n",
            "       '12'],\n",
            "      dtype='object')\n"
          ],
          "name": "stdout"
        }
      ]
    },
    {
      "cell_type": "code",
      "metadata": {
        "id": "5nY5SkJLx2s9",
        "colab_type": "code",
        "outputId": "9c668b16-baf5-4cf2-ff3a-7ff196338e0d",
        "colab": {
          "base_uri": "https://localhost:8080/",
          "height": 577
        }
      },
      "source": [
        "print(ANN.iloc[0,1])\n",
        "print(ANN.iloc[0,:])\n",
        "print(ANN.iloc[:,2])\n",
        "print(list(ANN))"
      ],
      "execution_count": 11,
      "outputs": [
        {
          "output_type": "stream",
          "text": [
            "13.0\n",
            "Unnamed: 0              0\n",
            "0                      13\n",
            "1                 2.02419\n",
            "2                -4.47034\n",
            "3              -0.0599957\n",
            "4                -2.99202\n",
            "5                -1.34944\n",
            "6                -1.13664\n",
            "7                0.245136\n",
            "8                -1.02389\n",
            "9                -4.43748\n",
            "10                4.12496\n",
            "12            CONF_treino\n",
            "Name: 0, dtype: object\n",
            "0     2.024190\n",
            "1    -0.760717\n",
            "2    -0.680262\n",
            "3     2.552918\n",
            "4          NaN\n",
            "5          NaN\n",
            "6          NaN\n",
            "7          NaN\n",
            "8          NaN\n",
            "9          NaN\n",
            "10         NaN\n",
            "11         NaN\n",
            "12         NaN\n",
            "Name: 1, dtype: float64\n",
            "['Unnamed: 0', '0', '1', '2', '3', '4', '5', '6', '7', '8', '9', '10', '12']\n"
          ],
          "name": "stdout"
        }
      ]
    },
    {
      "cell_type": "code",
      "metadata": {
        "id": "uU9O37C9VD1V",
        "colab_type": "code",
        "outputId": "b8151e7d-3cd3-4993-f753-93d59f55163e",
        "colab": {
          "base_uri": "https://localhost:8080/",
          "height": 428
        }
      },
      "source": [
        "#print(ANN.iloc[0,1]);print(ANN.iloc[1,1]);print(ANN.iloc[2,1]);print(ANN.iloc[3,1])\n",
        "nrow0=int(ANN.iloc[0,1]);#print(nrow0);\n",
        "ncol0=int(ANN.iloc[1,1]);print(ncol0);\n",
        "nrow1=int(ANN.iloc[2,1]);#print(nrow1);\n",
        "ncol1=int(ANN.iloc[3,1]);#print(ncol1);\n",
        "Col=np.array(range(2,ncol0+2)); # print(Col)\n",
        "#Row=np.array(range(0,nrow0-1)); # print(Row)\n",
        "Row=np.array(range(0,nrow0)); # print(Row)\n",
        "#Col=range(2,ncol0-1); print(Col)\n",
        "#Row=range(0,nrow1-1); print(Row)\n",
        "syn0=np.array(ANN.iloc[Row,Col])\n",
        "syn0=pd.DataFrame(syn0).dropna() \n",
        "#print(syn0)\n",
        "syn0=np.array(syn0)\n",
        "print(pd.DataFrame(syn0))\n",
        "ncol=int(ANN.iloc[0,1])\n",
        "syn1=ANN.iloc[:,(ncol0+ncol1+1)];#print(syn1)\n",
        "#nrow=len(syn1)\n",
        "nrow=len(np.array(syn1.dropna()))\n",
        "A=np.zeros((nrow,1));\n",
        "A[:,0]=np.copy(syn1.dropna());\n",
        "syn1=np.copy(A);print(pd.DataFrame(syn1))"
      ],
      "execution_count": 12,
      "outputs": [
        {
          "output_type": "stream",
          "text": [
            "9\n",
            "          0         1         2         3         4         5         6  \\\n",
            "0  2.024190 -4.470336 -0.059996 -2.992022 -1.349438 -1.136637  0.245136   \n",
            "1 -0.760717 -0.755638 -0.596234 -1.252320 -5.168406  0.723654 -1.796292   \n",
            "2 -0.680262 -4.468180 -0.018278 -2.069097  1.750245 -1.412032 -0.355400   \n",
            "3  2.552918  1.099770 -1.013145  1.196124 -1.870553  0.150138 -5.281558   \n",
            "\n",
            "          7         8  \n",
            "0 -1.023895 -4.437483  \n",
            "1 -2.172876  1.921668  \n",
            "2  0.499452  1.245300  \n",
            "3 -0.880685 -6.052457  \n",
            "          0\n",
            "0  4.124962\n",
            "1 -2.936772\n",
            "2  4.234996\n",
            "3  2.094317\n",
            "4  1.626729\n",
            "5  2.335121\n",
            "6 -1.285201\n",
            "7 -3.124653\n",
            "8  3.120596\n"
          ],
          "name": "stdout"
        }
      ]
    }
  ]
}