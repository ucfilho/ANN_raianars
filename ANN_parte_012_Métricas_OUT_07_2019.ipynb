{
  "nbformat": 4,
  "nbformat_minor": 0,
  "metadata": {
    "colab": {
      "name": "ANN_parte_012_Métricas_OUT_07_2019.ipynb",
      "provenance": [],
      "collapsed_sections": [],
      "include_colab_link": true
    },
    "kernelspec": {
      "name": "python3",
      "display_name": "Python 3"
    }
  },
  "cells": [
    {
      "cell_type": "markdown",
      "metadata": {
        "id": "view-in-github",
        "colab_type": "text"
      },
      "source": [
        "<a href=\"https://colab.research.google.com/github/ucfilho/ANN_raianars/blob/master/ANN_parte_012_M%C3%A9tricas_OUT_07_2019.ipynb\" target=\"_parent\"><img src=\"https://colab.research.google.com/assets/colab-badge.svg\" alt=\"Open In Colab\"/></a>"
      ]
    },
    {
      "cell_type": "code",
      "metadata": {
        "id": "IJMhyBoEZHIU",
        "colab_type": "code",
        "outputId": "e108970b-850d-4c9a-d003-84a38d680c01",
        "colab": {
          "base_uri": "https://localhost:8080/",
          "height": 204
        }
      },
      "source": [
        "import numpy as np\n",
        "import pandas as pd\n",
        "import matplotlib.pyplot as plt\n",
        "\n",
        "#Nome='sigmoide'\n",
        "Nome='tasig'\n",
        "\n",
        "# este comando clona o diretorio github ucfilho/ANN no colaboratory research\n",
        "!git clone https://github.com/RaianaSeixas/ANN #clonar do Github\n",
        "%cd ANN\n",
        "#!ls\n",
        "print(\"Hello world\"+\"\\n\"+\"I'm evolving!!!\"+\"\\n\")\n",
        "\n",
        "%matplotlib inline"
      ],
      "execution_count": 1,
      "outputs": [
        {
          "output_type": "stream",
          "text": [
            "Cloning into 'ANN'...\n",
            "remote: Enumerating objects: 70, done.\u001b[K\n",
            "remote: Counting objects: 100% (70/70), done.\u001b[K\n",
            "remote: Compressing objects: 100% (68/68), done.\u001b[K\n",
            "remote: Total 70 (delta 25), reused 0 (delta 0), pack-reused 0\u001b[K\n",
            "Unpacking objects: 100% (70/70), done.\n",
            "/content/ANN\n",
            "Hello world\n",
            "I'm evolving!!!\n",
            "\n"
          ],
          "name": "stdout"
        }
      ]
    },
    {
      "cell_type": "code",
      "metadata": {
        "id": "N4_YsjYjZE5r",
        "colab_type": "code",
        "colab": {}
      },
      "source": [
        "# https://towardsdatascience.com/pca-using-python-scikit-learn-e653f8989e60\n",
        "# https://github.com/mGalarnyk/Python_Tutorials/blob/master/Sklearn/PCA/PCA_to_Speed-up_Machine_Learning_Algorithms.ipynb"
      ],
      "execution_count": 0,
      "outputs": []
    },
    {
      "cell_type": "code",
      "metadata": {
        "id": "x09IGM7OYxpw",
        "colab_type": "code",
        "outputId": "79f8569f-59f9-4949-a8f0-713f3b6ddaa8",
        "colab": {
          "base_uri": "https://localhost:8080/",
          "height": 167
        }
      },
      "source": [
        "!ls"
      ],
      "execution_count": 3,
      "outputs": [
        {
          "output_type": "stream",
          "text": [
            "000_ANN_Gera_Matriz_out_04_2019.ipynb\t\t    X_DAT_B_set_17_2019.csv\n",
            "000_ANN_parte_001_XY_dados_out_01_2019.ipynb\t    X_DAT_set_17_2019.csv\n",
            "000_ANN_parte_002_XY_Métricas_D10_OUT_4_2019.ipynb  XY_D10_30_out_7_2019.csv\n",
            "000_ANN_parte_009_Métricas_PCA_OUT_07_2019.ipynb    XY_D10_out_1_2019.csv\n",
            "000_Gerenciador_DE_var_F_CR_STAT_set_27_2019.ipynb  XY_D10_out_5_2019.csv\n",
            "imput_ANN_D10_30_out_07_19.zip\t\t\t    Y_DAT_B_set_17_2019.csv\n",
            "imput_ANN_D10_6F.zip\t\t\t\t    Y_DAT_set_17_2019.csv\n",
            "imput_ANN_D10_out_05_19.zip\n"
          ],
          "name": "stdout"
        }
      ]
    },
    {
      "cell_type": "code",
      "metadata": {
        "id": "xPh9-Qc81nMS",
        "colab_type": "code",
        "colab": {}
      },
      "source": [
        "# sigmoid function\n",
        "def afun(nome,x,deriv=False):\n",
        "\n",
        "  if(nome=='sigmoide'):\n",
        "    if(deriv==True):\n",
        "      return x*(1-x)\n",
        "    return 1/(1+np.exp(-x))\n",
        "\n",
        "  if(nome=='tasig'):\n",
        "    if(deriv==True):\n",
        "        return 1-x*x\n",
        "    return 2/(1+np.exp(-2*x))-1\n",
        "\n",
        "  if(nome=='purelin'):\n",
        "    # Leaky ReLUs\n",
        "    if(deriv==True):\n",
        "      return 1\n",
        "    return x\n",
        "    "
      ],
      "execution_count": 0,
      "outputs": []
    },
    {
      "cell_type": "code",
      "metadata": {
        "id": "RepD-3pn1E-1",
        "colab_type": "code",
        "colab": {}
      },
      "source": [
        "# funcao normatiza dados\n",
        "def Normatiza(x):\n",
        "    strings=list(x)\n",
        "    for i in strings:\n",
        "        max_x=x[i].max()\n",
        "        min_x=x[i].min()\n",
        "        a=(max_x+min_x)/2\n",
        "        b=(max_x-min_x)/2\n",
        "        x[i]=(x[i]-a)/b\n",
        "    return x"
      ],
      "execution_count": 0,
      "outputs": []
    },
    {
      "cell_type": "code",
      "metadata": {
        "id": "aMUypVwa1RWF",
        "colab_type": "code",
        "colab": {}
      },
      "source": [
        "# funcao retorna os dados a forma original\n",
        "def Original(x,x_old):\n",
        "    strings=list(x)\n",
        "    for i in strings:\n",
        "        max_x=x_old[i].max()\n",
        "        min_x=x_old[i].min()\n",
        "        a=(max_x+min_x)/2\n",
        "        b=(max_x-min_x)/2\n",
        "        x[i]=x[i]*b+a\n",
        "    return x"
      ],
      "execution_count": 0,
      "outputs": []
    },
    {
      "cell_type": "code",
      "metadata": {
        "id": "ww1KvVqReAhK",
        "colab_type": "code",
        "colab": {}
      },
      "source": [
        "def ANN(Epoch,Nome,Neuron_input,Neuron_hidden,Neuron_output,Learning_rate,X_train,y):\n",
        "  syn0 = 2*np.random.random((Neuron_input,Neuron_hidden)) - 1\n",
        "  syn1 = 2*np.random.random((Neuron_hidden,Neuron_output)) - 1\n",
        "  for j in range(Epoch):\n",
        "    l0 = X_train\n",
        "    l1 = afun(Nome,np.dot(l0,syn0))\n",
        "    l2 = afun('purelin',np.dot(l1,syn1))\n",
        "    l2_error = y - l2\n",
        "    l2_delta = l2_error*afun('purelin',l2,deriv=True)\n",
        "    l1_error = l2_delta.dot(syn1.T)\n",
        "    l1_delta = l1_error * afun(Nome,l1,deriv=True)\n",
        "    syn1 += l1.T.dot(l2_delta)*Learning_rate\n",
        "    syn0 += l0.T.dot(l1_delta)*Learning_rate\n",
        "  return syn0,syn1\n",
        "\n"
      ],
      "execution_count": 0,
      "outputs": []
    },
    {
      "cell_type": "code",
      "metadata": {
        "id": "aA6TlqJI0hdM",
        "colab_type": "code",
        "colab": {}
      },
      "source": [
        "def ANN_ycal(Nome,syn0,syn1,X_train):\n",
        "  l0 = X_train\n",
        "  l1 = afun(Nome,np.dot(l0,syn0))\n",
        "  l2 = afun('purelin',np.dot(l1,syn1))\n",
        "  y_calc=np.reshape(l2,len(l2))\n",
        "  return y_calc"
      ],
      "execution_count": 0,
      "outputs": []
    },
    {
      "cell_type": "code",
      "metadata": {
        "id": "ufXS4SrB9SoA",
        "colab_type": "code",
        "colab": {}
      },
      "source": [
        "def QUALIDADE(yobs,ycal):\n",
        "  #yobs=yobs.to_numpy()\n",
        "  yobs=np.array(yobs)\n",
        "  #ycal=ycal.to_numpy()\n",
        "  ycal=np.array(ycal)\n",
        "  N=len(yobs)\n",
        "  Soma=0\n",
        "  for i in range(N):\n",
        "    Soma=Soma+(yobs[i]-ycal[i])**2\n",
        "  Soma=(Soma/N)**0.5\n",
        "  return Soma\n"
      ],
      "execution_count": 0,
      "outputs": []
    },
    {
      "cell_type": "code",
      "metadata": {
        "id": "xYeHyCBM09G8",
        "colab_type": "code",
        "colab": {}
      },
      "source": [
        "def R2(yobs,ycal):\n",
        "  yobs=np.array(yobs)\n",
        "  ycal=np.array(ycal)\n",
        "  N=len(yobs)\n",
        "  SQresiduos=0\n",
        "  SQexp=0\n",
        "  ycal_medio=ycal.mean().item()\n",
        "  for i in range(N):\n",
        "    SQresiduos=SQresiduos+(yobs[i]-ycal[i])**2\n",
        "    SQexp=SQexp+(ycal[i]-ycal_medio)**2\n",
        "  coef=1-(SQresiduos/SQexp)\n",
        "  return coef"
      ],
      "execution_count": 0,
      "outputs": []
    },
    {
      "cell_type": "code",
      "metadata": {
        "id": "EzyC9O_NwhPC",
        "colab_type": "code",
        "colab": {}
      },
      "source": [
        "# leitura dos dados\n",
        "DAT=pd.read_csv(\"XY_D10_30_out_7_2019.csv\")\n",
        "#print(DAT.head())"
      ],
      "execution_count": 0,
      "outputs": []
    },
    {
      "cell_type": "code",
      "metadata": {
        "id": "68JOHC6Ozv6d",
        "colab_type": "code",
        "outputId": "f298629b-5885-42fe-a0b9-9babefe655aa",
        "colab": {
          "base_uri": "https://localhost:8080/",
          "height": 391
        }
      },
      "source": [
        "# separa as colunas de interesse\n",
        "Index=[1,2,3,4,5,6,7,8,9,10,11,12,13,14,15,16,17]\n",
        "Dat_Select=[]\n",
        "Dat_Select=DAT.iloc[:,Index].copy()\n",
        "\n",
        "pd.set_option('display.max_columns', 30)\n",
        "pd.set_option('display.max_rows', 30)\n",
        "#print(Dat_Select)\n",
        "print(Dat_Select.head())"
      ],
      "execution_count": 12,
      "outputs": [
        {
          "output_type": "stream",
          "text": [
            "   DIVERSIDADE (DI)  DI RELATIVO  FRAC Its  VELOC FOBJ  VELOC X     NP  \\\n",
            "0         19.479761     1.081077       0.2         2.0      2.0  100.0   \n",
            "1         19.667582     1.091500       0.3         2.0      2.0  100.0   \n",
            "2         19.957668     1.107599       0.4         0.0      0.0  100.0   \n",
            "3         20.617404     1.144213       0.5         0.0      0.0  100.0   \n",
            "4         19.455278     1.079718       0.6         2.0      2.0  100.0   \n",
            "\n",
            "         Fo       CRo      fmin        fmax   AD_fmin   AD_fmax  DELTA FOBJ  \\\n",
            "0  0.798558  0.531855  0.146353  231.984278  0.117215  0.017040         2.0   \n",
            "1  0.618503  0.966139  0.004995   90.568405  0.004001  0.006653         0.0   \n",
            "2  0.627984  0.944441  0.004995   84.874065  0.004001  0.006234        -2.0   \n",
            "3  0.894793  0.571047  0.004995    3.558598  0.004001  0.000261         0.0   \n",
            "4  0.901544  0.852554  0.000030    0.144926  0.000024  0.000011         2.0   \n",
            "\n",
            "   DELTA VX  r_fitness         F        CR  \n",
            "0       2.0   0.999369  0.618503  0.966139  \n",
            "1       0.0   0.999945  0.627984  0.944441  \n",
            "2      -2.0   0.999941  0.894793  0.571047  \n",
            "3       0.0   0.998596  0.901544  0.852554  \n",
            "4       2.0   0.999793  0.607277  0.962316  \n"
          ],
          "name": "stdout"
        }
      ]
    },
    {
      "cell_type": "code",
      "metadata": {
        "id": "_vpQ5HTM06TE",
        "colab_type": "code",
        "colab": {}
      },
      "source": [
        "DAT_OLD=[]\n",
        "DAT_OLD=Dat_Select.copy()\n",
        "DAT=Normatiza(Dat_Select)"
      ],
      "execution_count": 0,
      "outputs": []
    },
    {
      "cell_type": "code",
      "metadata": {
        "id": "A4LF09Cq0hJu",
        "colab_type": "code",
        "outputId": "693b16cd-b9ea-4fed-f4e5-990dd8296786",
        "colab": {
          "base_uri": "https://localhost:8080/",
          "height": 73
        }
      },
      "source": [
        "# obtem as variaveis independentes (treino e teste)\n",
        "# separa os dados em treino e teste\n",
        "train=DAT.sample(frac=0.8,random_state=None) \n",
        "test=DAT.drop(train.index)\n",
        "IND=[1,2,3,4,6,7,8,9,10,11,12,13,14]\n",
        "x_train=train.iloc[:,IND]\n",
        "x_test=test.iloc[:,IND]\n",
        "X_OLD=DAT_OLD.iloc[:,IND]\n",
        "X_NOME=DAT_OLD.columns[IND]\n",
        "print(X_NOME)\n"
      ],
      "execution_count": 14,
      "outputs": [
        {
          "output_type": "stream",
          "text": [
            "Index(['DI RELATIVO', 'FRAC Its', 'VELOC FOBJ', 'VELOC X', 'Fo', 'CRo', 'fmin',\n",
            "       'fmax', 'AD_fmin', 'AD_fmax', 'DELTA FOBJ', 'DELTA VX', 'r_fitness'],\n",
            "      dtype='object')\n"
          ],
          "name": "stdout"
        }
      ]
    },
    {
      "cell_type": "code",
      "metadata": {
        "id": "ZSuUAFrL3E1C",
        "colab_type": "code",
        "colab": {}
      },
      "source": [
        "# obtem as variaveis dependentes (treino e teste)\n",
        "Index=[15] #F\n",
        "#Index=[16] #CR\n",
        "y_train=train.iloc[:,Index]\n",
        "y_test=test.iloc[:,Index]\n",
        "Y_OLD=DAT_OLD.iloc[:,Index]\n",
        "#print(y_train.head())"
      ],
      "execution_count": 0,
      "outputs": []
    },
    {
      "cell_type": "code",
      "metadata": {
        "id": "H0GiIKBXXDgu",
        "colab_type": "code",
        "colab": {}
      },
      "source": [
        "y_train=np.array(y_train)\n",
        "x_test=np.array(x_test)\n",
        "x_train=np.array(x_train)"
      ],
      "execution_count": 0,
      "outputs": []
    },
    {
      "cell_type": "code",
      "metadata": {
        "id": "C-12imaj0ZqU",
        "colab_type": "code",
        "colab": {}
      },
      "source": [
        "# input dataset\n",
        "Neuron_input=len(X_NOME)\n",
        "Neuron_hidden=9\n",
        "Neuron_output=1\n",
        "Learning_rate=0.001\n",
        "omega=0.9\n",
        "Epoch=200000\n",
        "#Nome='sigmoide'\n",
        "syn0,syn1=ANN(Epoch,Nome,Neuron_input,Neuron_hidden,Neuron_output,Learning_rate,x_train,y_train)\n",
        "y_obs_train=y_train\n",
        "y_calc_train=ANN_ycal(Nome,syn0,syn1,x_train)\n",
        "Erro_treino=QUALIDADE(y_obs_train,y_calc_train)\n",
        "\n",
        "y_obs_test=y_test\n",
        "y_calc_test=ANN_ycal(Nome,syn0,syn1,x_test)\n",
        "Erro_teste=QUALIDADE(y_obs_test,y_calc_test)\n",
        "\n",
        "R2_treino=R2(y_obs_train,y_calc_train)\n",
        "#print(\"RMSE treino=\",Erro_treino, 'R2_treino',R2_treino,\"Epocas=\",Epoch,\"Learning=\",Learning_rate)\n",
        "Erro_teste=QUALIDADE(y_obs_test,y_calc_test)\n",
        "R2_teste=R2(y_obs_test,y_calc_test)\n",
        "#print(\"RMSE teste=\",Erro_teste,'R2_teste',R2_teste,\"Epocas=\",Epoch,\"Learning=\",Learning_rate)"
      ],
      "execution_count": 0,
      "outputs": []
    },
    {
      "cell_type": "code",
      "metadata": {
        "colab_type": "code",
        "outputId": "83d22170-08cf-49d9-fdd1-27704c1770ad",
        "id": "7YrQjethbp2T",
        "colab": {
          "base_uri": "https://localhost:8080/",
          "height": 377
        }
      },
      "source": [
        "plt.scatter(y_obs_train,y_calc_train)\n",
        "plt.scatter(y_obs_test,y_calc_test,color='r')\n",
        "plt.xlabel(\"True variable\")\n",
        "plt.ylabel(\"Estimated variable\")\n",
        "\n",
        "y_test_max=y_calc_test.max()\n",
        "y_test_min=y_calc_test.min()\n",
        "min=y_test_min.item()-0.1\n",
        "if y_test_max.item()>1:\n",
        "  max=y_test_max.item()+0.1\n",
        "else:\n",
        "  max=1.1\n",
        "\n",
        "plt.xlim((min,max))\n",
        "plt.ylim((min,max))\n",
        "plt.show()\n",
        "print(X_NOME)\n",
        "print(\"RMSE treino=\",Erro_treino, 'R2_treino',R2_treino,\"Epocas=\",Epoch,\"Learning=\",Learning_rate)\n",
        "print(\"RMSE teste=\",Erro_teste,'R2_teste',R2_teste,\"Epocas=\",Epoch,\"Learning=\",Learning_rate)\n"
      ],
      "execution_count": 18,
      "outputs": [
        {
          "output_type": "display_data",
          "data": {
            "image/png": "[encoded data removed]",
            "text/plain": [
              "<Figure size 432x288 with 1 Axes>"
            ]
          },
          "metadata": {
            "tags": []
          }
        },
        {
          "output_type": "stream",
          "text": [
            "Index(['DI RELATIVO', 'FRAC Its', 'VELOC FOBJ', 'VELOC X', 'Fo', 'CRo', 'fmin',\n",
            "       'fmax', 'AD_fmin', 'AD_fmax', 'DELTA FOBJ', 'DELTA VX', 'r_fitness'],\n",
            "      dtype='object')\n",
            "RMSE treino= [0.01883746] R2_treino [0.99886903] Epocas= 200000 Learning= 0.001\n",
            "RMSE teste= [1.37311656] R2_teste [0.02569436] Epocas= 200000 Learning= 0.001\n"
          ],
          "name": "stdout"
        }
      ]
    },
    {
      "cell_type": "code",
      "metadata": {
        "id": "4Ld0k8q9BVr0",
        "colab_type": "code",
        "colab": {}
      },
      "source": [
        "# input dataset\n",
        "Neuron_input=len(X_NOME)\n",
        "Neuron_hidden=9\n",
        "Neuron_output=1\n",
        "Learning_rate=0.0001\n",
        "omega=0.9\n",
        "Epoch=200000\n",
        "#Nome='sigmoide'\n",
        "syn0,syn1=ANN(Epoch,Nome,Neuron_input,Neuron_hidden,Neuron_output,Learning_rate,x_train,y_train)\n",
        "y_obs_train=y_train\n",
        "y_calc_train=ANN_ycal(Nome,syn0,syn1,x_train)\n",
        "Erro_treino=QUALIDADE(y_obs_train,y_calc_train)\n",
        "y_obs_test=y_test\n",
        "y_calc_test=ANN_ycal(Nome,syn0,syn1,x_test)\n",
        "Erro_teste=QUALIDADE(y_obs_test,y_calc_test)\n",
        "R2_treino=R2(y_obs_train,y_calc_train)\n",
        "#print(\"RMSE treino=\",Erro_treino, 'R2_treino',R2_treino,\"Epocas=\",Epoch,\"Learning=\",Learning_rate)\n",
        "Erro_teste=QUALIDADE(y_obs_test,y_calc_test)\n",
        "R2_teste=R2(y_obs_test,y_calc_test)\n",
        "#print(\"RMSE teste=\",Erro_teste,'R2_teste',R2_teste,\"Epocas=\",Epoch,\"Learning=\",Learning_rate)\n"
      ],
      "execution_count": 0,
      "outputs": []
    },
    {
      "cell_type": "code",
      "metadata": {
        "colab_type": "code",
        "outputId": "a2cd0966-84ff-41c6-e2b4-be84d246ed10",
        "id": "Xb8lzp_oSHjg",
        "colab": {
          "base_uri": "https://localhost:8080/",
          "height": 377
        }
      },
      "source": [
        "plt.scatter(y_obs_train,y_calc_train)\n",
        "plt.scatter(y_obs_test,y_calc_test,color='r')\n",
        "plt.xlabel(\"True variable\")\n",
        "plt.ylabel(\"Estimated variable\")\n",
        "\n",
        "y_test_max=y_calc_test.max()\n",
        "y_test_min=y_calc_test.min()\n",
        "min=y_test_min.item()-0.1\n",
        "if y_test_max.item()>1:\n",
        "  max=y_test_max.item()+0.1\n",
        "else:\n",
        "  max=1.1\n",
        "\n",
        "plt.xlim((min,max))\n",
        "plt.ylim((min,max))\n",
        "plt.show()\n",
        "print(X_NOME)\n",
        "print(\"RMSE treino=\",Erro_treino, 'R2_treino',R2_treino,\"Epocas=\",Epoch,\"Learning=\",Learning_rate)\n",
        "print(\"RMSE teste=\",Erro_teste,'R2_teste',R2_teste,\"Epocas=\",Epoch,\"Learning=\",Learning_rate)"
      ],
      "execution_count": 20,
      "outputs": [
        {
          "output_type": "display_data",
          "data": {
            "image/png": "[encoded data removed]",
            "text/plain": [
              "<Figure size 432x288 with 1 Axes>"
            ]
          },
          "metadata": {
            "tags": []
          }
        },
        {
          "output_type": "stream",
          "text": [
            "Index(['DI RELATIVO', 'FRAC Its', 'VELOC FOBJ', 'VELOC X', 'Fo', 'CRo', 'fmin',\n",
            "       'fmax', 'AD_fmin', 'AD_fmax', 'DELTA FOBJ', 'DELTA VX', 'r_fitness'],\n",
            "      dtype='object')\n",
            "RMSE treino= [0.10641948] R2_treino [0.96182967] Epocas= 200000 Learning= 0.0001\n",
            "RMSE teste= [0.56657361] R2_teste [-0.46508226] Epocas= 200000 Learning= 0.0001\n"
          ],
          "name": "stdout"
        }
      ]
    },
    {
      "cell_type": "code",
      "metadata": {
        "id": "X-i4-9_ASjJo",
        "colab_type": "code",
        "outputId": "21f3bf4e-cccc-455b-d068-df9d2abe5aee",
        "colab": {
          "base_uri": "https://localhost:8080/",
          "height": 73
        }
      },
      "source": [
        "print(X_NOME)"
      ],
      "execution_count": 21,
      "outputs": [
        {
          "output_type": "stream",
          "text": [
            "Index(['DI RELATIVO', 'FRAC Its', 'VELOC FOBJ', 'VELOC X', 'Fo', 'CRo', 'fmin',\n",
            "       'fmax', 'AD_fmin', 'AD_fmax', 'DELTA FOBJ', 'DELTA VX', 'r_fitness'],\n",
            "      dtype='object')\n"
          ],
          "name": "stdout"
        }
      ]
    },
    {
      "cell_type": "code",
      "metadata": {
        "id": "CT-AMyJ_Sc_k",
        "colab_type": "code",
        "outputId": "6dc2aa24-b00e-4fe6-df89-a891a4017264",
        "colab": {
          "base_uri": "https://localhost:8080/",
          "height": 36
        }
      },
      "source": [
        "# ========= Novas mudancas ==================================================\n",
        "IND=[1,2,6,7]\n",
        "x_train=train.iloc[:,IND]\n",
        "x_test=test.iloc[:,IND]\n",
        "X_OLD=DAT_OLD.iloc[:,IND]\n",
        "X_NOME=DAT_OLD.columns[IND]\n",
        "print(X_NOME)\n",
        "y_train=np.array(y_train)\n",
        "x_test=np.array(x_test)\n",
        "x_train=np.array(x_train)"
      ],
      "execution_count": 22,
      "outputs": [
        {
          "output_type": "stream",
          "text": [
            "Index(['DI RELATIVO', 'FRAC Its', 'Fo', 'CRo'], dtype='object')\n"
          ],
          "name": "stdout"
        }
      ]
    },
    {
      "cell_type": "code",
      "metadata": {
        "id": "QNcu08l11Hiy",
        "colab_type": "code",
        "colab": {}
      },
      "source": [
        "# input dataset\n",
        "Neuron_input=len(X_NOME)\n",
        "Neuron_hidden=9\n",
        "Neuron_output=1\n",
        "Learning_rate=0.0001\n",
        "omega=0.9\n",
        "Epoch=300000\n",
        "#Nome='sigmoide'\n",
        "syn0,syn1=ANN(Epoch,Nome,Neuron_input,Neuron_hidden,Neuron_output,Learning_rate,x_train,y_train)\n",
        "y_obs_train=y_train\n",
        "y_calc_train=ANN_ycal(Nome,syn0,syn1,x_train)\n",
        "Erro_treino=QUALIDADE(y_obs_train,y_calc_train)\n",
        "y_obs_test=y_test\n",
        "y_calc_test=ANN_ycal(Nome,syn0,syn1,x_test)\n",
        "Erro_teste=QUALIDADE(y_obs_test,y_calc_test)\n",
        "R2_treino=R2(y_obs_train,y_calc_train)\n",
        "#print(\"RMSE treino=\",Erro_treino, 'R2_treino',R2_treino,\"Epocas=\",Epoch,\"Learning=\",Learning_rate)\n",
        "Erro_teste=QUALIDADE(y_obs_test,y_calc_test)\n",
        "R2_teste=R2(y_obs_test,y_calc_test)\n"
      ],
      "execution_count": 0,
      "outputs": []
    },
    {
      "cell_type": "code",
      "metadata": {
        "id": "gqicKzzwIFMW",
        "colab_type": "code",
        "outputId": "69e5a747-0a8e-494c-efc7-c8b06b432e65",
        "colab": {
          "base_uri": "https://localhost:8080/",
          "height": 339
        }
      },
      "source": [
        "plt.scatter(y_obs_train,y_calc_train)\n",
        "plt.scatter(y_obs_test,y_calc_test,color='r')\n",
        "plt.xlabel(\"True variable\")\n",
        "plt.ylabel(\"Estimated variable\")\n",
        "\n",
        "y_test_max=y_calc_test.max()\n",
        "y_test_min=y_calc_test.min()\n",
        "min=y_test_min.item()-0.1\n",
        "if y_test_max.item()>1:\n",
        "  max=y_test_max.item()+0.1\n",
        "else:\n",
        "  max=1.1\n",
        "\n",
        "plt.xlim((min,max))\n",
        "plt.ylim((min,max))\n",
        "plt.show()\n",
        "print(X_NOME)\n",
        "print(\"RMSE treino=\",Erro_treino, 'R2_treino',R2_treino,\"Epocas=\",Epoch,\"Learning=\",Learning_rate)\n",
        "print(\"RMSE teste=\",Erro_teste,'R2_teste',R2_teste,\"Epocas=\",Epoch,\"Learning=\",Learning_rate)"
      ],
      "execution_count": 24,
      "outputs": [
        {
          "output_type": "display_data",
          "data": {
            "image/png": "[encoded data removed]",
            "text/plain": [
              "<Figure size 432x288 with 1 Axes>"
            ]
          },
          "metadata": {
            "tags": []
          }
        },
        {
          "output_type": "stream",
          "text": [
            "Index(['DI RELATIVO', 'FRAC Its', 'Fo', 'CRo'], dtype='object')\n",
            "RMSE treino= [0.34810467] R2_treino [0.36472969] Epocas= 300000 Learning= 0.0001\n",
            "RMSE teste= [0.46244131] R2_teste [-0.37355334] Epocas= 300000 Learning= 0.0001\n"
          ],
          "name": "stdout"
        }
      ]
    }
  ]
}