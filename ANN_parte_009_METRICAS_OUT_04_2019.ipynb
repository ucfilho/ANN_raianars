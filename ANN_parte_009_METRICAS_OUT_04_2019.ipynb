{
  "nbformat": 4,
  "nbformat_minor": 0,
  "metadata": {
    "colab": {
      "name": "ANN_parte_009_METRICAS_OUT_04_2019.ipynb",
      "provenance": [],
      "collapsed_sections": [],
      "include_colab_link": true
    },
    "kernelspec": {
      "name": "python3",
      "display_name": "Python 3"
    }
  },
  "cells": [
    {
      "cell_type": "markdown",
      "metadata": {
        "id": "view-in-github",
        "colab_type": "text"
      },
      "source": [
        "<a href=\"https://colab.research.google.com/github/ucfilho/ANN_raianars/blob/master/ANN_parte_009_METRICAS_OUT_04_2019.ipynb\" target=\"_parent\"><img src=\"https://colab.research.google.com/assets/colab-badge.svg\" alt=\"Open In Colab\"/></a>"
      ]
    },
    {
      "cell_type": "code",
      "metadata": {
        "id": "IJMhyBoEZHIU",
        "colab_type": "code",
        "outputId": "701b2dd3-38f6-41b8-efa6-219e3341e787",
        "colab": {
          "base_uri": "https://localhost:8080/",
          "height": 111
        }
      },
      "source": [
        "import numpy as np\n",
        "import pandas as pd\n",
        "import matplotlib.pyplot as plt\n",
        "\n",
        "\n",
        "# este comando clona o diretorio github ucfilho/ANN no colaboratory research\n",
        "!git clone https://github.com/RaianaSeixas/ANN #clonar do Github\n",
        "%cd ANN\n",
        "#!ls\n",
        "print(\"Hello world\"+\"\\n\"+\"I'm evolving!!!\"+\"\\n\")\n",
        "\n",
        "%matplotlib inline"
      ],
      "execution_count": 1,
      "outputs": [
        {
          "output_type": "stream",
          "text": [
            "fatal: destination path 'ANN' already exists and is not an empty directory.\n",
            "/content/ANN\n",
            "Hello world\n",
            "I'm evolving!!!\n",
            "\n"
          ],
          "name": "stdout"
        }
      ]
    },
    {
      "cell_type": "code",
      "metadata": {
        "id": "N4_YsjYjZE5r",
        "colab_type": "code",
        "colab": {}
      },
      "source": [
        "# https://towardsdatascience.com/pca-using-python-scikit-learn-e653f8989e60\n",
        "# https://github.com/mGalarnyk/Python_Tutorials/blob/master/Sklearn/PCA/PCA_to_Speed-up_Machine_Learning_Algorithms.ipynb"
      ],
      "execution_count": 0,
      "outputs": []
    },
    {
      "cell_type": "code",
      "metadata": {
        "id": "x09IGM7OYxpw",
        "colab_type": "code",
        "outputId": "e069d8d2-7a4f-440b-eae0-dcf89c598ef2",
        "colab": {
          "base_uri": "https://localhost:8080/",
          "height": 111
        }
      },
      "source": [
        "!ls"
      ],
      "execution_count": 3,
      "outputs": [
        {
          "output_type": "stream",
          "text": [
            "000_ANN_Gera_Matriz_para_ser_usada_set_26_2019.ipynb  X_DAT_B_set_17_2019.csv\n",
            "000_ANN_parte_001_XY_dados_out_01_2019.ipynb\t      X_DAT_set_17_2019.csv\n",
            "000_ANN_parte_002_XY_Métricas_D10_OUT_4_2019.ipynb    XY_D10_out_1_2019.csv\n",
            "000_Gerenciador_DE_var_F_CR_STAT_set_27_2019.ipynb    Y_DAT_B_set_17_2019.csv\n",
            "imput_ANN_D10_6F.zip\t\t\t\t      Y_DAT_set_17_2019.csv\n"
          ],
          "name": "stdout"
        }
      ]
    },
    {
      "cell_type": "code",
      "metadata": {
        "id": "xPh9-Qc81nMS",
        "colab_type": "code",
        "colab": {}
      },
      "source": [
        "# sigmoid function\n",
        "def sigmoid(x,deriv=False):\n",
        "    if(deriv==True):\n",
        "        return x*(1-x)\n",
        "    return 1/(1+np.exp(-x))\n",
        "\n",
        "def tasig(x,deriv=False):\n",
        "    if(deriv==True):\n",
        "        return 1-x*x\n",
        "    return 2/(1+np.exp(-2*x))-1\n",
        "\n",
        "# purelin function\n",
        "def purelin(x,deriv=False):\n",
        "    if(deriv==True):\n",
        "        return 1\n",
        "    #N=len(x)\n",
        "    #for i in range(N):\n",
        "      #if (x[i]>1):\n",
        "        #x[i]=1\n",
        "    return x"
      ],
      "execution_count": 0,
      "outputs": []
    },
    {
      "cell_type": "code",
      "metadata": {
        "id": "RepD-3pn1E-1",
        "colab_type": "code",
        "colab": {}
      },
      "source": [
        "# funcao normatiza dados\n",
        "def Normatiza(x):\n",
        "    strings=list(x)\n",
        "    for i in strings:\n",
        "        max_x=x[i].max()\n",
        "        min_x=x[i].min()\n",
        "        a=(max_x+min_x)/2\n",
        "        b=(max_x-min_x)/2\n",
        "        x[i]=(x[i]-a)/b\n",
        "    return x"
      ],
      "execution_count": 0,
      "outputs": []
    },
    {
      "cell_type": "code",
      "metadata": {
        "id": "aMUypVwa1RWF",
        "colab_type": "code",
        "colab": {}
      },
      "source": [
        "# funcao retorna os dados a forma original\n",
        "def Original(x,x_old):\n",
        "    strings=list(x)\n",
        "    for i in strings:\n",
        "        max_x=x_old[i].max()\n",
        "        min_x=x_old[i].min()\n",
        "        a=(max_x+min_x)/2\n",
        "        b=(max_x-min_x)/2\n",
        "        x[i]=x[i]*b+a\n",
        "    return x"
      ],
      "execution_count": 0,
      "outputs": []
    },
    {
      "cell_type": "code",
      "metadata": {
        "id": "xYeHyCBM09G8",
        "colab_type": "code",
        "colab": {}
      },
      "source": [
        "def R2(yobs,ycal):\n",
        "  yobs=np.array(yobs)\n",
        "  ycal=np.array(ycal)\n",
        "  N=len(yobs)\n",
        "  SQresiduos=0\n",
        "  SQexp=0\n",
        "  ycal_medio=y_calc.mean().item()\n",
        "  for i in range(N):\n",
        "    SQresiduos=SQresiduos+(yobs[i]-ycal[i])**2\n",
        "    SQexp=SQexp+(ycal[i]-ycal_medio)**2\n",
        "  coef=1-(SQresiduos/SQexp)\n",
        "  return coef"
      ],
      "execution_count": 0,
      "outputs": []
    },
    {
      "cell_type": "code",
      "metadata": {
        "id": "68JOHC6Ozv6d",
        "colab_type": "code",
        "outputId": "9779d750-11e1-42e8-da17-4f865f8ff6cc",
        "colab": {
          "base_uri": "https://localhost:8080/",
          "height": 391
        }
      },
      "source": [
        "# leitura dos dados\n",
        "DAT=pd.read_csv(\"XY_D10_out_1_2019.csv\")\n",
        "# separa as colunas de interesse\n",
        "Index=[1,2,3,4,5,6,7,8,9,10,11,12,13,14]\n",
        "Dat_Select=[]\n",
        "Dat_Select=DAT.iloc[:,Index].copy()\n",
        "\n",
        "pd.set_option('display.max_columns', 30)\n",
        "pd.set_option('display.max_rows', 30)\n",
        "#print(Dat_Select)\n",
        "print(Dat_Select.head())"
      ],
      "execution_count": 8,
      "outputs": [
        {
          "output_type": "stream",
          "text": [
            "   DIVERSIDADE (DI)  DI RELATIVO  FRAC Its  VELOC FOBJ  VELOC X     NP  \\\n",
            "0         21.655535     1.221355       0.2         0.0      0.0  100.0   \n",
            "1         21.514089     1.213378       0.3         0.0      0.0  100.0   \n",
            "2         21.295827     1.201068       0.4         2.0      2.0  100.0   \n",
            "3         21.188552     1.195018       0.5         0.0      0.0  100.0   \n",
            "4         21.769821     1.227801       0.6         1.0      2.0  100.0   \n",
            "\n",
            "         Fo       CRo      fmin         fmax   AD_fmin   AD_fmax         F  \\\n",
            "0  0.972856  0.760538  0.057549  1805.235510  1.000000  0.374682  0.277668   \n",
            "1  0.277668  0.260366  0.057549   317.197512  1.000000  0.065835  0.173981   \n",
            "2  0.173981  0.453169  0.022278    49.847938  0.387115  0.010346  0.677145   \n",
            "3  0.677145  0.947536  0.022278    33.373213  0.387115  0.006927  0.059762   \n",
            "4  0.059762  0.155327  0.014697     9.059640  0.255377  0.001880  0.949367   \n",
            "\n",
            "         CR  \n",
            "0  0.260366  \n",
            "1  0.453169  \n",
            "2  0.947536  \n",
            "3  0.155327  \n",
            "4  0.933255  \n"
          ],
          "name": "stdout"
        }
      ]
    },
    {
      "cell_type": "code",
      "metadata": {
        "id": "_vpQ5HTM06TE",
        "colab_type": "code",
        "colab": {}
      },
      "source": [
        "DAT_OLD=[]\n",
        "DAT_OLD=Dat_Select.copy()\n",
        "DAT=Normatiza(Dat_Select)"
      ],
      "execution_count": 0,
      "outputs": []
    },
    {
      "cell_type": "code",
      "metadata": {
        "id": "A4LF09Cq0hJu",
        "colab_type": "code",
        "outputId": "79e62b46-cd88-47dd-e21d-ed0723492963",
        "colab": {
          "base_uri": "https://localhost:8080/",
          "height": 260
        }
      },
      "source": [
        "# obtem as variaveis independentes (treino e teste)\n",
        "# separa os dados em treino e teste\n",
        "train=DAT.sample(frac=0.8,random_state=None) \n",
        "test=DAT.drop(train.index)\n",
        "x_train=train.iloc[:,[1,2,3,4,6,7,10,11]]\n",
        "x_test=test.iloc[:,[1,2,3,4,6,7,10,11]]\n",
        "X_OLD=DAT_OLD.iloc[:,[1,2,3,4,6,7,10,11]]\n",
        "print(x_train.head())"
      ],
      "execution_count": 10,
      "outputs": [
        {
          "output_type": "stream",
          "text": [
            "    DI RELATIVO  FRAC Its  VELOC FOBJ  VELOC X        Fo       CRo   AD_fmin  \\\n",
            "36    -0.415047      -1.0         1.0      1.0 -0.369618 -0.879501 -0.994059   \n",
            "49    -0.695994       0.0         0.0      1.0 -0.430203 -0.162475 -0.197878   \n",
            "38    -0.764240      -0.5         1.0      1.0 -0.051475 -0.660595 -0.999716   \n",
            "20     0.885640      -0.5         0.0      1.0  0.600665 -0.516720  0.359514   \n",
            "2      0.659696      -0.5         1.0      1.0 -0.662875 -0.068933 -0.225770   \n",
            "\n",
            "     AD_fmax  \n",
            "36 -0.265591  \n",
            "49  0.901072  \n",
            "38 -0.966230  \n",
            "20  0.371469  \n",
            "2  -0.979288  \n"
          ],
          "name": "stdout"
        }
      ]
    },
    {
      "cell_type": "code",
      "metadata": {
        "id": "ZSuUAFrL3E1C",
        "colab_type": "code",
        "outputId": "ea7ab378-ee6f-4198-a006-d97eb2715eea",
        "colab": {
          "base_uri": "https://localhost:8080/",
          "height": 129
        }
      },
      "source": [
        "# obtem as variaveis dependentes (treino e teste)\n",
        "#Index=[2,3,4,5]\n",
        "Index=[12] #F\n",
        "#Index=[13] #CR\n",
        "y_train=train.iloc[:,Index]\n",
        "y_test=test.iloc[:,Index]\n",
        "Y_OLD=DAT_OLD.iloc[:,Index]\n",
        "print(y_train.head())"
      ],
      "execution_count": 11,
      "outputs": [
        {
          "output_type": "stream",
          "text": [
            "           F\n",
            "36 -0.628877\n",
            "49  0.495032\n",
            "38 -0.464242\n",
            "20  0.241763\n",
            "2   0.362938\n"
          ],
          "name": "stdout"
        }
      ]
    },
    {
      "cell_type": "code",
      "metadata": {
        "id": "hqYR1qujdIFX",
        "colab_type": "code",
        "colab": {}
      },
      "source": [
        "X_NOME=[  'DI RELATIVO','FRAC Its',\n",
        "           'VELOC FOBJ','VELOC X','Fo','CRo',\n",
        "           'AD_fmin','AD_fmax']\n",
        "Y_NOME=['F']   \n",
        "#Y_NOME=['CR']   "
      ],
      "execution_count": 0,
      "outputs": []
    },
    {
      "cell_type": "code",
      "metadata": {
        "id": "bUuQEko_dpF2",
        "colab_type": "code",
        "outputId": "2313e7ec-def9-49f9-a3c8-ec93059ddfb3",
        "colab": {
          "base_uri": "https://localhost:8080/",
          "height": 36
        }
      },
      "source": [
        "# input dataset\n",
        "#Neuron_input=3\n",
        "Neuron_input=len(X_NOME)\n",
        "print(Neuron_input)\n",
        "Neuron_hidden=5\n",
        "Neuron_output=1\n",
        "Learning_rate=0.01\n",
        "omega=0.9\n",
        "Epoch=200000"
      ],
      "execution_count": 13,
      "outputs": [
        {
          "output_type": "stream",
          "text": [
            "8\n"
          ],
          "name": "stdout"
        }
      ]
    },
    {
      "cell_type": "code",
      "metadata": {
        "id": "5X0BYxxIdwGp",
        "colab_type": "code",
        "colab": {}
      },
      "source": [
        "Y_train=y_train\n",
        "X_train=x_train\n",
        "x_test=x_test.loc[x_test['FRAC Its']==x_test['FRAC Its'],X_NOME].values\n",
        "X_train=X_train.loc[X_train['FRAC Its']==X_train['FRAC Its'],X_NOME].values\n",
        "y=Y_train.loc[Y_train['F']==Y_train['F'],['F']].values"
      ],
      "execution_count": 0,
      "outputs": []
    },
    {
      "cell_type": "code",
      "metadata": {
        "id": "ww1KvVqReAhK",
        "colab_type": "code",
        "colab": {}
      },
      "source": [
        "def ANN(Epoch,Neuron_input,Neuron_hidden,Neuron_output,Learning_rate,X_train,y):\n",
        "  syn0 = 2*np.random.random((Neuron_input,Neuron_hidden)) - 1\n",
        "  syn1 = 2*np.random.random((Neuron_hidden,Neuron_output)) - 1\n",
        "  for j in range(Epoch):\n",
        "    l0 = X_train\n",
        "    l1 = sigmoid(np.dot(l0,syn0))\n",
        "    l2 = purelin(np.dot(l1,syn1))\n",
        "    l2_error = y - l2\n",
        "    l2_delta = l2_error*purelin(l2,deriv=True)\n",
        "    l1_error = l2_delta.dot(syn1.T)\n",
        "    l1_delta = l1_error * sigmoid(l1,deriv=True)\n",
        "    syn1 += l1.T.dot(l2_delta)*Learning_rate\n",
        "    syn0 += l0.T.dot(l1_delta)*Learning_rate\n",
        "  return syn0,syn1\n",
        "\n"
      ],
      "execution_count": 0,
      "outputs": []
    },
    {
      "cell_type": "code",
      "metadata": {
        "id": "aA6TlqJI0hdM",
        "colab_type": "code",
        "colab": {}
      },
      "source": [
        "def ANN_ycal(syn0,syn1,X_train):\n",
        "  l0 = X_train\n",
        "  l1 = sigmoid(np.dot(l0,syn0))\n",
        "  l2 = purelin(np.dot(l1,syn1))\n",
        "  y_calc=np.reshape(l2,len(l2))\n",
        "  return y_calc"
      ],
      "execution_count": 0,
      "outputs": []
    },
    {
      "cell_type": "code",
      "metadata": {
        "id": "ufXS4SrB9SoA",
        "colab_type": "code",
        "colab": {}
      },
      "source": [
        "def QUALIDADE(yobs,ycal):\n",
        "  #yobs=yobs.to_numpy()\n",
        "  yobs=np.array(yobs)\n",
        "  #ycal=ycal.to_numpy()\n",
        "  ycal=np.array(ycal)\n",
        "  N=len(yobs)\n",
        "  Soma=0\n",
        "  for i in range(N):\n",
        "    Soma=Soma+(yobs[i]-ycal[i])**2\n",
        "  Soma=(Soma/N)**0.5\n",
        "  return Soma\n"
      ],
      "execution_count": 0,
      "outputs": []
    },
    {
      "cell_type": "code",
      "metadata": {
        "id": "C-12imaj0ZqU",
        "colab_type": "code",
        "colab": {}
      },
      "source": [
        " syn0,syn1=ANN(Epoch,Neuron_input,Neuron_hidden,Neuron_output,Learning_rate,X_train,y)"
      ],
      "execution_count": 0,
      "outputs": []
    },
    {
      "cell_type": "code",
      "metadata": {
        "id": "vErzzOkMAjq6",
        "colab_type": "code",
        "outputId": "a3d45d94-a8ca-4876-fc47-495b02a95e8d",
        "colab": {
          "base_uri": "https://localhost:8080/",
          "height": 55
        }
      },
      "source": [
        "#'''\n",
        "#DAT=pd.read_csv(Arquivo,sep='\\t')\n",
        "y_obs=y_train\n",
        "y_calc=ANN_ycal(syn0,syn1,X_train)\n",
        "Erro_treino=QUALIDADE(y_obs,y_calc)\n",
        "print(\"Erro treino=\",Erro_treino)\n",
        "y_obs=y_test\n",
        "y_calc=ANN_ycal(syn0,syn1,x_test)\n",
        "Erro_teste=QUALIDADE(y_obs,y_calc)\n",
        "print(\"Erro teste=\",Erro_teste)"
      ],
      "execution_count": 19,
      "outputs": [
        {
          "output_type": "stream",
          "text": [
            "Erro treino= [0.04175341]\n",
            "Erro teste= [0.7952421]\n"
          ],
          "name": "stdout"
        }
      ]
    },
    {
      "cell_type": "code",
      "metadata": {
        "id": "4Ld0k8q9BVr0",
        "colab_type": "code",
        "outputId": "c3e9fef6-0eb1-41dd-d71f-ce799be7e1b5",
        "colab": {
          "base_uri": "https://localhost:8080/",
          "height": 73
        }
      },
      "source": [
        "Num=20\n",
        "NH=5\n",
        "Neuron_hidden=NH\n",
        "syn0,syn1=ANN(Epoch,Neuron_input,Neuron_hidden,Neuron_output,Learning_rate,X_train,y)\n",
        "y_obs=y_train\n",
        "y_calc=ANN_ycal(syn0,syn1,X_train)\n",
        "Erro_treino=QUALIDADE(y_obs,y_calc)\n",
        "y_obs=y_test\n",
        "y_calc=ANN_ycal(syn0,syn1,x_test)\n",
        "Erro_teste=QUALIDADE(y_obs,y_calc)\n",
        "\n",
        "print(\"resultados com o PCA\")\n",
        "print(\"Neronios=\",NH,\"Erro teste=\",Erro_teste, \"Erro treino=\",Erro_treino)\n",
        "  \n",
        "print(\"Melhor Neuronios oculto=\",NH)\n"
      ],
      "execution_count": 20,
      "outputs": [
        {
          "output_type": "stream",
          "text": [
            "resultados com o PCA\n",
            "Neronios= 5 Erro teste= [0.80203105] Erro treino= [0.03359697]\n",
            "Melhor Neuronios oculto= 5\n"
          ],
          "name": "stdout"
        }
      ]
    },
    {
      "cell_type": "code",
      "metadata": {
        "id": "vgD7VnsqzN7c",
        "colab_type": "code",
        "colab": {}
      },
      "source": [
        "# Make an instance of the Model\n",
        "# https://towardsdatascience.com/pca-using-python-scikit-learn-e653f8989e60\n",
        "from sklearn.decomposition import PCA\n",
        "\n",
        "#pca = PCA(.95)\n",
        "pca = PCA(n_components=5)\n",
        "xtrain_pca =pca.fit_transform(x_train)\n",
        "xtest_pca =pca.fit_transform(x_test)\n",
        "#xtrain_pca = pca.transform(x_train)\n",
        "#xtest_pca = pca.transform(x_test)\n",
        "#print(xtrain_pca)"
      ],
      "execution_count": 0,
      "outputs": []
    },
    {
      "cell_type": "code",
      "metadata": {
        "id": "5kWCMneVzXUP",
        "colab_type": "code",
        "outputId": "fe30f445-aab0-4178-f630-18e363a9f247",
        "colab": {
          "base_uri": "https://localhost:8080/",
          "height": 73
        }
      },
      "source": [
        "Num=20\n",
        "NH=9\n",
        "Neuron_hidden=NH\n",
        "Neuron_input=len(xtrain_pca[0,:])\n",
        "syn0,syn1=ANN(Epoch,Neuron_input,Neuron_hidden,Neuron_output,Learning_rate,xtrain_pca,y)\n",
        "y_obs_train=y_train\n",
        "y_calc_train=ANN_ycal(syn0,syn1,xtrain_pca)\n",
        "Erro_treino=QUALIDADE(y_obs_train,y_calc_train)\n",
        "y_obs_test=y_test\n",
        "y_calc_test=ANN_ycal(syn0,syn1,xtest_pca)\n",
        "Erro_teste=QUALIDADE(y_obs_test,y_calc_test)\n",
        "\n",
        "print(\"Com o PCA\")\n",
        "\n",
        "print(\"Neronios=\",NH,\"Erro teste=\",Erro_teste, \"Erro treino=\",Erro_treino)\n",
        "  \n",
        "print(\"Melhor Neuronios oculto=\",NH)"
      ],
      "execution_count": 22,
      "outputs": [
        {
          "output_type": "stream",
          "text": [
            "Com o PCA\n",
            "Neronios= 9 Erro teste= [2.57026387] Erro treino= [0.01270888]\n",
            "Melhor Neuronios oculto= 9\n"
          ],
          "name": "stdout"
        }
      ]
    },
    {
      "cell_type": "code",
      "metadata": {
        "id": "FhqgOA-D215y",
        "colab_type": "code",
        "colab": {
          "base_uri": "https://localhost:8080/",
          "height": 36
        },
        "outputId": "954cc272-f8cb-441e-e8d3-79c4abdeb673"
      },
      "source": [
        "print(Neuron_input)"
      ],
      "execution_count": 23,
      "outputs": [
        {
          "output_type": "stream",
          "text": [
            "5\n"
          ],
          "name": "stdout"
        }
      ]
    },
    {
      "cell_type": "code",
      "metadata": {
        "id": "QNcu08l11Hiy",
        "colab_type": "code",
        "colab": {
          "base_uri": "https://localhost:8080/",
          "height": 55
        },
        "outputId": "17d9e76b-658b-410a-9fa4-bce1203413b7"
      },
      "source": [
        "R2_treino=R2(y_obs_train,y_calc_train)\n",
        "print(\"RMSE treino=\",Erro_treino, 'R2_treino',R2_treino)\n",
        "Erro_teste=QUALIDADE(y_obs_test,y_calc_test)\n",
        "R2_teste=R2(y_obs_test,y_calc_test)\n",
        "print(\"RMSE teste=\",Erro_teste,'R2_teste',R2_teste)"
      ],
      "execution_count": 24,
      "outputs": [
        {
          "output_type": "stream",
          "text": [
            "RMSE treino= [0.01270888] R2_treino [0.99951488]\n",
            "RMSE teste= [2.57026387] R2_teste [-0.12670127]\n"
          ],
          "name": "stdout"
        }
      ]
    },
    {
      "cell_type": "code",
      "metadata": {
        "id": "uovrTXfvitki",
        "colab_type": "code",
        "colab": {
          "base_uri": "https://localhost:8080/",
          "height": 283
        },
        "outputId": "4d806666-aeb9-4035-c44a-5d9339da5101"
      },
      "source": [
        "plt.scatter(y_obs_train,y_calc_train)\n",
        "plt.scatter(y_obs_test,y_calc_test,color='r')\n",
        "plt.xlabel(\"True variable\")\n",
        "plt.ylabel(\"Estimated variable\")\n",
        "\n",
        "#plt.xlim((-0.5,2))\n",
        "#plt.ylim((-0.5,2))\n",
        "plt.show()"
      ],
      "execution_count": 25,
      "outputs": [
        {
          "output_type": "display_data",
          "data": {
            "image/png": "[encoded data removed]",
            "text/plain": [
              "<Figure size 432x288 with 1 Axes>"
            ]
          },
          "metadata": {
            "tags": []
          }
        }
      ]
    },
    {
      "cell_type": "code",
      "metadata": {
        "id": "z_McI8I3jauX",
        "colab_type": "code",
        "colab": {
          "base_uri": "https://localhost:8080/",
          "height": 1000
        },
        "outputId": "9c7d7a7e-c1c9-4df7-9dd2-1e6bd540aa97"
      },
      "source": [
        "#print(DAT)"
      ],
      "execution_count": 26,
      "outputs": [
        {
          "output_type": "stream",
          "text": [
            "    DIVERSIDADE (DI)  DI RELATIVO  FRAC Its  VELOC FOBJ  VELOC X  NP  \\\n",
            "0          -0.966910     0.687753     -1.00        -1.0     -1.0 NaN   \n",
            "1          -0.967127     0.676720     -0.75        -1.0     -1.0 NaN   \n",
            "2          -0.967460     0.659696     -0.50         1.0      1.0 NaN   \n",
            "3          -0.967624     0.651328     -0.25        -1.0     -1.0 NaN   \n",
            "4          -0.966736     0.696668      0.00         0.0      1.0 NaN   \n",
            "5          -0.966736     0.696667      0.25        -1.0     -1.0 NaN   \n",
            "6          -0.967451     0.660158      0.50         1.0      1.0 NaN   \n",
            "7          -0.968345     0.614557      0.75        -1.0     -1.0 NaN   \n",
            "8          -0.967257     0.670069      1.00         1.0      1.0 NaN   \n",
            "9          -0.996183    -0.617132     -1.00         1.0      1.0 NaN   \n",
            "10         -0.997991    -0.798438     -0.75         0.0      1.0 NaN   \n",
            "11         -0.998890    -0.888682     -0.50         1.0      1.0 NaN   \n",
            "12         -0.999627    -0.962612     -0.25         1.0      1.0 NaN   \n",
            "13         -0.999787    -0.978616      0.00         1.0      0.0 NaN   \n",
            "14         -0.999917    -0.991679      0.25         1.0      0.0 NaN   \n",
            "..               ...          ...       ...         ...      ...  ..   \n",
            "39         -0.999672    -0.828907     -0.25         1.0      1.0 NaN   \n",
            "40         -0.999708    -0.847383      0.00         1.0      1.0 NaN   \n",
            "41         -0.999776    -0.881472      0.25         1.0      0.0 NaN   \n",
            "42         -0.999858    -0.922858      0.50         1.0      1.0 NaN   \n",
            "43         -0.999918    -0.953223      0.75         1.0      0.0 NaN   \n",
            "44         -0.999939    -0.963744      1.00         1.0      0.0 NaN   \n",
            "45         -0.887261     0.762419     -1.00         0.0      1.0 NaN   \n",
            "46         -0.890826     0.706647     -0.75         0.0      1.0 NaN   \n",
            "47         -0.954516    -0.289660     -0.50         0.0      1.0 NaN   \n",
            "48         -0.975777    -0.622250     -0.25         0.0      1.0 NaN   \n",
            "49         -0.980491    -0.695994      0.00         0.0      1.0 NaN   \n",
            "50         -0.995956    -0.937906      0.25         1.0      1.0 NaN   \n",
            "51         -0.998560    -0.978648      0.50         1.0      1.0 NaN   \n",
            "52         -0.999667    -0.995959      0.75         1.0      1.0 NaN   \n",
            "53         -0.999767    -0.997521      1.00         0.0      0.0 NaN   \n",
            "\n",
            "          Fo       CRo      fmin      fmax   AD_fmin   AD_fmax         F  \\\n",
            "0   0.965811  0.564308 -0.999932 -0.000674  1.000000 -0.249906 -0.451485   \n",
            "1  -0.451485 -0.466146 -0.999932 -0.824409  1.000000 -0.868201 -0.662875   \n",
            "2  -0.662875 -0.068933 -0.999974 -0.972406 -0.225770 -0.979288  0.362938   \n",
            "3   0.362938  0.949562 -0.999974 -0.981526 -0.225770 -0.986133 -0.895736   \n",
            "4  -0.895736 -0.682546 -0.999983 -0.994985 -0.489246 -0.996236  0.917925   \n",
            "5   0.917925  0.920140 -0.999983 -0.995480 -0.489246 -0.996607 -0.188562   \n",
            "6  -0.188562 -1.000000 -0.999999 -0.999445 -0.961915 -0.999583  0.524544   \n",
            "7   0.524544  0.877706 -0.999999 -0.999718 -0.961915 -0.999788  0.111649   \n",
            "8   0.111649 -0.131265 -1.000000 -0.999991 -0.998084 -0.999993  0.610115   \n",
            "9  -0.395030 -0.753392 -0.999236 -0.989446 -0.889100 -0.536309 -0.702677   \n",
            "10 -0.702677 -0.108413 -0.999607 -0.994739 -0.942918 -0.768845 -0.344251   \n",
            "11 -0.344251 -0.532680 -0.999911 -0.996729 -0.987023 -0.856270 -0.484321   \n",
            "12 -0.484321 -0.527644 -0.999980 -0.999899 -0.997159 -0.995559 -0.403738   \n",
            "13 -0.403738 -0.020358 -0.999993 -0.999959 -0.998942 -0.998196 -0.099985   \n",
            "14 -0.099985 -0.383454 -0.999999 -0.999995 -0.999811 -0.999794 -0.363959   \n",
            "..       ...       ...       ...       ...       ...       ...       ...   \n",
            "39 -0.464242 -0.474597 -1.000000 -0.999978 -0.999962 -0.966257 -0.190843   \n",
            "40 -0.190843 -0.899666 -1.000000 -1.000000 -0.999995 -0.999987 -0.035984   \n",
            "41 -0.035984 -0.053285 -1.000000 -1.000000 -1.000000 -0.999989 -0.084589   \n",
            "42 -0.084589 -0.554020 -1.000000 -1.000000 -1.000000 -0.999999 -0.729215   \n",
            "43 -0.729215 -0.439114 -1.000000 -1.000000 -1.000000 -1.000000 -0.963704   \n",
            "44 -0.963704 -0.598944 -1.000000 -1.000000 -1.000000 -1.000000 -0.494242   \n",
            "45  0.641639  0.501921 -0.977489 -0.988399  0.993431  1.000000  0.300998   \n",
            "46  0.300998 -0.142473 -0.979050 -0.988629  0.855194  0.960188 -0.642797   \n",
            "47 -0.642797 -0.072734 -0.984358 -0.988868  0.385168  0.919022 -0.363282   \n",
            "48 -0.363282  1.000000 -0.989945 -0.988972 -0.109627  0.901072 -0.430203   \n",
            "49 -0.430203 -0.162475 -0.990942 -0.988972 -0.197878  0.901072  0.495032   \n",
            "50  0.495032 -0.589683 -0.996950 -0.996430 -0.729949 -0.384526 -1.000000   \n",
            "51 -1.000000  0.429431 -0.998499 -0.998158 -0.867078 -0.682374 -0.485518   \n",
            "52 -0.485518  0.661057 -0.999772 -0.999441 -0.979771 -0.903667 -0.537956   \n",
            "53 -0.537956  0.599466 -0.999838 -0.999622 -0.985691 -0.934819  0.461336   \n",
            "\n",
            "          CR  \n",
            "0  -0.466146  \n",
            "1  -0.068933  \n",
            "2   0.949562  \n",
            "3  -0.682546  \n",
            "4   0.920140  \n",
            "5  -1.000000  \n",
            "6   0.877706  \n",
            "7  -0.131265  \n",
            "8   0.914033  \n",
            "9  -0.108413  \n",
            "10 -0.532680  \n",
            "11 -0.527644  \n",
            "12 -0.020358  \n",
            "13 -0.383454  \n",
            "14  0.019779  \n",
            "..       ...  \n",
            "39 -0.899666  \n",
            "40 -0.053285  \n",
            "41 -0.554020  \n",
            "42 -0.439114  \n",
            "43 -0.598944  \n",
            "44 -0.099533  \n",
            "45 -0.142473  \n",
            "46 -0.072734  \n",
            "47  1.000000  \n",
            "48 -0.162475  \n",
            "49 -0.589683  \n",
            "50  0.429431  \n",
            "51  0.661057  \n",
            "52  0.599466  \n",
            "53 -0.308441  \n",
            "\n",
            "[54 rows x 14 columns]\n"
          ],
          "name": "stdout"
        }
      ]
    }
  ]
}