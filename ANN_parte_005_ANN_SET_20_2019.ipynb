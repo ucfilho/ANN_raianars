{
  "nbformat": 4,
  "nbformat_minor": 0,
  "metadata": {
    "colab": {
      "name": "ANN_parte_005_ANN_SET_20_2019.ipynb",
      "provenance": [],
      "collapsed_sections": [],
      "include_colab_link": true
    },
    "kernelspec": {
      "name": "python3",
      "display_name": "Python 3"
    }
  },
  "cells": [
    {
      "cell_type": "markdown",
      "metadata": {
        "id": "view-in-github",
        "colab_type": "text"
      },
      "source": [
        "<a href=\"https://colab.research.google.com/github/ucfilho/ANN_raianars/blob/master/ANN_parte_005_ANN_SET_20_2019.ipynb\" target=\"_parent\"><img src=\"https://colab.research.google.com/assets/colab-badge.svg\" alt=\"Open In Colab\"/></a>"
      ]
    },
    {
      "cell_type": "code",
      "metadata": {
        "id": "IJMhyBoEZHIU",
        "colab_type": "code",
        "outputId": "ed243e6e-a747-4cb1-c8da-93e352c91309",
        "colab": {
          "base_uri": "https://localhost:8080/",
          "height": 140
        }
      },
      "source": [
        "import numpy as np\n",
        "import pandas as pd\n",
        "import matplotlib.pyplot as plt\n",
        "from sklearn.neural_network import MLPRegressor, MLPClassifier\n",
        "from sklearn.metrics import mean_squared_error\n",
        "from sklearn.metrics import r2_score\n",
        "import statistics as st\n",
        "from sklearn.metrics import confusion_matrix\n",
        "\n",
        "# este comando clona o diretorio github ucfilho/ANN no colaboratory research\n",
        "!git clone https://github.com/RaianaSeixas/ANN #clonar do Github\n",
        "%cd ANN\n",
        "!ls\n",
        "print(\"Hello world\"+\"\\n\"+\"I'm evolving!!!\"+\"\\n\")\n",
        "\n",
        "%matplotlib inline"
      ],
      "execution_count": 1,
      "outputs": [
        {
          "output_type": "stream",
          "text": [
            "fatal: destination path 'ANN' already exists and is not an empty directory.\n",
            "/content/ANN\n",
            "imput_ANN.zip\t\t X_DAT_set_17_2019.csv\t  Y_DAT_set_17_2019.csv\n",
            "X_DAT_B_set_17_2019.csv  Y_DAT_B_set_17_2019.csv\n",
            "Hello world\n",
            "I'm evolving!!!\n",
            "\n"
          ],
          "name": "stdout"
        }
      ]
    },
    {
      "cell_type": "code",
      "metadata": {
        "id": "qHm6yYSolUl2",
        "colab_type": "code",
        "colab": {}
      },
      "source": [
        "# funcao normatiza dados\n",
        "def Normatiza_old(x):\n",
        "    strings=list(x)\n",
        "    for i in strings:\n",
        "        max_x=x[i].max()\n",
        "        min_x=x[i].min()\n",
        "        a=(max_x+min_x)/2\n",
        "        b=(max_x-min_x)/2\n",
        "        x[i]=(x[i]-a)/b\n",
        "    return x"
      ],
      "execution_count": 0,
      "outputs": []
    },
    {
      "cell_type": "code",
      "metadata": {
        "id": "RZeh90zpoFOV",
        "colab_type": "code",
        "colab": {}
      },
      "source": [
        "\n",
        "# funcao retorna os dados a forma original\n",
        "def Original_old(x,x_old):\n",
        "    strings=list(x)\n",
        "    for i in strings:\n",
        "        max_x=x_old[i].max()\n",
        "        min_x=x_old[i].min()\n",
        "        a=(max_x+min_x)/2\n",
        "        b=(max_x-min_x)/2\n",
        "        x[i]=x[i]*b+a\n",
        "    return x"
      ],
      "execution_count": 0,
      "outputs": []
    },
    {
      "cell_type": "code",
      "metadata": {
        "id": "PjwmvtglLAzW",
        "colab_type": "code",
        "colab": {}
      },
      "source": [
        "# funcao normatiza dados\n",
        "def Normatiza(x):\n",
        "    strings=list(x)\n",
        "    for i in strings:\n",
        "        sd_x=st.stdev(x[i])\n",
        "        mean_x=st.mean(x[i])\n",
        "        x[i]=(x[i]-mean_x)/sd_x\n",
        "    return x"
      ],
      "execution_count": 0,
      "outputs": []
    },
    {
      "cell_type": "code",
      "metadata": {
        "id": "G03aMmdqLBtZ",
        "colab_type": "code",
        "colab": {}
      },
      "source": [
        "# funcao retorna os dados a forma original\n",
        "def Original(x,x_old):\n",
        "    strings=list(x)\n",
        "    for i in strings:\n",
        "        sd_x=st.stdev(x_old[i])\n",
        "        mean_x=st.mean(x_old[i])\n",
        "        x[i]=x[i]*sd_x+mean_x\n",
        "    return x"
      ],
      "execution_count": 0,
      "outputs": []
    },
    {
      "cell_type": "code",
      "metadata": {
        "id": "68JOHC6Ozv6d",
        "colab_type": "code",
        "colab": {}
      },
      "source": [
        "# leitura dos dados\n",
        "DAT=pd.read_csv(\"X_DAT_B_set_17_2019.csv\")\n",
        "DAT_Y=pd.read_csv(\"Y_DAT_B_set_17_2019.csv\")"
      ],
      "execution_count": 0,
      "outputs": []
    },
    {
      "cell_type": "code",
      "metadata": {
        "id": "03h2UewffH9z",
        "colab_type": "code",
        "outputId": "eb49ef1b-a0d5-427d-8651-80c43619cebd",
        "colab": {
          "base_uri": "https://localhost:8080/",
          "height": 34
        }
      },
      "source": [
        "strings=list(DAT_Y)\n",
        "print(strings)"
      ],
      "execution_count": 7,
      "outputs": [
        {
          "output_type": "stream",
          "text": [
            "['Unnamed: 0', 'NP', 'F', 'CR']\n"
          ],
          "name": "stdout"
        }
      ]
    },
    {
      "cell_type": "code",
      "metadata": {
        "id": "3TIVzGFOoxqO",
        "colab_type": "code",
        "colab": {
          "base_uri": "https://localhost:8080/",
          "height": 193
        },
        "outputId": "d23b0e71-4c05-446a-c0e6-9c5f111b9958"
      },
      "source": [
        "for i in range(len(DAT_Y['CR'])):\n",
        "  if(DAT_Y['CR'][i]<1):\n",
        "    DAT_Y['CR'][i]=0\n",
        "  else:\n",
        "    DAT_Y['CR'][i]=1\n",
        "\n",
        "\n",
        "\n"
      ],
      "execution_count": 8,
      "outputs": [
        {
          "output_type": "stream",
          "text": [
            "/usr/local/lib/python3.6/dist-packages/ipykernel_launcher.py:5: SettingWithCopyWarning: \n",
            "A value is trying to be set on a copy of a slice from a DataFrame\n",
            "\n",
            "See the caveats in the documentation: http://pandas.pydata.org/pandas-docs/stable/indexing.html#indexing-view-versus-copy\n",
            "  \"\"\"\n",
            "/usr/local/lib/python3.6/dist-packages/ipykernel_launcher.py:3: SettingWithCopyWarning: \n",
            "A value is trying to be set on a copy of a slice from a DataFrame\n",
            "\n",
            "See the caveats in the documentation: http://pandas.pydata.org/pandas-docs/stable/indexing.html#indexing-view-versus-copy\n",
            "  This is separate from the ipykernel package so we can avoid doing imports until\n"
          ],
          "name": "stderr"
        }
      ]
    },
    {
      "cell_type": "code",
      "metadata": {
        "id": "_vpQ5HTM06TE",
        "colab_type": "code",
        "colab": {}
      },
      "source": [
        "DAT_OLD=[]\n",
        "DAT_OLD=DAT.copy()\n",
        "DAT=Normatiza(DAT)\n",
        "\n",
        "#DAT_OLD_Y=[]\n",
        "#DAT_OLD_Y=DAT_Y.copy()\n",
        "#DAT_Y=Normatiza(DAT_Y)\n",
        "#print(DAT_Y['CR'])"
      ],
      "execution_count": 0,
      "outputs": []
    },
    {
      "cell_type": "code",
      "metadata": {
        "id": "Ax4w5Rn8pshW",
        "colab_type": "code",
        "colab": {}
      },
      "source": [
        "#print(DAT_OLD_Y)"
      ],
      "execution_count": 0,
      "outputs": []
    },
    {
      "cell_type": "code",
      "metadata": {
        "id": "eZtaRd6Vqbap",
        "colab_type": "code",
        "colab": {}
      },
      "source": [
        "#print(DAT_OLD_Y)"
      ],
      "execution_count": 0,
      "outputs": []
    },
    {
      "cell_type": "code",
      "metadata": {
        "id": "T4LjgKXWffpf",
        "colab_type": "code",
        "colab": {}
      },
      "source": [
        "#for i in range(len(DAT_Y['CR'])):\n",
        "#  print(DAT_Y['NP'][i])"
      ],
      "execution_count": 0,
      "outputs": []
    },
    {
      "cell_type": "code",
      "metadata": {
        "id": "imns-oDDij3h",
        "colab_type": "code",
        "colab": {}
      },
      "source": [
        "#print(DAT_OLD_Y)\n",
        "#for i in range(len(DAT_Y['CR'])):\n",
        "#  print(DAT_Y['NP'][i])"
      ],
      "execution_count": 0,
      "outputs": []
    },
    {
      "cell_type": "code",
      "metadata": {
        "id": "A4LF09Cq0hJu",
        "colab_type": "code",
        "colab": {}
      },
      "source": [
        "# obtem as variaveis independentes (treino e teste)\n",
        "# separa os dados em treino e teste\n",
        "FRAC=0.8 # dados em treino\n",
        "train=DAT.sample(frac=FRAC,random_state=78) # poderia ser frac=0.5? sim ou nao?\n",
        "test=DAT.drop(train.index)\n",
        "x_train=train.iloc[:,[1,2,3,4,5,6]]\n",
        "x_test=test.iloc[:,[1,2,3,4,5,6]]\n",
        "X_OLD=DAT_OLD.iloc[:,[1,2,3,4,5,6]]\n",
        "#print(x_train)"
      ],
      "execution_count": 0,
      "outputs": []
    },
    {
      "cell_type": "code",
      "metadata": {
        "id": "ZSuUAFrL3E1C",
        "colab_type": "code",
        "colab": {}
      },
      "source": [
        "# obtem as variaveis dependentes (treino e teste)\n",
        "train=DAT_Y.sample(frac=FRAC,random_state=878) # poderia ser frac=0.5? sim ou nao?\n",
        "test=DAT_Y.drop(train.index)\n",
        "Index=[3]\n",
        "y_train=train.iloc[:,Index]\n",
        "y_test=test.iloc[:,Index]\n",
        "#Y_OLD=DAT_OLD.iloc[:,Index]\n",
        "#print(y_train)"
      ],
      "execution_count": 0,
      "outputs": []
    },
    {
      "cell_type": "code",
      "metadata": {
        "id": "juO0GhjjjgHu",
        "colab_type": "code",
        "colab": {}
      },
      "source": [
        "#Num=len(y_train)\n",
        "#print(Num)\n"
      ],
      "execution_count": 0,
      "outputs": []
    },
    {
      "cell_type": "code",
      "metadata": {
        "id": "pDYAiMenkWta",
        "colab_type": "code",
        "colab": {}
      },
      "source": [
        "#for i in range(len(y_train)):\n",
        "#  print(y_train.iloc[i,0])"
      ],
      "execution_count": 0,
      "outputs": []
    },
    {
      "cell_type": "code",
      "metadata": {
        "id": "VstJi4hpkkq-",
        "colab_type": "code",
        "colab": {}
      },
      "source": [
        "#print(y_train)"
      ],
      "execution_count": 0,
      "outputs": []
    },
    {
      "cell_type": "code",
      "metadata": {
        "id": "LUn-XlUpkAU7",
        "colab_type": "code",
        "colab": {}
      },
      "source": [
        "#print(y_train)"
      ],
      "execution_count": 0,
      "outputs": []
    },
    {
      "cell_type": "code",
      "metadata": {
        "id": "I9f6rc8zd6fZ",
        "colab_type": "code",
        "colab": {}
      },
      "source": [
        "#print(DAT_Y)"
      ],
      "execution_count": 0,
      "outputs": []
    },
    {
      "cell_type": "code",
      "metadata": {
        "id": "WB50XJKNI22C",
        "colab_type": "code",
        "outputId": "80a651fc-8af7-447b-820f-6bd11f9006a2",
        "colab": {
          "base_uri": "https://localhost:8080/",
          "height": 72
        }
      },
      "source": [
        "# define a rede neural \n",
        "#clf = MLPRegressor(solver='lbfgs',activation='tanh',max_iter=500000,alpha=1e-5,\n",
        "#clf = MLPRegressor(solver='lbfgs',activation='logistic',max_iter=500000,alpha=1e-5,\n",
        "                  # hidden_layer_sizes=(8),#out_activation='purelin',\n",
        "                  # random_state=None)\n",
        "clf = MLPClassifier(solver='lbfgs',activation='logistic',max_iter=500000,alpha=1e-5,\n",
        "                   hidden_layer_sizes=(8),#out_activation='purelin',\n",
        "                   random_state=None)\n",
        "# ??? self.out_activation_ = 'identity'\n",
        "# treina a rede neural\n",
        "clf.fit(x_train, y_train)\n",
        "\n",
        "# usa a rede neural treina em calculos para treino e teste\n",
        "y_calc_train=clf.predict(x_train)\n",
        "y_calc_test=clf.predict(x_test)"
      ],
      "execution_count": 20,
      "outputs": [
        {
          "output_type": "stream",
          "text": [
            "/usr/local/lib/python3.6/dist-packages/sklearn/neural_network/multilayer_perceptron.py:921: DataConversionWarning: A column-vector y was passed when a 1d array was expected. Please change the shape of y to (n_samples, ), for example using ravel().\n",
            "  y = column_or_1d(y, warn=True)\n"
          ],
          "name": "stderr"
        }
      ]
    },
    {
      "cell_type": "code",
      "metadata": {
        "id": "OsVaUHcRWthz",
        "colab_type": "code",
        "colab": {}
      },
      "source": [
        "#print(clf)"
      ],
      "execution_count": 0,
      "outputs": []
    },
    {
      "cell_type": "code",
      "metadata": {
        "id": "xHxDN6iLLvA-",
        "colab_type": "code",
        "colab": {}
      },
      "source": [
        "#print(y_calc_test)\n"
      ],
      "execution_count": 0,
      "outputs": []
    },
    {
      "cell_type": "code",
      "metadata": {
        "id": "F3vbjaYoMQYu",
        "colab_type": "code",
        "outputId": "c67527d4-a94f-47a7-a254-65c0e291a21e",
        "colab": {
          "base_uri": "https://localhost:8080/",
          "height": 286
        }
      },
      "source": [
        "plt.scatter(y_train,y_calc_train)"
      ],
      "execution_count": 22,
      "outputs": [
        {
          "output_type": "execute_result",
          "data": {
            "text/plain": [
              "<matplotlib.collections.PathCollection at 0x7f9f804c0e10>"
            ]
          },
          "metadata": {
            "tags": []
          },
          "execution_count": 22
        },
        {
          "output_type": "display_data",
          "data": {
            "image/png": "[encoded data removed]",
            "text/plain": [
              "<Figure size 432x288 with 1 Axes>"
            ]
          },
          "metadata": {
            "tags": []
          }
        }
      ]
    },
    {
      "cell_type": "code",
      "metadata": {
        "id": "x2rstqVtL_vy",
        "colab_type": "code",
        "outputId": "9d0c8e9a-67d3-4ab8-e20d-61f1c614fdcb",
        "colab": {
          "base_uri": "https://localhost:8080/",
          "height": 286
        }
      },
      "source": [
        "plt.scatter(y_test,y_calc_test)"
      ],
      "execution_count": 23,
      "outputs": [
        {
          "output_type": "execute_result",
          "data": {
            "text/plain": [
              "<matplotlib.collections.PathCollection at 0x7f9f7dc5e160>"
            ]
          },
          "metadata": {
            "tags": []
          },
          "execution_count": 23
        },
        {
          "output_type": "display_data",
          "data": {
            "image/png": "[encoded data removed]",
            "text/plain": [
              "<Figure size 432x288 with 1 Axes>"
            ]
          },
          "metadata": {
            "tags": []
          }
        }
      ]
    },
    {
      "cell_type": "code",
      "metadata": {
        "id": "3DeT4tMhPZDa",
        "colab_type": "code",
        "colab": {}
      },
      "source": [
        "#print(max(y_calc_test))\n",
        "#print(y_calc_test.index(max(y_calc_test)))\n",
        "#item=max(y_calc_test)\n",
        "#item_index = np.where(y_calc_test==item)\n",
        "#print(item_index)\n"
      ],
      "execution_count": 0,
      "outputs": []
    },
    {
      "cell_type": "code",
      "metadata": {
        "id": "zgevH11rSk2z",
        "colab_type": "code",
        "colab": {}
      },
      "source": [
        "#print(y_calc_test[17])\n",
        "#print(x_test.iloc[17,:])\n",
        "#print(y_test[17])"
      ],
      "execution_count": 0,
      "outputs": []
    },
    {
      "cell_type": "code",
      "metadata": {
        "id": "pgnkEwamTl3R",
        "colab_type": "code",
        "outputId": "98765987-3a8b-45ff-9f82-fe45e7e48140",
        "colab": {
          "base_uri": "https://localhost:8080/",
          "height": 510
        }
      },
      "source": [
        "print(x_test)"
      ],
      "execution_count": 25,
      "outputs": [
        {
          "output_type": "stream",
          "text": [
            "     DI RELATIVO  FRAC Its  VELOC FOBJ   VELOC X  DELTA FOBJ  DELTA VX\n",
            "3      -1.307837 -0.374641   -0.036178  1.001366    1.042963 -0.128829\n",
            "12     -1.393240 -0.542292    1.184827 -1.196754   -0.130370 -1.709913\n",
            "20     -0.178788 -0.783546    1.184827 -1.196754    1.042963 -1.709913\n",
            "23     -0.453701  0.524951    1.184827 -1.196754   -0.130370 -1.709913\n",
            "28     -1.387629 -1.078542    1.184827 -0.097694    2.216297  0.661713\n",
            "29     -1.393350 -0.920822    1.184827 -0.097694   -0.130370 -0.128829\n",
            "30     -1.393410 -0.710527    1.184827 -0.097694   -0.130370 -0.128829\n",
            "32     -1.393413  0.235796    1.184827 -0.097694   -0.130370 -0.128829\n",
            "38     -1.381695 -0.920822    1.184827 -0.097694   -0.130370 -0.919371\n",
            "40     -1.249369 -0.272415   -0.036178 -1.196754   -1.303704 -0.919371\n",
            "43     -1.393413  1.147071    1.184827 -0.097694   -0.130370 -0.128829\n",
            "54      0.518748 -1.355605   -1.257182 -1.196754   -0.130370 -0.128829\n",
            "66      0.765962 -0.765396    1.184827  1.001366   -0.130370 -0.128829\n",
            "68      0.982248  0.095345   -1.257182  1.001366   -0.130370  1.452255\n",
            "77      0.021060  0.224405   -0.036178 -1.196754   -0.130370 -0.128829\n",
            "78      0.101170  0.636582   -1.257182 -1.196754   -1.303704 -0.128829\n",
            "86     -1.026651  0.465219    1.184827  1.001366   -0.130370 -0.128829\n",
            "89     -1.280631  1.607334    1.184827  1.001366    1.042963  0.661713\n",
            "102     0.493405  0.002796   -1.257182 -1.196754   -1.303704 -1.709913\n",
            "105     0.169578  0.989709   -0.036178  1.001366   -0.130370  1.452255\n",
            "113     0.580481  0.659644   -1.257182 -1.196754   -1.303704 -1.709913\n",
            "114     0.447285  1.132175   -0.036178  1.001366    1.042963  1.452255\n",
            "115     0.375438  1.621635   -0.036178 -1.196754   -0.130370 -1.709913\n",
            "116     0.403169  1.813076   -0.036178 -1.196754   -0.130370 -0.128829\n",
            "120     1.190764 -0.213664   -0.036178  1.001366   -0.130370  1.452255\n",
            "123     1.269862  0.863078   -0.036178  1.001366   -0.130370 -0.128829\n",
            "127     0.587560 -1.206927    1.184827  1.001366    2.216297  1.452255\n"
          ],
          "name": "stdout"
        }
      ]
    },
    {
      "cell_type": "code",
      "metadata": {
        "id": "5X0BYxxIdwGp",
        "colab_type": "code",
        "outputId": "7197b7a4-9e25-426c-a5a2-ef4a3d3acbc8",
        "colab": {
          "base_uri": "https://localhost:8080/",
          "height": 283
        }
      },
      "source": [
        "plt.scatter(y_train,y_calc_train)\n",
        "plt.scatter(y_test,y_calc_test,color='r')\n",
        "plt.xlabel(\"True Resistance\")\n",
        "plt.ylabel(\"Estimated Resistence\")\n",
        "plt.xlim((-1,1))\n",
        "plt.ylim((-1,1))\n",
        "plt.show()"
      ],
      "execution_count": 26,
      "outputs": [
        {
          "output_type": "display_data",
          "data": {
            "image/png": "[encoded data removed]",
            "text/plain": [
              "<Figure size 432x288 with 1 Axes>"
            ]
          },
          "metadata": {
            "tags": []
          }
        }
      ]
    },
    {
      "cell_type": "code",
      "metadata": {
        "id": "DAkVQpS0NSPH",
        "colab_type": "code",
        "outputId": "2819b9f2-8963-4e31-f93f-87959e9e07bd",
        "colab": {
          "base_uri": "https://localhost:8080/",
          "height": 52
        }
      },
      "source": [
        "mse=mean_squared_error(y_train,y_calc_train)\n",
        "print(\"MSE train=\",mse)\n",
        "R2=r2_score(y_train,y_calc_train)\n",
        "print(\"R^2 train=\",R2)"
      ],
      "execution_count": 27,
      "outputs": [
        {
          "output_type": "stream",
          "text": [
            "MSE train= 0.12037037037037036\n",
            "R^2 train= 0.514354894500173\n"
          ],
          "name": "stdout"
        }
      ]
    },
    {
      "cell_type": "code",
      "metadata": {
        "id": "HK294XlqO71l",
        "colab_type": "code",
        "outputId": "4ea958e0-d124-4c5f-fe8f-7803161590b2",
        "colab": {
          "base_uri": "https://localhost:8080/",
          "height": 52
        }
      },
      "source": [
        "mse=mean_squared_error(y_test,y_calc_test)\n",
        "print(\"MSE teste=\",mse)\n",
        "R2=r2_score(y_test,y_calc_test)\n",
        "print(\"R^2 teste=\",R2)"
      ],
      "execution_count": 28,
      "outputs": [
        {
          "output_type": "stream",
          "text": [
            "MSE teste= 0.5925925925925926\n",
            "R^2 teste= -1.454545454545455\n"
          ],
          "name": "stdout"
        }
      ]
    },
    {
      "cell_type": "code",
      "metadata": {
        "id": "nctVIutzuYPB",
        "colab_type": "code",
        "colab": {
          "base_uri": "https://localhost:8080/",
          "height": 52
        },
        "outputId": "fede0567-8e68-40e4-d4d1-db886ef0df94"
      },
      "source": [
        "\n",
        "\n",
        "y_calc_test=pd.DataFrame(y_calc_test)\n",
        "y_calc_test.columns = [\"y_calc\"]\n",
        "#print(y_calc_test)\n",
        "#df_confusion = pd.crosstab(y_test,y_calc_test)\n",
        "df_confusion = confusion_matrix(y_test,y_calc_test)\n",
        "print(df_confusion)\n"
      ],
      "execution_count": 29,
      "outputs": [
        {
          "output_type": "stream",
          "text": [
            "[[ 5 11]\n",
            " [ 5  6]]\n"
          ],
          "name": "stdout"
        }
      ]
    },
    {
      "cell_type": "code",
      "metadata": {
        "id": "RBpg6Y1rvk4K",
        "colab_type": "code",
        "colab": {
          "base_uri": "https://localhost:8080/",
          "height": 510
        },
        "outputId": "73e376de-ad38-4b6f-e290-9194fe170c39"
      },
      "source": [
        "print(y_test)"
      ],
      "execution_count": 30,
      "outputs": [
        {
          "output_type": "stream",
          "text": [
            "      CR\n",
            "3    0.0\n",
            "11   1.0\n",
            "12   1.0\n",
            "21   0.0\n",
            "26   0.0\n",
            "27   1.0\n",
            "28   0.0\n",
            "29   1.0\n",
            "31   0.0\n",
            "34   1.0\n",
            "49   0.0\n",
            "50   1.0\n",
            "60   0.0\n",
            "67   0.0\n",
            "69   0.0\n",
            "73   1.0\n",
            "76   1.0\n",
            "79   1.0\n",
            "81   1.0\n",
            "95   0.0\n",
            "97   0.0\n",
            "101  0.0\n",
            "114  0.0\n",
            "115  0.0\n",
            "117  0.0\n",
            "119  1.0\n",
            "131  0.0\n"
          ],
          "name": "stdout"
        }
      ]
    },
    {
      "cell_type": "code",
      "metadata": {
        "id": "ShNQpAlcvqqt",
        "colab_type": "code",
        "colab": {
          "base_uri": "https://localhost:8080/",
          "height": 510
        },
        "outputId": "809d45d1-aa54-4b24-f74d-63bcfc0071fd"
      },
      "source": [
        "print(y_calc_test)"
      ],
      "execution_count": 31,
      "outputs": [
        {
          "output_type": "stream",
          "text": [
            "    y_calc\n",
            "0      0.0\n",
            "1      1.0\n",
            "2      1.0\n",
            "3      1.0\n",
            "4      0.0\n",
            "5      1.0\n",
            "6      1.0\n",
            "7      1.0\n",
            "8      1.0\n",
            "9      1.0\n",
            "10     0.0\n",
            "11     0.0\n",
            "12     1.0\n",
            "13     0.0\n",
            "14     1.0\n",
            "15     0.0\n",
            "16     0.0\n",
            "17     0.0\n",
            "18     0.0\n",
            "19     1.0\n",
            "20     1.0\n",
            "21     1.0\n",
            "22     1.0\n",
            "23     0.0\n",
            "24     1.0\n",
            "25     1.0\n",
            "26     1.0\n"
          ],
          "name": "stdout"
        }
      ]
    }
  ]
}