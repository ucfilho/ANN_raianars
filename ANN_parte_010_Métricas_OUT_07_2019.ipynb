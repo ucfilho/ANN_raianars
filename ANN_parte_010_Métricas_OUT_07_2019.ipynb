{
  "nbformat": 4,
  "nbformat_minor": 0,
  "metadata": {
    "colab": {
      "name": "ANN_parte_010_Métricas_OUT_07_2019.ipynb",
      "provenance": [],
      "collapsed_sections": [],
      "include_colab_link": true
    },
    "kernelspec": {
      "name": "python3",
      "display_name": "Python 3"
    }
  },
  "cells": [
    {
      "cell_type": "markdown",
      "metadata": {
        "id": "view-in-github",
        "colab_type": "text"
      },
      "source": [
        "<a href=\"https://colab.research.google.com/github/ucfilho/ANN_raianars/blob/master/ANN_parte_010_M%C3%A9tricas_OUT_07_2019.ipynb\" target=\"_parent\"><img src=\"https://colab.research.google.com/assets/colab-badge.svg\" alt=\"Open In Colab\"/></a>"
      ]
    },
    {
      "cell_type": "code",
      "metadata": {
        "id": "IJMhyBoEZHIU",
        "colab_type": "code",
        "outputId": "b364433c-00ea-487e-9cd8-3b542174d622",
        "colab": {
          "base_uri": "https://localhost:8080/",
          "height": 111
        }
      },
      "source": [
        "import numpy as np\n",
        "import pandas as pd\n",
        "import matplotlib.pyplot as plt\n",
        "\n",
        "\n",
        "# este comando clona o diretorio github ucfilho/ANN no colaboratory research\n",
        "!git clone https://github.com/RaianaSeixas/ANN #clonar do Github\n",
        "%cd ANN\n",
        "#!ls\n",
        "print(\"Hello world\"+\"\\n\"+\"I'm evolving!!!\"+\"\\n\")\n",
        "\n",
        "%matplotlib inline"
      ],
      "execution_count": 1,
      "outputs": [
        {
          "output_type": "stream",
          "text": [
            "fatal: destination path 'ANN' already exists and is not an empty directory.\n",
            "/content/ANN\n",
            "Hello world\n",
            "I'm evolving!!!\n",
            "\n"
          ],
          "name": "stdout"
        }
      ]
    },
    {
      "cell_type": "code",
      "metadata": {
        "id": "N4_YsjYjZE5r",
        "colab_type": "code",
        "colab": {}
      },
      "source": [
        "# https://towardsdatascience.com/pca-using-python-scikit-learn-e653f8989e60\n",
        "# https://github.com/mGalarnyk/Python_Tutorials/blob/master/Sklearn/PCA/PCA_to_Speed-up_Machine_Learning_Algorithms.ipynb"
      ],
      "execution_count": 0,
      "outputs": []
    },
    {
      "cell_type": "code",
      "metadata": {
        "id": "x09IGM7OYxpw",
        "colab_type": "code",
        "outputId": "2264aa54-c30e-463c-8f81-0e00a75ca86c",
        "colab": {
          "base_uri": "https://localhost:8080/",
          "height": 167
        }
      },
      "source": [
        "!ls"
      ],
      "execution_count": 3,
      "outputs": [
        {
          "output_type": "stream",
          "text": [
            "000_ANN_Gera_Matriz_out_04_2019.ipynb\t\t    imput_ANN_D10_out_05_19.zip\n",
            "000_ANN_parte_001_XY_dados_out_01_2019.ipynb\t    X_DAT_B_set_17_2019.csv\n",
            "000_ANN_parte_002_XY_Métricas_D10_OUT_4_2019.ipynb  X_DAT_set_17_2019.csv\n",
            "000_ANN_parte_009_Métricas_PCA_OUT_07_2019.ipynb    XY_D10_30_out_7_2019.csv\n",
            "000_Gerenciador_DE_var_F_CR_STAT_set_27_2019.ipynb  XY_D10_out_1_2019.csv\n",
            "ANN\t\t\t\t\t\t    XY_D10_out_5_2019.csv\n",
            "imput_ANN_D10_30_out_07_19.zip\t\t\t    Y_DAT_B_set_17_2019.csv\n",
            "imput_ANN_D10_6F.zip\t\t\t\t    Y_DAT_set_17_2019.csv\n"
          ],
          "name": "stdout"
        }
      ]
    },
    {
      "cell_type": "code",
      "metadata": {
        "id": "xPh9-Qc81nMS",
        "colab_type": "code",
        "colab": {}
      },
      "source": [
        "# sigmoid function\n",
        "def sigmoid(x,deriv=False):\n",
        "    if(deriv==True):\n",
        "        return x*(1-x)\n",
        "    return 1/(1+np.exp(-x))\n",
        "\n",
        "def tasig(x,deriv=False):\n",
        "    if(deriv==True):\n",
        "        return 1-x*x\n",
        "    return 2/(1+np.exp(-2*x))-1\n",
        "\n",
        "# purelin function\n",
        "def purelin(x,deriv=False):\n",
        "    if(deriv==True):\n",
        "        return 1\n",
        "    #N=len(x)\n",
        "    #for i in range(N):\n",
        "      #if (x[i]>1):\n",
        "        #x[i]=1\n",
        "    return x"
      ],
      "execution_count": 0,
      "outputs": []
    },
    {
      "cell_type": "code",
      "metadata": {
        "id": "RepD-3pn1E-1",
        "colab_type": "code",
        "colab": {}
      },
      "source": [
        "# funcao normatiza dados\n",
        "def Normatiza(x):\n",
        "    strings=list(x)\n",
        "    for i in strings:\n",
        "        max_x=x[i].max()\n",
        "        min_x=x[i].min()\n",
        "        a=(max_x+min_x)/2\n",
        "        b=(max_x-min_x)/2\n",
        "        x[i]=(x[i]-a)/b\n",
        "    return x"
      ],
      "execution_count": 0,
      "outputs": []
    },
    {
      "cell_type": "code",
      "metadata": {
        "id": "aMUypVwa1RWF",
        "colab_type": "code",
        "colab": {}
      },
      "source": [
        "# funcao retorna os dados a forma original\n",
        "def Original(x,x_old):\n",
        "    strings=list(x)\n",
        "    for i in strings:\n",
        "        max_x=x_old[i].max()\n",
        "        min_x=x_old[i].min()\n",
        "        a=(max_x+min_x)/2\n",
        "        b=(max_x-min_x)/2\n",
        "        x[i]=x[i]*b+a\n",
        "    return x"
      ],
      "execution_count": 0,
      "outputs": []
    },
    {
      "cell_type": "code",
      "metadata": {
        "id": "ww1KvVqReAhK",
        "colab_type": "code",
        "colab": {}
      },
      "source": [
        "def ANN(Epoch,Neuron_input,Neuron_hidden,Neuron_output,Learning_rate,X_train,y):\n",
        "  syn0 = 2*np.random.random((Neuron_input,Neuron_hidden)) - 1\n",
        "  syn1 = 2*np.random.random((Neuron_hidden,Neuron_output)) - 1\n",
        "  for j in range(Epoch):\n",
        "    l0 = X_train\n",
        "    l1 = sigmoid(np.dot(l0,syn0))\n",
        "    l2 = purelin(np.dot(l1,syn1))\n",
        "    l2_error = y - l2\n",
        "    l2_delta = l2_error*purelin(l2,deriv=True)\n",
        "    l1_error = l2_delta.dot(syn1.T)\n",
        "    l1_delta = l1_error * sigmoid(l1,deriv=True)\n",
        "    syn1 += l1.T.dot(l2_delta)*Learning_rate\n",
        "    syn0 += l0.T.dot(l1_delta)*Learning_rate\n",
        "  return syn0,syn1\n",
        "\n"
      ],
      "execution_count": 0,
      "outputs": []
    },
    {
      "cell_type": "code",
      "metadata": {
        "id": "aA6TlqJI0hdM",
        "colab_type": "code",
        "colab": {}
      },
      "source": [
        "def ANN_ycal(syn0,syn1,X_train):\n",
        "  l0 = X_train\n",
        "  l1 = sigmoid(np.dot(l0,syn0))\n",
        "  l2 = purelin(np.dot(l1,syn1))\n",
        "  y_calc=np.reshape(l2,len(l2))\n",
        "  return y_calc"
      ],
      "execution_count": 0,
      "outputs": []
    },
    {
      "cell_type": "code",
      "metadata": {
        "id": "ufXS4SrB9SoA",
        "colab_type": "code",
        "colab": {}
      },
      "source": [
        "def QUALIDADE(yobs,ycal):\n",
        "  #yobs=yobs.to_numpy()\n",
        "  yobs=np.array(yobs)\n",
        "  #ycal=ycal.to_numpy()\n",
        "  ycal=np.array(ycal)\n",
        "  N=len(yobs)\n",
        "  Soma=0\n",
        "  for i in range(N):\n",
        "    Soma=Soma+(yobs[i]-ycal[i])**2\n",
        "  Soma=(Soma/N)**0.5\n",
        "  return Soma\n"
      ],
      "execution_count": 0,
      "outputs": []
    },
    {
      "cell_type": "code",
      "metadata": {
        "id": "xYeHyCBM09G8",
        "colab_type": "code",
        "colab": {}
      },
      "source": [
        "def R2(yobs,ycal):\n",
        "  yobs=np.array(yobs)\n",
        "  ycal=np.array(ycal)\n",
        "  N=len(yobs)\n",
        "  SQresiduos=0\n",
        "  SQexp=0\n",
        "  ycal_medio=y_calc.mean().item()\n",
        "  for i in range(N):\n",
        "    SQresiduos=SQresiduos+(yobs[i]-ycal[i])**2\n",
        "    SQexp=SQexp+(ycal[i]-ycal_medio)**2\n",
        "  coef=1-(SQresiduos/SQexp)\n",
        "  return coef"
      ],
      "execution_count": 0,
      "outputs": []
    },
    {
      "cell_type": "code",
      "metadata": {
        "id": "EzyC9O_NwhPC",
        "colab_type": "code",
        "colab": {}
      },
      "source": [
        "# leitura dos dados\n",
        "DAT=pd.read_csv(\"XY_D10_30_out_7_2019.csv\")\n",
        "#print(DAT.head())"
      ],
      "execution_count": 0,
      "outputs": []
    },
    {
      "cell_type": "code",
      "metadata": {
        "id": "68JOHC6Ozv6d",
        "colab_type": "code",
        "outputId": "a5648cb8-95f3-48bf-fec2-0ff29f8c411e",
        "colab": {
          "base_uri": "https://localhost:8080/",
          "height": 391
        }
      },
      "source": [
        "# separa as colunas de interesse\n",
        "Index=[1,2,3,4,5,6,7,8,9,10,11,12,13,14,15,16,17]\n",
        "Dat_Select=[]\n",
        "Dat_Select=DAT.iloc[:,Index].copy()\n",
        "\n",
        "pd.set_option('display.max_columns', 30)\n",
        "pd.set_option('display.max_rows', 30)\n",
        "#print(Dat_Select)\n",
        "print(Dat_Select.head())"
      ],
      "execution_count": 12,
      "outputs": [
        {
          "output_type": "stream",
          "text": [
            "   DIVERSIDADE (DI)  DI RELATIVO  FRAC Its  VELOC FOBJ  VELOC X     NP  \\\n",
            "0         19.479761     1.081077       0.2         2.0      2.0  100.0   \n",
            "1         19.667582     1.091500       0.3         2.0      2.0  100.0   \n",
            "2         19.957668     1.107599       0.4         0.0      0.0  100.0   \n",
            "3         20.617404     1.144213       0.5         0.0      0.0  100.0   \n",
            "4         19.455278     1.079718       0.6         2.0      2.0  100.0   \n",
            "\n",
            "         Fo       CRo      fmin        fmax   AD_fmin   AD_fmax  DELTA FOBJ  \\\n",
            "0  0.798558  0.531855  0.146353  231.984278  0.117215  0.017040         2.0   \n",
            "1  0.618503  0.966139  0.004995   90.568405  0.004001  0.006653         0.0   \n",
            "2  0.627984  0.944441  0.004995   84.874065  0.004001  0.006234        -2.0   \n",
            "3  0.894793  0.571047  0.004995    3.558598  0.004001  0.000261         0.0   \n",
            "4  0.901544  0.852554  0.000030    0.144926  0.000024  0.000011         2.0   \n",
            "\n",
            "   DELTA VX  r_fitness         F        CR  \n",
            "0       2.0   0.999369  0.618503  0.966139  \n",
            "1       0.0   0.999945  0.627984  0.944441  \n",
            "2      -2.0   0.999941  0.894793  0.571047  \n",
            "3       0.0   0.998596  0.901544  0.852554  \n",
            "4       2.0   0.999793  0.607277  0.962316  \n"
          ],
          "name": "stdout"
        }
      ]
    },
    {
      "cell_type": "code",
      "metadata": {
        "id": "_vpQ5HTM06TE",
        "colab_type": "code",
        "colab": {}
      },
      "source": [
        "DAT_OLD=[]\n",
        "DAT_OLD=Dat_Select.copy()\n",
        "DAT=Normatiza(Dat_Select)"
      ],
      "execution_count": 0,
      "outputs": []
    },
    {
      "cell_type": "code",
      "metadata": {
        "id": "A4LF09Cq0hJu",
        "colab_type": "code",
        "colab": {}
      },
      "source": [
        "# obtem as variaveis independentes (treino e teste)\n",
        "# separa os dados em treino e teste\n",
        "train=DAT.sample(frac=0.8,random_state=None) \n",
        "test=DAT.drop(train.index)\n",
        "x_train=train.iloc[:,[1,2,3,4,6,7,8,9,10,11,12,13,14]]\n",
        "x_test=test.iloc[:,[1,2,3,4,6,7,8,9,10,11,12,13,14]]\n",
        "X_OLD=DAT_OLD.iloc[:,[1,2,3,4,6,7,8,9,10,11,12,13,14]]\n"
      ],
      "execution_count": 0,
      "outputs": []
    },
    {
      "cell_type": "code",
      "metadata": {
        "id": "9FD7DDJzFuTH",
        "colab_type": "code",
        "outputId": "0d67defa-1690-4dca-a143-1645320db50d",
        "colab": {
          "base_uri": "https://localhost:8080/",
          "height": 260
        }
      },
      "source": [
        "print(x_train.head())"
      ],
      "execution_count": 15,
      "outputs": [
        {
          "output_type": "stream",
          "text": [
            "     DI RELATIVO  FRAC Its  VELOC FOBJ  VELOC X        Fo       CRo      fmin  \\\n",
            "48     -0.723959 -0.250031         0.0      1.0 -0.362910  0.966315 -0.994748   \n",
            "44     -0.959153  0.999917         1.0      0.0 -0.955799 -0.668759 -0.996875   \n",
            "112    -0.799180  0.299946         0.0      1.0 -0.711656  0.445499 -0.994847   \n",
            "67      0.832959  0.299946        -1.0     -1.0  0.855489  0.061810 -0.996875   \n",
            "51     -0.981487  0.499938         1.0      1.0 -0.991640  0.382853 -0.996630   \n",
            "\n",
            "         fmax   AD_fmin   AD_fmax  DELTA FOBJ  DELTA VX  r_fitness  \n",
            "48  -0.996579 -0.055113  0.384569         0.0       0.0  -0.364881  \n",
            "44  -0.998931 -1.000000 -1.000000         0.0       0.0   0.995785  \n",
            "112 -0.997062 -0.100157  0.102636         0.0       0.0  -0.637296  \n",
            "67  -0.998487 -0.999258 -0.998433         0.0       0.0   0.999967  \n",
            "51  -0.998439 -0.891195 -0.710122         0.5       0.0   0.249306  \n"
          ],
          "name": "stdout"
        }
      ]
    },
    {
      "cell_type": "code",
      "metadata": {
        "id": "ZSuUAFrL3E1C",
        "colab_type": "code",
        "outputId": "8bf834d5-7e57-4845-a4c4-eeffde8aae25",
        "colab": {
          "base_uri": "https://localhost:8080/",
          "height": 129
        }
      },
      "source": [
        "# obtem as variaveis dependentes (treino e teste)\n",
        "Index=[15] #F\n",
        "#Index=[16] #CR\n",
        "y_train=train.iloc[:,Index]\n",
        "y_test=test.iloc[:,Index]\n",
        "Y_OLD=DAT_OLD.iloc[:,Index]\n",
        "print(y_train.head())"
      ],
      "execution_count": 16,
      "outputs": [
        {
          "output_type": "stream",
          "text": [
            "            F\n",
            "48  -0.428991\n",
            "44  -0.492227\n",
            "112  0.127061\n",
            "67  -0.000762\n",
            "51  -0.483612\n"
          ],
          "name": "stdout"
        }
      ]
    },
    {
      "cell_type": "code",
      "metadata": {
        "id": "hqYR1qujdIFX",
        "colab_type": "code",
        "colab": {}
      },
      "source": [
        "X_NOME=[  'DI RELATIVO','FRAC Its',\n",
        "           'VELOC FOBJ','VELOC X','Fo','CRo',\n",
        "           'AD_fmin','AD_fmax','DELTA FOBJ','DELTA VX','r_fitness']\n",
        "Y_NOME=['F']   \n",
        "#Y_NOME=['CR']   "
      ],
      "execution_count": 0,
      "outputs": []
    },
    {
      "cell_type": "code",
      "metadata": {
        "id": "bUuQEko_dpF2",
        "colab_type": "code",
        "colab": {}
      },
      "source": [
        "# input dataset\n",
        "#Neuron_input=3\n",
        "Neuron_input=len(X_NOME)\n",
        "#print(Neuron_input)\n",
        "Neuron_hidden=9\n",
        "Neuron_output=1\n",
        "Learning_rate=0.01\n",
        "omega=0.9\n",
        "Epoch=20000"
      ],
      "execution_count": 0,
      "outputs": []
    },
    {
      "cell_type": "code",
      "metadata": {
        "id": "5X0BYxxIdwGp",
        "colab_type": "code",
        "colab": {}
      },
      "source": [
        "Y_train=y_train\n",
        "X_train=x_train\n",
        "x_test=x_test.loc[x_test['FRAC Its']==x_test['FRAC Its'],X_NOME].values\n",
        "X_train=X_train.loc[X_train['FRAC Its']==X_train['FRAC Its'],X_NOME].values\n",
        "y=Y_train.loc[Y_train['F']==Y_train['F'],['F']].values"
      ],
      "execution_count": 0,
      "outputs": []
    },
    {
      "cell_type": "code",
      "metadata": {
        "id": "C-12imaj0ZqU",
        "colab_type": "code",
        "colab": {}
      },
      "source": [
        " syn0,syn1=ANN(Epoch,Neuron_input,Neuron_hidden,Neuron_output,Learning_rate,X_train,y)"
      ],
      "execution_count": 0,
      "outputs": []
    },
    {
      "cell_type": "code",
      "metadata": {
        "id": "vErzzOkMAjq6",
        "colab_type": "code",
        "outputId": "0bb42202-31a2-4c45-c462-cc70d3fe1b25",
        "colab": {
          "base_uri": "https://localhost:8080/",
          "height": 55
        }
      },
      "source": [
        "#'''\n",
        "#DAT=pd.read_csv(Arquivo,sep='\\t')\n",
        "y_obs=y_train\n",
        "y_calc=ANN_ycal(syn0,syn1,X_train)\n",
        "Erro_treino=QUALIDADE(y_obs,y_calc)\n",
        "print(\"Erro treino=\",Erro_treino)\n",
        "y_obs=y_test\n",
        "y_calc=ANN_ycal(syn0,syn1,x_test)\n",
        "Erro_teste=QUALIDADE(y_obs,y_calc)\n",
        "print(\"Erro teste=\",Erro_teste)"
      ],
      "execution_count": 21,
      "outputs": [
        {
          "output_type": "stream",
          "text": [
            "Erro treino= [0.07948747]\n",
            "Erro teste= [0.86264095]\n"
          ],
          "name": "stdout"
        }
      ]
    },
    {
      "cell_type": "code",
      "metadata": {
        "id": "4Ld0k8q9BVr0",
        "colab_type": "code",
        "outputId": "01664fc4-399f-4d3c-a88a-17e22be6990f",
        "colab": {
          "base_uri": "https://localhost:8080/",
          "height": 73
        }
      },
      "source": [
        "Num=20\n",
        "NH=9\n",
        "Neuron_hidden=NH\n",
        "syn0,syn1=ANN(Epoch,Neuron_input,Neuron_hidden,Neuron_output,Learning_rate,X_train,y)\n",
        "y_obs_train=y_train\n",
        "y_calc_train=ANN_ycal(syn0,syn1,X_train)\n",
        "Erro_treino=QUALIDADE(y_obs_train,y_calc_train)\n",
        "y_obs_test=y_test\n",
        "y_calc_test=ANN_ycal(syn0,syn1,x_test)\n",
        "Erro_teste=QUALIDADE(y_obs_test,y_calc_test)\n",
        "\n",
        "print(\"resultados com o PCA\")\n",
        "print(\"Neronios=\",NH,\"Erro teste=\",Erro_teste, \"Erro treino=\",Erro_treino)\n",
        "  \n",
        "print(\"Melhor Neuronios oculto=\",NH)\n"
      ],
      "execution_count": 22,
      "outputs": [
        {
          "output_type": "stream",
          "text": [
            "resultados com o PCA\n",
            "Neronios= 9 Erro teste= [0.74110029] Erro treino= [0.09822674]\n",
            "Melhor Neuronios oculto= 9\n"
          ],
          "name": "stdout"
        }
      ]
    },
    {
      "cell_type": "code",
      "metadata": {
        "id": "QNcu08l11Hiy",
        "colab_type": "code",
        "outputId": "0ac0316a-e726-428c-ebcf-a2cb1b8947a4",
        "colab": {
          "base_uri": "https://localhost:8080/",
          "height": 55
        }
      },
      "source": [
        "R2_treino=R2(y_obs_train,y_calc_train)\n",
        "print(\"RMSE treino=\",Erro_treino, 'R2_treino',R2_treino)\n",
        "Erro_teste=QUALIDADE(y_obs_test,y_calc_test)\n",
        "R2_teste=R2(y_obs_test,y_calc_test)\n",
        "print(\"RMSE teste=\",Erro_teste,'R2_teste',R2_teste)"
      ],
      "execution_count": 23,
      "outputs": [
        {
          "output_type": "stream",
          "text": [
            "RMSE treino= [0.09822674] R2_treino [0.96596713]\n",
            "RMSE teste= [0.74110029] R2_teste [-0.12833519]\n"
          ],
          "name": "stdout"
        }
      ]
    },
    {
      "cell_type": "code",
      "metadata": {
        "id": "gqicKzzwIFMW",
        "colab_type": "code",
        "colab": {
          "base_uri": "https://localhost:8080/",
          "height": 283
        },
        "outputId": "a25c1841-5849-4a08-a8c7-8a3f5e1984cb"
      },
      "source": [
        "plt.scatter(y_obs_train,y_calc_train)\n",
        "plt.scatter(y_obs_test,y_calc_test,color='r')\n",
        "plt.xlabel(\"True variable\")\n",
        "plt.ylabel(\"Estimated variable\")\n",
        "\n",
        "y_test_max=y_calc_test.max()\n",
        "y_test_min=y_calc_test.min()\n",
        "min=y_test_min.item()-0.1\n",
        "if y_test_max.item()>1:\n",
        "  max=y_test_max.item()+0.1\n",
        "else:\n",
        "  max=1.1\n",
        "\n",
        "plt.xlim((min,max))\n",
        "plt.ylim((min,max))\n",
        "plt.show()"
      ],
      "execution_count": 24,
      "outputs": [
        {
          "output_type": "display_data",
          "data": {
            "image/png": "[encoded data removed]",
            "text/plain": [
              "<Figure size 432x288 with 1 Axes>"
            ]
          },
          "metadata": {
            "tags": []
          }
        }
      ]
    }
  ]
}