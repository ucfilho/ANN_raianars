{
  "nbformat": 4,
  "nbformat_minor": 0,
  "metadata": {
    "colab": {
      "name": "ANN_parte_003_ANN_SET_20_2019.ipynb",
      "provenance": [],
      "collapsed_sections": [],
      "include_colab_link": true
    },
    "kernelspec": {
      "name": "python3",
      "display_name": "Python 3"
    }
  },
  "cells": [
    {
      "cell_type": "markdown",
      "metadata": {
        "id": "view-in-github",
        "colab_type": "text"
      },
      "source": [
        "<a href=\"https://colab.research.google.com/github/ucfilho/ANN_raianars/blob/master/ANN_parte_003_ANN_SET_20_2019.ipynb\" target=\"_parent\"><img src=\"https://colab.research.google.com/assets/colab-badge.svg\" alt=\"Open In Colab\"/></a>"
      ]
    },
    {
      "cell_type": "code",
      "metadata": {
        "id": "IJMhyBoEZHIU",
        "colab_type": "code",
        "outputId": "01d7268c-c68d-4511-8c10-0ed9cdf47fd1",
        "colab": {
          "base_uri": "https://localhost:8080/",
          "height": 140
        }
      },
      "source": [
        "import numpy as np\n",
        "import pandas as pd\n",
        "import matplotlib.pyplot as plt\n",
        "\n",
        "\n",
        "# este comando clona o diretorio github ucfilho/ANN no colaboratory research\n",
        "!git clone https://github.com/RaianaSeixas/ANN #clonar do Github\n",
        "%cd ANN\n",
        "!ls\n",
        "print(\"Hello world\"+\"\\n\"+\"I'm evolving!!!\"+\"\\n\")\n",
        "\n",
        "%matplotlib inline"
      ],
      "execution_count": 1,
      "outputs": [
        {
          "output_type": "stream",
          "text": [
            "fatal: destination path 'ANN' already exists and is not an empty directory.\n",
            "/content/ANN\n",
            "ANN\t       X_DAT_B_set_17_2019.csv\tY_DAT_B_set_17_2019.csv\n",
            "imput_ANN.zip  X_DAT_set_17_2019.csv\tY_DAT_set_17_2019.csv\n",
            "Hello world\n",
            "I'm evolving!!!\n",
            "\n"
          ],
          "name": "stdout"
        }
      ]
    },
    {
      "cell_type": "code",
      "metadata": {
        "id": "xPh9-Qc81nMS",
        "colab_type": "code",
        "colab": {}
      },
      "source": [
        "# sigmoid function\n",
        "def sigmoid(x,deriv=False):\n",
        "    if(deriv==True):\n",
        "        return x*(1-x)\n",
        "    return 1/(1+np.exp(-x))\n",
        "\n",
        "def tasig(x,deriv=False):\n",
        "    if(deriv==True):\n",
        "        return 1-x*x\n",
        "    return 2/(1+np.exp(-2*x))-1\n",
        "\n",
        "# purelin function\n",
        "def purelin(x,deriv=False):\n",
        "    if(deriv==True):\n",
        "        return 1\n",
        "    return x"
      ],
      "execution_count": 0,
      "outputs": []
    },
    {
      "cell_type": "code",
      "metadata": {
        "id": "RepD-3pn1E-1",
        "colab_type": "code",
        "colab": {}
      },
      "source": [
        "# funcao normatiza dados\n",
        "def Normatiza(x):\n",
        "    strings=list(x)\n",
        "    for i in strings:\n",
        "        max_x=x[i].max()\n",
        "        min_x=x[i].min()\n",
        "        a=(max_x+min_x)/2\n",
        "        b=(max_x-min_x)/2\n",
        "        x[i]=(x[i]-a)/b\n",
        "    return x"
      ],
      "execution_count": 0,
      "outputs": []
    },
    {
      "cell_type": "code",
      "metadata": {
        "id": "aMUypVwa1RWF",
        "colab_type": "code",
        "colab": {}
      },
      "source": [
        "# funcao retorna os dados a forma original\n",
        "def Original(x,x_old):\n",
        "    strings=list(x)\n",
        "    for i in strings:\n",
        "        max_x=x_old[i].max()\n",
        "        min_x=x_old[i].min()\n",
        "        a=(max_x+min_x)/2\n",
        "        b=(max_x-min_x)/2\n",
        "        x[i]=x[i]*b+a\n",
        "    return x"
      ],
      "execution_count": 0,
      "outputs": []
    },
    {
      "cell_type": "code",
      "metadata": {
        "id": "68JOHC6Ozv6d",
        "colab_type": "code",
        "colab": {}
      },
      "source": [
        "# leitura dos dados\n",
        "DAT=pd.read_csv(\"X_DAT_B_set_17_2019.csv\")\n",
        "DAT_Y=pd.read_csv(\"Y_DAT_B_set_17_2019.csv\")"
      ],
      "execution_count": 0,
      "outputs": []
    },
    {
      "cell_type": "code",
      "metadata": {
        "id": "_vpQ5HTM06TE",
        "colab_type": "code",
        "colab": {
          "base_uri": "https://localhost:8080/",
          "height": 1000
        },
        "outputId": "fa43e2ac-feb3-4ccc-d79b-b8bbf3b90553"
      },
      "source": [
        "DAT_OLD=[]\n",
        "DAT_OLD=DAT.copy()\n",
        "DAT=Normatiza(DAT)\n",
        "\n",
        "DAT_OLD_Y=[]\n",
        "DAT_OLD_Y=DAT.copy()\n",
        "DAT_Y=Normatiza(DAT_Y)\n",
        "print(DAT_Y)"
      ],
      "execution_count": 6,
      "outputs": [
        {
          "output_type": "stream",
          "text": [
            "     Unnamed: 0        NP         F        CR\n",
            "0     -1.000000  0.114354 -0.245588 -0.755935\n",
            "1     -0.985075 -0.912669 -0.680108 -0.813692\n",
            "2     -0.970149 -0.443377 -0.240085 -0.575476\n",
            "3     -0.955224 -0.573045 -0.223235 -0.824112\n",
            "4     -0.940299 -0.598857 -0.374451 -0.452080\n",
            "5     -0.925373  0.059675 -0.319543 -0.919984\n",
            "6     -0.910448 -0.760518  0.038647 -0.750100\n",
            "7     -0.895522 -0.289433 -0.429079  0.484350\n",
            "8     -0.880597 -0.771454 -0.065859 -0.837937\n",
            "9     -0.865672 -0.295742 -0.268851 -0.575263\n",
            "10    -0.850746  0.551790 -0.388656 -0.947452\n",
            "11    -0.835821 -0.804261 -0.426380 -0.734796\n",
            "12    -0.820896 -0.852609  0.160272 -0.178771\n",
            "13    -0.805970  0.187260 -0.795653 -0.915505\n",
            "14    -0.791045 -0.929527 -0.051578 -0.406839\n",
            "15    -0.776119 -0.295742 -0.618089 -0.810144\n",
            "16    -0.761194 -0.390380 -0.224206 -0.852651\n",
            "17    -0.746269 -0.696189  0.659605  0.129538\n",
            "18    -0.731343  0.114354 -0.245588 -0.755935\n",
            "19    -0.716418 -0.912669 -0.680108 -0.813692\n",
            "20    -0.701493 -0.443377 -0.240085 -0.575476\n",
            "21    -0.686567 -0.573045 -0.223235 -0.824112\n",
            "22    -0.671642 -0.598857 -0.374451 -0.452080\n",
            "23    -0.656716  0.059675 -0.319543 -0.919984\n",
            "24    -0.641791 -0.760518  0.038647 -0.750100\n",
            "25    -0.626866 -0.289433 -0.429079  0.484350\n",
            "26    -0.611940 -0.771454 -0.065859 -0.837937\n",
            "27    -0.597015 -0.511975 -0.546996 -0.320346\n",
            "28    -0.582090  0.405978 -0.390722 -0.962159\n",
            "29    -0.567164 -0.705838 -0.084008 -0.655699\n",
            "..          ...       ...       ...       ...\n",
            "105    0.567164  0.386536 -0.521070 -0.892099\n",
            "106    0.582090 -0.816140 -0.673201 -0.785279\n",
            "107    0.597015 -0.627812 -0.185148 -0.576286\n",
            "108    0.611940 -0.710559 -0.610445 -0.821078\n",
            "109    0.626866 -0.572188  0.830310 -0.142332\n",
            "110    0.641791 -0.533826 -0.844100 -0.784842\n",
            "111    0.656716 -0.573252 -0.339847 -0.790550\n",
            "112    0.671642 -0.630849 -0.164032 -0.954941\n",
            "113    0.686567 -0.482521 -0.062442  0.583139\n",
            "114    0.701493 -0.564494 -0.402329 -0.882279\n",
            "115    0.716418 -0.382361 -0.823440 -0.930643\n",
            "116    0.731343 -0.677891  0.123683 -0.659063\n",
            "117    0.746269 -0.690241  0.267667 -0.964394\n",
            "118    0.761194  0.278998 -0.110439 -0.762200\n",
            "119    0.776119 -0.941732 -0.768024 -0.584414\n",
            "120    0.791045 -0.397654 -0.169123 -0.389574\n",
            "121    0.805970 -0.375593 -0.493293 -0.900178\n",
            "122    0.820896 -0.237006 -0.419364 -0.554920\n",
            "123    0.835821 -0.898825 -0.628738 -0.966756\n",
            "124    0.850746  1.000000  0.012304 -0.698988\n",
            "125    0.865672 -0.743349 -0.549284 -0.660273\n",
            "126    0.880597 -0.983442  0.203246 -0.833433\n",
            "127    0.895522 -0.223097 -0.457053 -0.658360\n",
            "128    0.910448 -0.753021 -0.188531 -0.638070\n",
            "129    0.925373 -0.488969 -0.925654 -0.839010\n",
            "130    0.940299 -0.663214  0.020539 -0.502272\n",
            "131    0.955224 -0.391519 -0.548658 -0.909725\n",
            "132    0.970149 -0.178366 -0.525610 -0.736420\n",
            "133    0.985075 -0.620017 -0.343692 -0.713471\n",
            "134    1.000000 -0.197153  0.166028 -0.514312\n",
            "\n",
            "[135 rows x 4 columns]\n"
          ],
          "name": "stdout"
        }
      ]
    },
    {
      "cell_type": "code",
      "metadata": {
        "id": "A4LF09Cq0hJu",
        "colab_type": "code",
        "colab": {}
      },
      "source": [
        "# obtem as variaveis independentes (treino e teste)\n",
        "# separa os dados em treino e teste\n",
        "train=DAT.sample(frac=0.8,random_state=78) # poderia ser frac=0.5? sim ou nao?\n",
        "test=DAT.drop(train.index)\n",
        "x_train=train.iloc[:,[1,2,3,4,5,6]]\n",
        "x_test=test.iloc[:,[1,2,3,4,5,6]]\n",
        "X_OLD=DAT_OLD.iloc[:,[1,2,3,4,5,6]]\n",
        "#print(x_train)"
      ],
      "execution_count": 0,
      "outputs": []
    },
    {
      "cell_type": "code",
      "metadata": {
        "id": "ZSuUAFrL3E1C",
        "colab_type": "code",
        "colab": {}
      },
      "source": [
        "# obtem as variaveis dependentes (treino e teste)\n",
        "train=DAT_Y.sample(frac=0.8,random_state=78) # poderia ser frac=0.5? sim ou nao?\n",
        "test=DAT_Y.drop(train.index)\n",
        "Index=[3]\n",
        "y_train=train.iloc[:,Index]\n",
        "y_test=test.iloc[:,Index]\n",
        "Y_OLD=DAT_OLD.iloc[:,Index]\n",
        "#print(y_train)"
      ],
      "execution_count": 0,
      "outputs": []
    },
    {
      "cell_type": "code",
      "metadata": {
        "id": "5X0BYxxIdwGp",
        "colab_type": "code",
        "colab": {}
      },
      "source": [
        "Y_train=y_train\n",
        "X_train=x_train"
      ],
      "execution_count": 0,
      "outputs": []
    },
    {
      "cell_type": "code",
      "metadata": {
        "id": "1-bwXkn_-BET",
        "colab_type": "code",
        "colab": {}
      },
      "source": [
        "X_NOME=['DI RELATIVO','FRAC Its','VELOC FOBJ','VELOC X','DELTA FOBJ','DELTA VX']\n",
        "Y_NOME=['CR']   \n",
        "\n",
        "X_train=X_train.loc[X_train['DI RELATIVO']==X_train['DI RELATIVO'],X_NOME].values\n",
        "y=Y_train.loc[Y_train['CR']==Y_train['CR'],['CR']].values\n"
      ],
      "execution_count": 0,
      "outputs": []
    },
    {
      "cell_type": "code",
      "metadata": {
        "id": "bUuQEko_dpF2",
        "colab_type": "code",
        "colab": {}
      },
      "source": [
        "\n",
        "#Neuron_input=6\n",
        "Neuron_input=len(X_NOME)\n",
        "Neuron_hidden=8\n",
        "Neuron_output=1\n",
        "Learning_rate=0.01\n",
        "omega=0.9\n",
        "Epoch=500000"
      ],
      "execution_count": 0,
      "outputs": []
    },
    {
      "cell_type": "code",
      "metadata": {
        "id": "ww1KvVqReAhK",
        "colab_type": "code",
        "outputId": "9c11b98e-e7b2-4731-c7ab-233a4b982b46",
        "colab": {
          "base_uri": "https://localhost:8080/",
          "height": 105
        }
      },
      "source": [
        "# randomly initialize our weights with mean 0\n",
        "syn0 = 2*np.random.random((Neuron_input,Neuron_hidden)) - 1\n",
        "syn1 = 2*np.random.random((Neuron_hidden,Neuron_output)) - 1\n",
        "\n",
        "\n",
        "for j in range(Epoch):\n",
        "\n",
        "    # Feed forward through layers 0, 1, and 2\n",
        "    l0 = X_train\n",
        "    l1 = sigmoid(np.dot(l0,syn0))\n",
        "    l2 = purelin(np.dot(l1,syn1))\n",
        "\n",
        "    # how much did we miss the target value?\n",
        "    l2_error = y - l2\n",
        "\n",
        "    if (j% 100000) == 0:\n",
        "        print(\"Epoch %d\"%(j) +\" error:\" + str(np.mean(np.abs(l2_error))))\n",
        "\n",
        "    # in what direction is the target value?\n",
        "    # were we really sure? if so, don't change too much.\n",
        "    l2_delta = l2_error*purelin(l2,deriv=True)\n",
        "    l1_error = l2_delta.dot(syn1.T)\n",
        "    l1_delta = l1_error * sigmoid(l1,deriv=True)\n",
        "\n",
        "    syn1 += l1.T.dot(l2_delta)*Learning_rate\n",
        "    syn0 += l0.T.dot(l1_delta)*Learning_rate\n",
        "\n"
      ],
      "execution_count": 12,
      "outputs": [
        {
          "output_type": "stream",
          "text": [
            "Epoch 0 error:0.8487814552599363\n",
            "Epoch 100000 error:0.2663698555926286\n",
            "Epoch 200000 error:0.24965420883111306\n",
            "Epoch 300000 error:0.25978957722306956\n",
            "Epoch 400000 error:0.26143799706391774\n"
          ],
          "name": "stdout"
        }
      ]
    },
    {
      "cell_type": "code",
      "metadata": {
        "id": "08NCAStHNAVT",
        "colab_type": "code",
        "outputId": "c893ccd2-bc3d-41b2-dfaf-de3b29d35693",
        "colab": {
          "base_uri": "https://localhost:8080/",
          "height": 389
        }
      },
      "source": [
        "#'''\n",
        "#DAT=pd.read_csv(Arquivo,sep='\\t')\n",
        "y_obs=y_train\n",
        "y_calc=np.reshape(l2,len(l2))\n",
        "y_calc=pd.DataFrame({'y_calc':y_calc})\n",
        "#y_old=pd.DataFrame({'y_old':y_old})\n",
        "Y_OLD=pd.DataFrame(Y_OLD)\n",
        "Y_OLD.columns = [\"y_calc\"]\n",
        "y_calc=Original(y_calc,Y_OLD)\n",
        "\n",
        "y_obs.columns = [\"y_calc\"]\n",
        "y_obs=Original(y_obs,Y_OLD)\n",
        "y_obs_train=np.copy(y_obs)\n",
        "y_calc_train=np.copy(y_calc)\n",
        "\n",
        "plt.scatter(y_obs,y_calc)\n",
        "plt.xlabel(\"True Resistence\")\n",
        "plt.ylabel(\"Estimated Resistence\")\n",
        "#plt.xlim((0,1))\n",
        "#plt.ylim((0,1))\n",
        "plt.show()\n",
        "#'''"
      ],
      "execution_count": 13,
      "outputs": [
        {
          "output_type": "stream",
          "text": [
            "/usr/local/lib/python3.6/dist-packages/ipykernel_launcher.py:8: SettingWithCopyWarning: \n",
            "A value is trying to be set on a copy of a slice from a DataFrame.\n",
            "Try using .loc[row_indexer,col_indexer] = value instead\n",
            "\n",
            "See the caveats in the documentation: http://pandas.pydata.org/pandas-docs/stable/indexing.html#indexing-view-versus-copy\n",
            "  \n"
          ],
          "name": "stderr"
        },
        {
          "output_type": "display_data",
          "data": {
            "image/png": "[encoded data removed]",
            "text/plain": [
              "<Figure size 432x288 with 1 Axes>"
            ]
          },
          "metadata": {
            "tags": []
          }
        }
      ]
    },
    {
      "cell_type": "markdown",
      "metadata": {
        "id": "sY_k-aYJvXVR",
        "colab_type": "text"
      },
      "source": [
        ""
      ]
    },
    {
      "cell_type": "code",
      "metadata": {
        "id": "iBeG0xf6zX4C",
        "colab_type": "code",
        "colab": {}
      },
      "source": [
        "x_test=x_test.loc[x_test['DI RELATIVO']==x_test['DI RELATIVO'],X_NOME].values\n",
        "#y=Y_test.loc[Y_test['Resistence']==Y_test['Resistence'],['Resistence']].values"
      ],
      "execution_count": 0,
      "outputs": []
    },
    {
      "cell_type": "code",
      "metadata": {
        "id": "XtiFF_neaqhd",
        "colab_type": "code",
        "colab": {}
      },
      "source": [
        "\n",
        "#print(X_test)\n",
        "l0 = x_test\n",
        "l1 = sigmoid(np.dot(l0,syn0))\n",
        "l2 = purelin(np.dot(l1,syn1))\n",
        "y_calc_test=np.reshape(l2,len(l2))\n",
        "y_calc_test=pd.DataFrame({'y_calc':y_calc_test})\n",
        "y_calc_test=Original(y_calc_test,Y_OLD)"
      ],
      "execution_count": 0,
      "outputs": []
    },
    {
      "cell_type": "code",
      "metadata": {
        "id": "_ZglbRD3l4Lm",
        "colab_type": "code",
        "outputId": "d6475cb1-992b-4922-bae1-71afd6d818ee",
        "colab": {
          "base_uri": "https://localhost:8080/",
          "height": 122
        }
      },
      "source": [
        "y_obs=y_test\n",
        "y_obs.columns = [\"y_calc\"]\n",
        "y_obs=Original(y_obs,Y_OLD)"
      ],
      "execution_count": 16,
      "outputs": [
        {
          "output_type": "stream",
          "text": [
            "/usr/local/lib/python3.6/dist-packages/ipykernel_launcher.py:8: SettingWithCopyWarning: \n",
            "A value is trying to be set on a copy of a slice from a DataFrame.\n",
            "Try using .loc[row_indexer,col_indexer] = value instead\n",
            "\n",
            "See the caveats in the documentation: http://pandas.pydata.org/pandas-docs/stable/indexing.html#indexing-view-versus-copy\n",
            "  \n"
          ],
          "name": "stderr"
        }
      ]
    },
    {
      "cell_type": "code",
      "metadata": {
        "id": "8MlsBAXMkV3c",
        "colab_type": "code",
        "outputId": "765c4f2f-e3df-402c-d02e-247033b36337",
        "colab": {
          "base_uri": "https://localhost:8080/",
          "height": 283
        }
      },
      "source": [
        "plt.scatter(y_obs,y_calc_test,color='r')\n",
        "plt.xlabel(\"True Resistance\")\n",
        "plt.ylabel(\"Estimated Resistence\")\n",
        "plt.show()"
      ],
      "execution_count": 17,
      "outputs": [
        {
          "output_type": "display_data",
          "data": {
            "image/png": "[encoded data removed]",
            "text/plain": [
              "<Figure size 432x288 with 1 Axes>"
            ]
          },
          "metadata": {
            "tags": []
          }
        }
      ]
    },
    {
      "cell_type": "code",
      "metadata": {
        "id": "oFMnt6iZFPHx",
        "colab_type": "code",
        "outputId": "a3a517c9-0c55-46bf-e720-bd40f09bdfd1",
        "colab": {
          "base_uri": "https://localhost:8080/",
          "height": 283
        }
      },
      "source": [
        "plt.scatter(y_obs_train,y_calc_train)\n",
        "plt.scatter(y_obs,y_calc_test,color='r')\n",
        "plt.xlabel(\"True Resistance\")\n",
        "plt.ylabel(\"Estimated Resistence\")\n",
        "plt.show()"
      ],
      "execution_count": 18,
      "outputs": [
        {
          "output_type": "display_data",
          "data": {
            "image/png": "[encoded data removed]",
            "text/plain": [
              "<Figure size 432x288 with 1 Axes>"
            ]
          },
          "metadata": {
            "tags": []
          }
        }
      ]
    },
    {
      "cell_type": "code",
      "metadata": {
        "id": "6ha1x48mGPsr",
        "colab_type": "code",
        "colab": {
          "base_uri": "https://localhost:8080/",
          "height": 1000
        },
        "outputId": "5b0a3275-6270-4880-b4aa-4c883edf2e5f"
      },
      "source": [
        "print(y_obs,y_calc)"
      ],
      "execution_count": 19,
      "outputs": [
        {
          "output_type": "stream",
          "text": [
            "       y_calc\n",
            "3    0.175888\n",
            "12   0.821229\n",
            "20   0.424524\n",
            "23   0.080016\n",
            "28   0.037841\n",
            "29   0.344301\n",
            "30   0.985257\n",
            "32   0.550516\n",
            "38   0.344301\n",
            "40   0.161173\n",
            "43   0.345273\n",
            "54   0.110009\n",
            "66   0.424394\n",
            "68   0.589230\n",
            "77   0.155862\n",
            "78   0.225702\n",
            "86   0.798815\n",
            "89   0.243932\n",
            "102  0.478634\n",
            "105  0.107901\n",
            "113  1.583139\n",
            "114  0.117721\n",
            "115  0.069357\n",
            "116  0.340937\n",
            "120  0.610426\n",
            "123  0.033244\n",
            "127  0.341640        y_calc\n",
            "0    2.169570\n",
            "1    0.327432\n",
            "2    0.618338\n",
            "3    0.661989\n",
            "4    0.427744\n",
            "5    0.750681\n",
            "6    0.707634\n",
            "7    0.652843\n",
            "8    0.627462\n",
            "9    0.702709\n",
            "10   0.737977\n",
            "11   1.570645\n",
            "12   0.567667\n",
            "13   0.495000\n",
            "14   1.342843\n",
            "15   0.797319\n",
            "16   0.379159\n",
            "17   0.334110\n",
            "18   1.629863\n",
            "19   0.741565\n",
            "20   0.740530\n",
            "21   0.500870\n",
            "22   0.407550\n",
            "23   0.720680\n",
            "24   0.651278\n",
            "25   0.384471\n",
            "26   0.695177\n",
            "27   0.338567\n",
            "28   0.341758\n",
            "29   0.458409\n",
            "..        ...\n",
            "78   0.546528\n",
            "79   0.705684\n",
            "80   0.605831\n",
            "81   0.628619\n",
            "82   0.297369\n",
            "83   0.861291\n",
            "84   0.738359\n",
            "85   0.734774\n",
            "86   0.341263\n",
            "87   0.941568\n",
            "88   0.349638\n",
            "89   0.237382\n",
            "90   0.395496\n",
            "91   0.710008\n",
            "92   0.463818\n",
            "93   0.703106\n",
            "94   0.542801\n",
            "95   0.813184\n",
            "96   0.721192\n",
            "97   1.263442\n",
            "98   0.527009\n",
            "99   0.726031\n",
            "100  0.700022\n",
            "101  0.138154\n",
            "102  0.361374\n",
            "103  0.415802\n",
            "104  0.388345\n",
            "105  0.398142\n",
            "106  0.486583\n",
            "107  0.359451\n",
            "\n",
            "[108 rows x 1 columns]\n"
          ],
          "name": "stdout"
        }
      ]
    },
    {
      "cell_type": "code",
      "metadata": {
        "id": "zSDahcbse6iM",
        "colab_type": "code",
        "colab": {}
      },
      "source": [
        "#print(l1)"
      ],
      "execution_count": 0,
      "outputs": []
    },
    {
      "cell_type": "code",
      "metadata": {
        "id": "PWQX20WRe-d_",
        "colab_type": "code",
        "colab": {}
      },
      "source": [
        "#print(l2)"
      ],
      "execution_count": 0,
      "outputs": []
    }
  ]
}