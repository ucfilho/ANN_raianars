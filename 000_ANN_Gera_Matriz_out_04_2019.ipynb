{
  "nbformat": 4,
  "nbformat_minor": 0,
  "metadata": {
    "colab": {
      "name": "000-ANN_Gera_Matriz_out_04_2019.ipynb",
      "provenance": [],
      "collapsed_sections": [],
      "include_colab_link": true
    },
    "kernelspec": {
      "name": "python3",
      "display_name": "Python 3"
    }
  },
  "cells": [
    {
      "cell_type": "markdown",
      "metadata": {
        "id": "view-in-github",
        "colab_type": "text"
      },
      "source": [
        "<a href=\"https://colab.research.google.com/github/ucfilho/ANN_raianars/blob/master/000_ANN_Gera_Matriz_out_04_2019.ipynb\" target=\"_parent\"><img src=\"https://colab.research.google.com/assets/colab-badge.svg\" alt=\"Open In Colab\"/></a>"
      ]
    },
    {
      "cell_type": "code",
      "metadata": {
        "id": "VNDZTKWUBOge",
        "colab_type": "code",
        "outputId": "bca1b356-89ec-4ae2-9e45-5a5ba0bdd60f",
        "colab": {
          "base_uri": "https://localhost:8080/",
          "height": 148
        }
      },
      "source": [
        "############################### Importar códigos\n",
        "\n",
        "!git clone https://github.com/ucfilho/optim_raianars/ #clonar do Github"
      ],
      "execution_count": 0,
      "outputs": [
        {
          "output_type": "stream",
          "text": [
            "Cloning into 'optim_raianars'...\n",
            "remote: Enumerating objects: 25, done.\u001b[K\n",
            "remote: Counting objects:   4% (1/25)\u001b[K\rremote: Counting objects:   8% (2/25)\u001b[K\rremote: Counting objects:  12% (3/25)\u001b[K\rremote: Counting objects:  16% (4/25)\u001b[K\rremote: Counting objects:  20% (5/25)\u001b[K\rremote: Counting objects:  24% (6/25)\u001b[K\rremote: Counting objects:  28% (7/25)\u001b[K\rremote: Counting objects:  32% (8/25)\u001b[K\rremote: Counting objects:  36% (9/25)\u001b[K\rremote: Counting objects:  40% (10/25)\u001b[K\rremote: Counting objects:  44% (11/25)\u001b[K\rremote: Counting objects:  48% (12/25)\u001b[K\rremote: Counting objects:  52% (13/25)\u001b[K\rremote: Counting objects:  56% (14/25)\u001b[K\rremote: Counting objects:  60% (15/25)\u001b[K\rremote: Counting objects:  64% (16/25)\u001b[K\rremote: Counting objects:  68% (17/25)\u001b[K\rremote: Counting objects:  72% (18/25)\u001b[K\rremote: Counting objects:  76% (19/25)\u001b[K\rremote: Counting objects:  80% (20/25)\u001b[K\rremote: Counting objects:  84% (21/25)\u001b[K\rremote: Counting objects:  88% (22/25)\u001b[K\rremote: Counting objects:  92% (23/25)\u001b[K\rremote: Counting objects:  96% (24/25)\u001b[K\rremote: Counting objects: 100% (25/25)\u001b[K\rremote: Counting objects: 100% (25/25), done.\u001b[K\n",
            "remote: Compressing objects:   4% (1/25)\u001b[K\rremote: Compressing objects:   8% (2/25)\u001b[K\rremote: Compressing objects:  12% (3/25)\u001b[K\rremote: Compressing objects:  16% (4/25)\u001b[K\rremote: Compressing objects:  20% (5/25)\u001b[K\rremote: Compressing objects:  24% (6/25)\u001b[K\rremote: Compressing objects:  28% (7/25)\u001b[K\rremote: Compressing objects:  32% (8/25)\u001b[K\rremote: Compressing objects:  36% (9/25)\u001b[K\rremote: Compressing objects:  40% (10/25)\u001b[K\rremote: Compressing objects:  44% (11/25)\u001b[K\rremote: Compressing objects:  48% (12/25)\u001b[K\rremote: Compressing objects:  52% (13/25)\u001b[K\rremote: Compressing objects:  56% (14/25)\u001b[K\rremote: Compressing objects:  60% (15/25)\u001b[K\rremote: Compressing objects:  64% (16/25)\u001b[K\rremote: Compressing objects:  68% (17/25)\u001b[K\rremote: Compressing objects:  72% (18/25)\u001b[K\rremote: Compressing objects:  76% (19/25)\u001b[K\rremote: Compressing objects:  80% (20/25)\u001b[K\rremote: Compressing objects:  84% (21/25)\u001b[K\rremote: Compressing objects:  88% (22/25)\u001b[K\rremote: Compressing objects:  92% (23/25)\u001b[K\rremote: Compressing objects:  96% (24/25)\u001b[K\rremote: Compressing objects: 100% (25/25)\u001b[K\rremote: Compressing objects: 100% (25/25), done.\u001b[K\n",
            "Receiving objects:   0% (1/446)   \rReceiving objects:   1% (5/446)   \rReceiving objects:   2% (9/446)   \rReceiving objects:   3% (14/446)   \rReceiving objects:   4% (18/446)   \rReceiving objects:   5% (23/446)   \rReceiving objects:   6% (27/446)   \rReceiving objects:   7% (32/446)   \rReceiving objects:   8% (36/446)   \rReceiving objects:   9% (41/446)   \rReceiving objects:  10% (45/446)   \rReceiving objects:  11% (50/446)   \rReceiving objects:  12% (54/446)   \rReceiving objects:  13% (58/446)   \rReceiving objects:  14% (63/446)   \rReceiving objects:  15% (67/446)   \rReceiving objects:  16% (72/446)   \rReceiving objects:  17% (76/446)   \rReceiving objects:  18% (81/446)   \rReceiving objects:  19% (85/446)   \rReceiving objects:  20% (90/446)   \rReceiving objects:  21% (94/446)   \rReceiving objects:  22% (99/446)   \rReceiving objects:  23% (103/446)   \rReceiving objects:  24% (108/446)   \rReceiving objects:  25% (112/446)   \rReceiving objects:  26% (116/446)   \rReceiving objects:  27% (121/446)   \rReceiving objects:  28% (125/446)   \rReceiving objects:  29% (130/446)   \rReceiving objects:  30% (134/446)   \rReceiving objects:  31% (139/446)   \rReceiving objects:  32% (143/446)   \rReceiving objects:  33% (148/446)   \rReceiving objects:  34% (152/446)   \rReceiving objects:  35% (157/446)   \rReceiving objects:  36% (161/446)   \rReceiving objects:  37% (166/446)   \rReceiving objects:  38% (170/446)   \rReceiving objects:  39% (174/446)   \rReceiving objects:  40% (179/446)   \rReceiving objects:  41% (183/446)   \rReceiving objects:  42% (188/446)   \rReceiving objects:  43% (192/446)   \rReceiving objects:  44% (197/446)   \rReceiving objects:  45% (201/446)   \rReceiving objects:  46% (206/446)   \rReceiving objects:  47% (210/446)   \rReceiving objects:  48% (215/446)   \rReceiving objects:  49% (219/446)   \rReceiving objects:  50% (223/446)   \rReceiving objects:  51% (228/446)   \rReceiving objects:  52% (232/446)   \rReceiving objects:  53% (237/446)   \rReceiving objects:  54% (241/446)   \rReceiving objects:  55% (246/446)   \rReceiving objects:  56% (250/446)   \rReceiving objects:  57% (255/446)   \rReceiving objects:  58% (259/446)   \rReceiving objects:  59% (264/446)   \rReceiving objects:  60% (268/446)   \rReceiving objects:  61% (273/446)   \rReceiving objects:  62% (277/446)   \rReceiving objects:  63% (281/446)   \rReceiving objects:  64% (286/446)   \rReceiving objects:  65% (290/446)   \rReceiving objects:  66% (295/446)   \rReceiving objects:  67% (299/446)   \rReceiving objects:  68% (304/446)   \rReceiving objects:  69% (308/446)   \rReceiving objects:  70% (313/446)   \rReceiving objects:  71% (317/446)   \rReceiving objects:  72% (322/446)   \rReceiving objects:  73% (326/446)   \rReceiving objects:  74% (331/446)   \rReceiving objects:  75% (335/446)   \rReceiving objects:  76% (339/446)   \rReceiving objects:  77% (344/446)   \rReceiving objects:  78% (348/446)   \rReceiving objects:  79% (353/446)   \rReceiving objects:  80% (357/446)   \rReceiving objects:  81% (362/446)   \rReceiving objects:  82% (366/446)   \rReceiving objects:  83% (371/446)   \rReceiving objects:  84% (375/446)   \rReceiving objects:  85% (380/446)   \rReceiving objects:  86% (384/446)   \rReceiving objects:  87% (389/446)   \rReceiving objects:  88% (393/446)   \rReceiving objects:  89% (397/446)   \rReceiving objects:  90% (402/446)   \rReceiving objects:  91% (406/446)   \rReceiving objects:  92% (411/446)   \rReceiving objects:  93% (415/446)   \rReceiving objects:  94% (420/446)   \rReceiving objects:  95% (424/446)   \rReceiving objects:  96% (429/446)   \rremote: Total 446 (delta 11), reused 0 (delta 0), pack-reused 421\u001b[K\n",
            "Receiving objects:  97% (433/446)   \rReceiving objects:  98% (438/446)   \rReceiving objects:  99% (442/446)   \rReceiving objects: 100% (446/446)   \rReceiving objects: 100% (446/446), 488.24 KiB | 11.91 MiB/s, done.\n",
            "Resolving deltas:   0% (0/243)   \rResolving deltas:   1% (3/243)   \rResolving deltas:  29% (71/243)   \rResolving deltas:  45% (111/243)   \rResolving deltas:  46% (112/243)   \rResolving deltas:  51% (125/243)   \rResolving deltas:  55% (135/243)   \rResolving deltas:  56% (137/243)   \rResolving deltas:  60% (148/243)   \rResolving deltas:  62% (152/243)   \rResolving deltas:  65% (158/243)   \rResolving deltas:  67% (163/243)   \rResolving deltas:  71% (173/243)   \rResolving deltas:  86% (209/243)   \rResolving deltas:  88% (214/243)   \rResolving deltas:  91% (222/243)   \rResolving deltas:  94% (230/243)   \rResolving deltas:  95% (233/243)   \rResolving deltas: 100% (243/243)   \rResolving deltas: 100% (243/243), done.\n"
          ],
          "name": "stdout"
        }
      ]
    },
    {
      "cell_type": "code",
      "metadata": {
        "id": "btZL0H3XBPx-",
        "colab_type": "code",
        "outputId": "e251f033-72fd-4f81-9684-709d91ecae3f",
        "colab": {
          "base_uri": "https://localhost:8080/",
          "height": 56
        }
      },
      "source": [
        "%cd optim_raianars\n",
        "#!ls"
      ],
      "execution_count": 0,
      "outputs": [
        {
          "output_type": "stream",
          "text": [
            "/content/optim_raianars/optim_raianars/optim_raianars/optim_raianars/optim_raianars/optim_raianars/optim_raianars/optim_raianars/optim_raianars/optim_raianars/optim_raianars/optim_raianars/optim_raianars/optim_raianars\n"
          ],
          "name": "stdout"
        }
      ]
    },
    {
      "cell_type": "code",
      "metadata": {
        "id": "Cpua4Oip40ix",
        "colab_type": "code",
        "colab": {}
      },
      "source": [
        "############################### Importar bibliotecas e iniciar a contagem do tempo\n",
        "import pandas as pd\n",
        "import time\n",
        "import matplotlib.pyplot as plt\n",
        "import numpy as np\n",
        "from random import randint\n",
        "from scipy import optimize\n",
        "############################### Importar códigos\n",
        "'''\n",
        "!git clone https://github.com/RaianaSeixas/GERENCIADOR.git #clonar do Github\n",
        "\n",
        "# %cd\n",
        "# %cd /content/GERENCIADOR\n",
        "!ls\n",
        "'''\n",
        "############################### DADOS DE ENTRADA \n",
        "RUNS=1 #NÚMERO DE RODADAS\n",
        "mut=0.5\n",
        "crossp=0.5\n",
        "############################### Função\n",
        "import Function\n",
        "\n",
        "'''\n",
        "Fun=Function.Rosenbrock\n",
        "dim=10\n",
        "MAX=np.repeat(10,dim)\n",
        "MIN=np.repeat(-10,dim)\n",
        "#MAX=[30,30] # MAXIMO DE CADA PARAMETRO\n",
        "#MIN=[-30,-30] # MINIMO DE CADA PARAMETRO\n",
        "  #Global optimum: f(xi)= 0\n",
        "'''\n",
        "'''\n",
        "dim=10\n",
        "Fun=Function.Sphere\n",
        "MAX=np.repeat(5.12,dim)\n",
        "MIN=np.repeat(-5.12,dim)\n",
        "  # f(x)=0 x=(0,0) [-5.12,5.12]\n",
        "'''\n",
        "'''\n",
        "dim=10\n",
        "Fun=Function.Schwefel\n",
        "MAX=np.repeat(500,dim)\n",
        "MIN=np.repeat(-500,dim)\n",
        "  #Global optimum: f(xi)= 0 for xi = 420.968746 for i=1,...,n  ;  xi in [-500,500]  \n",
        "'''\n",
        "'''\n",
        "dim=10\n",
        "Fun=Function.Rastrigin\n",
        "MAX=np.repeat(5.12,dim)\n",
        "MIN=np.repeat(-5.12,dim)\n",
        "  # f(x)=0 x=(0,0) [-5.12,5.12]\n",
        "'''\n",
        "'''\n",
        "dim=10\n",
        "Fun=Function.Sum_of_different_powers\n",
        "MAX=np.repeat(1,dim)\n",
        "MIN=np.repeat(-1,dim)\n",
        "  # f(x)=0 x=(0,0)\n",
        "'''\n",
        "'''  \n",
        "dim=10\n",
        "Fun=Function.Ackley\n",
        "MAX=np.repeat(32,dim)\n",
        "MIN=np.repeat(-32,dim)\n",
        " # f(x)=0 x=(0,0) [-32, 32]\n",
        "'''\n",
        "#'''  \n",
        "dim=10\n",
        "Fun=Function.Michalewicz\n",
        "MAX=np.repeat(np.pi,dim)\n",
        "MIN=np.repeat(0,dim)\n",
        " #fx=-9.66015 p/ d=10 [0,pi]\n",
        "#'''\n",
        "\n",
        "PAR=len(MAX) #NUM DE PARAMETROS A SER OTIMIZADOS\n",
        "\n",
        "##################################### IMPORTAR MÓDULOS\n",
        "\n",
        "import de_indices_ago_30_2019\n",
        "\n",
        "dimensions=len(MAX)\n",
        "\n",
        "start_time = time.time() #INICIALIZA CONTAGEM DO TEMPO\n",
        "its=10 # quantas vezes vai usar o NPAR antes de alterar de novo\n",
        "ITE=10 # PONTOS quantas vezes vai alteral NPAR\n",
        "\n",
        "TOTAL=10*dim*its*ITE\n",
        "SOMA=0\n",
        "\n",
        "PARTIC=np.zeros(ITE)\n"
      ],
      "execution_count": 0,
      "outputs": []
    },
    {
      "cell_type": "code",
      "metadata": {
        "id": "KQVX1hnp_W0M",
        "colab_type": "code",
        "outputId": "547e8e40-0f0e-44a0-b29c-d5a065410701",
        "colab": {
          "base_uri": "https://localhost:8080/",
          "height": 708
        }
      },
      "source": [
        "#ROSEN 10\n",
        "PARTIC=[100, 100, 100, 100, 100, 100, 100, 100, 100, 100, 0.9728559489149894, 0.27766790383007334, 0.17398088489695707, 0.6771446434720714, 0.05976164627333025, 0.9493674233519773, 0.4066323765548394, 0.7564129399166972, 0.5538868993361746, 0.7983858770220864, 0.7605376658591183, 0.2603655315839813, 0.4531689015215797, 0.9475358043759368, 0.1553272475376351, 0.9332548172792217, 0.0012380755807975263, 0.9126578272274021, 0.42291352365008883, 0.9302903625038406] \n",
        "  \n",
        "#SPHERE 10\n",
        "PARTIC=[100, 100, 100, 100, 100, 100, 100, 100, 100, 100, 0.30535963695252183, 0.15445753878433297, 0.3302666898423128, 0.2615620994804523, 0.3010879767868227, 0.4500797643195917, 0.3205997878963483, 0.35923710998077424, 0.2591681181313378, 0.2950970189757653, 0.12093915561185223, 0.4340053769475705, 0.22807066986093702, 0.23051513191637243, 0.47674649564481003, 0.3005031164728735, 0.4962288578295192, 0.3055030327197165, 0.14925865316288506, 0.3581612417549679] \n",
        "\n",
        "#Schwefel 10 \n",
        "PARTIC=[100, 100, 100, 100, 100, 100, 100, 100, 100, 100, 0.9471971910987741, 0.6670592165205713, 0.7937507496384594, 0.6177081837954878, 0.7283182103517296, 0.6715978158433188, 0.6242856792267697, 0.9896255993278233, 0.5406370220766126, 0.7752957572826753, 0.35998673096834527, 0.05432488091850518, 0.23581756260592346, 0.3755776722336761, 0.47186316398609274, 0.332030725206283, 0.03867842579938102, 0.36459758047278623, 0.3004029062634635, 0.07298829608869245] \n",
        "\n",
        "#RASTRIGIN 10\n",
        "PARTIC=[100, 100, 100, 100, 100, 100, 100, 100, 100, 100, 0.5294720250652235, 0.9331882441217898, 0.8756545585672859, 0.7802422778187171, 0.7662762060859616, 0.959341417008926, 0.7080191715610009, 0.6588620887968093, 0.6949343335258761, 0.9867988556819446, 0.32870036344186015, 0.4531862205813965, 0.15274738420922215, 0.08548241403591583, 0.4996953000747468, 0.3675216528447304, 0.17973075210706888, 0.08500085066512997, 0.1743304933768251, 0.29513929590273913] \n",
        "\n",
        "#Sum_of_different_powers 10\n",
        "PARTIC=[100, 100, 100, 100, 100, 100, 100, 100, 100, 100, 0.31782389097027747, 0.19065693713402454, 0.47387389963347626, 0.2714107286653299, 0.4055136462738512, 0.4814722687726932, 0.45763163644106325, 0.1414405452068318, 0.026423313465472692, 0.2566956839878713, 0.05972714916744126, 0.24460527481566494, 0.16598203653958032, 0.2562632381632141, 0.04993907764049188, 0.46076429129379093, 0.2177123834858552, 0.27348650851701906, 0.19590657773674183, 0.4383158800942741] \n",
        "\n",
        "#Ackley 10\n",
        "PARTIC=[100, 100, 100, 100, 100, 100, 100, 100, 100, 100, 0.8138485574264878, 0.6467629502210859, 0.18382885041984925, 0.3209318524902809, 0.2881070693852524, 0.7419372303296256, 0.008619902862623374, 0.26097485533416626, 0.2352537082359331, 0.7254096168410427, 0.7302556021482179, 0.4174731397578705, 0.4513237713347011, 0.972018116086636, 0.40776443312363314, 0.20040199893609845, 0.6950693929309334, 0.8074987372254666, 0.777603078546942, 0.33691384502400823] \n",
        "\n",
        "#Michalewicz 10\n",
        "#PARTIC=[100, 100, 100, 100, 100, 100, 100, 100, 100, 100, 0.32988737814983615, 0.121089809784371, 0.5188675529389872, 0.08034443211736825, 0.7881161480757378, 0.8591392831225996, 0.5362839488048298, 0.44487492192624023, 0.7631366396408227, 0.8985443840333653, 0.16934123019134661, 0.4937303188863658, 0.04499488003579816, 0.19812465240607674, 0.9081844136915745, 0.24300028985497946, 0.8044502667843741, 0.6519373873472506, 0.6730506252289374, 0.2837560905751306] \n",
        "\n",
        "\n",
        "Fi=PARTIC[10:20]\n",
        "CRi=PARTIC[20:30]\n",
        "PARTIC=PARTIC[0:10]\n",
        "\n",
        "P=np.array(PARTIC)\n",
        "s=P*its\n",
        "SOMA_PARTIC=s.sum()\n",
        "\n",
        "NMAX=P.max() # maximo tamanho da populacao\n",
        "\n",
        "'''DAT=pd.read_csv('RAIANA_TESTE_TRANSFERE_SET_04_2019.csv')\n",
        "Fi=np.array(DAT['F'])\n",
        "CRi=np.array(DAT['CR'])'''\n",
        "\n",
        "QUANT=15 # quantos indices esta fazendo\n",
        "MAT_IND=np.zeros((len(PARTIC),QUANT))\n",
        "MAT_INDi=np.zeros((len(PARTIC),QUANT))\n",
        "SOLUCOES=np.zeros((len(PARTIC),dimensions))\n",
        "SOLUCOESi=np.zeros((len(PARTIC),dimensions))\n",
        "\n",
        "REF=0.1 # REFERENCIA DE DIFERENCAS ENTRE OS ELEMENTOS\n",
        "\n",
        "'''for k in range(ITE):\n",
        "    NPAR=np.copy(int(PARTIC[k]))\n",
        "    \n",
        "    X,BEST,FOBEST,XY,BEST_XY,SOMA,INDICE= de_indices_ago_30_2019.de(MAX,MIN, mut, crossp, NPAR, its,Fun,X,SOMA,TOTAL,QUANT) \n",
        "    MAT_INDi[k,:]=INDICE\n",
        "    SOLUCOESi[k,:]=BEST\n",
        "    MAT_INDi[k,2]=SOMA/TOTAL\n",
        "    MAT_INDi[k,1]=INDICE[0]/DI_ini\n",
        "    MAT_INDi[k,3]=FOBEST'''\n",
        "\n",
        "FOBESTm=1e99\n",
        "  \n",
        "for j in range (RUNS):\n",
        "  \n",
        "    SOMA=0\n",
        "    \n",
        "    pop = np.random.rand(NMAX, dimensions)\n",
        "    diff=np.zeros(PAR)\n",
        "    for ii in range(PAR):\n",
        "      diff[ii] = MAX[ii]-MIN[ii]\n",
        "    X = MIN + pop * diff\n",
        "    \n",
        "    soma=0\n",
        "    for j in range(PAR):\n",
        "      for i in range(PARTIC[0]):\n",
        "        Xj=np.mean(X[:,j])\n",
        "        soma=soma+(X[i,j]-Xj)**2\n",
        "      DI_ini=(soma/PARTIC[0])**0.5\n",
        "      \n",
        "    for k in range(ITE):\n",
        "        NPAR=np.copy(int(PARTIC[k]))\n",
        "        mut=np.copy(Fi[k])\n",
        "        crossp=np.copy(CRi[k])\n",
        "        \n",
        "        X,BEST,FOBEST,XY,BEST_XY,SOMA,INDICE= de_indices_ago_30_2019.de(MAX,MIN, mut, crossp, NPAR, its,Fun,X,SOMA,TOTAL,QUANT)\n",
        "        Lin=len(XY[:,0])\n",
        "        Col=len(XY[0,:])\n",
        " \n",
        "                \n",
        "        MAT_IND[k,:]=INDICE\n",
        "        SOLUCOES[k,:]=BEST\n",
        "        MAT_IND[k,2]=SOMA/TOTAL\n",
        "        MAT_IND[k,1]=INDICE[0]/DI_ini\n",
        "        MAT_IND[k,3]=FOBEST\n",
        "        MAT_IND[k,3]=FOBEST\n",
        "        MAT_IND[k,8]=XY[0,(Col-1)]\n",
        "        MAT_IND[k,9]=XY[(Lin-1),(Col-1)]\n",
        "\n",
        "        #print(\"============\",XY[(Lin-1),(Col-1)],\"====================\")\n",
        "    \n",
        "    if FOBEST<FOBESTm:\n",
        "      FOBESTm=np.copy(FOBEST)\n",
        "      BESTm=np.copy(BEST)\n",
        "      \n",
        "      MAT_IND[k,:]=INDICE\n",
        "      SOLUCOES[k,:]=BEST\n",
        "      MAT_IND[k,2]=SOMA/TOTAL\n",
        "      MAT_IND[k,1]=INDICE[0]/DI_ini\n",
        "      MAT_IND[k,3]=FOBEST\n",
        "\n",
        "        \n",
        "\n",
        "    #print(\"Soma=\",SOMA)\n",
        "    #print(\"GlobalParam e Solucao:\", BEST,\"Funcao=\",FOBEST)\n",
        "AUX=[]    \n",
        "AUX= np.copy(MAT_IND)   \n",
        "for i in range(1,len(PARTIC)):\n",
        "  V1=AUX[i-1,3]\n",
        "  V2=AUX[i,3]\n",
        "  A=2*V2\n",
        "  #print(V1,V2,A)\n",
        "  if(V1 > A):\n",
        "    MAT_IND[i,3]=2 # o valor de fobj torna pelo menos duas vezes melhor\n",
        "  elif (V2==V1):\n",
        "    MAT_IND[i,3]=0 # o valor de fobj nao altera\n",
        "  else:\n",
        "    MAT_IND[i,3]=1 # o valor de fobj melhora mas menos que duas vezes\n",
        "  MAT_IND[k,8]=XY[0,(Col-1)]\n",
        "  MAT_IND[k,9]=XY[(Lin-1),(Col-1)]\n",
        "\n",
        "  dimensions\n",
        "  DELTA=[]\n",
        "  DELTA=np.amax(abs(SOLUCOES[i-1,:]-SOLUCOES[i,:]))\n",
        "  #print(SOLUCOES[i-1,:])\n",
        "  #print(SOLUCOES[i,:])\n",
        "  #print(DELTA)\n",
        "  if( DELTA >REF):\n",
        "    MAT_IND[i,4]=2 # diferenca entre as posicoes do xbest maior que ref\n",
        "  elif ( DELTA == 0):\n",
        "    MAT_IND[i,4]=0 # sem diferenca entre as posicoes do xbest entre duas buscas\n",
        "  else:\n",
        "    MAT_IND[i,4]=1 # diferenca entre as posicoes do xbest menor que ref\n",
        "\n",
        "#print(MAT_IND)\n",
        "\n",
        "for i in range(len(PARTIC)):\n",
        "    MAT_IND[i,5]=int(PARTIC[i]) \n",
        "    MAT_IND[i,6]=Fi[i]\n",
        "    MAT_IND[i,7]=CRi[i] \n",
        "\n",
        "MAT_IND[0,3]=0 \n",
        "  \n",
        "NOMES=['DIVERSIDADE (DI)',  'DI RELATIVO','FRAC Its','VELOC FOBJ','VELOC X',\n",
        "       'NP','F','CR','fmin','fmax','AD_fmin','AD_fmax','DELTA FOBJ','DELTA VX',\n",
        "       'r_fitness']\n",
        "INPUT=len(NOMES) # QUANTOS VALORES DE ENTRADA PARA REDE     \n",
        "IND=range(INPUT)\n",
        "print(\"GlobalParam e Solucao:\", BEST,\"Funcao=\",FOBESTm)\n",
        "\n",
        "for k in range(len(PARTIC)):\n",
        "    #'''\n",
        "    if abs(MAT_IND[k,9]/MAT_IND[0,9])>1:\n",
        "      MAT_IND[k,11]=1/abs(MAT_IND[k,9])\n",
        "    else:\n",
        "      MAT_IND[k,11]=MAT_IND[k,9]/MAT_IND[0,9]\n",
        "    if abs(MAT_IND[k,8]/MAT_IND[0,8])>1:\n",
        "      MAT_IND[i,10]=MAT_IND[k,8]/MAT_IND[9,8]\n",
        "    else:\n",
        "      MAT_IND[k,10]=MAT_IND[k,8]/MAT_IND[0,8]\n",
        "    #'''\n",
        "    '''\n",
        "\n",
        "    MAT_IND[k,10]=MAT_IND[k,8]/MAT_IND[0,8]\n",
        "    MAT_IND[k,11]=MAT_IND[k,9]/MAT_IND[0,9]\n",
        "    '''\n",
        "\n",
        "for i in range(1,len(PARTIC)):\n",
        "  MAT_IND[i,12]=MAT_IND[i,3]-MAT_IND[i-1,3]\n",
        "  MAT_IND[i,13]=MAT_IND[i,4]-MAT_IND[i-1,4]\n",
        "\n",
        "MAT_IND[0,12]=0\n",
        "MAT_IND[0,13]=0\n",
        "\n",
        "for i in range(len(PARTIC)):\n",
        "  if abs(MAT_IND[i,9]/MAT_IND[i,8])<1:\n",
        "    MAT_IND[i,14]=1-abs((MAT_IND[i,9]+1)/(MAT_IND[i,8]+1)\n",
        "  else:\n",
        "    MAT_IND[i,14]=1-abs((MAT_IND[i,8]+1)/MAT_IND[i,9])\n",
        "\n",
        "df = pd.DataFrame(MAT_IND[:,IND], columns=NOMES)\n",
        "pd.set_option('display.max_rows', INPUT)\n",
        "#pd.set_option('display.max_colwidth', -1)\n",
        "#print(MAT_IND[:,IND])\n",
        "\n",
        "\n",
        "pd.set_option('display.max_columns', 30)\n",
        "pd.set_option('display.max_rows', 30)\n",
        "print(df)\n",
        "#print(SOLUCOES)"
      ],
      "execution_count": 0,
      "outputs": [
        {
          "output_type": "stream",
          "text": [
            "GlobalParam e Solucao: [2.87018946 2.19063645 1.55619158 1.28685436 1.09783589 1.72492139\n",
            " 1.56346373 1.45190868 1.76431439 1.65688815] Funcao= -8.508183642752018\n",
            "   DIVERSIDADE (DI)  DI RELATIVO  FRAC Its  VELOC FOBJ  VELOC X     NP  \\\n",
            "0          3.135327     1.090962       0.1         0.0      0.0  100.0   \n",
            "1          2.888211     1.004976       0.2         2.0      2.0  100.0   \n",
            "2          2.369012     0.824317       0.3         2.0      2.0  100.0   \n",
            "3          2.261233     0.786814       0.4         2.0      0.0  100.0   \n",
            "4          1.926246     0.670253       0.5         2.0      2.0  100.0   \n",
            "5          1.868421     0.650132       0.6         2.0      2.0  100.0   \n",
            "6          1.115100     0.388008       0.7         2.0      2.0  100.0   \n",
            "7          1.097556     0.381903       0.8         2.0      0.0  100.0   \n",
            "8          1.053746     0.366659       0.9         2.0      0.0  100.0   \n",
            "9          1.033248     0.359527       1.0         2.0      2.0  100.0   \n",
            "\n",
            "          F        CR      fmin      fmax  AD_fmin   AD_fmax  DELTA FOBJ  \\\n",
            "0  0.813849  0.730256 -4.268137 -0.895362      1.0  1.000000         0.0   \n",
            "1  0.646763  0.417473 -4.558777 -1.568272      0.0  0.637644         2.0   \n",
            "2  0.183829  0.451324 -5.383207 -2.640382      0.0  0.378733         0.0   \n",
            "3  0.320932  0.972018 -5.383207 -2.877642      0.0  0.347507         0.0   \n",
            "4  0.288107  0.407764 -6.064085 -3.390274      0.0  0.294961         0.0   \n",
            "5  0.741937  0.200402 -6.684611 -3.963397      0.0  0.252309         0.0   \n",
            "6  0.008620  0.695069 -8.484316 -7.381801      0.0  0.135468         0.0   \n",
            "7  0.260975  0.807499 -8.484316 -7.381801      0.0  0.135468         0.0   \n",
            "8  0.235254  0.777603 -8.484316 -7.689621      0.0  0.130045         0.0   \n",
            "9  0.725410  0.336914 -8.508184 -7.799983      1.0  0.128205         0.0   \n",
            "\n",
            "   DELTA VX  r_fitness  \n",
            "0       0.0   0.790222  \n",
            "1       2.0   0.655988  \n",
            "2       0.0   0.509515  \n",
            "3      -2.0   0.465441  \n",
            "4       2.0   0.440926  \n",
            "5       0.0   0.407086  \n",
            "6       0.0   0.129947  \n",
            "7      -2.0   0.129947  \n",
            "8       0.0   0.093666  \n",
            "9       2.0   0.083238  \n"
          ],
          "name": "stdout"
        }
      ]
    },
    {
      "cell_type": "code",
      "metadata": {
        "id": "jc9u89d9X0rL",
        "colab_type": "code",
        "colab": {}
      },
      "source": [
        "NOMES_new=['DIVERSIDADE (DI)',  'DI RELATIVO','FRAC Its',\n",
        "           'VELOC FOBJ','VELOC X','NP','Fo','CRo','fmin','fmax',\n",
        "           'AD_fmin','AD_fmax','DELTA FOBJ','DELTA VX','r_fitness',\n",
        "           'F','CR']"
      ],
      "execution_count": 0,
      "outputs": []
    },
    {
      "cell_type": "code",
      "metadata": {
        "id": "wkVidcPCOJ7T",
        "colab_type": "code",
        "colab": {}
      },
      "source": [
        "rows=len(PARTIC)-1\n",
        "cols=len(NOMES_new)\n",
        "MAT_IND_NEW=np.zeros((rows,cols))\n",
        "for k in range(rows):\n",
        "  MAT_IND_NEW[k,range(len(NOMES))]=MAT_IND[k+1,range(len(NOMES))]\n",
        "  MAT_IND_NEW[k,6]=MAT_IND[k,6]\n",
        "  MAT_IND_NEW[k,7]=MAT_IND[k,7]\n",
        "  MAT_IND_NEW[k,15]=MAT_IND[k+1,6]\n",
        "  MAT_IND_NEW[k,16]=MAT_IND[k+1,7]\n",
        "\n"
      ],
      "execution_count": 0,
      "outputs": []
    },
    {
      "cell_type": "code",
      "metadata": {
        "id": "hr6KRnUjKnI2",
        "colab_type": "code",
        "outputId": "02833caf-3a8e-4f24-b16d-d7e6b91ad7bd",
        "colab": {
          "base_uri": "https://localhost:8080/",
          "height": 857
        }
      },
      "source": [
        "\n",
        "IND=len(NOMES_new)\n",
        "#print(IND)\n",
        "df_new = pd.DataFrame(MAT_IND_NEW, columns=NOMES_new)\n",
        "\n",
        "algoritmo='DE-DE'\n",
        "bounds=str(MIN[0])+' ate '+str(MAX[0])\n",
        "funcao=[Fun.__name__,dim,FOBESTm,bounds,BESTm,SOMA_PARTIC,TOTAL,algoritmo]\n",
        "df_new['FUNCTION']=pd.Series(funcao)\n",
        "\n",
        "#pd.set_option('display.max_rows', IND)\n",
        "pd.set_option('display.max_columns', 30)\n",
        "pd.set_option('display.max_rows', 30)\n",
        "\n",
        "print(\"GlobalParam e Solucao:\", BEST,\"Funcao=\",FOBESTm)\n",
        "print(df_new)"
      ],
      "execution_count": 0,
      "outputs": [
        {
          "output_type": "stream",
          "text": [
            "GlobalParam e Solucao: [2.87018946 2.19063645 1.55619158 1.28685436 1.09783589 1.72492139\n",
            " 1.56346373 1.45190868 1.76431439 1.65688815] Funcao= -8.508183642752018\n",
            "   DIVERSIDADE (DI)  DI RELATIVO  FRAC Its  VELOC FOBJ  VELOC X     NP  \\\n",
            "0          2.888211     1.004976       0.2         2.0      2.0  100.0   \n",
            "1          2.369012     0.824317       0.3         2.0      2.0  100.0   \n",
            "2          2.261233     0.786814       0.4         2.0      0.0  100.0   \n",
            "3          1.926246     0.670253       0.5         2.0      2.0  100.0   \n",
            "4          1.868421     0.650132       0.6         2.0      2.0  100.0   \n",
            "5          1.115100     0.388008       0.7         2.0      2.0  100.0   \n",
            "6          1.097556     0.381903       0.8         2.0      0.0  100.0   \n",
            "7          1.053746     0.366659       0.9         2.0      0.0  100.0   \n",
            "8          1.033248     0.359527       1.0         2.0      2.0  100.0   \n",
            "\n",
            "         Fo       CRo      fmin      fmax  AD_fmin   AD_fmax  DELTA FOBJ  \\\n",
            "0  0.813849  0.730256 -4.558777 -1.568272      0.0  0.637644         2.0   \n",
            "1  0.646763  0.417473 -5.383207 -2.640382      0.0  0.378733         0.0   \n",
            "2  0.183829  0.451324 -5.383207 -2.877642      0.0  0.347507         0.0   \n",
            "3  0.320932  0.972018 -6.064085 -3.390274      0.0  0.294961         0.0   \n",
            "4  0.288107  0.407764 -6.684611 -3.963397      0.0  0.252309         0.0   \n",
            "5  0.741937  0.200402 -8.484316 -7.381801      0.0  0.135468         0.0   \n",
            "6  0.008620  0.695069 -8.484316 -7.381801      0.0  0.135468         0.0   \n",
            "7  0.260975  0.807499 -8.484316 -7.689621      0.0  0.130045         0.0   \n",
            "8  0.235254  0.777603 -8.508184 -7.799983      1.0  0.128205         0.0   \n",
            "\n",
            "   DELTA VX  r_fitness         F        CR  \\\n",
            "0       2.0   0.655988  0.646763  0.417473   \n",
            "1       0.0   0.509515  0.183829  0.451324   \n",
            "2      -2.0   0.465441  0.320932  0.972018   \n",
            "3       2.0   0.440926  0.288107  0.407764   \n",
            "4       0.0   0.407086  0.741937  0.200402   \n",
            "5       0.0   0.129947  0.008620  0.695069   \n",
            "6      -2.0   0.129947  0.260975  0.807499   \n",
            "7       0.0   0.093666  0.235254  0.777603   \n",
            "8       2.0   0.083238  0.725410  0.336914   \n",
            "\n",
            "                                            FUNCTION  \n",
            "0                                        Michalewicz  \n",
            "1                                                 10  \n",
            "2                                 -8.508183642752018  \n",
            "3                            0 ate 3.141592653589793  \n",
            "4  [2.870189457950639, 2.190636450544791, 1.55619...  \n",
            "5                                              10000  \n",
            "6                                              10000  \n",
            "7                                              DE-DE  \n",
            "8                                                NaN  \n"
          ],
          "name": "stdout"
        }
      ]
    },
    {
      "cell_type": "code",
      "metadata": {
        "id": "bI_8YXugR5w-",
        "colab_type": "code",
        "outputId": "879961a9-c612-4533-c9ac-871f2e867992",
        "colab": {
          "base_uri": "https://localhost:8080/",
          "height": 36
        }
      },
      "source": [
        "'''print(df_new)\n",
        "print(df)'''"
      ],
      "execution_count": 0,
      "outputs": [
        {
          "output_type": "execute_result",
          "data": {
            "text/plain": [
              "'print(df_new)\\nprint(df)'"
            ]
          },
          "metadata": {
            "tags": []
          },
          "execution_count": 215
        }
      ]
    },
    {
      "cell_type": "code",
      "metadata": {
        "id": "VQ1DxcUIFPfD",
        "colab_type": "code",
        "outputId": "b1f0001b-7061-4d11-8bf8-f9effd998e65",
        "colab": {
          "base_uri": "https://localhost:8080/",
          "height": 55
        }
      },
      "source": [
        "print('FOBEST=',FOBEST)\n",
        "print('FOBESTm=',FOBESTm)"
      ],
      "execution_count": 0,
      "outputs": [
        {
          "output_type": "stream",
          "text": [
            "FOBEST= -8.508183642752018\n",
            "FOBESTm= -8.508183642752018\n"
          ],
          "name": "stdout"
        }
      ]
    },
    {
      "cell_type": "code",
      "metadata": {
        "id": "F8Vb3GJTEIh3",
        "colab_type": "code",
        "colab": {}
      },
      "source": [
        ""
      ],
      "execution_count": 0,
      "outputs": []
    },
    {
      "cell_type": "code",
      "metadata": {
        "id": "RHOKjpqjqGC2",
        "colab_type": "code",
        "colab": {}
      },
      "source": [
        "#print(df.iloc[0])"
      ],
      "execution_count": 0,
      "outputs": []
    },
    {
      "cell_type": "code",
      "metadata": {
        "id": "jpoOt04bCNOe",
        "colab_type": "code",
        "colab": {}
      },
      "source": [
        "#print(df_new.iloc[0])"
      ],
      "execution_count": 0,
      "outputs": []
    },
    {
      "cell_type": "code",
      "metadata": {
        "id": "ETXqp7Lv1TK5",
        "colab_type": "code",
        "outputId": "b7a791a4-06b7-462b-cd23-96f71d0dccab",
        "colab": {
          "base_uri": "https://localhost:8080/",
          "height": 36
        }
      },
      "source": [
        "'''#print(DAT)\n",
        "Fi_teste=DAT['F']\n",
        "CRi_teste=np.array(DAT['CR'])\n",
        "print(CRi)\n",
        "print(CRi_teste)'''"
      ],
      "execution_count": 0,
      "outputs": [
        {
          "output_type": "execute_result",
          "data": {
            "text/plain": [
              "\"#print(DAT)\\nFi_teste=DAT['F']\\nCRi_teste=np.array(DAT['CR'])\\nprint(CRi)\\nprint(CRi_teste)\""
            ]
          },
          "metadata": {
            "tags": []
          },
          "execution_count": 219
        }
      ]
    },
    {
      "cell_type": "code",
      "metadata": {
        "id": "nZ_ILp71l1lS",
        "colab_type": "code",
        "outputId": "a249ae2e-4ccb-4f63-d4f6-527293a7d326",
        "colab": {
          "base_uri": "https://localhost:8080/",
          "height": 55
        }
      },
      "source": [
        "print(SOMA)\n",
        "print(TOTAL)"
      ],
      "execution_count": 0,
      "outputs": [
        {
          "output_type": "stream",
          "text": [
            "10000\n",
            "10000\n"
          ],
          "name": "stdout"
        }
      ]
    },
    {
      "cell_type": "code",
      "metadata": {
        "id": "kXFU8468KfSy",
        "colab_type": "code",
        "outputId": "e34267ae-3549-4ce2-8526-65edb6bd2d9d",
        "colab": {
          "base_uri": "https://localhost:8080/",
          "height": 36
        }
      },
      "source": [
        "s=P*its\n",
        "somaa=s.sum()\n",
        "print('SOMA PARTIC=',somaa)"
      ],
      "execution_count": 0,
      "outputs": [
        {
          "output_type": "stream",
          "text": [
            "SOMA PARTIC= 10000\n"
          ],
          "name": "stdout"
        }
      ]
    },
    {
      "cell_type": "code",
      "metadata": {
        "id": "xsedhvw6w-FX",
        "colab_type": "code",
        "outputId": "c1036a1a-0efe-48db-c55e-cad23b111a87",
        "colab": {
          "base_uri": "https://localhost:8080/",
          "height": 36
        }
      },
      "source": [
        "'''\n",
        "from google.colab import drive\n",
        "drive.mount('drive')\n",
        "'''"
      ],
      "execution_count": 0,
      "outputs": [
        {
          "output_type": "execute_result",
          "data": {
            "text/plain": [
              "\"\\nfrom google.colab import drive\\ndrive.mount('drive')\\n\""
            ]
          },
          "metadata": {
            "tags": []
          },
          "execution_count": 222
        }
      ]
    },
    {
      "cell_type": "code",
      "metadata": {
        "id": "gruAmcZKL20c",
        "colab_type": "code",
        "colab": {}
      },
      "source": [
        "from datetime import datetime\n",
        "nowfname=datetime.now().strftime(\"%Y-%m-%d_%Hh%Mmin\")"
      ],
      "execution_count": 0,
      "outputs": []
    },
    {
      "cell_type": "code",
      "metadata": {
        "id": "ZauofQo2tEr_",
        "colab_type": "code",
        "outputId": "d0b2c78f-a78a-4167-ec37-ff00adda8103",
        "colab": {
          "base_uri": "https://localhost:8080/",
          "height": 36
        }
      },
      "source": [
        "function=Fun.__name__\n",
        "nome=nowfname+'_DE_'+function+'_'+str(dim)+'.csv'\n",
        "print(nome)"
      ],
      "execution_count": 0,
      "outputs": [
        {
          "output_type": "stream",
          "text": [
            "2019-10-04_19h24min_DE_Michalewicz_10.csv\n"
          ],
          "name": "stdout"
        }
      ]
    },
    {
      "cell_type": "code",
      "metadata": {
        "id": "Q-O9Ld0Xw_hg",
        "colab_type": "code",
        "outputId": "e64445e4-7d2e-4025-d50a-a161ba907af0",
        "colab": {
          "base_uri": "https://localhost:8080/",
          "height": 36
        }
      },
      "source": [
        "df_new.to_csv(nome)\n",
        "\n",
        "!cp 2019-10-01_18h31min_DE_Michalewicz_10.csv drive/My\\ Drive/imput_ANN/\n",
        "#!cp 2019-09-30_16h33min_DE_Rosenbrock_10.csv drive/My\\ Drive/\n"
      ],
      "execution_count": 0,
      "outputs": [
        {
          "output_type": "stream",
          "text": [
            "cp: cannot stat '2019-10-01_18h31min_DE_Michalewicz_10.csv': No such file or directory\n"
          ],
          "name": "stdout"
        }
      ]
    }
  ]
}