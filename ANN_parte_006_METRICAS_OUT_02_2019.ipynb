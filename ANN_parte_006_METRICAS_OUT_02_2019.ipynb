{
  "nbformat": 4,
  "nbformat_minor": 0,
  "metadata": {
    "colab": {
      "name": "ANN_parte_006_METRICAS_OUT_02_2019.ipynb",
      "provenance": [],
      "collapsed_sections": [],
      "include_colab_link": true
    },
    "kernelspec": {
      "name": "python3",
      "display_name": "Python 3"
    }
  },
  "cells": [
    {
      "cell_type": "markdown",
      "metadata": {
        "id": "view-in-github",
        "colab_type": "text"
      },
      "source": [
        "<a href=\"https://colab.research.google.com/github/ucfilho/ANN_raianars/blob/master/ANN_parte_006_METRICAS_OUT_02_2019.ipynb\" target=\"_parent\"><img src=\"https://colab.research.google.com/assets/colab-badge.svg\" alt=\"Open In Colab\"/></a>"
      ]
    },
    {
      "cell_type": "code",
      "metadata": {
        "id": "IJMhyBoEZHIU",
        "colab_type": "code",
        "outputId": "9e62255a-620b-4eb0-9c2a-3d56946c64f6",
        "colab": {
          "base_uri": "https://localhost:8080/",
          "height": 108
        }
      },
      "source": [
        "import numpy as np\n",
        "import pandas as pd\n",
        "import matplotlib.pyplot as plt\n",
        "\n",
        "\n",
        "# este comando clona o diretorio github ucfilho/ANN no colaboratory research\n",
        "!git clone https://github.com/RaianaSeixas/ANN #clonar do Github\n",
        "%cd ANN\n",
        "#!ls\n",
        "print(\"Hello world\"+\"\\n\"+\"I'm evolving!!!\"+\"\\n\")\n",
        "\n",
        "%matplotlib inline"
      ],
      "execution_count": 1,
      "outputs": [
        {
          "output_type": "stream",
          "text": [
            "fatal: destination path 'ANN' already exists and is not an empty directory.\n",
            "/content/ANN\n",
            "Hello world\n",
            "I'm evolving!!!\n",
            "\n"
          ],
          "name": "stdout"
        }
      ]
    },
    {
      "cell_type": "code",
      "metadata": {
        "id": "x09IGM7OYxpw",
        "colab_type": "code",
        "outputId": "f891fb00-01e8-424a-f13e-7365e864aa81",
        "colab": {
          "base_uri": "https://localhost:8080/",
          "height": 108
        }
      },
      "source": [
        "!ls"
      ],
      "execution_count": 2,
      "outputs": [
        {
          "output_type": "stream",
          "text": [
            "000_ANN_Gera_Matriz_para_ser_usada_set_26_2019.ipynb  X_DAT_B_set_17_2019.csv\n",
            "000_ANN_parte_001_XY_dados_out_01_2019.ipynb\t      X_DAT_set_17_2019.csv\n",
            "000_ANN_parte_002_B_D10_OUT_1_2019.ipynb\t      XY_D10_out_1_2019.csv\n",
            "000_Gerenciador_DE_var_F_CR_STAT_set_27_2019.ipynb    Y_DAT_B_set_17_2019.csv\n",
            "imput_ANN_D10_6F.zip\t\t\t\t      Y_DAT_set_17_2019.csv\n"
          ],
          "name": "stdout"
        }
      ]
    },
    {
      "cell_type": "code",
      "metadata": {
        "id": "xPh9-Qc81nMS",
        "colab_type": "code",
        "colab": {}
      },
      "source": [
        "# sigmoid function\n",
        "def sigmoid(x,deriv=False):\n",
        "    if(deriv==True):\n",
        "        return x*(1-x)\n",
        "    return 1/(1+np.exp(-x))\n",
        "\n",
        "def tasig(x,deriv=False):\n",
        "    if(deriv==True):\n",
        "        return 1-x*x\n",
        "    return 2/(1+np.exp(-2*x))-1\n",
        "\n",
        "# purelin function\n",
        "def purelin(x,deriv=False):\n",
        "    if(deriv==True):\n",
        "        return 1\n",
        "    return x"
      ],
      "execution_count": 0,
      "outputs": []
    },
    {
      "cell_type": "code",
      "metadata": {
        "id": "RepD-3pn1E-1",
        "colab_type": "code",
        "colab": {}
      },
      "source": [
        "# funcao normatiza dados\n",
        "def Normatiza(x):\n",
        "    strings=list(x)\n",
        "    for i in strings:\n",
        "        max_x=x[i].max()\n",
        "        min_x=x[i].min()\n",
        "        a=(max_x+min_x)/2\n",
        "        b=(max_x-min_x)/2\n",
        "        x[i]=(x[i]-a)/b\n",
        "    return x"
      ],
      "execution_count": 0,
      "outputs": []
    },
    {
      "cell_type": "code",
      "metadata": {
        "id": "aMUypVwa1RWF",
        "colab_type": "code",
        "colab": {}
      },
      "source": [
        "# funcao retorna os dados a forma original\n",
        "def Original(x,x_old):\n",
        "    strings=list(x)\n",
        "    for i in strings:\n",
        "        max_x=x_old[i].max()\n",
        "        min_x=x_old[i].min()\n",
        "        a=(max_x+min_x)/2\n",
        "        b=(max_x-min_x)/2\n",
        "        x[i]=x[i]*b+a\n",
        "    return x"
      ],
      "execution_count": 0,
      "outputs": []
    },
    {
      "cell_type": "code",
      "metadata": {
        "id": "68JOHC6Ozv6d",
        "colab_type": "code",
        "outputId": "e307fbd6-723c-4d6b-96ba-d5d3e4edbadd",
        "colab": {
          "base_uri": "https://localhost:8080/",
          "height": 381
        }
      },
      "source": [
        "# leitura dos dados\n",
        "DAT=pd.read_csv(\"XY_D10_out_1_2019.csv\")\n",
        "# separa as colunas de interesse\n",
        "Index=[1,2,3,4,5,6,7,8,9,10,11,12,13,14]\n",
        "Dat_Select=[]\n",
        "Dat_Select=DAT.iloc[:,Index].copy()\n",
        "\n",
        "pd.set_option('display.max_columns', 30)\n",
        "pd.set_option('display.max_rows', 30)\n",
        "#print(Dat_Select)\n",
        "print(Dat_Select.head())"
      ],
      "execution_count": 6,
      "outputs": [
        {
          "output_type": "stream",
          "text": [
            "   DIVERSIDADE (DI)  DI RELATIVO  FRAC Its  VELOC FOBJ  VELOC X     NP  \\\n",
            "0         21.655535     1.221355       0.2         0.0      0.0  100.0   \n",
            "1         21.514089     1.213378       0.3         0.0      0.0  100.0   \n",
            "2         21.295827     1.201068       0.4         2.0      2.0  100.0   \n",
            "3         21.188552     1.195018       0.5         0.0      0.0  100.0   \n",
            "4         21.769821     1.227801       0.6         1.0      2.0  100.0   \n",
            "\n",
            "         Fo       CRo      fmin         fmax   AD_fmin   AD_fmax         F  \\\n",
            "0  0.972856  0.760538  0.057549  1805.235510  1.000000  0.374682  0.277668   \n",
            "1  0.277668  0.260366  0.057549   317.197512  1.000000  0.065835  0.173981   \n",
            "2  0.173981  0.453169  0.022278    49.847938  0.387115  0.010346  0.677145   \n",
            "3  0.677145  0.947536  0.022278    33.373213  0.387115  0.006927  0.059762   \n",
            "4  0.059762  0.155327  0.014697     9.059640  0.255377  0.001880  0.949367   \n",
            "\n",
            "         CR  \n",
            "0  0.260366  \n",
            "1  0.453169  \n",
            "2  0.947536  \n",
            "3  0.155327  \n",
            "4  0.933255  \n"
          ],
          "name": "stdout"
        }
      ]
    },
    {
      "cell_type": "code",
      "metadata": {
        "id": "_vpQ5HTM06TE",
        "colab_type": "code",
        "colab": {}
      },
      "source": [
        "DAT_OLD=[]\n",
        "DAT_OLD=Dat_Select.copy()\n",
        "DAT=Normatiza(Dat_Select)"
      ],
      "execution_count": 0,
      "outputs": []
    },
    {
      "cell_type": "code",
      "metadata": {
        "id": "A4LF09Cq0hJu",
        "colab_type": "code",
        "outputId": "26680140-e7b1-4bb1-921c-87df4a4e3663",
        "colab": {
          "base_uri": "https://localhost:8080/",
          "height": 254
        }
      },
      "source": [
        "# obtem as variaveis independentes (treino e teste)\n",
        "# separa os dados em treino e teste\n",
        "train=DAT.sample(frac=0.8,random_state=None) \n",
        "test=DAT.drop(train.index)\n",
        "'''x_train=train.iloc[:,[0,1]]\n",
        "x_test=test.iloc[:,[0,1]]\n",
        "X_OLD=DAT_OLD.iloc[:,[0,1]]'''\n",
        "x_train=train.iloc[:,[1,2,3,4,6,7,10,11]]\n",
        "x_test=test.iloc[:,[1,2,3,4,6,7,10,11]]\n",
        "X_OLD=DAT_OLD.iloc[:,[1,2,3,4,6,7,10,11]]\n",
        "print(x_train.head())"
      ],
      "execution_count": 8,
      "outputs": [
        {
          "output_type": "stream",
          "text": [
            "    DI RELATIVO  FRAC Its  VELOC FOBJ  VELOC X        Fo       CRo   AD_fmin  \\\n",
            "49    -0.695994      0.00         0.0      1.0 -0.430203 -0.162475 -0.197878   \n",
            "28    -0.130285     -0.75         0.0      1.0  0.884940 -0.068897  0.371758   \n",
            "20     0.885640     -0.50         0.0      1.0  0.600665 -0.516720  0.359514   \n",
            "15    -0.995978      0.50         1.0      0.0 -0.363959  0.019779 -0.999971   \n",
            "45     0.762419     -1.00         0.0      1.0  0.641639  0.501921  0.993431   \n",
            "\n",
            "     AD_fmax  \n",
            "49  0.901072  \n",
            "28  0.621034  \n",
            "20  0.371469  \n",
            "15 -0.999932  \n",
            "45  1.000000  \n"
          ],
          "name": "stdout"
        }
      ]
    },
    {
      "cell_type": "code",
      "metadata": {
        "id": "ZSuUAFrL3E1C",
        "colab_type": "code",
        "outputId": "0b43f428-c3c5-4252-c69f-877ab50eb3ec",
        "colab": {
          "base_uri": "https://localhost:8080/",
          "height": 126
        }
      },
      "source": [
        "# obtem as variaveis dependentes (treino e teste)\n",
        "#Index=[2,3,4,5]\n",
        "Index=[12] #F\n",
        "#Index=[13] #CR\n",
        "y_train=train.iloc[:,Index]\n",
        "y_test=test.iloc[:,Index]\n",
        "Y_OLD=DAT_OLD.iloc[:,Index]\n",
        "print(y_train.head())"
      ],
      "execution_count": 9,
      "outputs": [
        {
          "output_type": "stream",
          "text": [
            "           F\n",
            "49  0.495032\n",
            "28  0.767644\n",
            "20  0.241763\n",
            "15 -0.285188\n",
            "45  0.300998\n"
          ],
          "name": "stdout"
        }
      ]
    },
    {
      "cell_type": "code",
      "metadata": {
        "id": "hqYR1qujdIFX",
        "colab_type": "code",
        "colab": {}
      },
      "source": [
        "X_NOME=[  'DI RELATIVO','FRAC Its',\n",
        "           'VELOC FOBJ','VELOC X','Fo','CRo',\n",
        "           'AD_fmin','AD_fmax']\n",
        "Y_NOME=['F']   \n",
        "#Y_NOME=['CR']   "
      ],
      "execution_count": 0,
      "outputs": []
    },
    {
      "cell_type": "code",
      "metadata": {
        "id": "bUuQEko_dpF2",
        "colab_type": "code",
        "colab": {}
      },
      "source": [
        "# input dataset\n",
        "#Neuron_input=3\n",
        "Neuron_input=len(X_NOME)\n",
        "Neuron_hidden=5\n",
        "Neuron_output=1\n",
        "Learning_rate=0.01\n",
        "omega=0.9\n",
        "Epoch=50000"
      ],
      "execution_count": 0,
      "outputs": []
    },
    {
      "cell_type": "code",
      "metadata": {
        "id": "5X0BYxxIdwGp",
        "colab_type": "code",
        "colab": {}
      },
      "source": [
        "Y_train=y_train\n",
        "X_train=x_train\n",
        "x_test=x_test.loc[x_test['FRAC Its']==x_test['FRAC Its'],X_NOME].values\n",
        "X_train=X_train.loc[X_train['FRAC Its']==X_train['FRAC Its'],X_NOME].values\n",
        "y=Y_train.loc[Y_train['F']==Y_train['F'],['F']].values"
      ],
      "execution_count": 0,
      "outputs": []
    },
    {
      "cell_type": "code",
      "metadata": {
        "id": "ww1KvVqReAhK",
        "colab_type": "code",
        "colab": {}
      },
      "source": [
        "def ANN(Epoch,Neuron_input,Neuron_hidden,Neuron_output,Learning_rate,X_train,y):\n",
        "  syn0 = 2*np.random.random((Neuron_input,Neuron_hidden)) - 1\n",
        "  syn1 = 2*np.random.random((Neuron_hidden,Neuron_output)) - 1\n",
        "  for j in range(Epoch):\n",
        "    l0 = X_train\n",
        "    l1 = sigmoid(np.dot(l0,syn0))\n",
        "    l2 = purelin(np.dot(l1,syn1))\n",
        "    l2_error = y - l2\n",
        "    l2_delta = l2_error*purelin(l2,deriv=True)\n",
        "    l1_error = l2_delta.dot(syn1.T)\n",
        "    l1_delta = l1_error * sigmoid(l1,deriv=True)\n",
        "    syn1 += l1.T.dot(l2_delta)*Learning_rate\n",
        "    syn0 += l0.T.dot(l1_delta)*Learning_rate\n",
        "  return syn0,syn1\n",
        "\n"
      ],
      "execution_count": 0,
      "outputs": []
    },
    {
      "cell_type": "code",
      "metadata": {
        "id": "aA6TlqJI0hdM",
        "colab_type": "code",
        "colab": {}
      },
      "source": [
        "def ANN_ycal(syn0,syn1,X_train):\n",
        "  l0 = X_train\n",
        "  l1 = sigmoid(np.dot(l0,syn0))\n",
        "  l2 = purelin(np.dot(l1,syn1))\n",
        "  y_calc=np.reshape(l2,len(l2))\n",
        "  return y_calc"
      ],
      "execution_count": 0,
      "outputs": []
    },
    {
      "cell_type": "code",
      "metadata": {
        "id": "ufXS4SrB9SoA",
        "colab_type": "code",
        "colab": {}
      },
      "source": [
        "def QUALIDADE(yobs,ycal):\n",
        "  #yobs=yobs.to_numpy()\n",
        "  yobs=np.array(yobs)\n",
        "  #ycal=ycal.to_numpy()\n",
        "  ycal=np.array(ycal)\n",
        "  N=len(yobs)\n",
        "  Soma=0\n",
        "  for i in range(N):\n",
        "    Soma=Soma+(yobs[i]-ycal[i])**2\n",
        "  Soma=(Soma/N)**0.5\n",
        "  return Soma\n"
      ],
      "execution_count": 0,
      "outputs": []
    },
    {
      "cell_type": "code",
      "metadata": {
        "id": "C-12imaj0ZqU",
        "colab_type": "code",
        "colab": {}
      },
      "source": [
        " syn0,syn1=ANN(Epoch,Neuron_input,Neuron_hidden,Neuron_output,Learning_rate,X_train,y)"
      ],
      "execution_count": 0,
      "outputs": []
    },
    {
      "cell_type": "code",
      "metadata": {
        "id": "vErzzOkMAjq6",
        "colab_type": "code",
        "colab": {
          "base_uri": "https://localhost:8080/",
          "height": 54
        },
        "outputId": "bafaaf31-dd89-4f7a-ae80-aa9c7db6972c"
      },
      "source": [
        "#'''\n",
        "#DAT=pd.read_csv(Arquivo,sep='\\t')\n",
        "y_obs=y_train\n",
        "y_calc=ANN_ycal(syn0,syn1,X_train)\n",
        "Erro_treino=QUALIDADE(y_obs,y_calc)\n",
        "print(\"Erro treino=\",Erro_treino)\n",
        "y_obs=y_test\n",
        "y_calc=ANN_ycal(syn0,syn1,x_test)\n",
        "Erro_teste=QUALIDADE(y_obs,y_calc)\n",
        "print(\"Erro teste=\",Erro_teste)"
      ],
      "execution_count": 17,
      "outputs": [
        {
          "output_type": "stream",
          "text": [
            "Erro treino= [0.05457993]\n",
            "Erro teste= [1.19697319]\n"
          ],
          "name": "stdout"
        }
      ]
    },
    {
      "cell_type": "code",
      "metadata": {
        "id": "4Ld0k8q9BVr0",
        "colab_type": "code",
        "colab": {
          "base_uri": "https://localhost:8080/",
          "height": 345
        },
        "outputId": "57d5eec0-ae0f-4cf3-ec42-3d7f873862be"
      },
      "source": [
        "Num=20\n",
        "for i in range(2,Num):\n",
        "  Neuron_hidden=i\n",
        "  syn0,syn1=ANN(Epoch,Neuron_input,Neuron_hidden,Neuron_output,Learning_rate,X_train,y)\n",
        "  y_obs=y_train\n",
        "  y_calc=ANN_ycal(syn0,syn1,X_train)\n",
        "  Erro_treino=QUALIDADE(y_obs,y_calc)\n",
        "  y_obs=y_test\n",
        "  y_calc=ANN_ycal(syn0,syn1,x_test)\n",
        "  Erro_teste=QUALIDADE(y_obs,y_calc)\n",
        "  print(\"Neronios=\",i,\"Erro teste=\",Erro_teste, \"Erro treino=\",Erro_treino)"
      ],
      "execution_count": 18,
      "outputs": [
        {
          "output_type": "stream",
          "text": [
            "Neronios= 2 Erro teste= [1.07656245] Erro treino= [0.31277678]\n",
            "Neronios= 3 Erro teste= [0.86765374] Erro treino= [0.17481877]\n",
            "Neronios= 4 Erro teste= [1.38264619] Erro treino= [0.05553874]\n",
            "Neronios= 5 Erro teste= [0.73879765] Erro treino= [0.06695734]\n",
            "Neronios= 6 Erro teste= [0.95091156] Erro treino= [0.04400777]\n",
            "Neronios= 7 Erro teste= [1.20907914] Erro treino= [0.00852285]\n",
            "Neronios= 8 Erro teste= [0.64941628] Erro treino= [0.00931707]\n",
            "Neronios= 9 Erro teste= [0.53874161] Erro treino= [0.01688875]\n",
            "Neronios= 10 Erro teste= [1.13761395] Erro treino= [0.01425301]\n",
            "Neronios= 11 Erro teste= [0.82045453] Erro treino= [0.01323669]\n",
            "Neronios= 12 Erro teste= [1.43014648] Erro treino= [0.0166759]\n",
            "Neronios= 13 Erro teste= [0.86486596] Erro treino= [0.02473108]\n",
            "Neronios= 14 Erro teste= [0.73140698] Erro treino= [0.00643248]\n",
            "Neronios= 15 Erro teste= [1.39458288] Erro treino= [0.00544888]\n",
            "Neronios= 16 Erro teste= [0.61135921] Erro treino= [0.02240291]\n",
            "Neronios= 17 Erro teste= [0.98186245] Erro treino= [0.00600156]\n",
            "Neronios= 18 Erro teste= [1.05292661] Erro treino= [0.0108754]\n",
            "Neronios= 19 Erro teste= [0.71853385] Erro treino= [0.02079056]\n"
          ],
          "name": "stdout"
        }
      ]
    },
    {
      "cell_type": "code",
      "metadata": {
        "id": "08NCAStHNAVT",
        "colab_type": "code",
        "outputId": "d6362a32-31f1-4903-e1c4-6e9b009cfdd9",
        "colab": {
          "base_uri": "https://localhost:8080/",
          "height": 393
        }
      },
      "source": [
        "\n",
        "y_calc=pd.DataFrame({'y_calc':y_calc})\n",
        "#y_old=pd.DataFrame({'y_old':y_old})\n",
        "Y_OLD=pd.DataFrame(Y_OLD)\n",
        "Y_OLD.columns = [\"y_calc\"]\n",
        "y_calc=Original(y_calc,Y_OLD)\n",
        "\n",
        "y_obs.columns = [\"y_calc\"]\n",
        "y_obs=Original(y_obs,Y_OLD)\n",
        "y_obs_train=np.copy(y_obs)\n",
        "y_calc_train=np.copy(y_calc)\n",
        "\n",
        "plt.scatter(y_obs,y_calc)\n",
        "plt.xlabel(\"True variable\")\n",
        "plt.ylabel(\"Estimated variable\")\n",
        "#plt.xlim((0,1))\n",
        "#plt.ylim((0,1))\n",
        "plt.show()\n",
        "#'''"
      ],
      "execution_count": 19,
      "outputs": [
        {
          "output_type": "stream",
          "text": [
            "/usr/local/lib/python3.6/dist-packages/ipykernel_launcher.py:8: SettingWithCopyWarning: \n",
            "A value is trying to be set on a copy of a slice from a DataFrame.\n",
            "Try using .loc[row_indexer,col_indexer] = value instead\n",
            "\n",
            "See the caveats in the documentation: http://pandas.pydata.org/pandas-docs/stable/indexing.html#indexing-view-versus-copy\n",
            "  \n"
          ],
          "name": "stderr"
        },
        {
          "output_type": "display_data",
          "data": {
            "image/png": "[encoded data removed]",
            "text/plain": [
              "<Figure size 432x288 with 1 Axes>"
            ]
          },
          "metadata": {
            "tags": []
          }
        }
      ]
    },
    {
      "cell_type": "code",
      "metadata": {
        "id": "qdC-ubhT-tZ4",
        "colab_type": "code",
        "colab": {}
      },
      "source": [
        ""
      ],
      "execution_count": 0,
      "outputs": []
    },
    {
      "cell_type": "code",
      "metadata": {
        "id": "O7-p-58__OzE",
        "colab_type": "code",
        "colab": {
          "base_uri": "https://localhost:8080/",
          "height": 235
        },
        "outputId": "1f7c356a-6e04-4a7a-ac44-862a184bd17d"
      },
      "source": [
        "print(y_obs)"
      ],
      "execution_count": 20,
      "outputs": [
        {
          "output_type": "stream",
          "text": [
            "      y_calc\n",
            "0   0.277668\n",
            "3   0.059762\n",
            "5   0.406632\n",
            "6   0.756413\n",
            "14  0.320600\n",
            "22  0.671598\n",
            "30  0.766276\n",
            "41  0.457632\n",
            "42  0.141441\n",
            "43  0.026423\n",
            "51  0.260975\n"
          ],
          "name": "stdout"
        }
      ]
    },
    {
      "cell_type": "markdown",
      "metadata": {
        "id": "sY_k-aYJvXVR",
        "colab_type": "text"
      },
      "source": [
        ""
      ]
    },
    {
      "cell_type": "code",
      "metadata": {
        "id": "XtiFF_neaqhd",
        "colab_type": "code",
        "colab": {}
      },
      "source": [
        "y_calc_test=ANN_ycal(syn0,syn1,x_test)\n",
        "y_calc_test=pd.DataFrame({'y_calc':y_calc_test})\n",
        "y_calc_test=Original(y_calc_test,Y_OLD)"
      ],
      "execution_count": 0,
      "outputs": []
    },
    {
      "cell_type": "code",
      "metadata": {
        "id": "_ZglbRD3l4Lm",
        "colab_type": "code",
        "outputId": "dcd2b96d-6926-48f3-c9b8-3cc7a891fc1b",
        "colab": {
          "base_uri": "https://localhost:8080/",
          "height": 126
        }
      },
      "source": [
        "y_obs_test=y_test\n",
        "y_obs_test.columns = [\"y_calc\"]\n",
        "y_obs_test=Original(y_obs_test,Y_OLD)"
      ],
      "execution_count": 22,
      "outputs": [
        {
          "output_type": "stream",
          "text": [
            "/usr/local/lib/python3.6/dist-packages/ipykernel_launcher.py:8: SettingWithCopyWarning: \n",
            "A value is trying to be set on a copy of a slice from a DataFrame.\n",
            "Try using .loc[row_indexer,col_indexer] = value instead\n",
            "\n",
            "See the caveats in the documentation: http://pandas.pydata.org/pandas-docs/stable/indexing.html#indexing-view-versus-copy\n",
            "  \n"
          ],
          "name": "stderr"
        }
      ]
    },
    {
      "cell_type": "code",
      "metadata": {
        "id": "8MlsBAXMkV3c",
        "colab_type": "code",
        "outputId": "661b1619-b1d1-4f5e-f2fb-1ad1c82d4b14",
        "colab": {
          "base_uri": "https://localhost:8080/",
          "height": 284
        }
      },
      "source": [
        "plt.scatter(y_obs_test,y_calc_test,color='r')\n",
        "plt.xlabel(\"True variable\")\n",
        "plt.ylabel(\"Estimated variable\")\n",
        "\n",
        "#plt.xlim((0,1.5))\n",
        "#plt.ylim((0,1.5))\n",
        "plt.show()"
      ],
      "execution_count": 23,
      "outputs": [
        {
          "output_type": "display_data",
          "data": {
            "image/png": "[encoded data removed]",
            "text/plain": [
              "<Figure size 432x288 with 1 Axes>"
            ]
          },
          "metadata": {
            "tags": []
          }
        }
      ]
    },
    {
      "cell_type": "code",
      "metadata": {
        "id": "oFMnt6iZFPHx",
        "colab_type": "code",
        "outputId": "0f01a527-271b-4b8f-ec0d-0fc98d3c9b6b",
        "colab": {
          "base_uri": "https://localhost:8080/",
          "height": 284
        }
      },
      "source": [
        "plt.scatter(y_obs_train,y_calc_train)\n",
        "plt.scatter(y_obs_test,y_calc_test,color='r')\n",
        "plt.xlabel(\"True variable\")\n",
        "plt.ylabel(\"Estimated variable\")\n",
        "\n",
        "plt.xlim((-0.5,2))\n",
        "plt.ylim((-0.5,2))\n",
        "plt.show()"
      ],
      "execution_count": 24,
      "outputs": [
        {
          "output_type": "display_data",
          "data": {
            "image/png": "[encoded data removed]",
            "text/plain": [
              "<Figure size 432x288 with 1 Axes>"
            ]
          },
          "metadata": {
            "tags": []
          }
        }
      ]
    },
    {
      "cell_type": "code",
      "metadata": {
        "id": "hbNPLVOWgTlt",
        "colab_type": "code",
        "outputId": "8ade8b5b-7fc9-47af-a903-72a2890ade20",
        "colab": {
          "base_uri": "https://localhost:8080/",
          "height": 378
        }
      },
      "source": [
        "y_calc_test"
      ],
      "execution_count": 25,
      "outputs": [
        {
          "output_type": "execute_result",
          "data": {
            "text/html": [
              "<div>\n",
              "<style scoped>\n",
              "    .dataframe tbody tr th:only-of-type {\n",
              "        vertical-align: middle;\n",
              "    }\n",
              "\n",
              "    .dataframe tbody tr th {\n",
              "        vertical-align: top;\n",
              "    }\n",
              "\n",
              "    .dataframe thead th {\n",
              "        text-align: right;\n",
              "    }\n",
              "</style>\n",
              "<table border=\"1\" class=\"dataframe\">\n",
              "  <thead>\n",
              "    <tr style=\"text-align: right;\">\n",
              "      <th></th>\n",
              "      <th>y_calc</th>\n",
              "    </tr>\n",
              "  </thead>\n",
              "  <tbody>\n",
              "    <tr>\n",
              "      <th>0</th>\n",
              "      <td>-0.231795</td>\n",
              "    </tr>\n",
              "    <tr>\n",
              "      <th>1</th>\n",
              "      <td>0.664898</td>\n",
              "    </tr>\n",
              "    <tr>\n",
              "      <th>2</th>\n",
              "      <td>0.717800</td>\n",
              "    </tr>\n",
              "    <tr>\n",
              "      <th>3</th>\n",
              "      <td>1.184565</td>\n",
              "    </tr>\n",
              "    <tr>\n",
              "      <th>4</th>\n",
              "      <td>0.289409</td>\n",
              "    </tr>\n",
              "    <tr>\n",
              "      <th>5</th>\n",
              "      <td>0.910572</td>\n",
              "    </tr>\n",
              "    <tr>\n",
              "      <th>6</th>\n",
              "      <td>1.148461</td>\n",
              "    </tr>\n",
              "    <tr>\n",
              "      <th>7</th>\n",
              "      <td>0.384899</td>\n",
              "    </tr>\n",
              "    <tr>\n",
              "      <th>8</th>\n",
              "      <td>0.541924</td>\n",
              "    </tr>\n",
              "    <tr>\n",
              "      <th>9</th>\n",
              "      <td>0.322592</td>\n",
              "    </tr>\n",
              "    <tr>\n",
              "      <th>10</th>\n",
              "      <td>0.315341</td>\n",
              "    </tr>\n",
              "  </tbody>\n",
              "</table>\n",
              "</div>"
            ],
            "text/plain": [
              "      y_calc\n",
              "0  -0.231795\n",
              "1   0.664898\n",
              "2   0.717800\n",
              "3   1.184565\n",
              "4   0.289409\n",
              "5   0.910572\n",
              "6   1.148461\n",
              "7   0.384899\n",
              "8   0.541924\n",
              "9   0.322592\n",
              "10  0.315341"
            ]
          },
          "metadata": {
            "tags": []
          },
          "execution_count": 25
        }
      ]
    }
  ]
}